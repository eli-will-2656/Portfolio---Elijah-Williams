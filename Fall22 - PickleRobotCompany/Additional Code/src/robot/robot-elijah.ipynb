{
 "cells": [
  {
   "cell_type": "markdown",
   "metadata": {},
   "source": [
    "# 2R Robot - Group"
   ]
  },
  {
   "cell_type": "code",
   "execution_count": 27,
   "metadata": {},
   "outputs": [],
   "source": [
    "import math\n",
    "from typing import Any, Optional\n",
    "\n",
    "import numpy as np\n",
    "import pybullet as p\n",
    "\n",
    "PI = math.pi\n",
    "BOUNDS = tuple[float, float]\n",
    "XY = tuple[float, float]\n",
    "\n",
    "\n",
    "class Robot2R:\n",
    "    \"\"\"Implements Forward and Inverse Kinematics of 2R Robot\"\"\"\n",
    "\n",
    "    CONFIG = tuple[float, float]\n",
    "\n",
    "    def __init__(\n",
    "        self,\n",
    "        link_lengths: tuple[float, float],\n",
    "        bounds: Optional[tuple[BOUNDS, BOUNDS]] = None,\n",
    "    ) -> None:\n",
    "        if link_lengths[0] > link_lengths[1] and link_lengths[1] > 0:\n",
    "            self.l1 = link_lengths[0]\n",
    "            self.l2 = link_lengths[1]\n",
    "        else:\n",
    "            print(\"Error: Invalid link_lengths\")\n",
    "            self.l1, self.l2 = None, None\n",
    "\n",
    "        if bounds != None:\n",
    "            (self.lb1, self.ub1) = bounds[0][0], bounds[0][1]\n",
    "            (self.lb2, self.ub2) = bounds[1][0], bounds[1][1]\n",
    "        else:\n",
    "            self.lb1, self.ub1, self.lb2, self.ub2 = None, None, None, None\n",
    "\n",
    "    def forward_kinematics(self, configuration: CONFIG) -> XY:\n",
    "        l1, l2 = self.l1, self.l2\n",
    "        a1, a2 = configuration[0], configuration[1]\n",
    "        \n",
    "        if not self.__within_bounds(a1, a2):\n",
    "            print(\"Error: Impossible configuration.\")\n",
    "            return\n",
    "\n",
    "        l1 = self.l1\n",
    "        l2 = self.l2\n",
    "\n",
    "        x = l1 * math.cos(a1) + l2 * math.cos(a1 + a2)\n",
    "        y = l1 * math.sin(a1) + l2 * math.sin(a1 + a2)\n",
    "\n",
    "        return (x, y)\n",
    "\n",
    "    def inverse_kinematics(self, end_effector_position: XY) -> CONFIG:\n",
    "        x, y = end_effector_position[0], end_effector_position[1]\n",
    "        l1, l2 = self.l1, self.l2\n",
    "        \n",
    "        cos_a2 = (x**2 + y**2 - l1**2 - l2**2) / (2 * l1 * l2)\n",
    "\n",
    "        if math.fabs(cos_a2) > 1:\n",
    "            print(f\"Error: Position {XY} is not within workspace\")\n",
    "            return \n",
    "\n",
    "        elif math.fabs(cos_a2) == 1:\n",
    "            a1 = math.atan2(y, x)\n",
    "            a2 = math.acos(cos_a2)\n",
    "            \n",
    "            if self.__within_bounds(a1, a2):\n",
    "                return (a1, a2)\n",
    "            else:\n",
    "                print(f\"Error: Position {XY} is not within bounds\")\n",
    "                return \n",
    "        \n",
    "        else:\n",
    "            aXY = [math.atan2(y,x)]*2  # angles towards reference\n",
    "            a2 = [math.acos(cos_a2), -math.acos(cos_a2)] # elbow up or down\n",
    "            a1 = aXY - np.arctan2(l2*np.sin(a2), l1 + l2*np.cos(a2))\n",
    "\n",
    "            config = [] \n",
    "\n",
    "            for i in range(2):\n",
    "                if self.__within_bounds(a1[i], a2[i]):\n",
    "                    config.append((a1[i], a2[i]))\n",
    "\n",
    "            if config:\n",
    "                return config[0] # Returns elbow-up solution first if valid\n",
    "            else:\n",
    "                print(f\"Error: Position {XY} is not within bounds\")\n",
    "                return \n",
    "\n",
    "    def __within_bounds(self, a1, a2):\n",
    "        \"\"\"Return whether congfiguration is within bounds\"\"\"\n",
    "        within_bounds = True\n",
    "\n",
    "        if self.lb1 and self.lb2 and self.ub1 and self.ub2:\n",
    "            lb1, lb2, ub1, ub2 = self.lb1, self.lb2, self.ub1, self.ub2\n",
    "            if not (lb1 <= a1 <= ub1 and lb2 <= a2 <= ub2):\n",
    "                within_bounds = False\n",
    "\n",
    "        return within_bounds\n",
    "                \n",
    "\n",
    "\n",
    "class Robot3R:\n",
    "    CONFIG = tuple[float, float, float]\n",
    "\n",
    "    def __init__(\n",
    "        self,\n",
    "        link_lengths: tuple[float, float, float],\n",
    "        bounds: Optional[tuple[BOUNDS, BOUNDS, BOUNDS]] = None,\n",
    "    ) -> None:\n",
    "        raise NotImplementedError(\"3R Robot not implemented\")\n",
    "        ...\n",
    "\n",
    "    def forward_kinematics(self, configuration: CONFIG) -> XY:\n",
    "        ...\n",
    "\n",
    "    def inverse_kinematics(self, end_effector_position: XY) -> CONFIG:\n",
    "        ...\n",
    "\n",
    "\n",
    "class RobotIiwa:\n",
    "    def __init__(\n",
    "        self,\n",
    "        robot_urdf: str,\n",
    "        initial_pos: list[float],\n",
    "        initial_orientation: list[float],\n",
    "    ) -> None:\n",
    "        self.id = p.loadURDF(robot_urdf, initial_pos, initial_orientation)\n",
    "\n",
    "        self.__control_mode = p.POSITION_CONTROL\n",
    "        self.__joint_ids = list(range(p.getNumJoints(self.id)))\n",
    "\n",
    "    def send_command(self, command: list[float]) -> None:\n",
    "        assert len(command) == len(self.__joint_ids)\n",
    "        p.setJointMotorControlArray(\n",
    "            self.id, self.__joint_ids, self.__control_mode, targetPositions=command\n",
    "        )\n",
    "\n",
    "    def get_states(self) -> Any:\n",
    "        return p.getJointStates(self.id, self.__joint_ids)\n",
    "\n",
    "    def get_positions(self) -> list[float]:\n",
    "        return [state[0] for state in self.get_states()]\n",
    "\n",
    "    def get_velocities(self) -> list[float]:\n",
    "        return [state[1] for state in self.get_states()]\n"
   ]
  },
  {
   "cell_type": "markdown",
   "metadata": {},
   "source": [
    "## Testing - Group"
   ]
  },
  {
   "cell_type": "code",
   "execution_count": 69,
   "metadata": {},
   "outputs": [],
   "source": [
    "import math\n",
    "import numpy as np\n",
    "from numpy import random\n",
    "from pytest import approx\n",
    "\n",
    "pi = math.pi\n",
    "\n",
    "\n",
    "def create_robot():\n",
    "    link_lengths = (50, 40)\n",
    "    test_robot = Robot2R(link_lengths)\n",
    "    return test_robot\n",
    "\n",
    "def create_robot_wbounds():\n",
    "    link_lengths = (60.0, 40.0)\n",
    "    bounds = ((-2*pi, 2*pi),(-3/4*pi, 3/4*pi))\n",
    "    test_robot = Robot2R(link_lengths, bounds)\n",
    "    return test_robot\n",
    "\n",
    "def test_forward_kinematics():\n",
    "    robot = create_robot()\n",
    "\n",
    "    # Edge cases\n",
    "    assert approx(robot.forward_kinematics((0, 0))) == (90, 0)\n",
    "    assert approx(robot.forward_kinematics((pi / 2, 0))) == (0, 90)\n",
    "    assert approx(robot.forward_kinematics((-pi / 2, 0))) == (0, -90)\n",
    "    assert approx(robot.forward_kinematics((pi / 6, 0))) == (math.sqrt(3) * 45, 45)\n",
    "\n",
    "    r = np.linspace(10, 87, num=100)\n",
    "    t = np.linspace(-pi, pi, 100)\n",
    "    for theta in t:\n",
    "        for radius in r:\n",
    "            (x, y) = (radius*math.cos(theta), radius*math.sin(theta))\n",
    "            assert approx(robot.forward_kinematics(robot.inverse_kinematics((x,y)))) == (x,y)\n",
    "\n",
    "\n",
    "def test_inverse_kinematics():\n",
    "    robot = create_robot()\n",
    "\n",
    "    # Edge cases\n",
    "    assert approx(robot.inverse_kinematics((90, 0))) == (0, 0)\n",
    "    assert approx(robot.inverse_kinematics((0, 90))) == (pi / 2, 0)\n",
    "    assert approx(robot.inverse_kinematics((0, -90))) == (-pi / 2, 0)\n",
    "    assert approx(robot.inverse_kinematics((math.sqrt(3) * 45, 45))) == (pi / 6, 0)\n",
    "\n",
    "    # Testing configuration space\n",
    "    a1_ub = pi - math.tan(4/3) # Restriction added to prevent: (x,y) in Q3 while a2 > 0\n",
    "    a1 = random.uniform(low=-pi, high=a1_ub, size=(100,))\n",
    "    a2 = random.uniform(low=0.0, high=pi, size=(100,))\n",
    "\n",
    "    configurations = []\n",
    "    for x in a1:\n",
    "        for y in a2:\n",
    "            configurations.append((x,y))\n",
    "    configs = np.array(configurations)\n",
    "\n",
    "    for i in range(configs.shape[0]):\n",
    "        assert (\n",
    "            approx(\n",
    "                robot.inverse_kinematics(\n",
    "                    robot.forward_kinematics(configs[i])\n",
    "                )\n",
    "            )\n",
    "            == configs[i]\n",
    "        )\n",
    "\n",
    "def test_daniel():\n",
    "    ## Testing ##\n",
    "    link_lengths = (30, 20)\n",
    "    bounds = (-2 * math.pi, 2 * math.pi)\n",
    "\n",
    "    testclass = Robot2R(link_lengths)\n",
    "\n",
    "    configuration_1 = (math.pi, math.pi / 2)\n",
    "    test_1 = testclass.forward_kinematics(configuration_1)\n",
    "    assert approx(test_1) == (-30, -20)\n",
    "\n",
    "    test_2 = testclass.inverse_kinematics(testclass.forward_kinematics(configuration_1))\n",
    "    test_2 = np.abs(test_2)\n",
    "    assert approx(test_2) == configuration_1\n",
    "\n",
    "    configuration_3 = (-math.pi / 2, 0)\n",
    "    test_3 = testclass.forward_kinematics(configuration_3)\n",
    "    assert approx(test_3) == (0, -50)\n",
    "\n",
    "def test_bounds():\n",
    "    test_robot = create_robot_wbounds()\n",
    "\n",
    "    # Forward Kinematics \n",
    "    configuration1 = (pi/3, pi)\n",
    "    test1 = test_robot.forward_kinematics(configuration1)\n",
    "    assert test1 == None\n",
    "\n",
    "    configuration2 = (3*pi, 0)\n",
    "    assert test_robot.forward_kinematics(configuration2) == None\n",
    "\n",
    "    # Inverse Kinematics\n",
    "    xRef_OutsidePositionalSpace = (110, 0)\n",
    "    assert test_robot.inverse_kinematics(xRef_OutsidePositionalSpace) == None\n",
    "\n",
    "    xRef_InsidePositionalSpace = (19, 0)\n",
    "    assert test_robot.inverse_kinematics(xRef_InsidePositionalSpace) == None"
   ]
  },
  {
   "cell_type": "code",
   "execution_count": 70,
   "metadata": {},
   "outputs": [
    {
     "name": "stdout",
     "output_type": "stream",
     "text": [
      "Error: Impossible configuration.\n",
      "Error: Impossible configuration.\n",
      "Error: Position tuple[float, float] is not within workspace\n",
      "Error: Position tuple[float, float] is not within workspace\n"
     ]
    }
   ],
   "source": [
    "test_forward_kinematics()\n",
    "test_inverse_kinematics()\n",
    "test_daniel()\n",
    "test_bounds()"
   ]
  },
  {
   "cell_type": "markdown",
   "metadata": {},
   "source": [
    "# 2R Robot - Elijah"
   ]
  },
  {
   "cell_type": "code",
   "execution_count": 1,
   "metadata": {},
   "outputs": [],
   "source": [
    "# Importing dependencies\n",
    "from typing import Any, Optional\n",
    "import pybullet as p\n",
    "\n",
    "# Defning data types\n",
    "BOUNDS = tuple[float, float]\n",
    "XY = tuple[float, float]\n",
    "CONFIG = tuple[float, float]"
   ]
  },
  {
   "cell_type": "markdown",
   "metadata": {},
   "source": [
    "## Forward Kinematics"
   ]
  },
  {
   "cell_type": "markdown",
   "metadata": {},
   "source": [
    "*Given a valid configuration $\\theta_1, \\theta_2$, find the position of the end effector*\n"
   ]
  },
  {
   "cell_type": "markdown",
   "metadata": {},
   "source": [
    "Here, we can use a homogeneous transformation to represent the pose of the second link relative to the pose of the first.\n",
    "\n",
    "$\n",
    "T_{12} = \n",
    "\\begin{bmatrix} \n",
    "\t\\cos{\\theta_1} & -\\sin{\\theta_1} & l1 \\times \\cos{\\theta_1} \\\\\n",
    "\t\\sin{\\theta_1} & \\cos{\\theta_1} & l1 \\times \\sin{\\theta_1} \\\\\n",
    "\t0 & 0 & 1 \\\\\n",
    "\t\\end{bmatrix}\n",
    "$\n",
    "\n",
    "Then, $ {P}_1 = T_{12} * {P}_2 $\n",
    "\n",
    "Where $P's$ are position of end effector relative to pose of first and second link."
   ]
  },
  {
   "cell_type": "code",
   "execution_count": 30,
   "metadata": {},
   "outputs": [],
   "source": [
    "class Robot2R:\n",
    "    \"\"\"Implements Forward and Inverse Kinematics of 2R Robot\"\"\"\n",
    "\n",
    "    CONFIG = tuple[float, float]\n",
    "\n",
    "    def __init__(\n",
    "        self,\n",
    "        link_lengths: tuple[float, float],\n",
    "        bounds: Optional[tuple[BOUNDS, BOUNDS]] = None,\n",
    "    ) -> None:\n",
    "        self.l1 = link_lengths[0]\n",
    "        self.l2 = link_lengths[1]\n",
    "\n",
    "        if bounds:\n",
    "            (self.lb1, self.ub1) = bounds[0][0], bounds[0][1]\n",
    "            (self.lb2, self.ub2) = bounds[1][0], bounds[1][1]\n",
    "        else:\n",
    "            self.lb1, self.ub1, self.lb2, self.ub2 = None, None, None, None\n",
    "\n",
    "    def forward_kinematics(self, configuration: CONFIG) -> XY:\n",
    "        l1, l2 = self.l1, self.l2\n",
    "        a1, a2 = configuration[0], configuration[1]\n",
    "        if self.lb1:\n",
    "            lb1, lb2, ub1, ub2 = self.lb1, self.lb2, self.ub1, self.ub2\n",
    "            if not (\n",
    "                lb1 <= a1 <= ub1 and lb2 <= a2 <= ub2\n",
    "            ):  # configuration not within bounds\n",
    "                print(\"Error: Impossible configuration.\")\n",
    "                return\n",
    "\n",
    "        cos = math.cos\n",
    "        sin = math.sin\n",
    "\n",
    "        T_12 = np.array(\n",
    "            [  # Creating Transformation matrix from R1->R2\n",
    "                [cos(a1), -sin(a1), l1 * cos(a1)],\n",
    "                [sin(a1), cos(a1), l1 * sin(a1)],\n",
    "                [0, 0, 1],\n",
    "            ]\n",
    "        )\n",
    "\n",
    "        xy_2 = np.array([l2 * cos(a2), l2 * sin(a2), 1])\n",
    "        XY_1 = np.dot(T_12, xy_2)\n",
    "\n",
    "        (x, y) = XY_1[0], XY_1[1]\n",
    "\n",
    "        return (x, y)\n",
    "\n",
    "    def inverse_kinematics(self, end_effector_position: XY) -> CONFIG:\n",
    "        x, y = end_effector_position[0], end_effector_position[1]\n",
    "        l1, l2 = self.l1, self.l2\n",
    "\n",
    "        fraction = (x**2 + y**2 - l1**2 - l2**2) / (2 * l1 * l2)\n",
    "\n",
    "        if -1 < fraction > 1:  # Out of working space\n",
    "            print(\"No IK solution found\")\n",
    "            return\n",
    "\n",
    "        elif fraction == 1:  # Both joints aligned\n",
    "            return (math.atan2(y, x), 0)\n",
    "\n",
    "        ### First solution\n",
    "        a2 = math.acos(fraction)\n",
    "        if x != 0:\n",
    "            a1 = math.atan2(y, x) - math.atan2(\n",
    "                l2 * math.sin(a2), l1 + l2 * math.cos(a2)\n",
    "            )\n",
    "        solution1 = (a1, a2)\n",
    "\n",
    "        ### Second solution\n",
    "        second_a2 = -a2\n",
    "        if x != 0:\n",
    "            second_a1 = math.atan(y / x) - math.atan(\n",
    "                (l2 * math.sin(second_a2)) / (l1 + l2 * math.cos(second_a2))\n",
    "            )\n",
    "        solution2 = (second_a1, second_a2)\n",
    "\n",
    "        if self.lb1:\n",
    "            lb1, lb2, ub1, ub2 = self.lb1, self.lb2, self.ub1, self.ub2\n",
    "            ### Checking for solutions\n",
    "            if lb1 <= a1 <= ub1 and lb2 <= a2 <= ub2:\n",
    "                if lb1 <= second_a1 <= ub1 and lb2 <= second_a2 <= ub2:\n",
    "                    print(\"Two solutions found:\", solution1, solution2)\n",
    "                return solution1\n",
    "\n",
    "            elif lb1 <= second_a1 <= ub1 and lb2 <= second_a2 <= ub2:\n",
    "                return solution2\n",
    "\n",
    "            else:\n",
    "                print(\"No IK solution found\")\n",
    "                return\n",
    "        else:\n",
    "            return solution1"
   ]
  },
  {
   "cell_type": "markdown",
   "metadata": {},
   "source": [
    "For testing we will use `pytest` and `doctest` for unit testing"
   ]
  },
  {
   "cell_type": "code",
   "execution_count": 26,
   "metadata": {},
   "outputs": [],
   "source": [
    "import math\n",
    "from numpy import random\n",
    "import numpy as np\n",
    "pi = math.pi\n",
    "def create_robot():\n",
    "    link_lengths = (50, 40)\n",
    "    test_robot = Robot2R(link_lengths)\n",
    "    return test_robot\n",
    "\n",
    "robot = create_robot()"
   ]
  },
  {
   "cell_type": "code",
   "execution_count": 5,
   "metadata": {},
   "outputs": [
    {
     "name": "stdout",
     "output_type": "stream",
     "text": [
      "(40.00000000000001, 60.0) should be 40, 60\n",
      "(88.2842712474619, 28.284271247461902) should be 88.2842712474619 28.284271247461902\n",
      "Should show an error\n"
     ]
    }
   ],
   "source": [
    "############ Forward Kinematics Tests #############\n",
    "pi = math.pi\n",
    "\n",
    "link_lengths = (60.0, 40.0)\n",
    "bounds = ((-2*pi, 2*pi),(-3/4*pi, 3/4*pi))\n",
    "\n",
    "# Creating 2R robot\n",
    "testRobot = Robot2R(link_lengths, bounds)\n",
    "\n",
    "configuration1 = (pi/2,-pi/2)\n",
    "test1 = testRobot.forward_kinematics(configuration1)\n",
    "print(test1, \"should be 40, 60\")\n",
    "\n",
    "configuration2 = (0, pi/4)\n",
    "test2 = testRobot.forward_kinematics(configuration2)\n",
    "print(test2, \"should be\", 60 + 40*math.cos(pi/4), 40*math.sin(pi/4))\n",
    "\n",
    "configuration3 = (pi/3, pi)\n",
    "test2 = testRobot.forward_kinematics(configuration3)\n",
    "print(\"Should show an error\")"
   ]
  },
  {
   "cell_type": "code",
   "execution_count": 36,
   "metadata": {},
   "outputs": [
    {
     "data": {
      "text/plain": [
       "(1.5707963267948966, 0)"
      ]
     },
     "execution_count": 36,
     "metadata": {},
     "output_type": "execute_result"
    }
   ],
   "source": [
    "####### Testing Inverse Kinematics ########\n",
    "robot.inverse_kinematics((0,90))"
   ]
  },
  {
   "cell_type": "code",
   "execution_count": 9,
   "metadata": {},
   "outputs": [
    {
     "ename": "NameError",
     "evalue": "name 'random' is not defined",
     "output_type": "error",
     "traceback": [
      "\u001b[1;31m---------------------------------------------------------------------------\u001b[0m",
      "\u001b[1;31mNameError\u001b[0m                                 Traceback (most recent call last)",
      "Cell \u001b[1;32mIn [9], line 1\u001b[0m\n\u001b[1;32m----> 1\u001b[0m configurations \u001b[39m=\u001b[39m random\u001b[39m.\u001b[39mrandint(\u001b[39m5\u001b[39m, high\u001b[39m=\u001b[39m\u001b[39m80\u001b[39m, size\u001b[39m=\u001b[39m(\u001b[39m20\u001b[39m, \u001b[39m2\u001b[39m))\n\u001b[0;32m      3\u001b[0m \u001b[39mfor\u001b[39;00m config \u001b[39min\u001b[39;00m configurations:\n\u001b[0;32m      4\u001b[0m     magnitude \u001b[39m=\u001b[39m np\u001b[39m.\u001b[39mlinalg\u001b[39m.\u001b[39mnorm(config)\n",
      "\u001b[1;31mNameError\u001b[0m: name 'random' is not defined"
     ]
    }
   ],
   "source": [
    "\n",
    "configurations = random.randint(5, high=80, size=(20, 2))\n",
    "\n",
    "for config in configurations:\n",
    "    magnitude = np.linalg.norm(config)\n",
    "    if 100 <= magnitude**2 <= 8100:\n",
    "        print(config, \":\", robot.forward_kinematics(robot.inverse_kinematics(config)))\n",
    "\n",
    "\n",
    "    "
   ]
  },
  {
   "cell_type": "code",
   "execution_count": 3,
   "metadata": {},
   "outputs": [
    {
     "name": "stdout",
     "output_type": "stream",
     "text": [
      "(40.00000000000001, 60.0) should be 40, 60\n",
      "(88.2842712474619, 28.284271247461902) should be 88.2842712474619 28.284271247461902\n",
      "Error: Impossible configuration.\n",
      "Should show an error\n"
     ]
    }
   ],
   "source": [
    "############ Forward Kinematics Tests #############\n",
    "pi = math.pi\n",
    "\n",
    "link_lengths = (60.0, 40.0)\n",
    "bounds = ((-2*pi, 2*pi),(-3/4*pi, 3/4*pi))\n",
    "\n",
    "# Creating 2R robot\n",
    "testRobot = Robot2R(link_lengths, bounds)\n",
    "\n",
    "configuration1 = (pi/2,-pi/2)\n",
    "test1 = testRobot.forward_kinematics(configuration1)\n",
    "print(test1, \"should be 40, 60\")\n",
    "\n",
    "configuration2 = (0, pi/4)\n",
    "test2 = testRobot.forward_kinematics(configuration2)\n",
    "print(test2, \"should be\", 60 + 40*math.cos(pi/4), 40*math.sin(pi/4))\n",
    "\n",
    "configuration3 = (pi/3, pi)\n",
    "test2 = testRobot.forward_kinematics(configuration3)\n",
    "print(\"Should show an error\")"
   ]
  },
  {
   "cell_type": "code",
   "execution_count": 51,
   "metadata": {},
   "outputs": [
    {
     "name": "stdout",
     "output_type": "stream",
     "text": [
      "[[ 0.01116177  0.79111813]\n",
      " [-1.42518295  1.14205987]\n",
      " [-0.79572017  1.45342287]\n",
      " [-0.18588388  1.17376717]\n",
      " [ 1.90682811  0.41162958]\n",
      " [-0.17325387  1.01341491]\n",
      " [-2.09435354  2.24386897]\n",
      " [-1.46894313  1.44540085]\n",
      " [ 0.58467849  1.03199789]\n",
      " [-2.03239624  1.10500878]\n",
      " [ 3.06075505  0.3493774 ]\n",
      " [ 3.05922256  0.48385708]\n",
      " [-0.8252469   0.06196672]\n",
      " [-0.10995831  1.12611976]\n",
      " [-1.73577022  0.37023043]\n",
      " [-2.10964658  0.24308971]\n",
      " [ 0.88639261  0.71082015]\n",
      " [-2.48521441  1.65092142]\n",
      " [-1.31268446  1.20357856]\n",
      " [ 0.26076486  0.57636707]\n",
      " [-1.5164176   0.22906555]\n",
      " [ 1.71591296  2.1808342 ]\n",
      " [-1.40294394  2.31827259]\n",
      " [-1.82739368  0.58768018]\n",
      " [ 2.9976077   1.08785132]\n",
      " [-2.45798489  0.93419917]\n",
      " [-1.53345621  1.60741094]\n",
      " [ 2.32808335  0.9177044 ]\n",
      " [-1.08463097  0.64197649]\n",
      " [ 2.8538918   2.12405024]\n",
      " [ 0.46232423  0.71364564]\n",
      " [ 2.94806419  0.21793816]\n",
      " [ 0.85341531  1.72664845]\n",
      " [-0.55412798  0.83153536]\n",
      " [-2.0310317   1.9614973 ]\n",
      " [-1.64024217  0.90931586]\n",
      " [-0.42438439  0.90754619]\n",
      " [ 0.19726272  1.29624014]\n",
      " [-2.37358979  1.16310282]\n",
      " [ 2.12801713  2.32089474]\n",
      " [-1.30588597  1.94852647]\n",
      " [-2.964035    1.43909418]\n",
      " [-2.24129703  0.77622656]\n",
      " [ 0.16834724  0.71281526]\n",
      " [ 2.70812334  2.33986951]\n",
      " [ 1.96020371  1.95018267]\n",
      " [ 0.01587848  0.56015447]\n",
      " [-0.48277159  0.66454059]\n",
      " [ 0.69687306  0.31748124]\n",
      " [-2.91268374  2.05336578]]\n"
     ]
    }
   ],
   "source": [
    "a1 = random.uniform(low=-pi, high=pi, size=(50,))\n",
    "a2 = random.uniform(low=0.0, high=3*pi/4, size=(50,))\n",
    "configurations = np.zeros((50,2))\n",
    "configurations[:,0] = a1\n",
    "configurations[:,1] = a2\n",
    "print(configurations)"
   ]
  },
  {
   "cell_type": "code",
   "execution_count": 4,
   "metadata": {},
   "outputs": [
    {
     "name": "stdout",
     "output_type": "stream",
     "text": [
      "Two solutions found: (0.39479111969976144, 1.5707963267948966) (1.5707963267948966, -1.5707963267948966)\n",
      "(40.00000000000001, 60.0)\n"
     ]
    }
   ],
   "source": [
    "############## Inverse Kinematics Tests #########\n",
    "configuration1 = (pi/2,-pi/2)\n",
    "test1 = testRobot.inverse_kinematics(testRobot.forward_kinematics(configuration1))\n",
    "print(testRobot.forward_kinematics(test1))"
   ]
  },
  {
   "cell_type": "markdown",
   "metadata": {},
   "source": [
    "## Inverse Kinematics\n",
    "\n",
    "*Given a valid position of end effector $(x,y)$ in  workspace calculate orientation of robot links $(\\theta_1, \\theta_2)$ in configuration space*\n"
   ]
  },
  {
   "cell_type": "markdown",
   "metadata": {},
   "source": [
    "To solve this inverse kinematics equation, we can use trigonometry.\n",
    "\n",
    "First, note $\\theta_2$ deteremines the distance the end effector is from the origin. By the law of cosines, we see:\n",
    "\n",
    "$x^2 + y^2  = l_1^2 + l_2^2 - 2(l_1)(l_2)cos(π-a_2)$      \n",
    "\n",
    "Therefore,\n",
    "\n",
    "$\\frac{(x^2 + y^2)-(l_1^2 + l_2^2)}{- 2(l_1)(l_2)}=cos(π-a_2)$ \n",
    "\n",
    "Now we have,\n",
    "\n",
    "$cos(π-a_2) = -cos(a_2) ⇒ $\n",
    "\n",
    "$a_2 = \\cos^{-1}(\\frac{(x^2 + y^2)-(l_1^2 + l_2^2)}{2 l_1 l_2}) $\n",
    "\n",
    "Two solutions exist for robot configuration (unless `l1 + l2 = x + y`), bottom arm up, bottom arm down. Therefore,\n",
    "\n",
    "$a_2 = \\pm \\cos^{-1}(\\frac{(x^2 + y^2)-(l_1^2 + l_2^2)}{2 l_1 l_2}) $ "
   ]
  },
  {
   "cell_type": "markdown",
   "metadata": {},
   "source": [
    "![image.png](data:image/png;base64,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)"
   ]
  },
  {
   "cell_type": "markdown",
   "metadata": {},
   "source": [
    "Note: as `arcos` is defined on range `[-1,1]`, we see two conditions for no solution existing:\n",
    "1. $ x^2 + y^2 > (l1 + l2)^2 $       ------- (Too Far)\n",
    "2. $ x^2 + y^2 < (l1 - l2)^2 $      ------(Too close)   "
   ]
  },
  {
   "cell_type": "markdown",
   "metadata": {},
   "source": [
    "-------------------------\n",
    "Finally, since we know `a2`, we can solve for `a1` by noting at if $a_1 = 0$, \n",
    "then end effector position is  $(l_1 + l_2cos(a2), l_2 sin(a2))$.\n",
    "\n",
    "Therefore, if β is angle of rotation from pose 1 to pose 2\n",
    "\n",
    "$a_1 = tan^{-1}(\\frac{y}{x}) - β$, and expanded\n",
    "\n",
    "$a_1 = tan^{-1}(\\frac{y}{x}) - tan^{-1}(\\frac{l_2sin(a_2)}{l_1 + l_2 \\cos(a_2)})$\n",
    "\n"
   ]
  },
  {
   "cell_type": "markdown",
   "metadata": {},
   "source": [
    "## Background"
   ]
  },
  {
   "cell_type": "markdown",
   "metadata": {},
   "source": [
    "The `typing` module enables you to specify what *types* of inputs and outputs you expect a functions parameters and return values to be.\n",
    "\n",
    "For example:\n",
    "\n",
    "```python\n",
    "def greeting(name: str) -> str\n",
    "    return \"Hello\" + name\n",
    "```\n",
    "\n",
    "Also enables you to `def`ine your own types from more primitive types\n",
    "\n",
    "```python\n",
    "Vector = list[str]\n",
    "```\n",
    "\n",
    "As well as define and nest more complex data structures easily and comprehensibily\n",
    "\n",
    "------------------------------------------\n",
    "\n",
    "Now `pybullet` is a module used for:\n",
    "* Forward kinematics\n",
    "* Inverse kinamatics\n",
    "* Collision detection\n",
    "\n",
    "For more information about pybullet functions, see [documentation](https://docs.google.com/document/d/10sXEhzFRSnvFcl3XxNGhnD4N2SedqwdAvK3dsihxVUA/edit#) "
   ]
  },
  {
   "cell_type": "markdown",
   "metadata": {},
   "source": [
    "Remember the syntax for initializing an object in python (class constructor):\n",
    "\n",
    "```python\n",
    "def __init__(self, param1, param2):\n",
    "    self.param1 = param1\n",
    "    self.param2 = param2\n",
    "```"
   ]
  },
  {
   "cell_type": "markdown",
   "metadata": {},
   "source": [
    "Here we create aliases for two types of data structures. Specifically 2-tuples of floats (e.g. (5.2, 6.1))\n",
    "* Bounds = Give the *interval of rotation* a given revolute can rotate [e.g. (-pi/2,pi/2)]\n",
    "* XY = *(x,y)-coordinates* of the end effector\n",
    "* Relative Pose of each revolute (given by an angle)\n"
   ]
  },
  {
   "cell_type": "markdown",
   "metadata": {},
   "source": [
    "Remember the syntax for initializing an object in python (class constructor):\n",
    "\n",
    "```python\n",
    "def __init__(self, param1, param2):\n",
    "    self.param1 = param1\n",
    "    self.param2 = param2\n",
    "```"
   ]
  },
  {
   "cell_type": "markdown",
   "metadata": {},
   "source": [
    "## Robot3R"
   ]
  },
  {
   "cell_type": "markdown",
   "metadata": {},
   "source": [
    "Here we implement the robot with three revolute joints."
   ]
  },
  {
   "cell_type": "markdown",
   "metadata": {},
   "source": [
    "*Specifications*\n",
    "\n",
    "Link Lengths:  $(60 cm, 40 cm, 30 cm)$\n",
    "\n",
    "Maximum Angles:  $([-2pi, 2pi], [-3/4pi, 3/4pi], [-3/4pi, 3/4pi])$"
   ]
  },
  {
   "cell_type": "code",
   "execution_count": 5,
   "metadata": {},
   "outputs": [],
   "source": [
    "import numpy as np\n",
    "\n",
    "class Robot3R:\n",
    "    CONFIG = tuple[float, float, float]\n",
    "    XYZ = tuple[float, float, float]\n",
    "\n",
    "    def __init__(self,\n",
    "                 link_lengths: tuple[float, float, float],\n",
    "                 bounds: Optional[tuple[BOUNDS, BOUNDS, BOUNDS]] = None) -> None:\n",
    "                 self.l1  = link_lengths[0]\n",
    "                 self.l2 = link_lengths[1]\n",
    "                 self.l3 = link_lengths[2]\n",
    "        \n",
    "\n",
    "    def forward_kinematics(self, configuration: CONFIG) -> XYZ:\n",
    "        # Get x,y\n",
    "        l1, l2,l3  = self.l1, self.l2, self.l3\n",
    "        a1, a2, a3 = configuration[0], configuration[1], configuration[2]\n",
    "        xyz = np.zeros(3)\n",
    "        first_one = np.array([l1*math.cos(a1), l1*math.sin(a1), 0])\n",
    "        xyz += first_one\n",
    "        \n",
    "        rotation_matrix = np.array([\n",
    "            [math.cos(a1), -1*math.sin(a1), 0],\n",
    "            [math.sin(a1), math.cos(a1), 0],\n",
    "            [0,0,1]\n",
    "        ])\n",
    "\n",
    "        second_one = np.array([l2*math.cos(a2),0,l2*math.sin(a2)])\n",
    "        second_one = rotation_matrix.dot(second_one)\n",
    "\n",
    "        third_one = np.array([l3*math.cos(a2 + a3), 0, l3 *math.cos(a2+a3)])\n",
    "        third_one = rotation_matrix.dot(third_one)\n",
    "\n",
    "        xyz += second_one + third_one\n",
    "\n",
    "        return (xyz[0], xyz[1], xyz[2])\n",
    "\n",
    "\n",
    "    def inverse_kinematics(self, end_effector_position: XYZ) -> CONFIG:\n",
    "        # (1) Unpacking parameters\n",
    "        x,y,z = end_effector_position[0], end_effector_position[1], end_effector_position[2]\n",
    "        l1 = self.l1\n",
    "\n",
    "        # (2) Find angle of first robot manipulator\n",
    "        a1 = math.atan(y/x)\n",
    "\n",
    "        # (3) Rotate problem into two dimensions \n",
    "        ## Defining inverse of a1-rotation matrix - (Do not need to define inverse because)\n",
    "        rotation_matrix = np.array([\n",
    "            [math.cos(a1), math.sin(a1), 0],\n",
    "            [-1*math.sin(a1), math.cos(a1), 0],\n",
    "            [0,0,1]\n",
    "        ])\n",
    "\n",
    "        xyz =np.array([x,y,z])\n",
    "        ## Getting xyz rotated into xz-plane\n",
    "        new_xz = rotation_matrix.dot(xyz)\n",
    "        new_xz[0] -= l1\n",
    "\n",
    "        # (4) Now we are back to standard 2R in plane case\n",
    "        # Copied code from previous problem\n",
    "        x, y = new_xz[0], new_xz[1]\n",
    "        l1, l2= self.l2, self.l3\n",
    "\n",
    "        # Be careful about 0 division errors\n",
    "        a3 = math.acos((x**2 + y**2 - l1**2 - l2**2) / (2*l1*l2))\n",
    "        if x != 0:\n",
    "            a2 = math.atan(y/x) - math.atan((l2*math.sin(a3)) / (l1 + l2 * math.cos(a3)))\n",
    "        else: \n",
    "            a2 = math.pi/2 - math.atan((l2*math.sin(a3)) / (l1 + l2 * math.cos(a3)))\n",
    "        \n",
    "        return (a1, a2, a3)\n",
    "    \n"
   ]
  },
  {
   "cell_type": "code",
   "execution_count": 6,
   "metadata": {},
   "outputs": [
    {
     "name": "stdout",
     "output_type": "stream",
     "text": [
      "(10.00000000000001, 20.000000000000014, -42.38446452539256)\n",
      "(30.000000000000007, 30.000000000000007, -24.086886158219308)\n"
     ]
    }
   ],
   "source": [
    "# Creating robot\n",
    "link_lengths = (10, 40, 30)\n",
    "testRobot = Robot3R(link_lengths)\n",
    "\n",
    "print(testRobot.forward_kinematics(testRobot.inverse_kinematics((10,20,20))))\n",
    "print(testRobot.forward_kinematics(testRobot.inverse_kinematics((30,30,40))))"
   ]
  },
  {
   "cell_type": "markdown",
   "metadata": {},
   "source": [
    "**Testing**"
   ]
  },
  {
   "cell_type": "markdown",
   "metadata": {},
   "source": [
    "*Forward Kinematics*"
   ]
  },
  {
   "cell_type": "code",
   "execution_count": 7,
   "metadata": {},
   "outputs": [
    {
     "name": "stdout",
     "output_type": "stream",
     "text": [
      "(80.0, 0.0, 30.0) should be: (130, 0)\n",
      "(27.07106781186548, 27.07106781186548, 28.284271247461906) should be (21.213203435596427, 103.63961030678928)\n"
     ]
    },
    {
     "ename": "IndexError",
     "evalue": "tuple index out of range",
     "output_type": "error",
     "traceback": [
      "\u001b[1;31m---------------------------------------------------------------------------\u001b[0m",
      "\u001b[1;31mIndexError\u001b[0m                                Traceback (most recent call last)",
      "Cell \u001b[1;32mIn [7], line 7\u001b[0m\n\u001b[0;32m      4\u001b[0m test2 \u001b[39m=\u001b[39m testRobot\u001b[39m.\u001b[39mforward_kinematics((math\u001b[39m.\u001b[39mpi\u001b[39m/\u001b[39m\u001b[39m4\u001b[39m, math\u001b[39m.\u001b[39mpi\u001b[39m/\u001b[39m\u001b[39m4\u001b[39m, math\u001b[39m.\u001b[39mpi\u001b[39m/\u001b[39m\u001b[39m4\u001b[39m))\n\u001b[0;32m      5\u001b[0m \u001b[39mprint\u001b[39m(test2, \u001b[39m\"\u001b[39m\u001b[39mshould be\u001b[39m\u001b[39m\"\u001b[39m, (\u001b[39m60\u001b[39m\u001b[39m*\u001b[39mmath\u001b[39m.\u001b[39msqrt(\u001b[39m2\u001b[39m)\u001b[39m/\u001b[39m\u001b[39m2\u001b[39m \u001b[39m-\u001b[39m \u001b[39m30\u001b[39m \u001b[39m*\u001b[39m math\u001b[39m.\u001b[39msqrt(\u001b[39m2\u001b[39m)\u001b[39m/\u001b[39m\u001b[39m2\u001b[39m, \u001b[39m60\u001b[39m\u001b[39m*\u001b[39m math\u001b[39m.\u001b[39msqrt(\u001b[39m2\u001b[39m)\u001b[39m/\u001b[39m\u001b[39m2\u001b[39m \u001b[39m+\u001b[39m \u001b[39m40\u001b[39m \u001b[39m+\u001b[39m \u001b[39m30\u001b[39m \u001b[39m*\u001b[39m math\u001b[39m.\u001b[39msqrt(\u001b[39m2\u001b[39m)\u001b[39m/\u001b[39m\u001b[39m2\u001b[39m))\n\u001b[1;32m----> 7\u001b[0m \u001b[39mprint\u001b[39m(testRobot\u001b[39m.\u001b[39minverse_kinematics((\u001b[39m110\u001b[39m,\u001b[39m0\u001b[39m)))\n",
      "Cell \u001b[1;32mIn [5], line 42\u001b[0m, in \u001b[0;36mRobot3R.inverse_kinematics\u001b[1;34m(self, end_effector_position)\u001b[0m\n\u001b[0;32m     40\u001b[0m \u001b[39mdef\u001b[39;00m \u001b[39minverse_kinematics\u001b[39m(\u001b[39mself\u001b[39m, end_effector_position: XYZ) \u001b[39m-\u001b[39m\u001b[39m>\u001b[39m CONFIG:\n\u001b[0;32m     41\u001b[0m     \u001b[39m# (1) Unpacking parameters\u001b[39;00m\n\u001b[1;32m---> 42\u001b[0m     x,y,z \u001b[39m=\u001b[39m end_effector_position[\u001b[39m0\u001b[39m], end_effector_position[\u001b[39m1\u001b[39m], end_effector_position[\u001b[39m2\u001b[39;49m]\n\u001b[0;32m     43\u001b[0m     l1 \u001b[39m=\u001b[39m \u001b[39mself\u001b[39m\u001b[39m.\u001b[39ml1\n\u001b[0;32m     45\u001b[0m     \u001b[39m# (2) Find angle of first robot manipulator\u001b[39;00m\n",
      "\u001b[1;31mIndexError\u001b[0m: tuple index out of range"
     ]
    }
   ],
   "source": [
    "test1 = testRobot.forward_kinematics((0,0,0))\n",
    "print(test1, \"should be:\", (130, 0))\n",
    "\n",
    "test2 = testRobot.forward_kinematics((math.pi/4, math.pi/4, math.pi/4))\n",
    "print(test2, \"should be\", (60*math.sqrt(2)/2 - 30 * math.sqrt(2)/2, 60* math.sqrt(2)/2 + 40 + 30 * math.sqrt(2)/2))\n",
    "\n",
    "print(testRobot.inverse_kinematics((110,0)))"
   ]
  }
 ],
 "metadata": {
  "kernelspec": {
   "display_name": "Python 3.10.7 ('env': venv)",
   "language": "python",
   "name": "python3"
  },
  "language_info": {
   "codemirror_mode": {
    "name": "ipython",
    "version": 3
   },
   "file_extension": ".py",
   "mimetype": "text/x-python",
   "name": "python",
   "nbconvert_exporter": "python",
   "pygments_lexer": "ipython3",
   "version": "3.10.8"
  },
  "orig_nbformat": 4,
  "vscode": {
   "interpreter": {
    "hash": "4767b5dcc895c65fdef7e259be165d522d0b07cdf6d579f01d6696b0d13fb9a9"
   }
  }
 },
 "nbformat": 4,
 "nbformat_minor": 2
}
