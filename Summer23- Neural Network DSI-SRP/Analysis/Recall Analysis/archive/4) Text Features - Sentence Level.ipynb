{
 "cells": [
  {
   "cell_type": "markdown",
   "metadata": {},
   "source": [
    "## (0) Introduction"
   ]
  },
  {
   "cell_type": "markdown",
   "metadata": {},
   "source": [
    "In this notebook, we will explore how text features -- concreteness, imageablility, grade level, arousal,\n",
    "valence, dominance, and tense -- influence the probability of recalling a sentence. "
   ]
  },
  {
   "cell_type": "code",
   "execution_count": 3,
   "metadata": {},
   "outputs": [],
   "source": [
    "import pandas as pd\n",
    "import numpy as np\n",
    "import matplotlib.pyplot as plt\n",
    "\n",
    "# (0) Loading in the recall and text feature data\n",
    "df = pd.read_csv(\"data/psifr_al1_ml1_sl.csv\")\n",
    "# df = df.query(\"modality in ['EEG', 'MRI']\")         OPTIONAL: Restrict analysis to Immediate free recall\n",
    "\n",
    "\n",
    "# (1) Add mean recall of each sentence to TextProperties excel sheets\n",
    "passages = [\"A1\", \"A2\", \"A3\", \"A4\", \"A5\"]\n",
    "\n",
    "with pd.ExcelWriter(\"data/ListA_TextProperties.xlsx\", mode=\"a\", if_sheet_exists=\"replace\") as writer:\n",
    "    for pas_id in passages:\n",
    "        pas_df = df.query(f\"story_list == '{pas_id[0]}' and passage == {int(pas_id[1])}\")\n",
    "        mean_rec = pas_df.groupby(\"input\")[\"recall\"].mean().to_list()\n",
    "\n",
    "        text_features_df = pd.read_excel(\"data\\ListA_TextProperties.xlsx\", sheet_name=pas_id).drop(columns=['rec_prob'], errors='ignore')\n",
    "        text_features_df['rec_prob'] = mean_rec\n",
    "        text_features_df = text_features_df[[\"sentence\", \"rec_prob\"] + text_features_df.columns[1:-1].to_list()] \n",
    "        text_features_df.round(2).to_excel(writer, sheet_name = pas_id, index=False)\n",
    "\n",
    "# (2) Create one dataframe containing the sentences and text features\n",
    "passages = [\"A1\", \"A2\", \"A3\", \"A4\", \"A5\"]  \n",
    "df = pd.DataFrame()\n",
    "\n",
    "for pas_id in passages:\n",
    "    pas_df = pd.read_excel(\"data\\ListA_TextProperties.xlsx\", sheet_name=pas_id)\n",
    "    df = pd.concat([df, pas_df], ignore_index= True)\n"
   ]
  },
  {
   "cell_type": "markdown",
   "metadata": {},
   "source": [
    "## (1) Concreteness"
   ]
  },
  {
   "cell_type": "markdown",
   "metadata": {},
   "source": [
    "Let's see whether sentences with concrete words tend to be better recalled."
   ]
  },
  {
   "cell_type": "code",
   "execution_count": null,
   "metadata": {},
   "outputs": [],
   "source": [
    "# (0) Sort sentences into Concrete Sentences and Non-Concrete"
   ]
  },
  {
   "cell_type": "markdown",
   "metadata": {},
   "source": [
    "###### Correlation Analysis"
   ]
  },
  {
   "cell_type": "code",
   "execution_count": 34,
   "metadata": {},
   "outputs": [],
   "source": [
    "## Correlation \n",
    "# passage = 1\n",
    "# pas_df = df.query(f\"passage_id == 'A{str(passage)}'\")\n",
    "# plt.scatter(\n",
    "#     x=pas_df.concreteness_Brysbaert,\n",
    "#     y=pas_df.rec_prob,\n",
    "#     c=\"g\"\n",
    "#     )\n",
    "# plt.title(f\"Concreteness vs Memorability of Sentences\")\n",
    "# plt.xlabel(\"Average Word Concreteness (1-5)\")\n",
    "# plt.ylabel(\"Probability of Recalling\");\n",
    "\n",
    "# correlation = pas_df[[\"concreteness_Brysbaert\", \"rec_prob\"]].corr()[\"concreteness_Brysbaert\"][\"rec_prob\"]\n",
    "# print(\"Correlation: {:.2f}\".format(correlation))\n",
    "# print()"
   ]
  },
  {
   "cell_type": "markdown",
   "metadata": {},
   "source": [
    "## (2) Emotional Properties "
   ]
  },
  {
   "cell_type": "markdown",
   "metadata": {},
   "source": [
    "#### (1) Measurements"
   ]
  },
  {
   "cell_type": "markdown",
   "metadata": {},
   "source": [
    "Coh-Metrix:\n",
    "\n",
    "SEANCE:\n",
    "\n",
    "Sentiment Analysis Programs\n",
    "* For valence, a language model that uses the context of a word might perform better than a word pool since emotions associated with a word depends on context. For example, 'support' is much happier than 'respiratory support!"
   ]
  },
  {
   "cell_type": "markdown",
   "metadata": {},
   "source": [
    "## (3) Tone"
   ]
  },
  {
   "cell_type": "markdown",
   "metadata": {},
   "source": [
    " (Descriptive vs Imperative)"
   ]
  }
 ],
 "metadata": {
  "kernelspec": {
   "display_name": ".venv",
   "language": "python",
   "name": "python3"
  },
  "language_info": {
   "codemirror_mode": {
    "name": "ipython",
    "version": 3
   },
   "file_extension": ".py",
   "mimetype": "text/x-python",
   "name": "python",
   "nbconvert_exporter": "python",
   "pygments_lexer": "ipython3",
   "version": "3.9.13"
  },
  "orig_nbformat": 4
 },
 "nbformat": 4,
 "nbformat_minor": 2
}
