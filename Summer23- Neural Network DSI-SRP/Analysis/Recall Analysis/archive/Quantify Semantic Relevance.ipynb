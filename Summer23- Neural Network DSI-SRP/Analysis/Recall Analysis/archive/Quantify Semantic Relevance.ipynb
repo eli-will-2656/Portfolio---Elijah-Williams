{
 "cells": [
  {
   "cell_type": "markdown",
   "metadata": {},
   "source": [
    "In this notebook, we will quantify the semantic \"relevance\" of idea units in a passage in tersm of semantic associations between the idea unit and entire text (semantic context). \n",
    "\n",
    "To do so we will utilize the same technique that Michael Wolfe did [15 years ago](https://www.gvsu.edu/cms4/asset/92386C7F-BF75-96ED-67D9FAA81701D122/wolfe.jeplmc.05.pdf):\n",
    "\n",
    "1) Use LSA to turn idea unit into a vector\n",
    "2) Average together all those vectors to get a centroid vector representing \"passage\"\n",
    "3) Compare the cosine similarity between each idea unit and the passage"
   ]
  },
  {
   "cell_type": "code",
   "execution_count": 2,
   "metadata": {},
   "outputs": [
    {
     "name": "stdout",
     "output_type": "stream",
     "text": [
      "Smaller and larger abscesses may require different methods for treatment. Smaller abscesses are typically less than five millimeters wide. Applying warm soaks can promote pus straining in smaller abscesses.   Larger abscesses will require an incision to strain them.   Signs of larger abscesses includeincreased inflammation and pus collection. Ensure the appropriate precautions are met before treating the patient.   Gather all necessary equipment required to care for the abscess.   Position the patient so the abscess is easily accessible. Surround the abscess with cleaned drapes and cover adjacent areas.   Lastly, apply anesthesia to the edge surrounding the abscess.   Once required preparations are complete, perform the incision and strainage.   Insert the syringe slightly under the skin to inject anesthetic.   Next, cut open the abscess and strain out all pus.   Apply gauze to soak up any excess pus or blood.   Use caution, for abscesses could contain sharp or jagged objects.   Record information about the abscess and procedure on SF 600.   Describe details about the abscess prior to completing the procedure.   Recount the procedure used, such as the quantity of anesthesia.   Provide details on how the patient tolerated the procedure.   Include any follow up care instructions given to the patient.   \n"
     ]
    }
   ],
   "source": []
  },
  {
   "cell_type": "code",
   "execution_count": null,
   "metadata": {},
   "outputs": [],
   "source": []
  }
 ],
 "metadata": {
  "kernelspec": {
   "display_name": ".venv",
   "language": "python",
   "name": "python3"
  },
  "language_info": {
   "codemirror_mode": {
    "name": "ipython",
    "version": 3
   },
   "file_extension": ".py",
   "mimetype": "text/x-python",
   "name": "python",
   "nbconvert_exporter": "python",
   "pygments_lexer": "ipython3",
   "version": "3.9.13"
  },
  "orig_nbformat": 4
 },
 "nbformat": 4,
 "nbformat_minor": 2
}
