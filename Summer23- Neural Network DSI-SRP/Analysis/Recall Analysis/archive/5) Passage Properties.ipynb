{
 "cells": [
  {
   "cell_type": "markdown",
   "metadata": {},
   "source": [
    "In this notebook, we will explore how passage structure influences what information is recalled and how it is recalled.\n",
    "\n",
    "**Big Questions:**\n",
    "* How does `passage structure` influence the `memorability` of a sentence (or idea)\n",
    "  * Hypothesis: High-level ideas at the start of each paragraph are more memorable that low-level details at the end"
   ]
  },
  {
   "cell_type": "markdown",
   "metadata": {},
   "source": [
    "* How does the `cohesion` of a paragraph (or passage) influence `temporal contiguity`?\n",
    "  * Hypothesis: Less cohesive text give rise to smaller contiguity effects"
   ]
  },
  {
   "cell_type": "markdown",
   "metadata": {},
   "source": [
    "* Does retrieval induced forgetting (`RIFO`) or retroactive interference have a `substantial effect` in the recall data?"
   ]
  }
 ],
 "metadata": {
  "language_info": {
   "name": "python"
  },
  "orig_nbformat": 4
 },
 "nbformat": 4,
 "nbformat_minor": 2
}
