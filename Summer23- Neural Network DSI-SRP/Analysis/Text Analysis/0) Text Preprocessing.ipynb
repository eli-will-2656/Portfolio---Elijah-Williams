{
 "cells": [
  {
   "cell_type": "markdown",
   "metadata": {},
   "source": [
    "In this notebook, we will transform an excel file with all the sentences in each passage into an excel file where each sentence is associated several [Coh-metrix text properties](http://cohmetrix.memphis.edu/cohmetrixhome/documentation_indices.html) (a program cited by over 2000 studies).\n",
    "\n",
    "---\n",
    "**Features:**\n",
    "\n",
    "| feature    | cohmetrix name | description |\n",
    "| :--------: | :--------: |  :--------: |\n",
    "| *sentence_length*  | DESWC    | # of words in a sentence |\n",
    "| *word_length* | DESWLsy     | mean # of syllables per word |\n",
    "| *word_frequency_cmx*    | WRDFRQc    | measure of word frequency in english |\n",
    "| *word_concreteness_cmx*    | WRDCNCc    | measure of concreteness |\n",
    "| *grade_level*    | RDFKGL    | Flesch-Kincaid Grade Level^ |\n",
    "\n",
    "^Grade Level is computed from two prior variables: *grade_level = [(0.39 * sentence_length) + (11.8 * word_length) – 15.59]*.\n",
    "\n",
    "**Files:**\n",
    "* `data\\ListA_Sentences.xlsx` -> ` data\\ListA_TextProperties.xlsx`\n",
    "\n",
    "---\n",
    "\n",
    "\n"
   ]
  },
  {
   "cell_type": "markdown",
   "metadata": {},
   "source": [
    "Step 1: Load in and process sentences from each passage"
   ]
  },
  {
   "cell_type": "code",
   "execution_count": 1,
   "metadata": {},
   "outputs": [],
   "source": [
    "# (0) Load in data\n",
    "import pandas as pd\n",
    "\n",
    "passages = [\"A1\", \"A2\", \"A3\", \"A4\", \"A5\"]\n",
    "for pas_id in passages:\n",
    "    df = pd.read_excel(\"data/ListA_Sentences.xlsx\", sheet_name=pas_id)\n",
    "\n",
    "    sentences = df.Sentence.to_list()\n",
    "\n",
    "    # Write each sentence to a .txt file\n",
    "    for i, sentence in enumerate(sentences):\n",
    "        with open(f\"data/cohmetrix-input_ListA/{pas_id}_{i + 1}.txt\", \"w\") as txt_file:\n",
    "            txt_file.write(sentence)"
   ]
  },
  {
   "cell_type": "markdown",
   "metadata": {},
   "source": [
    "Step 2: Feed the `data/cohmetrix-input_ListA` folder into the cohmetrix program and save output into this `data\\cohmetrix-output_ListA.csv` file."
   ]
  },
  {
   "cell_type": "markdown",
   "metadata": {},
   "source": [
    "Step 3: Clean up Coh-metrix output"
   ]
  },
  {
   "cell_type": "code",
   "execution_count": 2,
   "metadata": {},
   "outputs": [
    {
     "data": {
      "text/html": [
       "<div>\n",
       "<style scoped>\n",
       "    .dataframe tbody tr th:only-of-type {\n",
       "        vertical-align: middle;\n",
       "    }\n",
       "\n",
       "    .dataframe tbody tr th {\n",
       "        vertical-align: top;\n",
       "    }\n",
       "\n",
       "    .dataframe thead th {\n",
       "        text-align: right;\n",
       "    }\n",
       "</style>\n",
       "<table border=\"1\" class=\"dataframe\">\n",
       "  <thead>\n",
       "    <tr style=\"text-align: right;\">\n",
       "      <th></th>\n",
       "      <th>passage</th>\n",
       "      <th>sentence_length</th>\n",
       "      <th>word_length</th>\n",
       "      <th>word_frequency_cmx</th>\n",
       "      <th>word_concreteness_cmx</th>\n",
       "      <th>grade_level</th>\n",
       "      <th>input</th>\n",
       "    </tr>\n",
       "  </thead>\n",
       "  <tbody>\n",
       "    <tr>\n",
       "      <th>0</th>\n",
       "      <td>A1</td>\n",
       "      <td>10</td>\n",
       "      <td>1.50</td>\n",
       "      <td>2.14</td>\n",
       "      <td>446.33</td>\n",
       "      <td>6.01</td>\n",
       "      <td>1</td>\n",
       "    </tr>\n",
       "    <tr>\n",
       "      <th>11</th>\n",
       "      <td>A1</td>\n",
       "      <td>9</td>\n",
       "      <td>1.44</td>\n",
       "      <td>2.95</td>\n",
       "      <td>378.20</td>\n",
       "      <td>4.96</td>\n",
       "      <td>2</td>\n",
       "    </tr>\n",
       "    <tr>\n",
       "      <th>13</th>\n",
       "      <td>A1</td>\n",
       "      <td>12</td>\n",
       "      <td>1.25</td>\n",
       "      <td>1.88</td>\n",
       "      <td>377.00</td>\n",
       "      <td>3.84</td>\n",
       "      <td>3</td>\n",
       "    </tr>\n",
       "    <tr>\n",
       "      <th>14</th>\n",
       "      <td>A1</td>\n",
       "      <td>11</td>\n",
       "      <td>1.36</td>\n",
       "      <td>2.07</td>\n",
       "      <td>435.33</td>\n",
       "      <td>4.80</td>\n",
       "      <td>4</td>\n",
       "    </tr>\n",
       "    <tr>\n",
       "      <th>15</th>\n",
       "      <td>A1</td>\n",
       "      <td>11</td>\n",
       "      <td>1.54</td>\n",
       "      <td>1.96</td>\n",
       "      <td>399.50</td>\n",
       "      <td>6.93</td>\n",
       "      <td>5</td>\n",
       "    </tr>\n",
       "  </tbody>\n",
       "</table>\n",
       "</div>"
      ],
      "text/plain": [
       "   passage  sentence_length  word_length  word_frequency_cmx  \\\n",
       "0       A1               10         1.50                2.14   \n",
       "11      A1                9         1.44                2.95   \n",
       "13      A1               12         1.25                1.88   \n",
       "14      A1               11         1.36                2.07   \n",
       "15      A1               11         1.54                1.96   \n",
       "\n",
       "    word_concreteness_cmx  grade_level  input  \n",
       "0                  446.33         6.01      1  \n",
       "11                 378.20         4.96      2  \n",
       "13                 377.00         3.84      3  \n",
       "14                 435.33         4.80      4  \n",
       "15                 399.50         6.93      5  "
      ]
     },
     "execution_count": 2,
     "metadata": {},
     "output_type": "execute_result"
    }
   ],
   "source": [
    "# (1) Load in the scored sentences\n",
    "import pandas as pd\n",
    "cohmetrix_output = pd.read_csv(\"data/cohmetrix-output_ListA.csv\")\n",
    "\n",
    "sent_ids = [string.split(\"\\\\\")[-1][:-4] for string in cohmetrix_output.TextID.to_list()]\n",
    "cohmetrix_output[\"passage\"] = [s.split(\"_\")[0] for s in sent_ids]\n",
    "cohmetrix_output[\"input\"] = [int(s.split(\"_\")[1]) for s in sent_ids]\n",
    "\n",
    "cohmetrix_output = cohmetrix_output[[\"passage\", \"DESWC\", \"DESWLsy\", \"WRDFRQc\",\"WRDCNCc\",\"RDFKGL\", \"input\"]].sort_values([\"passage\", \"input\"])\n",
    "\n",
    "cohmetrix_output = cohmetrix_output.rename(columns={\n",
    "                                 \"DESWC\":\"sentence_length\", \n",
    "                                 \"DESWLsy\": \"word_length\",\n",
    "                                 \"WRDFRQc\":\"word_frequency_cmx\",\n",
    "                                 \"WRDCNCc\":\"word_concreteness_cmx\",\n",
    "                                 \"RDFKGL\":\"grade_level\"})\n",
    "\n",
    "cohmetrix_output = cohmetrix_output.round(2)\n",
    "\n",
    "cohmetrix_output.head()"
   ]
  },
  {
   "cell_type": "markdown",
   "metadata": {},
   "source": [
    "Step 4: Write sentences along with their text features, paragraph, and passage to excel sheets."
   ]
  },
  {
   "cell_type": "code",
   "execution_count": 3,
   "metadata": {},
   "outputs": [],
   "source": [
    "%%capture\n",
    "\n",
    "with pd.ExcelWriter(\"data/ListA_TextProperties.xlsx\") as writer:   \n",
    "    for pas_id in passages:\n",
    "        pas_df = cohmetrix_output.query(f\"passage == '{pas_id}'\")\n",
    "        df = pd.read_excel(\"data/ListA_Sentences.xlsx\", sheet_name=pas_id)\n",
    "        sentences = df.Sentence.to_list()\n",
    "        pas_df[\"paragraph\"] = [(input_pos - 1) // 5 + 1 for input_pos in pas_df.input]\n",
    "        pas_df[\"passage_id\"] = pas_id \n",
    "        pas_df[\"sentence\"] = sentences\n",
    "        pas_df = pas_df[[\"sentence\"] + pas_df.columns[1:-1].to_list()]\n",
    "        pas_df.to_excel(writer, sheet_name = pas_id, index=False)\n"
   ]
  }
 ],
 "metadata": {
  "kernelspec": {
   "display_name": ".venv",
   "language": "python",
   "name": "python3"
  },
  "language_info": {
   "codemirror_mode": {
    "name": "ipython",
    "version": 3
   },
   "file_extension": ".py",
   "mimetype": "text/x-python",
   "name": "python",
   "nbconvert_exporter": "python",
   "pygments_lexer": "ipython3",
   "version": "3.9.13"
  },
  "orig_nbformat": 4
 },
 "nbformat": 4,
 "nbformat_minor": 2
}
