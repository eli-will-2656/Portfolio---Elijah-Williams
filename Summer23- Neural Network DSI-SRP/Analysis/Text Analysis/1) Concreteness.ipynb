{
 "cells": [
  {
   "cell_type": "markdown",
   "metadata": {},
   "source": [
    "# Concreteness\n",
    "\n",
    "Concrete words are words we whose meaning of based on direct experiences with reality, and abstracts words we learn and describe the meaning in terms of other words. Concreteness quantifies how much word refers to an object we can directly perceive."
   ]
  },
  {
   "cell_type": "markdown",
   "metadata": {},
   "source": [
    "**Possible Measures**\n",
    "\n",
    "1. [2013 Word Pool](https://link.springer.com/article/10.3758/s13428-013-0403-5#Sec1) - This study used 4000 online participants to score `40,000 words` on a scale from 1-5 (abstract --> concrete).\n",
    "   * Also has `3000` two-word expressions \n",
    "2. [Coh-Metrix](http://cohmetrix.memphis.edu/cohmetrixhome/documentation_indices.html#WRDCNCc) - This comes from the [MRC Psycholinguistic Database ](https://websites.psychology.uwa.edu.au/school/mrcdatabase/mrc2.html). \n",
    "   * `4000 words `given score betwen 100-700, based on merging norms from three  studies (Pavio, Colerado, and Gilhooly-Logie)\n",
    "   * Missing scores for words like 'anesthetic' and 'gauze'"
   ]
  },
  {
   "attachments": {
    "image.png": {
     "image/png": "[encoded data removed]"
    }
   },
   "cell_type": "markdown",
   "metadata": {},
   "source": [
    "**Bysbaert Rating Instructions:**\n",
    "\n",
    "\n",
    "![image.png](attachment:image.png)"
   ]
  },
  {
   "cell_type": "markdown",
   "metadata": {},
   "source": [
    "## (0) Load in Data"
   ]
  },
  {
   "cell_type": "code",
   "execution_count": 30,
   "metadata": {},
   "outputs": [],
   "source": [
    "%%capture \n",
    "import pandas as pd\n",
    "import numpy as np\n",
    "import json\n",
    "import string\n",
    "\n",
    "passages = [\"A1\", \"A2\", \"A3\", \"A4\", \"A5\"]  \n",
    "df = pd.DataFrame()\n",
    "\n",
    "for pas_id in passages:\n",
    "    pas_df = pd.read_excel(\"data\\ListA_TextProperties.xlsx\", sheet_name=pas_id).drop(columns=['concreteness_Brysbaert'], errors='ignore')\n",
    "    df = pd.concat([df, pas_df], ignore_index= True)\n",
    "df.head(1)"
   ]
  },
  {
   "cell_type": "code",
   "execution_count": 31,
   "metadata": {},
   "outputs": [
    {
     "name": "stdout",
     "output_type": "stream",
     "text": [
      "100\n"
     ]
    }
   ],
   "source": [
    "print(len(df[\"sentence\"].to_list()))"
   ]
  },
  {
   "cell_type": "markdown",
   "metadata": {},
   "source": [
    "## (1) 2013 Word Pool"
   ]
  },
  {
   "cell_type": "markdown",
   "metadata": {},
   "source": [
    "Let's see what percent of words are immediately covered by the word pool."
   ]
  },
  {
   "cell_type": "code",
   "execution_count": 32,
   "metadata": {},
   "outputs": [
    {
     "name": "stdout",
     "output_type": "stream",
     "text": [
      "Percent of words in pool: 0.86\n",
      "Missing words: ['18', '36', '9', 'abrasions', 'abscesses', 'areas', 'asking', 'assessments', 'avpu', 'bodies', 'burns', 'caused', 'causes', 'checking', 'checks', 'completing', 'contacted', 'contusions', 'cravats', 'damaged', 'dangers', 'drapes', 'dressings', 'endured', 'explosions', 'eyebrows', 'eyelashes', 'glasgow', 'includes', 'injuries', 'larger', 'limbs', 'millimeters', 'needed', 'nines', 'notes', 'objects', 'patients', 'pokes', 'prevents', 'problems', 'products', 'putting', 'responses', 'results', 'rinsed', 'scrubbing', 'sf600', 'sicknesses', 'signs', 'strikes', 'symptoms', 'temperatures', 'towels', 'treated', 'types', 'victims']\n"
     ]
    }
   ],
   "source": [
    "# (0) Get a list of unique words used in each passage\n",
    "passage_words = \" \".join(df[\"sentence\"])                            # Passage string\n",
    "passage_words = passage_words.translate(str.maketrans('', '', string.punctuation))      # Removes punctuation\n",
    "passage_words = passage_words.lower().split()                       # Turns lower case and to list\n",
    "passage_words = list(set(passage_words))                            # Get unique words\n",
    "\n",
    "# (1) Find % of words immediately covered by word pool\n",
    "wrd_concreteness_df = pd.read_excel(\"data/Brysbaert_WRD_CNC.xlsx\")\n",
    "word_pool = wrd_concreteness_df[\"Word\"].to_list()\n",
    "\n",
    "num_words_in_word_pool = 0 \n",
    "not_in_pool = []\n",
    "for word in passage_words:\n",
    "    if word in word_pool:\n",
    "        num_words_in_word_pool += 1\n",
    "    else:\n",
    "        not_in_pool.append(word)\n",
    "\n",
    "percent = num_words_in_word_pool / len(passage_words)\n",
    "\n",
    "print(\"Percent of words in pool: {:.2f}\".format(percent))\n",
    "print(f\"Missing words: {sorted(not_in_pool)}\")"
   ]
  },
  {
   "cell_type": "markdown",
   "metadata": {},
   "source": [
    "## (2) Coh-Metrix"
   ]
  },
  {
   "cell_type": "markdown",
   "metadata": {},
   "source": [
    "* For each word in the texts, we will have to (1) create a file containing that word, (2) run those files it through coh-metrix, (3) see how many words in the resulting sheet have a non-zero word concreteness (*WRDCNCc, 97*) score"
   ]
  },
  {
   "cell_type": "code",
   "execution_count": 33,
   "metadata": {},
   "outputs": [
    {
     "name": "stdout",
     "output_type": "stream",
     "text": [
      "Percent of words in pool: 0.44\n",
      "Missing words: ['18', '36', '600', '9', 'a', 'abrasion', 'abrasions', 'accessible', 'additional', 'adjacent', 'administered', 'after', 'airway', 'all', 'along', 'an', 'and', 'anesthesia', 'anesthetic', 'another', 'antibiotic', 'any', 'apply', 'applying', 'appropriate', 'are', 'around', 'ask', 'asking', 'assess', 'assessment', 'assessments', 'at', 'avpu', 'backward', 'because', 'before', 'begin', 'bleeding', 'both', 'burnt', 'by', 'calculated', 'can', 'casualty', 'casualtys', 'caution', 'characterized', 'check', 'checks', 'chemical', 'chemicals', 'coma', 'complete', 'completing', 'compress', 'confirming', 'consciousness', 'considered', 'contain', 'contusion', 'contusions', 'could', 'cravats', 'current', 'deformity', 'describe', 'details', 'determine', 'diameter', 'different', 'discoloration', 'do', 'dressings', 'dry', 'each', 'easily', 'electrical', 'elevate', 'elevated', 'ensure', 'entry', 'environment', 'excess', 'exit', 'explosions', 'exposed', 'extensive', 'eyeball', 'eyebrows', 'eyelashes', 'eyelid', 'five', 'fluid', 'fold', 'follow', 'following', 'follows', 'for', 'forceful', 'foreign', 'found', 'fracture', 'from', 'gather', 'gauze', 'gently', 'glasgow', 'have', 'head', 'healing', 'hoarseness', 'host', 'how', 'if', 'immediately', 'in', 'incision', 'include', 'includes', 'inflammation', 'informing', 'inhalation', 'initiate', 'inject', 'injured', 'insert', 'instructions', 'insufficient', 'internal', 'into', 'involve', 'involvement', 'involves', 'involving', 'irrigate', 'is', 'it', 'jagged', 'larger', 'lastly', 'lid', 'like', 'locating', 'mangled', 'medical', 'millimeters', 'minimize', 'movement', 'must', 'necessary', 'neurological', 'nothing', 'of', 'off', 'ointment', 'on', 'one', 'or', 'out', 'outline', 'over', 'paralysis', 'partial', 'penetrates', 'penetrating', 'per', 'percentage', 'perform', 'possibility', 'possible', 'prepare', 'preparing', 'prevent', 'prevents', 'prior', 'procedure', 'process', 'prolonged', 'promote', 'properly', 'provide', 'pus', 'recount', 'refer', 'remains', 'remove', 'require', 'required', 'respiratory', 'responses', 'restlessness', 'roller', 'saline', 'scalp', 'scrubbed', 'scrubbing', 'secure', 'serious', 'serves', 'severity', 'sf', 'sharp', 'should', 'singed', 'slightly', 'slowing', 'soak', 'soaks', 'spinal', 'sterile', 'strainage', 'strikes', 'superficial', 'support', 'surround', 'surrounding', 'swab', 'symptom', 'symptoms', 'syringe', 'testing', 'than', 'that', 'the', 'their', 'them', 'there', 'thermal', 'these', 'they', 'thickness', 'third', 'this', 'three', 'tissue', 'to', 'tolerated', 'two', 'typically', 'unblock', 'under', 'underlying', 'uninjured', 'unresponsive', 'up', 'upper', 'use', 'used', 'vascular', 'verbal', 'warm', 'were', 'will', 'with', 'wrapping', 'you']\n"
     ]
    }
   ],
   "source": [
    "# (0) Run Code cell above first to get passage words!\n",
    "# (1) Create files\n",
    "for word in passage_words:\n",
    "    with open(f\"archive/coh-metrix_wrdcnc_input/{word}.txt\", \"w\") as word_file:\n",
    "        word_file.write(word)\n",
    "\n",
    "# (2) Coh-metrix output\n",
    "cohmetrix_cnc_df = pd.read_csv(\"archive/coh-metrix_wrdcnc_output.csv\")\n",
    "cohmetrix_cnc_df.head(1)\n",
    "cohmetrix_cnc_df = cohmetrix_cnc_df[[\"TextID\",\"WRDCNCc\"]].rename(columns={\"TextID\":\"Word\", \"WRDCNCc\": \"Concreteness\" })\n",
    "cohmetrix_cnc_df[\"Word\"] = [word.split(\"\\\\\")[-1][:-4].lower() for word in cohmetrix_cnc_df[\"Word\"].to_list()]   # Cleans up word column\n",
    "\n",
    "# (3) Find % of words immediately covered by word pool\n",
    "percent = len(cohmetrix_cnc_df.query(\"Concreteness != 0\")) / len(passage_words)\n",
    "words_not_in_wordpool_df = cohmetrix_cnc_df[cohmetrix_cnc_df[\"Concreteness\"] == 0]       # Drop alls words that do not have a score\n",
    "not_in_pool = words_not_in_wordpool_df[\"Word\"]\n",
    "print(\"Percent of words in pool: {:.2f}\".format(percent))\n",
    "print(f\"Missing words: {not_in_pool.to_list()}\")\n",
    "\n"
   ]
  },
  {
   "cell_type": "markdown",
   "metadata": {},
   "source": [
    "## (3) Score Sentences"
   ]
  },
  {
   "cell_type": "markdown",
   "metadata": {},
   "source": [
    "Now that we've found a measure of concreteness, we can calculate the average concreteness of words in each sentence."
   ]
  },
  {
   "cell_type": "markdown",
   "metadata": {},
   "source": [
    "**(Optional) Stopwords:**"
   ]
  },
  {
   "cell_type": "markdown",
   "metadata": {},
   "source": [
    "* I could filter `'stop words'` from the scores (and transform each sentence into its 'key words'). I might want to do this if I want the scores to be a measure of how concrete the  nouns, adjectives, and verbs in a sentence are.\n",
    "  * For example, let's say dual-encoding provided a good explanation of why concrete words are better recognized and remembered than abstract ones, that is because both a visual and verbal memory of concrete words are created. If stop words don't contribute to that visual memory, they aren't relevant in trying to quantify how much sentences is tied to a visual memory."
   ]
  },
  {
   "cell_type": "code",
   "execution_count": 34,
   "metadata": {},
   "outputs": [
    {
     "name": "stderr",
     "output_type": "stream",
     "text": [
      "[nltk_data] Downloading package stopwords to\n",
      "[nltk_data]     C:\\Users\\elija\\AppData\\Roaming\\nltk_data...\n",
      "[nltk_data]   Package stopwords is already up-to-date!\n"
     ]
    }
   ],
   "source": [
    "import nltk\n",
    "from nltk.corpus import stopwords\n",
    "nltk.download('stopwords');\n",
    "\n",
    "stopwords_mask = [word in stopwords.words('english') for word in passage_words]\n",
    "stopwords = sorted(np.array(passage_words)[stopwords_mask])       # Find all the passage words that are stop words"
   ]
  },
  {
   "cell_type": "markdown",
   "metadata": {},
   "source": [
    "**Concreteness Function:** \n",
    "* A function that assigns a concreteness to any sentence"
   ]
  },
  {
   "cell_type": "code",
   "execution_count": 35,
   "metadata": {},
   "outputs": [],
   "source": [
    "%%capture\n",
    "def concreteness(item_string: str, word_pool: dict, equivalence_dict: dict = {}):\n",
    "    \"\"\"Computes the average concreteness of words in the sentence\n",
    "\n",
    "    Args:\n",
    "        item_string (str): \n",
    "            A sentence to compute concreteness of\n",
    "        \n",
    "        word_pool (dict[str, int]):\n",
    "            Dictionary of (word, concreteness) pairs\n",
    "\n",
    "        equivalence_dict (dict[str, str]):\n",
    "            Dictionary mapping words to equivalent words in the word pool\n",
    "\n",
    "    Returns:\n",
    "        concreteness_score (int): \n",
    "            Average concreteness of words in the sentence\n",
    "\n",
    "        missing_words (list): \n",
    "            List of words not in word pool\n",
    "    \"\"\"\n",
    "\n",
    "    # (0) Clean up string -- change '%' -> 'percent', remove punctuation, lowercase letters\n",
    "    item_string = item_string.replace(\"%\",\" percent\")\n",
    "    item_string = item_string.translate(str.maketrans('', '', string.punctuation))\n",
    "    item_string = item_string.lower()\n",
    "\n",
    "    # (1) Compute concreteness of each word in string\n",
    "    concreteness_lst = []\n",
    "    missing_words = []\n",
    "\n",
    "    for word in item_string.split():\n",
    "\n",
    "        if word in equivalence_dict:\n",
    "            word = equivalence_dict[word]\n",
    "        \n",
    "        if word in word_pool: # and word not in stopwords: \n",
    "            concreteness_lst.append(word_pool[word])\n",
    "        else:\n",
    "            missing_words.append(word)\n",
    "\n",
    "    concreteness = sum(concreteness_lst) / len(concreteness_lst)        # watch out for division by zero!\n",
    "\n",
    "    return concreteness, missing_words\n"
   ]
  },
  {
   "cell_type": "markdown",
   "metadata": {},
   "source": [
    "**Scoring:**\n",
    "* Assign concreteness to each sentence in the texts"
   ]
  },
  {
   "cell_type": "code",
   "execution_count": 36,
   "metadata": {},
   "outputs": [],
   "source": [
    "%%capture\n",
    "# (1) Load in word pool and dictionary equivalent words\n",
    "word_pool_df = pd.read_excel(\"data\\Brysbaert_WRD_CNC.xlsx\")[[\"Word\", \"Conc.M\"]] \n",
    "word_pool = dict([(word, conc) for word, conc in zip(word_pool_df[\"Word\"], word_pool_df[\"Conc.M\"])])\n",
    "\n",
    "with open(\"data\\Brysbaert_WRD_CNC_equivalent_words.json\",\"r\") as dic:           \n",
    "    equivalence_dict = json.load(dic)\n",
    "    \n",
    "# (2) Assign a concreteness to each sentence and save results\n",
    "with pd.ExcelWriter(\"data/ListA_TextProperties.xlsx\", mode=\"a\", if_sheet_exists=\"replace\") as writer:\n",
    "    for pas_id in passages:\n",
    "        pas_df = df.query(f\"passage_id == '{pas_id}'\")\n",
    "        concreteness_column =  [concreteness(sentence, word_pool, equivalence_dict)[0] for sentence in pas_df.sentence]\n",
    "        pas_df[\"concreteness_Brysbaert\"] = concreteness_column\n",
    "        pas_df = pas_df[[\"sentence\", \"rec_prob\", \"concreteness_Brysbaert\"] + pas_df.columns[2:-1].to_list()]    \n",
    "        pas_df.round(2).to_excel(writer, sheet_name=pas_id, index=False)  "
   ]
  },
  {
   "cell_type": "markdown",
   "metadata": {},
   "source": [
    "**Sanity Check**\n",
    "* Do these concreteness scores align with intuition?\n",
    "\n",
    "| Input (List A) | Mean | 1 | 2 | 3 | 4 | 5 | 6 | 7 | 8 | 9 | 10 | 11 | 12 | 13 | 14 | 15 | 16 | 17 | 18 | 19 | 20 | \n",
    "| -              | - | - | - | - | - | - | - | - | - | -  | -  | -  | -  | -  | -  | -  | -  | -  | -  | -  |  - |\n",
    "| My prediction  | -  | 2.5 | 2.6 | 3.3 | 3 | 2.7 | 2.3 | 2.5 | 2.7 | 3 | 3.3  | 2.5 | 3  | 3  | 3.5  | 2.5  | 2.7  | 2.5  | 2  | 2 | 2.5  | \n",
    "| Computer Score | 2.7  | 2.5 | 2.9 | 3 | 2.8 | 3 | 2 | 2.4 | 2.2 | 3.2 | 3  | 2.3 | 3  | 3  | 3.2  | 2.6  | 2.6  | 2.5  | 2.3  | 2.1 | 2.5  |\n",
    "\n",
    "\n",
    "\n",
    "| Input (List B) | Mean | 1 | 2 | 3 | 4 | 5 | 6 | 7 | 8 | 9 | 10 | 11 | 12 | 13 | 14 | 15 | 16 | 17 | 18 | 19 | 20 | \n",
    "| -              | - | - | - | - | - | - | - | - | - | -  | -  | -  | -  | -  | -  | -  | -  | -  | -  | -  |  - |\n",
    "| My prediction  | -  | 2.5 | 3.2 | 3.5 | 3.5 | 3.2 | 2.8 | 3 | 2.8 | 3 | 3.2  | 2.7 | 3  | 3.5  | 3.2  | 3  | 2.9  | 2.5  | 3  | 3 | 3  | \n",
    "| Computer Score | 3  | 2.4 | 2.9 | 3.3 | 3.1 | 3.1 | 2.6 | 2.9 | 2.2 | 3.2 | 3  | 2.3 | 3  | 3  | 3.2  | 2.6  | 2.6  | 2.5  | 2.3  | 2.1 | 2.5  |\n",
    "\n"
   ]
  },
  {
   "cell_type": "markdown",
   "metadata": {},
   "source": [
    "## (4) Further Analysis and Comparison"
   ]
  },
  {
   "cell_type": "markdown",
   "metadata": {},
   "source": [
    "##### **(0) Return to Categorical Data**"
   ]
  },
  {
   "cell_type": "markdown",
   "metadata": {},
   "source": [
    "Let's group sentences together based on the concreteness rating they are closest to."
   ]
  },
  {
   "cell_type": "code",
   "execution_count": 62,
   "metadata": {},
   "outputs": [
    {
     "name": "stdout",
     "output_type": "stream",
     "text": [
      "0\n",
      "7\n",
      "13\n",
      "0\n",
      "0\n",
      "[0, 0.29714285714285715, 0.5384615384615384, 0, 0]\n"
     ]
    },
    {
     "data": {
      "image/png": "[encoded data removed]",
      "text/plain": [
       "<Figure size 640x480 with 1 Axes>"
      ]
     },
     "metadata": {},
     "output_type": "display_data"
    }
   ],
   "source": [
    "import pandas as pd\n",
    "import matplotlib.pyplot as plt\n",
    "df = pd.read_excel(\"data/ListA_TextProperties.xlsx\", sheet_name=\"A1\")\n",
    "\n",
    "cnc_ratings = [1,2,3,4,5]\n",
    "mean_recall = []\n",
    "for rating in cnc_ratings:\n",
    "    sentences_given_rating = df.query(f\"-.5 < concreteness_Brysbaert - {rating} <= .5 \")\n",
    "    print(len(sentences_given_rating))\n",
    "    \n",
    "    if len(sentences_given_rating) == 0:\n",
    "        mean_recall.append(0)\n",
    "    else: \n",
    "        mean_recall.append(sentences_given_rating.rec_prob.mean())\n",
    "\n",
    "plt.bar(cnc_ratings, mean_recall)\n",
    "plt.xlabel(\"Concreteness Rating\")\n",
    "plt.ylabel(\"Average Recall of Sentences with Rating\");\n",
    "plt.scatter(df.concreteness_Brysbaert, df.rec_prob)\n",
    "plt.vlines(x=2.5,ymin=0, ymax=1,linestyles=\"dashed\")\n",
    "print(mean_recall)"
   ]
  },
  {
   "cell_type": "markdown",
   "metadata": {},
   "source": [
    "##### **(1) Correlation between Measures**\n",
    "\n",
    "Let's compare the two concreteness scores visually, and see which aligns more with intuition as well."
   ]
  },
  {
   "cell_type": "code",
   "execution_count": 38,
   "metadata": {},
   "outputs": [
    {
     "name": "stdout",
     "output_type": "stream",
     "text": [
      "Correlation: 0.46\n"
     ]
    },
    {
     "data": {
      "image/png": "[encoded data removed]",
      "text/plain": [
       "<Figure size 640x480 with 1 Axes>"
      ]
     },
     "metadata": {},
     "output_type": "display_data"
    }
   ],
   "source": [
    "import pandas as pd\n",
    "import matplotlib.pyplot as plt\n",
    "\n",
    "df = pd.read_excel(\"data/ListA_TextProperties.xlsx\", sheet_name=\"A1\")\n",
    "plt.scatter(\n",
    "    x= df.concreteness_Brysbaert,\n",
    "    y= df.word_concreteness_cmx\n",
    ")\n",
    "plt.xlabel(\"Word Pool Concreteness\")\n",
    "plt.ylabel(\"Coh-Metrix Conceretness\")\n",
    "plt.title(\"Concreteness Score Comparisons\")\n",
    "mean_cnc_B = df.concreteness_Brysbaert.mean()\n",
    "mean_cnc_C = df.word_concreteness_cmx.mean()\n",
    "plt.vlines(x=mean_cnc_B, ymin=100, ymax = 700, colors=[\"r\"], linestyles=\"dashed\", label=\"Mean Brysbaert CNC\")\n",
    "plt.hlines(y=mean_cnc_C, xmin=1, xmax = 5, colors=[\"b\"], linestyles=\"dashed\", label=\"Mean Coh-Metrix CNC\")\n",
    "plt.legend()\n",
    "correlation = df[[\"concreteness_Brysbaert\", \"word_concreteness_cmx\"]].corr()[\"word_concreteness_cmx\"][\"concreteness_Brysbaert\"]\n",
    "print(\"Correlation: {:.2f}\".format(correlation))"
   ]
  },
  {
   "cell_type": "code",
   "execution_count": 39,
   "metadata": {},
   "outputs": [
    {
     "data": {
      "text/html": [
       "<div>\n",
       "<style scoped>\n",
       "    .dataframe tbody tr th:only-of-type {\n",
       "        vertical-align: middle;\n",
       "    }\n",
       "\n",
       "    .dataframe tbody tr th {\n",
       "        vertical-align: top;\n",
       "    }\n",
       "\n",
       "    .dataframe thead th {\n",
       "        text-align: right;\n",
       "    }\n",
       "</style>\n",
       "<table border=\"1\" class=\"dataframe\">\n",
       "  <thead>\n",
       "    <tr style=\"text-align: right;\">\n",
       "      <th></th>\n",
       "      <th>sentence</th>\n",
       "      <th>rec_prob</th>\n",
       "      <th>concreteness_Brysbaert</th>\n",
       "      <th>arousal_Glasgow</th>\n",
       "      <th>sentence_length</th>\n",
       "      <th>word_length</th>\n",
       "      <th>word_frequency_cmx</th>\n",
       "      <th>word_concreteness_cmx</th>\n",
       "      <th>grade_level</th>\n",
       "      <th>input</th>\n",
       "      <th>paragraph</th>\n",
       "      <th>passage_id</th>\n",
       "    </tr>\n",
       "  </thead>\n",
       "  <tbody>\n",
       "    <tr>\n",
       "      <th>0</th>\n",
       "      <td>Small and large abscesses may need to be treat...</td>\n",
       "      <td>0.84</td>\n",
       "      <td>2.51</td>\n",
       "      <td>4.50</td>\n",
       "      <td>10</td>\n",
       "      <td>1.50</td>\n",
       "      <td>2.14</td>\n",
       "      <td>446.33</td>\n",
       "      <td>6.01</td>\n",
       "      <td>1</td>\n",
       "      <td>1</td>\n",
       "      <td>A1</td>\n",
       "    </tr>\n",
       "    <tr>\n",
       "      <th>15</th>\n",
       "      <td>Take notes about the abscess and procedure on ...</td>\n",
       "      <td>0.66</td>\n",
       "      <td>2.60</td>\n",
       "      <td>4.12</td>\n",
       "      <td>9</td>\n",
       "      <td>1.44</td>\n",
       "      <td>2.31</td>\n",
       "      <td>465.00</td>\n",
       "      <td>4.96</td>\n",
       "      <td>16</td>\n",
       "      <td>4</td>\n",
       "      <td>A1</td>\n",
       "    </tr>\n",
       "    <tr>\n",
       "      <th>16</th>\n",
       "      <td>Describe the abscess prior to treatment.</td>\n",
       "      <td>0.34</td>\n",
       "      <td>2.50</td>\n",
       "      <td>3.86</td>\n",
       "      <td>6</td>\n",
       "      <td>1.67</td>\n",
       "      <td>1.76</td>\n",
       "      <td>440.50</td>\n",
       "      <td>6.42</td>\n",
       "      <td>17</td>\n",
       "      <td>4</td>\n",
       "      <td>A1</td>\n",
       "    </tr>\n",
       "    <tr>\n",
       "      <th>18</th>\n",
       "      <td>Describe how well the patient endured the proc...</td>\n",
       "      <td>0.37</td>\n",
       "      <td>2.13</td>\n",
       "      <td>4.26</td>\n",
       "      <td>8</td>\n",
       "      <td>1.62</td>\n",
       "      <td>1.99</td>\n",
       "      <td>477.00</td>\n",
       "      <td>6.70</td>\n",
       "      <td>19</td>\n",
       "      <td>4</td>\n",
       "      <td>A1</td>\n",
       "    </tr>\n",
       "  </tbody>\n",
       "</table>\n",
       "</div>"
      ],
      "text/plain": [
       "                                             sentence  rec_prob  \\\n",
       "0   Small and large abscesses may need to be treat...      0.84   \n",
       "15  Take notes about the abscess and procedure on ...      0.66   \n",
       "16          Describe the abscess prior to treatment.       0.34   \n",
       "18  Describe how well the patient endured the proc...      0.37   \n",
       "\n",
       "    concreteness_Brysbaert  arousal_Glasgow  sentence_length  word_length  \\\n",
       "0                     2.51             4.50               10         1.50   \n",
       "15                    2.60             4.12                9         1.44   \n",
       "16                    2.50             3.86                6         1.67   \n",
       "18                    2.13             4.26                8         1.62   \n",
       "\n",
       "    word_frequency_cmx  word_concreteness_cmx  grade_level  input  paragraph  \\\n",
       "0                 2.14                 446.33         6.01      1          1   \n",
       "15                2.31                 465.00         4.96     16          4   \n",
       "16                1.76                 440.50         6.42     17          4   \n",
       "18                1.99                 477.00         6.70     19          4   \n",
       "\n",
       "   passage_id  \n",
       "0          A1  \n",
       "15         A1  \n",
       "16         A1  \n",
       "18         A1  "
      ]
     },
     "execution_count": 39,
     "metadata": {},
     "output_type": "execute_result"
    }
   ],
   "source": [
    "df.query(f\"concreteness_Brysbaert > {mean_cnc_B} and word_concreteness_cmx < {mean_cnc_C}\")\n",
    "df.query(f\"concreteness_Brysbaert < {mean_cnc_B} and word_concreteness_cmx > {mean_cnc_C}\")"
   ]
  },
  {
   "cell_type": "markdown",
   "metadata": {},
   "source": [
    "##### **(2) Distribution of Concreteness Scores**\n",
    "\n",
    "Visualize how the concreteness scores are distributed (are there two groups?)\n"
   ]
  },
  {
   "cell_type": "code",
   "execution_count": 40,
   "metadata": {},
   "outputs": [
    {
     "data": {
      "image/png": "[encoded data removed]",
      "text/plain": [
       "<Figure size 600x300 with 1 Axes>"
      ]
     },
     "metadata": {},
     "output_type": "display_data"
    }
   ],
   "source": [
    "import matplotlib.pyplot as plt\n",
    "\n",
    "passages = [\"A1\", \"A2\", \"A3\", \"A4\", \"A5\"]  \n",
    "df = pd.DataFrame()\n",
    "for pas_id in passages:\n",
    "    pas_df = pd.read_excel(\"data\\ListA_TextProperties.xlsx\", sheet_name=pas_id)\n",
    "    df = pd.concat([df, pas_df], ignore_index= True)\n",
    "\n",
    "g = df[\"concreteness_Brysbaert\"].hist(bins=10, figsize=(6,3))\n",
    "plt.xlabel(\"Concretess (Bysbaert)\")\n",
    "plt.ylabel(\"Number of Sentences\")\n",
    "plt.title(f\"Distribution of CNC Scores\");"
   ]
  },
  {
   "cell_type": "markdown",
   "metadata": {},
   "source": [
    "##### **(3) Memorability vs Concreteness**"
   ]
  },
  {
   "cell_type": "code",
   "execution_count": 41,
   "metadata": {},
   "outputs": [
    {
     "name": "stdout",
     "output_type": "stream",
     "text": [
      "Correlation: 0.19\n"
     ]
    },
    {
     "data": {
      "image/png": "[encoded data removed]",
      "text/plain": [
       "<Figure size 640x480 with 1 Axes>"
      ]
     },
     "metadata": {},
     "output_type": "display_data"
    }
   ],
   "source": [
    "plt.scatter(df.concreteness_Brysbaert, df.rec_prob)\n",
    "plt.xlabel(\"Average Concreteness of Words in a Sentence\")\n",
    "plt.ylabel(\"Probability of Recall\")\n",
    "plt.title(\"Concreteness vs Memorability\");\n",
    "correlation = df[[\"concreteness_Brysbaert\", \"rec_prob\"]].corr()[\"rec_prob\"][\"concreteness_Brysbaert\"]\n",
    "print(\"Correlation: {:.2f}\".format(correlation))\n",
    "\n",
    "\n"
   ]
  },
  {
   "cell_type": "code",
   "execution_count": 42,
   "metadata": {},
   "outputs": [
    {
     "data": {
      "text/html": [
       "<div>\n",
       "<style scoped>\n",
       "    .dataframe tbody tr th:only-of-type {\n",
       "        vertical-align: middle;\n",
       "    }\n",
       "\n",
       "    .dataframe tbody tr th {\n",
       "        vertical-align: top;\n",
       "    }\n",
       "\n",
       "    .dataframe thead th {\n",
       "        text-align: right;\n",
       "    }\n",
       "</style>\n",
       "<table border=\"1\" class=\"dataframe\">\n",
       "  <thead>\n",
       "    <tr style=\"text-align: right;\">\n",
       "      <th></th>\n",
       "      <th>sentence</th>\n",
       "      <th>rec_prob</th>\n",
       "      <th>concreteness_Brysbaert</th>\n",
       "      <th>arousal_Glasgow</th>\n",
       "      <th>sentence_length</th>\n",
       "      <th>word_length</th>\n",
       "      <th>word_frequency_cmx</th>\n",
       "      <th>word_concreteness_cmx</th>\n",
       "      <th>grade_level</th>\n",
       "      <th>input</th>\n",
       "      <th>paragraph</th>\n",
       "      <th>passage_id</th>\n",
       "    </tr>\n",
       "  </thead>\n",
       "  <tbody>\n",
       "    <tr>\n",
       "      <th>0</th>\n",
       "      <td>Small and large abscesses may need to be treat...</td>\n",
       "      <td>0.84</td>\n",
       "      <td>2.51</td>\n",
       "      <td>4.50</td>\n",
       "      <td>10</td>\n",
       "      <td>1.50</td>\n",
       "      <td>2.14</td>\n",
       "      <td>446.33</td>\n",
       "      <td>6.01</td>\n",
       "      <td>1</td>\n",
       "      <td>1</td>\n",
       "      <td>A1</td>\n",
       "    </tr>\n",
       "    <tr>\n",
       "      <th>1</th>\n",
       "      <td>A small abscess is less than five millimeters ...</td>\n",
       "      <td>0.74</td>\n",
       "      <td>2.95</td>\n",
       "      <td>3.53</td>\n",
       "      <td>9</td>\n",
       "      <td>1.44</td>\n",
       "      <td>2.95</td>\n",
       "      <td>378.20</td>\n",
       "      <td>4.96</td>\n",
       "      <td>2</td>\n",
       "      <td>1</td>\n",
       "      <td>A1</td>\n",
       "    </tr>\n",
       "    <tr>\n",
       "      <th>3</th>\n",
       "      <td>Larger abscesses will need to be cut open to s...</td>\n",
       "      <td>0.68</td>\n",
       "      <td>2.81</td>\n",
       "      <td>4.63</td>\n",
       "      <td>11</td>\n",
       "      <td>1.36</td>\n",
       "      <td>2.07</td>\n",
       "      <td>435.33</td>\n",
       "      <td>4.80</td>\n",
       "      <td>4</td>\n",
       "      <td>1</td>\n",
       "      <td>A1</td>\n",
       "    </tr>\n",
       "    <tr>\n",
       "      <th>15</th>\n",
       "      <td>Take notes about the abscess and procedure on ...</td>\n",
       "      <td>0.66</td>\n",
       "      <td>2.60</td>\n",
       "      <td>4.12</td>\n",
       "      <td>9</td>\n",
       "      <td>1.44</td>\n",
       "      <td>2.31</td>\n",
       "      <td>465.00</td>\n",
       "      <td>4.96</td>\n",
       "      <td>16</td>\n",
       "      <td>4</td>\n",
       "      <td>A1</td>\n",
       "    </tr>\n",
       "    <tr>\n",
       "      <th>20</th>\n",
       "      <td>To begin, find out cause and severity of casua...</td>\n",
       "      <td>0.74</td>\n",
       "      <td>2.38</td>\n",
       "      <td>4.40</td>\n",
       "      <td>10</td>\n",
       "      <td>1.60</td>\n",
       "      <td>1.92</td>\n",
       "      <td>376.00</td>\n",
       "      <td>7.19</td>\n",
       "      <td>1</td>\n",
       "      <td>1</td>\n",
       "      <td>A2</td>\n",
       "    </tr>\n",
       "    <tr>\n",
       "      <th>25</th>\n",
       "      <td>Now you must prepare to stop the burn process.</td>\n",
       "      <td>0.62</td>\n",
       "      <td>2.64</td>\n",
       "      <td>4.18</td>\n",
       "      <td>9</td>\n",
       "      <td>1.22</td>\n",
       "      <td>2.37</td>\n",
       "      <td>369.00</td>\n",
       "      <td>2.34</td>\n",
       "      <td>6</td>\n",
       "      <td>2</td>\n",
       "      <td>A2</td>\n",
       "    </tr>\n",
       "    <tr>\n",
       "      <th>27</th>\n",
       "      <td>For electrical burns, turn off the electrical ...</td>\n",
       "      <td>0.69</td>\n",
       "      <td>2.92</td>\n",
       "      <td>4.99</td>\n",
       "      <td>8</td>\n",
       "      <td>1.88</td>\n",
       "      <td>1.54</td>\n",
       "      <td>424.50</td>\n",
       "      <td>9.65</td>\n",
       "      <td>8</td>\n",
       "      <td>2</td>\n",
       "      <td>A2</td>\n",
       "    </tr>\n",
       "    <tr>\n",
       "      <th>36</th>\n",
       "      <td>The percentage is calculated with the rule of ...</td>\n",
       "      <td>0.69</td>\n",
       "      <td>2.25</td>\n",
       "      <td>3.41</td>\n",
       "      <td>9</td>\n",
       "      <td>1.56</td>\n",
       "      <td>1.63</td>\n",
       "      <td>369.00</td>\n",
       "      <td>6.28</td>\n",
       "      <td>17</td>\n",
       "      <td>4</td>\n",
       "      <td>A2</td>\n",
       "    </tr>\n",
       "    <tr>\n",
       "      <th>41</th>\n",
       "      <td>First, pull the eyelid away from the eyeball.</td>\n",
       "      <td>0.82</td>\n",
       "      <td>2.95</td>\n",
       "      <td>4.14</td>\n",
       "      <td>8</td>\n",
       "      <td>1.38</td>\n",
       "      <td>1.84</td>\n",
       "      <td>309.33</td>\n",
       "      <td>3.76</td>\n",
       "      <td>2</td>\n",
       "      <td>1</td>\n",
       "      <td>A3</td>\n",
       "    </tr>\n",
       "    <tr>\n",
       "      <th>42</th>\n",
       "      <td>Put a cotton swab along the back of the lid.</td>\n",
       "      <td>0.77</td>\n",
       "      <td>2.92</td>\n",
       "      <td>3.05</td>\n",
       "      <td>10</td>\n",
       "      <td>1.20</td>\n",
       "      <td>1.97</td>\n",
       "      <td>478.33</td>\n",
       "      <td>2.47</td>\n",
       "      <td>3</td>\n",
       "      <td>1</td>\n",
       "      <td>A3</td>\n",
       "    </tr>\n",
       "    <tr>\n",
       "      <th>45</th>\n",
       "      <td>Here is the second method for finding foreign ...</td>\n",
       "      <td>0.72</td>\n",
       "      <td>2.63</td>\n",
       "      <td>4.28</td>\n",
       "      <td>9</td>\n",
       "      <td>1.56</td>\n",
       "      <td>2.66</td>\n",
       "      <td>346.00</td>\n",
       "      <td>6.28</td>\n",
       "      <td>6</td>\n",
       "      <td>2</td>\n",
       "      <td>A3</td>\n",
       "    </tr>\n",
       "    <tr>\n",
       "      <th>47</th>\n",
       "      <td>Have the patient look up, down, and to both si...</td>\n",
       "      <td>0.79</td>\n",
       "      <td>2.63</td>\n",
       "      <td>4.01</td>\n",
       "      <td>10</td>\n",
       "      <td>1.10</td>\n",
       "      <td>2.65</td>\n",
       "      <td>399.00</td>\n",
       "      <td>1.29</td>\n",
       "      <td>8</td>\n",
       "      <td>2</td>\n",
       "      <td>A3</td>\n",
       "    </tr>\n",
       "    <tr>\n",
       "      <th>48</th>\n",
       "      <td>Check for objects in the eye as they look arou...</td>\n",
       "      <td>0.67</td>\n",
       "      <td>2.79</td>\n",
       "      <td>3.73</td>\n",
       "      <td>10</td>\n",
       "      <td>1.20</td>\n",
       "      <td>2.41</td>\n",
       "      <td>499.00</td>\n",
       "      <td>2.47</td>\n",
       "      <td>9</td>\n",
       "      <td>2</td>\n",
       "      <td>A3</td>\n",
       "    </tr>\n",
       "    <tr>\n",
       "      <th>52</th>\n",
       "      <td>For small foreign bodies, flush it out of the ...</td>\n",
       "      <td>0.67</td>\n",
       "      <td>2.94</td>\n",
       "      <td>4.39</td>\n",
       "      <td>10</td>\n",
       "      <td>1.20</td>\n",
       "      <td>2.24</td>\n",
       "      <td>512.75</td>\n",
       "      <td>2.47</td>\n",
       "      <td>13</td>\n",
       "      <td>3</td>\n",
       "      <td>A3</td>\n",
       "    </tr>\n",
       "    <tr>\n",
       "      <th>67</th>\n",
       "      <td>One symptom of this injury is a deformed head.</td>\n",
       "      <td>0.70</td>\n",
       "      <td>2.93</td>\n",
       "      <td>4.30</td>\n",
       "      <td>9</td>\n",
       "      <td>1.44</td>\n",
       "      <td>2.10</td>\n",
       "      <td>361.00</td>\n",
       "      <td>4.96</td>\n",
       "      <td>8</td>\n",
       "      <td>2</td>\n",
       "      <td>A4</td>\n",
       "    </tr>\n",
       "    <tr>\n",
       "      <th>70</th>\n",
       "      <td>The other type of wound is an open head injury.</td>\n",
       "      <td>0.86</td>\n",
       "      <td>2.77</td>\n",
       "      <td>4.50</td>\n",
       "      <td>10</td>\n",
       "      <td>1.40</td>\n",
       "      <td>2.44</td>\n",
       "      <td>385.83</td>\n",
       "      <td>4.83</td>\n",
       "      <td>11</td>\n",
       "      <td>3</td>\n",
       "      <td>A4</td>\n",
       "    </tr>\n",
       "    <tr>\n",
       "      <th>75</th>\n",
       "      <td>Assess the patient's level of consciousness by...</td>\n",
       "      <td>0.65</td>\n",
       "      <td>2.10</td>\n",
       "      <td>3.12</td>\n",
       "      <td>11</td>\n",
       "      <td>1.82</td>\n",
       "      <td>1.71</td>\n",
       "      <td>405.00</td>\n",
       "      <td>10.15</td>\n",
       "      <td>16</td>\n",
       "      <td>4</td>\n",
       "      <td>A4</td>\n",
       "    </tr>\n",
       "    <tr>\n",
       "      <th>83</th>\n",
       "      <td>For abrasions, the size of wound must be consi...</td>\n",
       "      <td>0.78</td>\n",
       "      <td>2.51</td>\n",
       "      <td>3.72</td>\n",
       "      <td>9</td>\n",
       "      <td>1.44</td>\n",
       "      <td>1.93</td>\n",
       "      <td>457.50</td>\n",
       "      <td>4.96</td>\n",
       "      <td>4</td>\n",
       "      <td>1</td>\n",
       "      <td>A5</td>\n",
       "    </tr>\n",
       "    <tr>\n",
       "      <th>85</th>\n",
       "      <td>The second type of soft tissue wound is a cont...</td>\n",
       "      <td>0.78</td>\n",
       "      <td>2.98</td>\n",
       "      <td>4.46</td>\n",
       "      <td>10</td>\n",
       "      <td>1.40</td>\n",
       "      <td>2.11</td>\n",
       "      <td>384.00</td>\n",
       "      <td>4.83</td>\n",
       "      <td>6</td>\n",
       "      <td>2</td>\n",
       "      <td>A5</td>\n",
       "    </tr>\n",
       "  </tbody>\n",
       "</table>\n",
       "</div>"
      ],
      "text/plain": [
       "                                             sentence  rec_prob  \\\n",
       "0   Small and large abscesses may need to be treat...      0.84   \n",
       "1   A small abscess is less than five millimeters ...      0.74   \n",
       "3   Larger abscesses will need to be cut open to s...      0.68   \n",
       "15  Take notes about the abscess and procedure on ...      0.66   \n",
       "20  To begin, find out cause and severity of casua...      0.74   \n",
       "25     Now you must prepare to stop the burn process.      0.62   \n",
       "27  For electrical burns, turn off the electrical ...      0.69   \n",
       "36  The percentage is calculated with the rule of ...      0.69   \n",
       "41     First, pull the eyelid away from the eyeball.       0.82   \n",
       "42      Put a cotton swab along the back of the lid.       0.77   \n",
       "45  Here is the second method for finding foreign ...      0.72   \n",
       "47  Have the patient look up, down, and to both si...      0.79   \n",
       "48  Check for objects in the eye as they look arou...      0.67   \n",
       "52  For small foreign bodies, flush it out of the ...      0.67   \n",
       "67    One symptom of this injury is a deformed head.       0.70   \n",
       "70   The other type of wound is an open head injury.       0.86   \n",
       "75  Assess the patient's level of consciousness by...      0.65   \n",
       "83  For abrasions, the size of wound must be consi...      0.78   \n",
       "85  The second type of soft tissue wound is a cont...      0.78   \n",
       "\n",
       "    concreteness_Brysbaert  arousal_Glasgow  sentence_length  word_length  \\\n",
       "0                     2.51             4.50               10         1.50   \n",
       "1                     2.95             3.53                9         1.44   \n",
       "3                     2.81             4.63               11         1.36   \n",
       "15                    2.60             4.12                9         1.44   \n",
       "20                    2.38             4.40               10         1.60   \n",
       "25                    2.64             4.18                9         1.22   \n",
       "27                    2.92             4.99                8         1.88   \n",
       "36                    2.25             3.41                9         1.56   \n",
       "41                    2.95             4.14                8         1.38   \n",
       "42                    2.92             3.05               10         1.20   \n",
       "45                    2.63             4.28                9         1.56   \n",
       "47                    2.63             4.01               10         1.10   \n",
       "48                    2.79             3.73               10         1.20   \n",
       "52                    2.94             4.39               10         1.20   \n",
       "67                    2.93             4.30                9         1.44   \n",
       "70                    2.77             4.50               10         1.40   \n",
       "75                    2.10             3.12               11         1.82   \n",
       "83                    2.51             3.72                9         1.44   \n",
       "85                    2.98             4.46               10         1.40   \n",
       "\n",
       "    word_frequency_cmx  word_concreteness_cmx  grade_level  input  paragraph  \\\n",
       "0                 2.14                 446.33         6.01      1          1   \n",
       "1                 2.95                 378.20         4.96      2          1   \n",
       "3                 2.07                 435.33         4.80      4          1   \n",
       "15                2.31                 465.00         4.96     16          4   \n",
       "20                1.92                 376.00         7.19      1          1   \n",
       "25                2.37                 369.00         2.34      6          2   \n",
       "27                1.54                 424.50         9.65      8          2   \n",
       "36                1.63                 369.00         6.28     17          4   \n",
       "41                1.84                 309.33         3.76      2          1   \n",
       "42                1.97                 478.33         2.47      3          1   \n",
       "45                2.66                 346.00         6.28      6          2   \n",
       "47                2.65                 399.00         1.29      8          2   \n",
       "48                2.41                 499.00         2.47      9          2   \n",
       "52                2.24                 512.75         2.47     13          3   \n",
       "67                2.10                 361.00         4.96      8          2   \n",
       "70                2.44                 385.83         4.83     11          3   \n",
       "75                1.71                 405.00        10.15     16          4   \n",
       "83                1.93                 457.50         4.96      4          1   \n",
       "85                2.11                 384.00         4.83      6          2   \n",
       "\n",
       "   passage_id  \n",
       "0          A1  \n",
       "1          A1  \n",
       "3          A1  \n",
       "15         A1  \n",
       "20         A2  \n",
       "25         A2  \n",
       "27         A2  \n",
       "36         A2  \n",
       "41         A3  \n",
       "42         A3  \n",
       "45         A3  \n",
       "47         A3  \n",
       "48         A3  \n",
       "52         A3  \n",
       "67         A4  \n",
       "70         A4  \n",
       "75         A4  \n",
       "83         A5  \n",
       "85         A5  "
      ]
     },
     "execution_count": 42,
     "metadata": {},
     "output_type": "execute_result"
    }
   ],
   "source": [
    "df.query(\"concreteness_Brysbaert < 3 and rec_prob > .6\")"
   ]
  },
  {
   "cell_type": "code",
   "execution_count": 43,
   "metadata": {},
   "outputs": [
    {
     "data": {
      "text/plain": [
       "count    100.000000\n",
       "mean       2.793600\n",
       "std        0.320346\n",
       "min        2.040000\n",
       "25%        2.565000\n",
       "50%        2.790000\n",
       "75%        3.007500\n",
       "max        3.490000\n",
       "Name: concreteness_Brysbaert, dtype: float64"
      ]
     },
     "execution_count": 43,
     "metadata": {},
     "output_type": "execute_result"
    }
   ],
   "source": [
    "df[\"concreteness_Brysbaert\"].describe()"
   ]
  },
  {
   "cell_type": "code",
   "execution_count": 44,
   "metadata": {},
   "outputs": [
    {
     "name": "stdout",
     "output_type": "stream",
     "text": [
      "Average Recall of a Sentence 0.4886\n",
      "Average Recall of Sentences (> 50 percentile): 0.5155000000000001\n",
      "Average Recall of Sentences (< 50 percentile): 0.44825\n"
     ]
    }
   ],
   "source": [
    "diff = 0\n",
    "print(f\"Average Recall of a Sentence {df.rec_prob.mean()}\")\n",
    "print(\"Average Recall of Sentences (> 50 percentile): {}\".format(df.query(f\"concreteness_Brysbaert > {mean_cnc_B} + {diff}\").rec_prob.mean()))\n",
    "print(\"Average Recall of Sentences (< 50 percentile): {}\".format(df.query(f\"concreteness_Brysbaert < {mean_cnc_B} - {diff}\").rec_prob.mean()))\n"
   ]
  },
  {
   "cell_type": "markdown",
   "metadata": {},
   "source": [
    "Notice the almost 10% gap between \"concrete\" and \"non-concrete\" sentences! This suggests that knowing how concrete a sentence is gives information about how likely a participant is to remember it.\n",
    "\n",
    "| Including Stop Words |  Mean Recall (concrete)  |  Mean Recall (Not Concrete) | Difference | Follows  Trend | \n",
    "| - | - | - | - | - | \n",
    "| Yes | 52% | 44% | 8% | Yes (except at end) |\n",
    "| No | 52% | 44% | 8% | Yes | \n",
    "\n",
    "* Note: For coh-metrix it seems like there is no difference in recall between concrete and non-concrete sentences."
   ]
  }
 ],
 "metadata": {
  "kernelspec": {
   "display_name": ".venv",
   "language": "python",
   "name": "python3"
  },
  "language_info": {
   "codemirror_mode": {
    "name": "ipython",
    "version": 3
   },
   "file_extension": ".py",
   "mimetype": "text/x-python",
   "name": "python",
   "nbconvert_exporter": "python",
   "pygments_lexer": "ipython3",
   "version": "3.9.13"
  },
  "orig_nbformat": 4
 },
 "nbformat": 4,
 "nbformat_minor": 2
}
