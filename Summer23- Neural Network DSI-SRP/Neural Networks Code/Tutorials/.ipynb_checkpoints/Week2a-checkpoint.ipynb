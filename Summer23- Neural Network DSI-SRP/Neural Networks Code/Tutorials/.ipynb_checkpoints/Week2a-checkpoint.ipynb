{
 "cells": [
  {
   "cell_type": "markdown",
   "id": "c6c34898",
   "metadata": {
    "tags": []
   },
   "source": [
    "# Jupyter Notebooks\n",
    "- two main types of cells - Markdown and Code\n",
    "- click to highlight a cell\n",
    "- double-click to edit a formatted Markdown cell\n",
    "- click the \"Run\" button (arrow) above to execute highlighted cell\n",
    "- or do Shift-Return (Mac) or Shift-Enter (PC)\n",
    "- to run all cells in notebook: Cell -> Run All (jupyter notebook) or Run -> Run All Cells (jupyter lab)\n",
    "- reset kernel and clear outputs: Kernel -> Restart & Clear Output (notebook) or Kernel -> Restart Kernel and Clear\n",
    "\n",
    "You can change a code cell (default) to Markdown (text) cell in the pull-down menu above.\n",
    "\n",
    "See also <b>JupyterNotebooks.ipynb</b> on Brightspace for various ways to format markdown cells (format commands and \"magic\" commands).\n",
    "\n",
    "Before finalizing any Jupyter notebook and turning it in for homework, please make sure you reset the kernel to make sure your code runs completely from start to finish (in the order of the cells in the notebook).\n",
    "\n",
    "You should turn in your Jupyter notebook after everything has been run (in case some simulations take a long time)."
   ]
  },
  {
   "cell_type": "code",
   "execution_count": null,
   "id": "a25e20d7",
   "metadata": {},
   "outputs": [],
   "source": [
    "x = 1 \n",
    "print(x)"
   ]
  },
  {
   "cell_type": "code",
   "execution_count": null,
   "id": "fd4ed970",
   "metadata": {},
   "outputs": [],
   "source": [
    "# this is a code cell\n",
    "#\n",
    "# comments in Python are prefixed by '#'\n",
    "\n",
    "x = 1\n",
    "print(\"x = \", x)"
   ]
  },
  {
   "cell_type": "markdown",
   "id": "f0925b03",
   "metadata": {
    "tags": []
   },
   "source": [
    "### calculations and plotting can be done within a Jupyter notebook"
   ]
  },
  {
   "cell_type": "code",
   "execution_count": null,
   "id": "a9f20616",
   "metadata": {},
   "outputs": [],
   "source": [
    "import numpy as np\n",
    "import matplotlib.pyplot as plt\n",
    "import math\n",
    "\n",
    "m = 0.0\n",
    "s = 1.0\n",
    "x = np.arange(-4.0, 4.0, .01)\n",
    "p = (1/math.sqrt(2*math.pi*(s**2))) * np.exp(-((x-m)**2)/(2*(s**2)))\n",
    "plt.plot(x, p)\n",
    "plt.xlabel(\"x\")\n",
    "plt.ylabel(\"p(x)\")\n",
    "plt.title(\"Normal Distribution\")\n",
    "plt.show()"
   ]
  },
  {
   "cell_type": "markdown",
   "id": "48fef00b",
   "metadata": {},
   "source": [
    "### calculations are done in the order in which the cells are executed\n",
    "\n",
    "variables and functions are available across all the cells in the notebook"
   ]
  },
  {
   "cell_type": "code",
   "execution_count": null,
   "id": "c0525e9e",
   "metadata": {},
   "outputs": [],
   "source": [
    "# run this cell\n",
    "\n",
    "a = 1"
   ]
  },
  {
   "cell_type": "code",
   "execution_count": null,
   "id": "50d9d007",
   "metadata": {},
   "outputs": [],
   "source": [
    "# now print the value\n",
    "\n",
    "print(a)"
   ]
  },
  {
   "cell_type": "code",
   "execution_count": null,
   "id": "dfbe2d0e",
   "metadata": {},
   "outputs": [],
   "source": [
    "# now set a to another value and rerun the above cell\n",
    "\n",
    "a = 99"
   ]
  },
  {
   "cell_type": "markdown",
   "id": "6df805cf",
   "metadata": {},
   "source": [
    "you need to reset the kernel and rerun your code to make sure it runs correctly start to finish"
   ]
  },
  {
   "cell_type": "markdown",
   "id": "7f35d9ed",
   "metadata": {},
   "source": [
    "<hr>\n",
    "\n",
    "# Variables and Types\n",
    "\n",
    "See also <b>VariablesAndTypes.ipynb</b> on Brightspace for more examples.\n",
    "\n",
    "Note that there is no semicolon (;) to end a statement (like in Matlab or C)"
   ]
  },
  {
   "cell_type": "markdown",
   "id": "ba541a22",
   "metadata": {},
   "source": [
    "### scalar variables"
   ]
  },
  {
   "cell_type": "code",
   "execution_count": null,
   "id": "36aa66f7",
   "metadata": {},
   "outputs": [],
   "source": [
    "# integers\n",
    "x1 = 1\n",
    "\n",
    "# floats\n",
    "x2 = 1.3\n",
    "\n",
    "# note decimal point\n",
    "x3 = 2.\n",
    "\n",
    "# strings\n",
    "y_text = \"text\"\n",
    "\n",
    "# booleans\n",
    "Zvar = True"
   ]
  },
  {
   "cell_type": "code",
   "execution_count": null,
   "id": "b3a0c259",
   "metadata": {},
   "outputs": [],
   "source": [
    "print(\"x1     \", type(x1))\n",
    "print(\"x2     \", type(x2))\n",
    "print(\"x3     \", type(x3))\n",
    "print(\"y_text \", type(y_text))\n",
    "print(\"Zvar   \", type(Zvar))"
   ]
  },
  {
   "cell_type": "markdown",
   "id": "686713c3",
   "metadata": {
    "tags": []
   },
   "source": [
    "### Python is dynamically typed (on the fly)"
   ]
  },
  {
   "cell_type": "code",
   "execution_count": null,
   "id": "8d76b12b",
   "metadata": {},
   "outputs": [],
   "source": [
    "a = 1\n",
    "print(type(a))\n",
    "a = 4.5\n",
    "print(type(a))\n",
    "a = \"sample text\"\n",
    "print(type(a))\n",
    "a = False\n",
    "print(type(a))"
   ]
  },
  {
   "cell_type": "markdown",
   "id": "4b11f7f3",
   "metadata": {},
   "source": [
    "### everything in Python is an object\n",
    "\n",
    "- objects have attributes (values) and methods (functions) \"within\" them\n",
    "- objects can be built from other objects (inheritance)\n",
    "- we will use objects all the time in Python\n",
    "- we will not be building new objects (classes) from scratch"
   ]
  },
  {
   "cell_type": "markdown",
   "id": "92e2b804",
   "metadata": {},
   "source": [
    "dir() lists all of the attributes and methods associated with an object"
   ]
  },
  {
   "cell_type": "code",
   "execution_count": null,
   "id": "c760ac23",
   "metadata": {},
   "outputs": [],
   "source": [
    "x = -13.5\n",
    "print(dir(x))"
   ]
  },
  {
   "cell_type": "markdown",
   "id": "850ebad4",
   "metadata": {},
   "source": [
    "sometimes you pass a variable (object) to a function"
   ]
  },
  {
   "cell_type": "code",
   "execution_count": null,
   "id": "242ac8aa",
   "metadata": {},
   "outputs": [],
   "source": [
    "print(abs(x))"
   ]
  },
  {
   "cell_type": "markdown",
   "id": "5000d543",
   "metadata": {},
   "source": [
    "other times you call a method that is part of the object"
   ]
  },
  {
   "cell_type": "code",
   "execution_count": null,
   "id": "c5320ffa",
   "metadata": {},
   "outputs": [],
   "source": [
    "print(x.__abs__())"
   ]
  },
  {
   "cell_type": "markdown",
   "id": "35411c7e",
   "metadata": {},
   "source": [
    "### mathematical operations"
   ]
  },
  {
   "cell_type": "markdown",
   "id": "54e3a560",
   "metadata": {},
   "source": [
    "addition, subtraction, multiplication, division, power"
   ]
  },
  {
   "cell_type": "code",
   "execution_count": null,
   "id": "5e616e7a",
   "metadata": {},
   "outputs": [],
   "source": [
    "print(\"2+3  = \", 2+3)\n",
    "print(\"2-3  = \", 2-3)\n",
    "print(\"2*3  = \", 2*3)\n",
    "print(\"2/3  = \", 2/3)\n",
    "print(\"2**3 = \", 2**3)"
   ]
  },
  {
   "cell_type": "markdown",
   "id": "0596ac5c",
   "metadata": {},
   "source": [
    "// floor division (return integer part)\n",
    "\n",
    "% modulus (return remainder)"
   ]
  },
  {
   "cell_type": "code",
   "execution_count": null,
   "id": "30c6a794",
   "metadata": {},
   "outputs": [],
   "source": [
    "print(\"2//3 = \", 2//3)\n",
    "print(\"2%3  = \", 2%3)"
   ]
  },
  {
   "cell_type": "markdown",
   "id": "5e420bd1",
   "metadata": {},
   "source": [
    "### like any programming language, order of operations matter"
   ]
  },
  {
   "cell_type": "code",
   "execution_count": null,
   "id": "f6c05dac",
   "metadata": {},
   "outputs": [],
   "source": [
    "# what values will these generate?\n",
    "\n",
    "print(\"2 ** 2+1  = \", 2 ** 2+1)\n",
    "print(\"2+3 ** 2  = \", 2+3 ** 2)\n",
    "print(\"2 * 3**2  = \", 2 * 3**2)\n",
    "print(\"4+2 / 1+2 = \", 4+2 / 1+2)\n",
    "print(\"-2 ** 2   = \", -2 ** 2)"
   ]
  },
  {
   "cell_type": "markdown",
   "id": "8b3a4ec8",
   "metadata": {},
   "source": [
    "use parentheses to remove ambiguity and avoid errors (even if they are technically unnecessary)"
   ]
  },
  {
   "cell_type": "code",
   "execution_count": null,
   "id": "5f5ec294",
   "metadata": {},
   "outputs": [],
   "source": [
    "print(\"2 ** (2+1)    =\", 2 ** (2+1))\n",
    "print(\"(2+3) ** 2)   =\", (2+3) ** 2)\n",
    "print(\"2 * (3**2)    = \", 2 * (3**2))\n",
    "print(\"(4+2) / (1+2) = \", (4+2) / (1+2))\n",
    "print(\"(-2) ** 2)    =\", (-2) ** 2)"
   ]
  },
  {
   "cell_type": "code",
   "execution_count": null,
   "id": "b46d4b7b",
   "metadata": {},
   "outputs": [],
   "source": [
    "print(\"(2 ** 2)+1  =\", (2 ** 2)+1)\n",
    "print(\"2+(3 ** 2)  =\", 2+(3 ** 2))\n",
    "print(\"2 * (3**2)  = \", 2 * (3**2))\n",
    "print(\"4+(2 / 1)+2 = \", 4+(2 / 1)+2)\n",
    "print(\"-(2 ** 2)   =\", -(2 ** 2))"
   ]
  },
  {
   "cell_type": "markdown",
   "id": "3a0d4dd4",
   "metadata": {},
   "source": [
    "### assignment (=) vs. equality (==)"
   ]
  },
  {
   "cell_type": "code",
   "execution_count": null,
   "id": "01980834",
   "metadata": {},
   "outputs": [],
   "source": [
    "# assignment\n",
    "\n",
    "a = 2\n",
    "print(a)"
   ]
  },
  {
   "cell_type": "code",
   "execution_count": null,
   "id": "47b8261c",
   "metadata": {},
   "outputs": [],
   "source": [
    "a == 2"
   ]
  },
  {
   "cell_type": "code",
   "execution_count": null,
   "id": "2826932d",
   "metadata": {},
   "outputs": [],
   "source": [
    "b = (a == 2)\n",
    "print(b)\n",
    "print(type(b))"
   ]
  },
  {
   "cell_type": "code",
   "execution_count": null,
   "id": "1d8b3529",
   "metadata": {},
   "outputs": [],
   "source": [
    "if (a == 2):\n",
    "    print('Success!')"
   ]
  },
  {
   "cell_type": "markdown",
   "id": "f71cad24",
   "metadata": {},
   "source": [
    "### relational operations"
   ]
  },
  {
   "cell_type": "code",
   "execution_count": null,
   "id": "931aa165",
   "metadata": {},
   "outputs": [],
   "source": [
    "x = 5\n",
    "y = 6\n",
    "\n",
    "print(\"x == y  \", x==y)\n",
    "print(\"x != y  \", x!=y)\n",
    "print(\"x < y   \", x<y)\n",
    "print(\"x <= y  \", x<=y)\n",
    "print(\"x > y   \", x>y)\n",
    "print(\"x >= y  \", x>=y)"
   ]
  },
  {
   "cell_type": "markdown",
   "id": "148e68b1",
   "metadata": {},
   "source": [
    "### logical operations"
   ]
  },
  {
   "cell_type": "code",
   "execution_count": null,
   "id": "b325a061",
   "metadata": {},
   "outputs": [],
   "source": [
    "a = True\n",
    "b = False\n",
    "\n",
    "print(\"a and b \", a and b)\n",
    "print(\"a or b  \", a or b)\n",
    "print(\"not a   \", not a)"
   ]
  },
  {
   "cell_type": "markdown",
   "id": "6134b6a6",
   "metadata": {
    "tags": []
   },
   "source": [
    "<hr>\n",
    "\n",
    "# Modules\n",
    "\n",
    "modules include useful functions written by others\n",
    "packages are collections of modules\n",
    "\n",
    "like toolkits or libraries in other programming lanuages"
   ]
  },
  {
   "cell_type": "markdown",
   "id": "a0b7d250",
   "metadata": {},
   "source": [
    "### common way to import a module"
   ]
  },
  {
   "cell_type": "code",
   "execution_count": null,
   "id": "f45068b0",
   "metadata": {},
   "outputs": [],
   "source": [
    "import math as m\n",
    "\n",
    "print(m.sin(m.pi/2))\n",
    "print(m.exp(2))\n",
    "print(m.log10(100))"
   ]
  },
  {
   "cell_type": "code",
   "execution_count": null,
   "id": "7458108e",
   "metadata": {},
   "outputs": [],
   "source": [
    "dir(m)"
   ]
  },
  {
   "cell_type": "code",
   "execution_count": null,
   "id": "f06b8704",
   "metadata": {},
   "outputs": [],
   "source": [
    "import numpy as np\n",
    "import scipy as sp\n",
    "import matplotlib.pyplot as plt\n",
    "\n",
    "# pyplot is a subpackage within matplotlib package"
   ]
  },
  {
   "cell_type": "markdown",
   "id": "c4a50916",
   "metadata": {},
   "source": [
    "### alternative ways to import (without alias)"
   ]
  },
  {
   "cell_type": "code",
   "execution_count": null,
   "id": "03e436ed",
   "metadata": {},
   "outputs": [],
   "source": [
    "import math\n",
    "\n",
    "print(math.sin(math.pi/2))"
   ]
  },
  {
   "cell_type": "markdown",
   "id": "98b22b57",
   "metadata": {},
   "source": [
    "### another alternative (not preferred)"
   ]
  },
  {
   "cell_type": "code",
   "execution_count": null,
   "id": "d1bad913",
   "metadata": {},
   "outputs": [],
   "source": [
    "from math import sin, pi\n",
    "\n",
    "print(sin(pi/2))"
   ]
  },
  {
   "cell_type": "markdown",
   "id": "4cbc6a5d",
   "metadata": {},
   "source": [
    "### never do something like this\n",
    "\n",
    "from math import *"
   ]
  },
  {
   "cell_type": "markdown",
   "id": "05a6974f",
   "metadata": {},
   "source": [
    "<hr>\n",
    "\n",
    "# Lists and Tuples\n",
    "\n",
    "See also <b>ListsAndTuples.ipynb</b> on Brightspace for more details.\n",
    "\n",
    "See also:<br>\n",
    "https://docs.python.org/3/tutorial/introduction.html#lists <br>\n",
    "https://docs.python.org/3/tutorial/datastructures.html#more-on-lists <br>\n",
    "https://docs.python.org/3/tutorial/datastructures.html#tuples-and-sequences\n",
    "\n",
    "Note that in Python, the 1st element in a list, tuple, or numpy array is 0."
   ]
  },
  {
   "cell_type": "markdown",
   "id": "0243111a",
   "metadata": {},
   "source": [
    "### lists"
   ]
  },
  {
   "cell_type": "code",
   "execution_count": null,
   "id": "3651e860",
   "metadata": {},
   "outputs": [],
   "source": [
    "# declare lists using square brackets\n",
    "\n",
    "a = [11, 22, 33, 44, 55, 66, 77]\n",
    "print(type(a))\n",
    "print()\n",
    "\n",
    "# reference item in a list with square brackets\n",
    "print(\"a[2]     \", a[2])\n",
    "print()\n",
    "\n",
    "# indices for lists, tuples, and numpy arrays start at 0\n",
    "print(\"a[0]     \", a[0])\n",
    "print()\n",
    "\n",
    "# length\n",
    "print(\"len(a) = \", len(a))\n",
    "\n",
    "# last item is len-1\n",
    "L = len(a)\n",
    "print(\"a[L-1]   \", a[L-1])\n",
    "print()\n",
    "\n",
    "# can index from the end with negative indice\n",
    "print(\"a[-1]    \", a[-1])\n",
    "print(\"a[-2]    \", a[-2])"
   ]
  },
  {
   "cell_type": "markdown",
   "id": "14070d0a",
   "metadata": {},
   "source": [
    "### slicing"
   ]
  },
  {
   "cell_type": "code",
   "execution_count": null,
   "id": "085df5ad",
   "metadata": {},
   "outputs": [],
   "source": [
    "# slice using : (like strings)\n",
    "print(\"a[:]     \", a[:])\n",
    "print(\"a[3:6]   \", a[3:6])\n",
    "print(\"a[1:5:2] \", a[1:5:2])\n",
    "print()\n",
    "\n",
    "# note that slice does not include the specified end index"
   ]
  },
  {
   "cell_type": "markdown",
   "id": "192e2b84",
   "metadata": {},
   "source": [
    "### tuples"
   ]
  },
  {
   "cell_type": "code",
   "execution_count": null,
   "id": "f9bd117c",
   "metadata": {},
   "outputs": [],
   "source": [
    "# declare tuples using parentheses\n",
    "\n",
    "a = (11, 22, 33, 44, 55, 66, 77)\n",
    "print(type(a))\n",
    "print()\n",
    "\n",
    "# reference item in a tuple with square brackets\n",
    "print(\"a[0]  \", a[0])\n",
    "print(\"a[2]  \", a[2])\n",
    "print()\n",
    "\n",
    "# slice using : (like lists)\n",
    "print(\"a[:]   \", a[:])\n",
    "print(\"a[2:6] \", a[2:6])\n",
    "print()\n",
    "\n",
    "# length\n",
    "print(\"len(a) = \", len(a))"
   ]
  },
  {
   "cell_type": "markdown",
   "id": "dc78f230",
   "metadata": {},
   "source": [
    "### lists and tuples can be heterogenous\n",
    "\n",
    "- lists are like Matlab cell arrays - arrays delimited by { }\n",
    "\n",
    "- lists are not like Matlab arrays - arrays deliminted by [ ]\n",
    "\n",
    "- (numpy arrays are like Matlab arrays)"
   ]
  },
  {
   "cell_type": "code",
   "execution_count": null,
   "id": "a25a25fd",
   "metadata": {},
   "outputs": [],
   "source": [
    "a = [\"fish\", 3.1, 1, True]\n",
    "print(a[1])"
   ]
  },
  {
   "cell_type": "code",
   "execution_count": null,
   "id": "4c52bfe9",
   "metadata": {},
   "outputs": [],
   "source": [
    "b = (\"fish\", 3.1, 1, True)\n",
    "print(b[0])"
   ]
  },
  {
   "cell_type": "markdown",
   "id": "3bc4b961",
   "metadata": {},
   "source": [
    "### lists are mutable (can be changed)"
   ]
  },
  {
   "cell_type": "code",
   "execution_count": null,
   "id": "f7af0f47",
   "metadata": {},
   "outputs": [],
   "source": [
    "a = [2, 5, 10, 3, 9]\n",
    "print(a)\n",
    "a[1] = 99\n",
    "print(a)"
   ]
  },
  {
   "cell_type": "markdown",
   "id": "0417f496",
   "metadata": {},
   "source": [
    "### tuples are immutable (cannot be changed)\n",
    "\n",
    "trying to change a tuple throws an error"
   ]
  },
  {
   "cell_type": "code",
   "execution_count": null,
   "id": "21dd9e3f",
   "metadata": {},
   "outputs": [],
   "source": [
    "a = (2, 5, 10, 3, 9)\n",
    "print(a)\n",
    "a[1] = 99\n",
    "print(a)\n",
    "\n",
    "# tuples specify and return dimensions of numpy arrays\n",
    "# tuples collect multiple return values from a function"
   ]
  },
  {
   "cell_type": "markdown",
   "id": "26e0b73c",
   "metadata": {},
   "source": [
    "### referencing multidimensional lists (similar for tuples)"
   ]
  },
  {
   "cell_type": "code",
   "execution_count": null,
   "id": "c43f2148",
   "metadata": {},
   "outputs": [],
   "source": [
    "a = [1, \"fish\", [2, 3, 6, 7], (1, 3, 5), [\"truck\", \"house\"]]"
   ]
  },
  {
   "cell_type": "code",
   "execution_count": null,
   "id": "54080d92",
   "metadata": {},
   "outputs": [],
   "source": [
    "print(a[2])"
   ]
  },
  {
   "cell_type": "code",
   "execution_count": null,
   "id": "6f402353",
   "metadata": {},
   "outputs": [],
   "source": [
    "print(a[2][3])"
   ]
  },
  {
   "cell_type": "code",
   "execution_count": null,
   "id": "630e3a92",
   "metadata": {},
   "outputs": [],
   "source": [
    "print(a[4])"
   ]
  },
  {
   "cell_type": "code",
   "execution_count": null,
   "id": "eceea2a9",
   "metadata": {},
   "outputs": [],
   "source": [
    "print(a[4][1])"
   ]
  },
  {
   "cell_type": "code",
   "execution_count": null,
   "id": "96a2eb4c",
   "metadata": {},
   "outputs": [],
   "source": [
    "print(a[4][1][3])"
   ]
  },
  {
   "cell_type": "markdown",
   "id": "556c3df0",
   "metadata": {},
   "source": [
    "<hr>\n",
    "\n",
    "# numpy arrays\n",
    "\n",
    "See also <b>NumpyArrays.ipynb</b> on Brightspace for more details.\n",
    "\n",
    "- numpy arrays are the main way numeric data is stored and manipulated in Python\n",
    "\n",
    "- numpy arrays are homogeneous (unlike lists or tuples)\n",
    "\n",
    "- numpy arrays are like Matlab arrays - arrays delimited by [ ]\n",
    "\n",
    "See also <b>VectorMatrixAlgebra.ipynb</b> on Brightspace (we will go over some in class too)."
   ]
  },
  {
   "cell_type": "code",
   "execution_count": null,
   "id": "3273777f",
   "metadata": {},
   "outputs": [],
   "source": [
    "import numpy as np\n",
    "\n",
    "# define a nump array by starting with a list\n",
    "a = np.array([1., 2., 3., 4., 5.])\n",
    "print(a)\n",
    "print(type(a))\n",
    "print(type(a[0]))\n",
    "\n",
    "# numpy arrays are often loaded from data file or other sources (or converted from other formats to numpy arrays)\n",
    "# numpy arrays are also how vectors of neural network units and matrices of neural network weights are stored"
   ]
  },
  {
   "cell_type": "markdown",
   "id": "a8508ce3",
   "metadata": {},
   "source": [
    "### multidimensional numpy arrays"
   ]
  },
  {
   "cell_type": "code",
   "execution_count": null,
   "id": "aa2bae88",
   "metadata": {},
   "outputs": [],
   "source": [
    "# this is a list (a list of lists)\n",
    "a = [[1, 2, 3], [4, 5, 6]]\n",
    "\n",
    "# convert to a numpy array\n",
    "b = np.array(a)\n",
    "\n",
    "print(a)\n",
    "print(b)"
   ]
  },
  {
   "cell_type": "code",
   "execution_count": null,
   "id": "ad0a7c1b",
   "metadata": {},
   "outputs": [],
   "source": [
    "# this will not work\n",
    "c = [[1, 2, 3], [4, 5, 6, 7, 8]]\n",
    "print(c)\n",
    "\n",
    "d = np.array(c)\n",
    "print(d)"
   ]
  },
  {
   "cell_type": "markdown",
   "id": "9a6c5249",
   "metadata": {},
   "source": [
    "### referencing multidimensional numpy array"
   ]
  },
  {
   "cell_type": "code",
   "execution_count": null,
   "id": "07b5af57",
   "metadata": {},
   "outputs": [],
   "source": [
    "# referencing a list\n",
    "print(\"list: a[1][2] \", a[1][2])\n",
    "\n",
    "# referencing a numpy array\n",
    "print(\"numpy: b[1,2] \", b[1,2])"
   ]
  },
  {
   "cell_type": "markdown",
   "id": "c0dd6c79",
   "metadata": {},
   "source": [
    "### dimensions of a numpy array"
   ]
  },
  {
   "cell_type": "code",
   "execution_count": null,
   "id": "6aaadd6f",
   "metadata": {},
   "outputs": [],
   "source": [
    "sz = b.shape\n",
    "\n",
    "print(sz)"
   ]
  },
  {
   "cell_type": "code",
   "execution_count": null,
   "id": "f0507447",
   "metadata": {},
   "outputs": [],
   "source": [
    "print(type(sz))\n",
    "\n",
    "# note that sz is a tuple - dimensions returned or specified are often with tuples"
   ]
  },
  {
   "cell_type": "code",
   "execution_count": null,
   "id": "eb9fcf47",
   "metadata": {},
   "outputs": [],
   "source": [
    "print(\"# rows    : \", sz[0])\n",
    "print(\"# columns : \", sz[1])"
   ]
  },
  {
   "cell_type": "markdown",
   "id": "3cdc6f73",
   "metadata": {},
   "source": [
    "### slicing numpy array"
   ]
  },
  {
   "cell_type": "code",
   "execution_count": null,
   "id": "99572ec1",
   "metadata": {},
   "outputs": [],
   "source": [
    "a = np.array([[11, 22, 33, 44], [55, 66, 77, 88]])\n",
    "\n",
    "print(a[0,:])\n",
    "print(a[:,2])\n",
    "print(a[1,1:4])"
   ]
  },
  {
   "cell_type": "markdown",
   "id": "165e2ffc",
   "metadata": {},
   "source": [
    "### element-wise numeric operations on numpy arrays\n",
    "\n",
    "(we will cover vector and matrix operations later)\n",
    "\n",
    "(unlike the element-wise operators in Matlab)"
   ]
  },
  {
   "cell_type": "code",
   "execution_count": null,
   "id": "ab7b3e5c",
   "metadata": {},
   "outputs": [],
   "source": [
    "a = [10, 20, 30, 40, 50]\n",
    "b = np.array(a)\n",
    "\n",
    "print(10*b)\n",
    "print(10+b)"
   ]
  },
  {
   "cell_type": "code",
   "execution_count": null,
   "id": "99fc7bbe",
   "metadata": {},
   "outputs": [],
   "source": [
    "# lists operate differently\n",
    "\n",
    "print(10*a)\n",
    "print(10+a)"
   ]
  },
  {
   "cell_type": "code",
   "execution_count": null,
   "id": "40c67263",
   "metadata": {},
   "outputs": [],
   "source": [
    "print(b**2 + 10*b)"
   ]
  },
  {
   "cell_type": "code",
   "execution_count": null,
   "id": "4811f998",
   "metadata": {},
   "outputs": [],
   "source": [
    "print(np.log(b))\n",
    "print(np.sin(b))\n",
    "print(np.exp(-b))"
   ]
  },
  {
   "cell_type": "code",
   "execution_count": null,
   "id": "34e90696",
   "metadata": {},
   "outputs": [],
   "source": [
    "import math as m\n",
    "\n",
    "print(m.log(10))\n",
    "print(m.sin(10))\n",
    "print(m.exp(-10))"
   ]
  },
  {
   "cell_type": "code",
   "execution_count": null,
   "id": "761f0d80",
   "metadata": {},
   "outputs": [],
   "source": [
    "print(m.log(b))\n",
    "print(m.sin(b))\n",
    "print(m.exp(b))"
   ]
  },
  {
   "cell_type": "code",
   "execution_count": null,
   "id": "47c95cb0",
   "metadata": {},
   "outputs": [],
   "source": [
    "print(m.log(a))\n",
    "print(m.sin(a))\n",
    "print(m.exp(a))"
   ]
  },
  {
   "cell_type": "markdown",
   "id": "dad5f520",
   "metadata": {},
   "source": [
    "<hr>\n",
    "\n",
    "# Control Flow in Python\n",
    "\n",
    "See also <b>ControlFlow.ipynb</b> on Brightspace for more details.\n",
    "\n",
    "Note the syntax elements in Python.\n",
    "\n",
    "- control flow elements have a colon (:)\n",
    "\n",
    "- spacing in Python matters (4 spaces is common)\n",
    "\n",
    "- no begin (Pascal) or end (Pascal and Matlab), no { and } (Java and C)"
   ]
  },
  {
   "cell_type": "markdown",
   "id": "d32730a5",
   "metadata": {},
   "source": [
    "### if-then-else (conditional)"
   ]
  },
  {
   "cell_type": "code",
   "execution_count": null,
   "id": "75988314",
   "metadata": {},
   "outputs": [],
   "source": [
    "# if\n",
    "\n",
    "x = 8\n",
    "\n",
    "if x < 10:\n",
    "    print('Hit the \"x < 10\" condition')"
   ]
  },
  {
   "cell_type": "code",
   "execution_count": null,
   "id": "ca2a029e",
   "metadata": {},
   "outputs": [],
   "source": [
    "# if-else\n",
    "\n",
    "x = 12\n",
    "\n",
    "if x < 10:\n",
    "    print('Hit the \"x < 10\" condition')\n",
    "else:\n",
    "    print('Hit the \"else\" condition')"
   ]
  },
  {
   "cell_type": "code",
   "execution_count": null,
   "id": "87d7d541",
   "metadata": {},
   "outputs": [],
   "source": [
    "# if-elif-else\n",
    "\n",
    "x = 15\n",
    "\n",
    "if x < 10:\n",
    "    print('Hit \"x < 10\" condition')\n",
    "elif x < 20:\n",
    "    print('Hit \"x < 20\" condition')\n",
    "else:\n",
    "    print('Hit \"else\" condition')"
   ]
  },
  {
   "cell_type": "markdown",
   "id": "ece9e6ae",
   "metadata": {},
   "source": [
    "### for-loop\n",
    "\n",
    "range returns a sequence to drive the for loop\n",
    "\n",
    "given a number n = len(a), it will return numbers from 0 ... n-1"
   ]
  },
  {
   "cell_type": "code",
   "execution_count": null,
   "id": "d0e56561",
   "metadata": {},
   "outputs": [],
   "source": [
    "# for looping over a tuple or list\n",
    "\n",
    "a = (11, 22, 33, 44, 55, 66, 77, 88)\n",
    "\n",
    "for idx in range(len(a)):\n",
    "    print(idx)\n",
    "    print(a[idx])\n",
    "    print()"
   ]
  },
  {
   "cell_type": "markdown",
   "id": "1659bdd4",
   "metadata": {},
   "source": [
    "range(<i>start</i>, <i>end</i>, <i>step</i>)"
   ]
  },
  {
   "cell_type": "code",
   "execution_count": null,
   "id": "6dbb3aae",
   "metadata": {},
   "outputs": [],
   "source": [
    "# for looping over a tuple or list\n",
    "\n",
    "a = (11, 22, 33, 44, 55, 66, 77, 88)\n",
    "\n",
    "for idx in range(1, len(a), 2):\n",
    "    print(a[idx])"
   ]
  },
  {
   "cell_type": "markdown",
   "id": "d0b0048a",
   "metadata": {},
   "source": [
    "### while loop"
   ]
  },
  {
   "cell_type": "code",
   "execution_count": null,
   "id": "159be6e7",
   "metadata": {},
   "outputs": [],
   "source": [
    "N = 10\n",
    "idx = 0\n",
    "while (idx < N):\n",
    "    print(idx)\n",
    "    idx += 1"
   ]
  },
  {
   "cell_type": "markdown",
   "id": "500211fc",
   "metadata": {},
   "source": [
    "<hr>\n",
    "\n",
    "# Functions"
   ]
  },
  {
   "cell_type": "markdown",
   "id": "452f02ed",
   "metadata": {},
   "source": [
    "### parameters and return values\n",
    "\n",
    "See also <b>Functions.ipynb</b> on Brightspace for more details.\n",
    "\n",
    "functions can take parameters as input\n",
    "\n",
    "functions can return values as output (within a tuple if there are more than one)"
   ]
  },
  {
   "cell_type": "code",
   "execution_count": null,
   "id": "7f51b942",
   "metadata": {},
   "outputs": [],
   "source": [
    "def myfun(d, e, f):\n",
    "    n = d + e / f\n",
    "    m = e - f ** d\n",
    "    return n, m\n",
    "\n",
    "x = 1.5; y = 2.1; z = 1.4\n",
    "r = myfun(x, y, z)\n",
    "print(r)\n",
    "print(type(r))\n",
    "\n",
    "val1 = r[0]\n",
    "val2 = r[1]"
   ]
  },
  {
   "cell_type": "code",
   "execution_count": null,
   "id": "aecdb43d",
   "metadata": {},
   "outputs": [],
   "source": [
    "def myfun(d, e, f):\n",
    "    m = e - f ** d\n",
    "    return m\n",
    "\n",
    "x = 1.5; y = 2.1; z = 1.4\n",
    "r = myfun(x, y, z)\n",
    "print(r)\n",
    "print(type(r))"
   ]
  },
  {
   "cell_type": "code",
   "execution_count": null,
   "id": "bdcacb92",
   "metadata": {},
   "outputs": [],
   "source": [
    "# can use parameter names (for clarity)\n",
    "\n",
    "def myfun(d, e, f):\n",
    "    m = e - f ** d\n",
    "    return m\n",
    "\n",
    "x = 1.5; y = 2.1; z = 1.4\n",
    "r = myfun(d=x, e=y, f=z)\n",
    "print(r)\n",
    "print(type(r))"
   ]
  },
  {
   "cell_type": "code",
   "execution_count": null,
   "id": "71bb8d6d",
   "metadata": {},
   "outputs": [],
   "source": [
    "# using parameter names also allows reordering\n",
    "\n",
    "def myfun(d, e, f):\n",
    "    m = e - f ** d\n",
    "    return m\n",
    "\n",
    "x = 1.5; y = 2.1; z = 1.4\n",
    "r = myfun(f=z, e=y, d=x)\n",
    "print(r)\n",
    "print(type(r))"
   ]
  },
  {
   "cell_type": "markdown",
   "id": "f89a2412",
   "metadata": {},
   "source": [
    "### variable scope"
   ]
  },
  {
   "cell_type": "code",
   "execution_count": null,
   "id": "663008b1",
   "metadata": {},
   "outputs": [],
   "source": [
    "# xxx is a global variable\n",
    "xxx = 100\n",
    "\n",
    "def myfun(yyy):\n",
    "    # x is still a global variable\n",
    "    print(xxx)\n",
    "    \n",
    "    # z is a local variable\n",
    "    zzz = 99\n",
    "    \n",
    "    # y, as a variable is local\n",
    "    \n",
    "    return(yyy-zzz)\n",
    "\n",
    "b = 2\n",
    "a = myfun(b)\n",
    "\n",
    "print('xxx = ', xxx)\n",
    "print('zzz = ', zzz)\n",
    "print('yyy = ', yyy)\n"
   ]
  },
  {
   "cell_type": "markdown",
   "id": "0beb3598",
   "metadata": {},
   "source": [
    "### passing a function to a function"
   ]
  },
  {
   "cell_type": "code",
   "execution_count": null,
   "id": "26efe64a",
   "metadata": {},
   "outputs": [],
   "source": [
    "# a function in Python is just another object and can be passed to another function\n",
    "\n",
    "import math\n",
    "\n",
    "def myfun(func, x):\n",
    "    y = func(x)\n",
    "    return (y)\n",
    "\n",
    "def myop(x):\n",
    "    y = x**2\n",
    "    return (y)\n",
    "\n",
    "print(myfun(myop, 2))\n",
    "\n",
    "print(myfun(math.log10, 2))"
   ]
  },
  {
   "cell_type": "code",
   "execution_count": null,
   "id": "2fe3b957",
   "metadata": {},
   "outputs": [],
   "source": [
    "# a real example of passing a function for optimization\n",
    "# https://docs.scipy.org/doc/scipy/reference/tutorial/optimize.html\n",
    "\n",
    "import numpy as np\n",
    "import matplotlib.pyplot as plt\n",
    "\n",
    "def myfun(x):\n",
    "    return(x**2 - 4*x + 10)\n",
    "\n",
    "x = np.linspace(-4, 8, 500)\n",
    "f = myfun(x)\n",
    "\n",
    "plt.plot(x, f)\n",
    "plt.xlabel(\"x\")\n",
    "plt.ylabel(\"f(x)\")\n",
    "plt.title(\"my quadratic function\")\n",
    "plt.ylim((0, 50))\n",
    "plt.show()"
   ]
  },
  {
   "cell_type": "code",
   "execution_count": null,
   "id": "b7cc32be",
   "metadata": {},
   "outputs": [],
   "source": [
    "import scipy.optimize as opt\n",
    "\n",
    "x0 = np.array([6])\n",
    "res = opt.minimize(myfun, x0)\n",
    "\n",
    "print(f'min: f({res.x[0]:.3f}) = {res.fun:.3f}')"
   ]
  },
  {
   "cell_type": "markdown",
   "id": "bd4216b9",
   "metadata": {},
   "source": [
    "<hr>\n",
    "\n",
    "# Matplotlib\n",
    "\n",
    "See <b>Matplotlib.ipynb</b> on Brightspace for more details.\n",
    "\n",
    "visualization in Python (modeled after graphs in Matlab)\n",
    "\n",
    "we will see various examples using matplotlib (and seaborn) during the semester"
   ]
  },
  {
   "cell_type": "markdown",
   "id": "fcdca8f1",
   "metadata": {},
   "source": [
    "### to plot an equation, you need to evaluate the equation"
   ]
  },
  {
   "cell_type": "markdown",
   "id": "a2697d1b",
   "metadata": {},
   "source": [
    "we are going to plot the equation for a normal (Gaussian) distribution:\n",
    "$p(x) = \\frac{1}{\\sqrt{2\\pi\\sigma^2}}\\exp\\left(\\frac{-(x-\\mu)^2}{2\\sigma^2}\\right)$"
   ]
  },
  {
   "cell_type": "code",
   "execution_count": null,
   "id": "cd7362cb",
   "metadata": {},
   "outputs": [],
   "source": [
    "import numpy as np\n",
    "\n",
    "m = 0.0\n",
    "s = 1.0\n",
    "\n",
    "# we need to evaluate p(x) at closely spaced values of x\n",
    "\n",
    "# using arange to create an array of closely spaced values of x\n",
    "x = np.arange(-5.0, 5.0, .01)\n",
    "print(\"first 10 : \", x[:10])\n",
    "print(\"last 10  : \", x[-10:])\n",
    "print(\"length   : \", len(x))"
   ]
  },
  {
   "cell_type": "code",
   "execution_count": null,
   "id": "3eb1dea7",
   "metadata": {},
   "outputs": [],
   "source": [
    "# using linspace to create an array of closely spaced values of x\n",
    "x = np.linspace(-5.0, 5.0, 1000)\n",
    "print(\"first 10 : \", x[:10])\n",
    "print(\"last 10  : \", x[-10:])\n",
    "print(\"length   : \", len(x))"
   ]
  },
  {
   "cell_type": "code",
   "execution_count": null,
   "id": "e68b5b8d",
   "metadata": {},
   "outputs": [],
   "source": [
    "# using for loop\n",
    "\n",
    "# preallocate p(x) array\n",
    "p = np.zeros(len(x))\n",
    "print(\"first 10 : \", p[:10])\n",
    "print(\"last 10  : \", p[-10:])\n",
    "print(\"length   : \", len(p))"
   ]
  },
  {
   "cell_type": "code",
   "execution_count": null,
   "id": "15c75124",
   "metadata": {},
   "outputs": [],
   "source": [
    "for i in range(len(x)):\n",
    "    p[i] = (1/np.sqrt(2*np.pi*(s**2))) * np.exp(-((x[i]-m)**2)/(2*(s**2)))\n",
    "    \n",
    "print(p[:10])"
   ]
  },
  {
   "cell_type": "code",
   "execution_count": null,
   "id": "994bf07f",
   "metadata": {},
   "outputs": [],
   "source": [
    "# pyplot is a package (pyplot) within a package (matplotlib)\n",
    "\n",
    "import matplotlib.pyplot as plt\n",
    "\n",
    "plt.plot(x, p)\n",
    "plt.xlabel('x')\n",
    "plt.ylabel('p(x)')\n",
    "plt.title(f'Normal Distribution (m={m}, s={s})')\n",
    "\n",
    "# \"show\" may be unnecessary depending on how your notebook is set up\n",
    "plt.show()"
   ]
  },
  {
   "cell_type": "code",
   "execution_count": null,
   "id": "e981c3b5",
   "metadata": {},
   "outputs": [],
   "source": [
    "# vectorized\n",
    "\n",
    "m = 0.0\n",
    "s = 1.0\n",
    "x = np.arange(-4.0, 4.0, .01)\n",
    "p = (1/np.sqrt(2*np.pi*(s**2))) * np.exp(-((x-m)**2)/(2*(s**2)))"
   ]
  },
  {
   "cell_type": "code",
   "execution_count": null,
   "id": "c055dc38",
   "metadata": {},
   "outputs": [],
   "source": [
    "# pyplot is a package (pyplot) within a package (matplotlib)\n",
    "\n",
    "import matplotlib.pyplot as plt\n",
    "\n",
    "plt.plot(x, p)\n",
    "plt.xlabel('x')\n",
    "plt.ylabel('p(x)')\n",
    "plt.title(f'Normal Distribution (m={m}, s={s})')\n",
    "\n",
    "plt.show()"
   ]
  },
  {
   "cell_type": "code",
   "execution_count": null,
   "id": "ef8344cd",
   "metadata": {},
   "outputs": [],
   "source": [
    "import numpy.random as R\n",
    "\n",
    "N = 10000\n",
    "\n",
    "rnd = R.randn(N)\n",
    "nbins = 30\n",
    "xmin = -4; xmax = +4\n",
    "(h, hb) = np.histogram(rnd, bins=nbins, range=(xmin,xmax), density=True)\n",
    "\n",
    "plt.bar(hb[:len(hb)-1], h, width=(xmax-xmin)/nbins, align='edge')\n",
    "plt.xlabel('x')\n",
    "plt.ylabel('p(x)')\n",
    "plt.title(f'randn()\\nN = {N:,}')\n",
    "plt.xlim((xmin, xmax))\n",
    "\n",
    "plt.show()"
   ]
  },
  {
   "cell_type": "markdown",
   "id": "6e6f75d9",
   "metadata": {},
   "source": [
    "### subplots"
   ]
  },
  {
   "cell_type": "code",
   "execution_count": null,
   "id": "763982df",
   "metadata": {},
   "outputs": [],
   "source": [
    "# a single figure with multiple axes\n",
    "fig, axs = plt.subplots(3, 2)\n",
    "\n",
    "x = np.linspace(0, 10, 1000)\n",
    "axs[0,0].plot(x, np.sin(x), 'r-'); axs[0,0].set_xticklabels([])\n",
    "axs[0,1].plot(x, np.cos(x), 'g-'); axs[0,1].set_xticklabels([])\n",
    "axs[1,0].plot(x, np.sqrt(x), 'b-'); axs[1,0].set_xticklabels([])\n",
    "axs[1,1].plot(x, np.log(x+1), 'b-'); axs[1,1].set_xticklabels([])\n",
    "axs[2,0].plot(x, np.exp(x), 'y-')\n",
    "axs[2,1].plot(x, 3*x+2, 'm-');\n",
    "\n",
    "plt.show()"
   ]
  },
  {
   "cell_type": "markdown",
   "id": "56e43b5c",
   "metadata": {},
   "source": [
    "### multiple plots on same graph"
   ]
  },
  {
   "cell_type": "code",
   "execution_count": null,
   "id": "c392286f",
   "metadata": {},
   "outputs": [],
   "source": [
    "# multiple plots on the same axes\n",
    "\n",
    "x = np.linspace(0, 2, 100)\n",
    "\n",
    "# create a figure and an axes\n",
    "fig = plt.figure(figsize=[10,3])                     \n",
    "ax = plt.axes(polar=False) \n",
    "\n",
    "ax.plot(x, x, label='linear')          \n",
    "ax.plot(x, x**2, label='quadratic')\n",
    "ax.plot(x, x**3, label='cubic')\n",
    "ax.set_xlabel('x label')\n",
    "ax.set_ylabel('y label')\n",
    "ax.set_title('Simple Plot')\n",
    "ax.legend()\n",
    "plt.show()"
   ]
  },
  {
   "cell_type": "markdown",
   "id": "f9767127",
   "metadata": {},
   "source": [
    "### formatting lines in plots"
   ]
  },
  {
   "cell_type": "code",
   "execution_count": null,
   "id": "2a1b0589",
   "metadata": {},
   "outputs": [],
   "source": [
    "fig = plt.figure(); ax = plt.axes() \n",
    "\n",
    "x = np.linspace(0, 2, 10)\n",
    "\n",
    "# Matlab-style line and symbol specifications\n",
    "# https://matplotlib.org/api/markers_api.html\n",
    "# https://matplotlib.org/gallery/lines_bars_and_markers/line_styles_reference.html\n",
    "ax.plot(x, x**2, 'r-o')\n",
    "ax.plot(x, x**3, 'g:^')\n",
    "ax.plot(x, x**4, 'b-.s');\n",
    "\n",
    "plt.show()"
   ]
  },
  {
   "cell_type": "code",
   "execution_count": null,
   "id": "bcad94d1",
   "metadata": {},
   "outputs": [],
   "source": []
  }
 ],
 "metadata": {
  "kernelspec": {
   "display_name": "Python 3 (ipykernel)",
   "language": "python",
   "name": "python3"
  },
  "language_info": {
   "codemirror_mode": {
    "name": "ipython",
    "version": 3
   },
   "file_extension": ".py",
   "mimetype": "text/x-python",
   "name": "python",
   "nbconvert_exporter": "python",
   "pygments_lexer": "ipython3",
   "version": "3.9.13"
  },
  "vscode": {
   "interpreter": {
    "hash": "d4e8bc7389cfca2533becb725d38fc3a7d96e5f0f9dc1d3a6cde80de95c41b25"
   }
  }
 },
 "nbformat": 4,
 "nbformat_minor": 5
}
