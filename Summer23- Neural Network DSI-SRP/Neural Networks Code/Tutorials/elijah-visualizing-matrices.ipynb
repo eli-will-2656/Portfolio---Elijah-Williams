{
 "cells": [
  {
   "cell_type": "markdown",
   "metadata": {},
   "source": [
    "In this notebook, we follow a walkthrough of numerical operations numpy provides, along with an accompanying visualizaitons. Please check out the inspiration behind this notebook at the following link: https://jalammar.github.io/visual-numpy/ "
   ]
  },
  {
   "cell_type": "code",
   "execution_count": 3,
   "metadata": {},
   "outputs": [
    {
     "name": "stdout",
     "output_type": "stream",
     "text": [
      "[1 2 3]\n"
     ]
    }
   ],
   "source": [
    "import numpy as np\n",
    "\n",
    "random_list = [1,2,3]\n",
    "\n",
    "rand = np.array(random_list)\n",
    "\n",
    "print(rand)\n",
    "\n",
    "# Notice that the values are horizontal"
   ]
  },
  {
   "cell_type": "markdown",
   "metadata": {},
   "source": [
    "We can perform standard operations to `1 x A` matrices (arrays) like normal"
   ]
  },
  {
   "cell_type": "code",
   "execution_count": 5,
   "metadata": {},
   "outputs": [
    {
     "name": "stdout",
     "output_type": "stream",
     "text": [
      "[2 4 6]\n",
      "[3 6 9]\n",
      "[-1. -1. -1.]\n"
     ]
    }
   ],
   "source": [
    "print(rand + rand)\n",
    "print(3*rand)\n",
    "print(-1*rand / rand)"
   ]
  },
  {
   "cell_type": "markdown",
   "metadata": {},
   "source": [
    "# Two dimensional arrays"
   ]
  },
  {
   "cell_type": "code",
   "execution_count": 18,
   "metadata": {},
   "outputs": [
    {
     "name": "stdout",
     "output_type": "stream",
     "text": [
      "[[1 2 3]\n",
      " [4 5 6]]\n"
     ]
    }
   ],
   "source": [
    "list1 = [1,2,3]\n",
    "list2 = [4,5,6]\n",
    "\n",
    "two_D_list = [list1, list2]\n",
    "\n",
    "arr = np.array(two_D_list)\n",
    "\n",
    "print(arr)\n",
    "\n",
    "# Notice that now we have one list stacked on top of the other\n",
    "# We have 2 rows and 3 columns\n"
   ]
  },
  {
   "cell_type": "code",
   "execution_count": 21,
   "metadata": {},
   "outputs": [
    {
     "name": "stdout",
     "output_type": "stream",
     "text": [
      "[[3. 3. 3. 3.]\n",
      " [3. 3. 3. 3.]\n",
      " [3. 3. 3. 3.]]\n",
      "[[2. 2. 2. 2.]\n",
      " [2. 2. 2. 2.]\n",
      " [2. 2. 2. 2.]]\n"
     ]
    }
   ],
   "source": [
    "############ Array Arithmetic ########\n",
    "\n",
    "# Addition two matrices\n",
    "a = np.ones((3,4))\n",
    "b = 2 * np.ones((3,4))\n",
    "print(a + b)\n",
    "print(a*b)"
   ]
  },
  {
   "cell_type": "code",
   "execution_count": 20,
   "metadata": {},
   "outputs": [
    {
     "name": "stdout",
     "output_type": "stream",
     "text": [
      "[[35. 13.]\n",
      " [35. 13.]\n",
      " [35. 13.]\n",
      " [35. 13.]]\n"
     ]
    }
   ],
   "source": [
    "# Addition of a 1-d and 2d array (adds the 1-d array to each row of 2-d array)\n",
    "x = np.array([34,12])\n",
    "y = np.ones((4,2))\n",
    "z = x + y\n",
    "print(z)\n",
    "# Should have be 3 x 2 matrix of [35,13]'s"
   ]
  },
  {
   "cell_type": "markdown",
   "metadata": {},
   "source": [
    "## Matrix Multiplcication"
   ]
  },
  {
   "cell_type": "markdown",
   "metadata": {},
   "source": [
    "In `NumPy`, matrix multiplication is implemented **semantically** as opposed to **syntactically**\n",
    "\n",
    "Namely, instead of the product of A x B being `A * B`, the product A x B is defined by the \n",
    "\n",
    "#### **`dot product`:**\n",
    "\n",
    "`A.dot(B)`"
   ]
  },
  {
   "cell_type": "code",
   "execution_count": 31,
   "metadata": {},
   "outputs": [
    {
     "name": "stdout",
     "output_type": "stream",
     "text": [
      "(3,)\n",
      "(3, 4)\n",
      "A: [ 3  5 10]\n",
      "\n",
      "W:\n",
      " [[1 2 4 5]\n",
      " [0 0 1 0]\n",
      " [2 2 2 2]]\n",
      "\n",
      "A.dot(W)\t\t [23 26 37 35]\n",
      "BOOM!\n"
     ]
    }
   ],
   "source": [
    "# Matrix Multiplication\n",
    "\n",
    "A = np.array([3,5,10])\n",
    "print(A.shape) # (1, 3)\n",
    "\n",
    "W = np.array([[1,2,4,5],[0,0,1,0], [2,2,2,2]])\n",
    "print(W.shape) # (3, 4)\n",
    "\n",
    "print(\"A:\", A)\n",
    "print()\n",
    "print(\"W:\\n\", W)\n",
    "print()\n",
    "print(\"A.dot(W)\\t\\t\", A.dot(W))\n",
    "\n",
    "print(\"BOOM!\")"
   ]
  },
  {
   "cell_type": "markdown",
   "metadata": {},
   "source": [
    "**Shape**"
   ]
  },
  {
   "cell_type": "markdown",
   "metadata": {},
   "source": [
    "* The shape of a list is `1 x n`, where `n` is the number of elements in that list\n",
    "\n",
    "\n",
    "* The shape of a 2d array is `m x n` where\n",
    "    * `m` is the number of rows\n",
    "    * `n` is the number of columns"
   ]
  },
  {
   "cell_type": "code",
   "execution_count": 9,
   "metadata": {},
   "outputs": [
    {
     "name": "stdout",
     "output_type": "stream",
     "text": [
      "[[1. 1.]\n",
      " [1. 1.]\n",
      " [1. 1.]]\n"
     ]
    }
   ],
   "source": [
    "shape = (3,2)\n",
    "x = np.ones(shape)\n",
    "print(x)\n",
    "# x will be an array with 3 rows and 2 columns, essentially a list of 3 2-dimensional vectors"
   ]
  },
  {
   "cell_type": "markdown",
   "metadata": {},
   "source": [
    "Sometimes when indexing an array, we will get a list embedded in another list like:\n",
    "```python\n",
    "x = [[1,23,4]]\n",
    "```\n",
    "\n",
    "To grab the list [1,23,4], we index x = [0,]"
   ]
  },
  {
   "cell_type": "code",
   "execution_count": 14,
   "metadata": {},
   "outputs": [
    {
     "name": "stdout",
     "output_type": "stream",
     "text": [
      "[[0.10014846 0.7169905  0.41887831 0.56779329]]\n",
      "[0.10014846 0.7169905  0.41887831 0.56779329]\n",
      "[0.10014846 0.7169905  0.41887831 0.56779329]\n"
     ]
    }
   ],
   "source": [
    "y = np.random.random((1,4))\n",
    "print(y)\n",
    "print(y[0])\n",
    "print(y[0],)"
   ]
  },
  {
   "cell_type": "code",
   "execution_count": 17,
   "metadata": {},
   "outputs": [
    {
     "name": "stdout",
     "output_type": "stream",
     "text": [
      "[[[0. 0. 0. 0.]\n",
      "  [0. 0. 0. 0.]\n",
      "  [0. 0. 0. 0.]]\n",
      "\n",
      " [[0. 0. 0. 0.]\n",
      "  [0. 0. 0. 0.]\n",
      "  [0. 0. 0. 0.]]]\n"
     ]
    }
   ],
   "source": [
    "# Creating 3-d arrays\n",
    "z = np.zeros((2,3,4))\n",
    "# This will look like 2 3x4 matrices\n",
    "print(z)"
   ]
  },
  {
   "cell_type": "markdown",
   "metadata": {},
   "source": [
    "Notice that which direction the first indice *indexes* depends on the shape of the nd-array\n",
    "* If shape is 1d - indexes in the x direction\n",
    "* If shape is 2d - indexes in the y direction\n",
    "* If shape is 3d - indexes in the z direction"
   ]
  },
  {
   "cell_type": "markdown",
   "metadata": {},
   "source": [
    "# Splicing"
   ]
  },
  {
   "cell_type": "code",
   "execution_count": 35,
   "metadata": {},
   "outputs": [
    {
     "name": "stdout",
     "output_type": "stream",
     "text": [
      "(2, 3)\n",
      "4\n",
      "[2 3]\n",
      "(2,)\n",
      "[2 3 4]\n",
      "(3,)\n",
      "[[1 2 3]\n",
      " [2 3 4]]\n",
      "[2 3 4]\n"
     ]
    }
   ],
   "source": [
    "A = np.array([[1,2,3], [2,3,4]])\n",
    "\n",
    "print(A.shape) # shape (2,3)\n",
    "\n",
    "print(A[1,2]) # should be 4\n",
    "\n",
    "# Grabbing a single column\n",
    "print(A[:,1]) # should be (2,3)\n",
    "print(A[:,1].shape) # (2,1)\n",
    "\n",
    "# Grabbing a single row\n",
    "print(A[1,:])\n",
    "print(A[1,:].shape) # (1,3)\n",
    "\n",
    "print(A[:,])\n",
    "print(A[1])"
   ]
  },
  {
   "cell_type": "markdown",
   "metadata": {},
   "source": [
    "Observations:\n",
    "* When the splice returns a 1d array, it has the shape `(n,)`\n",
    "* When grabbing a single column or row, it always returns a `row vector of shape (n,)`"
   ]
  }
 ],
 "metadata": {
  "kernelspec": {
   "display_name": "Python 3.9.13 ('.venv': venv)",
   "language": "python",
   "name": "python3"
  },
  "language_info": {
   "codemirror_mode": {
    "name": "ipython",
    "version": 3
   },
   "file_extension": ".py",
   "mimetype": "text/x-python",
   "name": "python",
   "nbconvert_exporter": "python",
   "pygments_lexer": "ipython3",
   "version": "3.9.13"
  },
  "orig_nbformat": 4,
  "vscode": {
   "interpreter": {
    "hash": "3730d5d1c31a0f0507cb21031ee0b4e9aa5b7079f3ceca5ddb3f252bb92fdf07"
   }
  }
 },
 "nbformat": 4,
 "nbformat_minor": 2
}
