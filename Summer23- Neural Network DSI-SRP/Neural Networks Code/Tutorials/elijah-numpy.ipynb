{
 "cells": [
  {
   "cell_type": "markdown",
   "metadata": {},
   "source": [
    "# NumPy\n",
    "In this notebook we will explore the functionalities `numpy` module has when working with n-dimensional arrays. In particular, we will learn how to apply functions to arrays (without for-loops), and understand array properties"
   ]
  },
  {
   "cell_type": "markdown",
   "metadata": {},
   "source": [
    "**References**\n",
    "* [NumPy Math Functions](https://numpy.org/doc/stable/reference/routines.math.html)"
   ]
  },
  {
   "cell_type": "markdown",
   "metadata": {},
   "source": [
    "## Object and Properties"
   ]
  },
  {
   "cell_type": "code",
   "execution_count": null,
   "metadata": {},
   "outputs": [],
   "source": [
    "import numpy as np\n",
    "\n",
    "x = np.array([[3,4,5],[5,12,13]])\n",
    "\n",
    "print(type(x)) # array, zeroes, empty creates a \"ndarray\" object\n",
    "print(x)\n"
   ]
  },
  {
   "cell_type": "code",
   "execution_count": null,
   "metadata": {},
   "outputs": [],
   "source": [
    "attr_and_methods = [a for a in dir(x) if '__' not in a]\n",
    "print(attr_and_methods) # printout out all the attributes and methods of ndarray"
   ]
  },
  {
   "cell_type": "code",
   "execution_count": 11,
   "metadata": {},
   "outputs": [],
   "source": [
    "def print_properties(x):\n",
    "    print(x.ndim) # number of axes\n",
    "    print(x.shape) # number of rows and columns\n",
    "    print(x.size) # number of elemtns in array\n",
    "    print(x.dtype)\n",
    "    print(x.itemsize)"
   ]
  },
  {
   "cell_type": "code",
   "execution_count": null,
   "metadata": {},
   "outputs": [],
   "source": [
    "print(x)\n",
    "print_properties(x)\n",
    "print(\"---\")\n",
    "y =np.arange(0,15,1).reshape(3,5)\n",
    "print(y)\n",
    "print_properties(y)"
   ]
  },
  {
   "cell_type": "code",
   "execution_count": 17,
   "metadata": {},
   "outputs": [
    {
     "name": "stdout",
     "output_type": "stream",
     "text": [
      "<class 'int'>\n",
      "<class 'numpy.float64'>\n"
     ]
    }
   ],
   "source": [
    "# Can create numpy array from regular list \n",
    "lst = [1,2.,3]\n",
    "\n",
    "array_numpy = np.array(lst)\n",
    "\n",
    "print(type(lst[0]))\n",
    "print(type(array_numpy[0]))"
   ]
  },
  {
   "cell_type": "code",
   "execution_count": 21,
   "metadata": {},
   "outputs": [
    {
     "name": "stdout",
     "output_type": "stream",
     "text": [
      "[[1 2 3 4 5]\n",
      " [5 4 3 2 1]\n",
      " [0 0 0 0 0]]\n",
      "4\n"
     ]
    }
   ],
   "source": [
    "array = [\n",
    "    [1,2,3,4,5],\n",
    "    [5,4,3,2,1],\n",
    "    [0,0,0,0,0],\n",
    "    ]\n",
    "\n",
    "x = np.array(array)\n",
    "print(x)\n",
    "print(x[1,1])"
   ]
  },
  {
   "cell_type": "code",
   "execution_count": null,
   "metadata": {},
   "outputs": [],
   "source": [
    "x = np.zeros((3,3))\n",
    "y = np.ones((3,3))\n",
    "z = np.empty((4,3))\n",
    "print(f\"\"\"\n",
    "zeroes:\\n{x}\n",
    "ones:\\n{y}\n",
    "empty:\\n{z}\n",
    "\"\"\")"
   ]
  },
  {
   "cell_type": "markdown",
   "metadata": {},
   "source": [
    "## Sequences and Operations"
   ]
  },
  {
   "cell_type": "markdown",
   "metadata": {},
   "source": [
    "**Creating sequences**  \n",
    "To create sequences of numbers:\n",
    "1. Use `arange(start, stop (noninclusive), step)`\n",
    "    * good with integers, and not needing stop\n",
    "2. Use `linspace(start, stop (inclusive), num_samples)`\n",
    "    * good with floaitng points, and including endpoint\n"
   ]
  },
  {
   "cell_type": "code",
   "execution_count": 30,
   "metadata": {},
   "outputs": [
    {
     "name": "stdout",
     "output_type": "stream",
     "text": [
      "[0.  0.5 1.  1.5] [0.  0.5 1.  1.5 2. ]\n"
     ]
    }
   ],
   "source": [
    "x = np.arange(0,2, .5)\n",
    "y = np.linspace(0,2,5)\n",
    "print(x,y)"
   ]
  },
  {
   "cell_type": "markdown",
   "metadata": {},
   "source": [
    "**Operations on ndarrays**\n",
    "To add, multiply, subtract, and divide a `scalar` to a `vector` (array), you will have to use Numpy functions:\n",
    "\n",
    "`np.add, np.subract, np.multiply, np.divide`"
   ]
  },
  {
   "cell_type": "code",
   "execution_count": 54,
   "metadata": {},
   "outputs": [
    {
     "name": "stdout",
     "output_type": "stream",
     "text": [
      "[ 6  7  8  9 10]\n",
      "[ 5 10 15 20 25]\n",
      "[5.         2.5        1.66666667 1.25       1.        ]\n",
      "[False False False False  True]\n",
      "[-4 -3 -2 -1  0]\n"
     ]
    }
   ],
   "source": [
    "x = np.arange(1,6)\n",
    "Y = 5\n",
    "print(np.add(x,Y))\n",
    "print(np.multiply(x,Y))\n",
    "\n",
    "# notice for noncommutative operators order matters!\n",
    "print(np.divide(Y,x))\n",
    "print(np.divide(Y,x) == np.divide(x,Y)) # relation operators are overloaded to be elementwise\n",
    "\n",
    "print(np.subtract(x,Y))\n",
    "\n"
   ]
  },
  {
   "cell_type": "code",
   "execution_count": 33,
   "metadata": {},
   "outputs": [
    {
     "name": "stdout",
     "output_type": "stream",
     "text": [
      "[0.2        0.         0.66666667]\n",
      "[20.          0.         66.66666667]\n"
     ]
    }
   ],
   "source": [
    "# Arithmetic operators on arrays are applied elementwise\n",
    "\n",
    "shots_taken = np.array([5,1,3])\n",
    "goals_scored = np.array([1,0,2])\n",
    "\n",
    "shot_accuracy = goals_scored / shots_taken\n",
    "\n",
    "print(shot_accuracy)\n",
    "\n",
    "percent_shots = shot_accuracy *100\n",
    "print(percent_shots)"
   ]
  },
  {
   "cell_type": "code",
   "execution_count": 34,
   "metadata": {},
   "outputs": [
    {
     "name": "stdout",
     "output_type": "stream",
     "text": [
      "[-1.         -0.77777778 -0.55555556 -0.33333333 -0.11111111  0.11111111\n",
      "  0.33333333  0.55555556  0.77777778  1.        ]\n",
      "[0.         0.22222222 0.44444444 0.66666667 0.88888889 1.11111111\n",
      " 1.33333333 1.55555556 1.77777778 2.        ]\n"
     ]
    }
   ],
   "source": [
    "# Subtracting a number from an ndarray\n",
    "ndarray = np.linspace(-1,1,10)\n",
    "print(ndarray)\n",
    "\n",
    "b = 1 #shifting up by one\n",
    "b_vector = np.ones(len(ndarray)) * b\n",
    "ndarray += b_vector\n",
    "\n",
    "print(ndarray)\n"
   ]
  },
  {
   "cell_type": "code",
   "execution_count": 35,
   "metadata": {},
   "outputs": [
    {
     "name": "stdout",
     "output_type": "stream",
     "text": [
      "30 1 15\n"
     ]
    }
   ],
   "source": [
    "# calculating sums\n",
    "grocery_prices = np.array([1,2,3,4,2,3,15])\n",
    "sum = grocery_prices.sum()\n",
    "min = grocery_prices.min()\n",
    "max = grocery_prices.max()\n",
    "print(sum, min, max)"
   ]
  },
  {
   "cell_type": "markdown",
   "metadata": {},
   "source": [
    "**Universal Functions** \n",
    "Functions like `sin(x), cos(x)`, which operate elementwise on arrays and are built into NumPy module"
   ]
  },
  {
   "cell_type": "code",
   "execution_count": null,
   "metadata": {},
   "outputs": [],
   "source": [
    "import matplotlib\n",
    "import matplotlib.pyplot as plt\n",
    "\n",
    "x = np.linspace(-2*np.pi, 2*np.pi, 1000)\n",
    "\n",
    "plt.figure(figsize=(4,2))\n",
    "plt.plot(x, np.sin(x))"
   ]
  },
  {
   "cell_type": "markdown",
   "metadata": {},
   "source": [
    "**adding a number**"
   ]
  },
  {
   "cell_type": "code",
   "execution_count": 51,
   "metadata": {},
   "outputs": [
    {
     "name": "stdout",
     "output_type": "stream",
     "text": [
      "[0 1 2 3]\n",
      "[2 3 4 5]\n"
     ]
    }
   ],
   "source": [
    "x = np.arange(4)\n",
    "print(x)\n",
    "x = np.add(x,2)\n",
    "print(x)"
   ]
  },
  {
   "cell_type": "code",
   "execution_count": 41,
   "metadata": {},
   "outputs": [
    {
     "name": "stdout",
     "output_type": "stream",
     "text": [
      "[ 1.          2.71828183  7.3890561  20.08553692]\n",
      "[0.         1.         1.41421356 1.73205081]\n",
      "[ 5  7  9 11]\n"
     ]
    }
   ],
   "source": [
    "X = np.arange(4)\n",
    "\n",
    "print(np.exp(X)) # calculates exponential of each element in range(4)\n",
    "print(np.sqrt(X))\n",
    "\n",
    "Y = np.arange(5,9)\n",
    "\n",
    "Z = np.add(X,Y)\n",
    "print(Z)"
   ]
  },
  {
   "cell_type": "markdown",
   "metadata": {},
   "source": [
    "**filtering an array**"
   ]
  },
  {
   "cell_type": "code",
   "execution_count": 50,
   "metadata": {},
   "outputs": [
    {
     "name": "stdout",
     "output_type": "stream",
     "text": [
      "[ 1.  2.  0.  0. 10.  0.]\n"
     ]
    }
   ],
   "source": [
    "# where(condition, [x,y]) - x,y are array_like\n",
    "x = np.array([1,2.,-1,-5,10,0])\n",
    "y = np.where(x>=0, x, 0)\n",
    "print(y)"
   ]
  },
  {
   "cell_type": "code",
   "execution_count": null,
   "metadata": {},
   "outputs": [],
   "source": []
  }
 ],
 "metadata": {
  "kernelspec": {
   "display_name": "Python 3.9.13 ('.venv': venv)",
   "language": "python",
   "name": "python3"
  },
  "language_info": {
   "codemirror_mode": {
    "name": "ipython",
    "version": 3
   },
   "file_extension": ".py",
   "mimetype": "text/x-python",
   "name": "python",
   "nbconvert_exporter": "python",
   "pygments_lexer": "ipython3",
   "version": "3.9.13"
  },
  "orig_nbformat": 4,
  "vscode": {
   "interpreter": {
    "hash": "3730d5d1c31a0f0507cb21031ee0b4e9aa5b7079f3ceca5ddb3f252bb92fdf07"
   }
  }
 },
 "nbformat": 4,
 "nbformat_minor": 2
}
