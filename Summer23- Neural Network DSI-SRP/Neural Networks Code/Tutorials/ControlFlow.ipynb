{
 "cells": [
  {
   "cell_type": "markdown",
   "metadata": {},
   "source": [
    "***\n",
    "\n",
    "# Control Flow in Python"
   ]
  },
  {
   "cell_type": "markdown",
   "metadata": {},
   "source": [
    "### If-Then-Else"
   ]
  },
  {
   "cell_type": "code",
   "execution_count": null,
   "metadata": {},
   "outputs": [],
   "source": [
    "x = 8\n",
    "\n",
    "if x < 10:\n",
    "    print('Hit \"x < 10\" condition')\n",
    "    x = x - 10\n",
    "    \n",
    "print(x)"
   ]
  },
  {
   "cell_type": "code",
   "execution_count": null,
   "metadata": {},
   "outputs": [],
   "source": [
    "x = 12\n",
    "\n",
    "if x < 10:\n",
    "    print('Hit \"x < 10\" condition')\n",
    "    x = x - 10\n",
    "else:\n",
    "    print('Hit \"else\" condition')\n",
    "    x = x + 100\n",
    "    \n",
    "print(x)"
   ]
  },
  {
   "cell_type": "code",
   "execution_count": null,
   "metadata": {},
   "outputs": [],
   "source": [
    "x = 15\n",
    "\n",
    "if x < 10:\n",
    "    print('Hit \"x < 10\" condition')\n",
    "    x = x - 10\n",
    "elif x < 20:\n",
    "    print('Hit \"x < 20\" condition')\n",
    "    x = x - 20\n",
    "else:\n",
    "    print('Hit \"else\" condition')\n",
    "    x = x + 100\n",
    "    \n",
    "print(x)"
   ]
  },
  {
   "cell_type": "markdown",
   "metadata": {},
   "source": [
    "### For-Loop"
   ]
  },
  {
   "cell_type": "code",
   "execution_count": null,
   "metadata": {},
   "outputs": [],
   "source": [
    "data = [2.3, 3.1, 4.5, 1.1, 6.3]\n",
    "\n",
    "# index iterating\n",
    "for i in range(len(data)):\n",
    "    print(i, ' : ', data[i])"
   ]
  },
  {
   "cell_type": "code",
   "execution_count": null,
   "metadata": {},
   "outputs": [],
   "source": [
    "data = [2.3, 3.1, 4.5, 1.1, 6.3]\n",
    "\n",
    "# direct iterating\n",
    "for d in data:\n",
    "    print(d)"
   ]
  },
  {
   "cell_type": "code",
   "execution_count": null,
   "metadata": {},
   "outputs": [],
   "source": [
    "# do both\n",
    "for i, d in enumerate(data):\n",
    "    print(i, ' : ', data[i])"
   ]
  },
  {
   "cell_type": "code",
   "execution_count": null,
   "metadata": {},
   "outputs": [],
   "source": [
    "# nested looping over a multidimensional array\n",
    "\n",
    "import numpy as np\n",
    "\n",
    "data = np.array([[6, 8, 3, 4, 2, 4], [1, 4, 1, 5, 6, 6]])\n",
    "\n",
    "(r, c) = data.shape\n",
    "\n",
    "for i in range(r):\n",
    "    for j in range(c):\n",
    "        print(f'({i},{j}) : {data[i,j]}')"
   ]
  },
  {
   "cell_type": "code",
   "execution_count": null,
   "metadata": {},
   "outputs": [],
   "source": [
    "# break and else clauses in for loop\n",
    "\n",
    "for n in range(2, 100):\n",
    "    for x in range(2, n):\n",
    "        if n % x == 0:\n",
    "            break    # break out of the inside for loop\n",
    "    else:            # execute the else if the for loop complete iteration\n",
    "        print(f'{n:2d} is a prime number')"
   ]
  },
  {
   "cell_type": "code",
   "execution_count": null,
   "metadata": {},
   "outputs": [],
   "source": [
    "# indenting is important!\n",
    "\n",
    "# break and else clauses in for loop\n",
    "\n",
    "for n in range(2, 100):\n",
    "    for x in range(2, n):\n",
    "        if n % x == 0:\n",
    "            break    # break out of the inside for loop\n",
    "        else:        # this is an else on the \"if n % x == 0\"\n",
    "            print(f'{n:2d} is a prime number')"
   ]
  },
  {
   "cell_type": "code",
   "execution_count": null,
   "metadata": {},
   "outputs": [],
   "source": [
    "# break and else clauses in for loop\n",
    "\n",
    "for n in range(2, 10):\n",
    "    for x in range(2, n):\n",
    "        print(x)\n",
    "        if n % x == 0:\n",
    "            print(n, x, ' break out')\n",
    "            break    # break out of the inside for loop\n",
    "    else:            # execute the else if the for loop complete iteration\n",
    "        print(f'{n:2d} is a prime number')"
   ]
  },
  {
   "cell_type": "code",
   "execution_count": null,
   "metadata": {},
   "outputs": [],
   "source": [
    "# continue in for loop\n",
    "\n",
    "data = np.array([324, 143, 434, 241, 104, 341, 354, 111, 542, 324])\n",
    "minRT = 150\n",
    "\n",
    "tot = 0.;  n = 0\n",
    "for d in data:\n",
    "    if d < minRT:\n",
    "        continue\n",
    "    tot += d\n",
    "    n += 1\n",
    "print(f'{(tot/n):3.0f}')"
   ]
  },
  {
   "cell_type": "markdown",
   "metadata": {},
   "source": [
    "### While-Loop"
   ]
  },
  {
   "cell_type": "code",
   "execution_count": null,
   "metadata": {},
   "outputs": [],
   "source": [
    "N = 10\n",
    "\n",
    "for i in range(N):\n",
    "    print(i)"
   ]
  },
  {
   "cell_type": "code",
   "execution_count": null,
   "metadata": {},
   "outputs": [],
   "source": [
    "i = 0\n",
    "while (i < N):\n",
    "    print(i)\n",
    "    i += 1"
   ]
  },
  {
   "cell_type": "code",
   "execution_count": null,
   "metadata": {},
   "outputs": [],
   "source": []
  }
 ],
 "metadata": {
  "kernelspec": {
   "display_name": "Python 3",
   "language": "python",
   "name": "python3"
  },
  "language_info": {
   "codemirror_mode": {
    "name": "ipython",
    "version": 3
   },
   "file_extension": ".py",
   "mimetype": "text/x-python",
   "name": "python",
   "nbconvert_exporter": "python",
   "pygments_lexer": "ipython3",
   "version": "3.7.11"
  }
 },
 "nbformat": 4,
 "nbformat_minor": 4
}
