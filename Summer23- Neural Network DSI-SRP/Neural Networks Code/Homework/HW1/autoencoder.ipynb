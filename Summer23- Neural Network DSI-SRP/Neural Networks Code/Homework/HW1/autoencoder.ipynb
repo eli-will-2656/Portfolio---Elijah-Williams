{
 "cells": [
  {
   "cell_type": "markdown",
   "metadata": {
    "id": "9W8tFbf2H-6p"
   },
   "source": [
    "uses conventions from Keras functional API\n",
    "\n",
    "built from https://blog.keras.io/building-autoencoders-in-keras.html\n"
   ]
  },
  {
   "cell_type": "code",
   "execution_count": 1,
   "metadata": {
    "colab": {
     "base_uri": "https://localhost:8080/",
     "height": 1000
    },
    "id": "nXUxFOaqFPAk",
    "outputId": "db18e839-a2b2-4b48-df8c-6bfb56bec4cf"
   },
   "outputs": [
    {
     "name": "stderr",
     "output_type": "stream",
     "text": [
      "2021-11-04 18:13:47.676990: I tensorflow/core/platform/cpu_feature_guard.cc:142] This TensorFlow binary is optimized with oneAPI Deep Neural Network Library (oneDNN) to use the following CPU instructions in performance-critical operations:  AVX2 FMA\n",
      "To enable them in other operations, rebuild TensorFlow with the appropriate compiler flags.\n"
     ]
    },
    {
     "name": "stdout",
     "output_type": "stream",
     "text": [
      "(60000, 784)\n",
      "(10000, 784)\n"
     ]
    },
    {
     "name": "stderr",
     "output_type": "stream",
     "text": [
      "2021-11-04 18:13:48.528459: I tensorflow/compiler/mlir/mlir_graph_optimization_pass.cc:185] None of the MLIR Optimization Passes are enabled (registered 2)\n"
     ]
    },
    {
     "name": "stdout",
     "output_type": "stream",
     "text": [
      "Epoch 1/50\n",
      "235/235 [==============================] - 1s 3ms/step - loss: 0.0473 - val_loss: 0.0272\n",
      "Epoch 2/50\n",
      "235/235 [==============================] - 0s 2ms/step - loss: 0.0239 - val_loss: 0.0212\n",
      "Epoch 3/50\n",
      "235/235 [==============================] - 1s 2ms/step - loss: 0.0207 - val_loss: 0.0194\n",
      "Epoch 4/50\n",
      "235/235 [==============================] - 0s 2ms/step - loss: 0.0196 - val_loss: 0.0190\n",
      "Epoch 5/50\n",
      "235/235 [==============================] - 0s 2ms/step - loss: 0.0193 - val_loss: 0.0185\n",
      "Epoch 6/50\n",
      "235/235 [==============================] - 0s 2ms/step - loss: 0.0189 - val_loss: 0.0184\n",
      "Epoch 7/50\n",
      "235/235 [==============================] - 0s 2ms/step - loss: 0.0186 - val_loss: 0.0179\n",
      "Epoch 8/50\n",
      "235/235 [==============================] - 0s 2ms/step - loss: 0.0182 - val_loss: 0.0175\n",
      "Epoch 9/50\n",
      "235/235 [==============================] - 0s 2ms/step - loss: 0.0179 - val_loss: 0.0174\n",
      "Epoch 10/50\n",
      "235/235 [==============================] - 0s 2ms/step - loss: 0.0178 - val_loss: 0.0171\n",
      "Epoch 11/50\n",
      "235/235 [==============================] - 0s 2ms/step - loss: 0.0175 - val_loss: 0.0171\n",
      "Epoch 12/50\n",
      "235/235 [==============================] - 0s 2ms/step - loss: 0.0175 - val_loss: 0.0170\n",
      "Epoch 13/50\n",
      "235/235 [==============================] - 0s 2ms/step - loss: 0.0174 - val_loss: 0.0170\n",
      "Epoch 14/50\n",
      "235/235 [==============================] - 0s 2ms/step - loss: 0.0174 - val_loss: 0.0170\n",
      "Epoch 15/50\n",
      "235/235 [==============================] - 0s 2ms/step - loss: 0.0174 - val_loss: 0.0170\n",
      "Epoch 16/50\n",
      "235/235 [==============================] - 0s 2ms/step - loss: 0.0174 - val_loss: 0.0170\n",
      "Epoch 17/50\n",
      "235/235 [==============================] - 0s 2ms/step - loss: 0.0174 - val_loss: 0.0170\n",
      "Epoch 18/50\n",
      "235/235 [==============================] - 0s 2ms/step - loss: 0.0174 - val_loss: 0.0170\n",
      "Epoch 19/50\n",
      "235/235 [==============================] - 0s 2ms/step - loss: 0.0174 - val_loss: 0.0170\n",
      "Epoch 20/50\n",
      "235/235 [==============================] - 0s 2ms/step - loss: 0.0174 - val_loss: 0.0170\n",
      "Epoch 21/50\n",
      "235/235 [==============================] - 0s 2ms/step - loss: 0.0174 - val_loss: 0.0170\n",
      "Epoch 22/50\n",
      "235/235 [==============================] - 0s 2ms/step - loss: 0.0174 - val_loss: 0.0170\n",
      "Epoch 23/50\n",
      "235/235 [==============================] - 0s 2ms/step - loss: 0.0174 - val_loss: 0.0170\n",
      "Epoch 24/50\n",
      "235/235 [==============================] - 0s 2ms/step - loss: 0.0174 - val_loss: 0.0170\n",
      "Epoch 25/50\n",
      "235/235 [==============================] - 0s 2ms/step - loss: 0.0174 - val_loss: 0.0170\n",
      "Epoch 26/50\n",
      "235/235 [==============================] - 0s 2ms/step - loss: 0.0174 - val_loss: 0.0170\n",
      "Epoch 27/50\n",
      "235/235 [==============================] - 0s 2ms/step - loss: 0.0174 - val_loss: 0.0170\n",
      "Epoch 28/50\n",
      "235/235 [==============================] - 0s 2ms/step - loss: 0.0174 - val_loss: 0.0170\n",
      "Epoch 29/50\n",
      "235/235 [==============================] - 0s 2ms/step - loss: 0.0174 - val_loss: 0.0170\n",
      "Epoch 30/50\n",
      "235/235 [==============================] - 0s 2ms/step - loss: 0.0174 - val_loss: 0.0170\n",
      "Epoch 31/50\n",
      "235/235 [==============================] - 0s 2ms/step - loss: 0.0174 - val_loss: 0.0170\n",
      "Epoch 32/50\n",
      "235/235 [==============================] - 0s 2ms/step - loss: 0.0174 - val_loss: 0.0170\n",
      "Epoch 33/50\n",
      "235/235 [==============================] - 0s 2ms/step - loss: 0.0174 - val_loss: 0.0170\n",
      "Epoch 34/50\n",
      "235/235 [==============================] - 0s 2ms/step - loss: 0.0174 - val_loss: 0.0170\n",
      "Epoch 35/50\n",
      "235/235 [==============================] - 1s 2ms/step - loss: 0.0174 - val_loss: 0.0169\n",
      "Epoch 36/50\n",
      "235/235 [==============================] - 1s 2ms/step - loss: 0.0174 - val_loss: 0.0170\n",
      "Epoch 37/50\n",
      "235/235 [==============================] - 1s 2ms/step - loss: 0.0174 - val_loss: 0.0170\n",
      "Epoch 38/50\n",
      "235/235 [==============================] - 1s 3ms/step - loss: 0.0174 - val_loss: 0.0170\n",
      "Epoch 39/50\n",
      "235/235 [==============================] - 0s 2ms/step - loss: 0.0174 - val_loss: 0.0170\n",
      "Epoch 40/50\n",
      "235/235 [==============================] - 1s 2ms/step - loss: 0.0174 - val_loss: 0.0170\n",
      "Epoch 41/50\n",
      "235/235 [==============================] - 0s 2ms/step - loss: 0.0174 - val_loss: 0.0169\n",
      "Epoch 42/50\n",
      "235/235 [==============================] - 1s 2ms/step - loss: 0.0174 - val_loss: 0.0169\n",
      "Epoch 43/50\n",
      "235/235 [==============================] - 0s 2ms/step - loss: 0.0174 - val_loss: 0.0170\n",
      "Epoch 44/50\n",
      "235/235 [==============================] - 0s 2ms/step - loss: 0.0174 - val_loss: 0.0169\n",
      "Epoch 45/50\n",
      "235/235 [==============================] - 0s 2ms/step - loss: 0.0174 - val_loss: 0.0170\n",
      "Epoch 46/50\n",
      "235/235 [==============================] - 0s 2ms/step - loss: 0.0174 - val_loss: 0.0169\n",
      "Epoch 47/50\n",
      "235/235 [==============================] - 0s 2ms/step - loss: 0.0174 - val_loss: 0.0170\n",
      "Epoch 48/50\n",
      "235/235 [==============================] - 1s 2ms/step - loss: 0.0174 - val_loss: 0.0169\n",
      "Epoch 49/50\n",
      "235/235 [==============================] - 0s 2ms/step - loss: 0.0174 - val_loss: 0.0170\n",
      "Epoch 50/50\n",
      "235/235 [==============================] - 0s 2ms/step - loss: 0.0174 - val_loss: 0.0169\n"
     ]
    },
    {
     "data": {
      "image/png": "[encoded data removed]",
      "text/plain": [
       "<Figure size 1440x288 with 20 Axes>"
      ]
     },
     "metadata": {
      "needs_background": "light"
     },
     "output_type": "display_data"
    }
   ],
   "source": [
    "from tensorflow.keras.layers import Input, Dense\n",
    "from tensorflow.keras.models import Model\n",
    "\n",
    "import os\n",
    "os.environ['KMP_DUPLICATE_LIB_OK'] = 'True'\n",
    "\n",
    "# this is the size of our encoded representations (reduced dimensionality)\n",
    "encoding_dim = 32  \n",
    "\n",
    "# this is our input placeholder\n",
    "input_img = Input(shape=(784,))\n",
    "# \"encoded\" is the encoded representation of the input\n",
    "encoded = Dense(encoding_dim, activation='relu')(input_img)\n",
    "# \"decoded\" is the lossy reconstruction of the input\n",
    "decoded = Dense(784, activation='linear')(encoded)\n",
    "\n",
    "# this model maps an input to its reconstruction\n",
    "autoencoder = Model(input_img, decoded)\n",
    "\n",
    "# this model maps an input to its encoded representation\n",
    "encoder = Model(input_img, encoded)\n",
    "\n",
    "# create a placeholder for an encoded (32-dimensional) input\n",
    "encoded_input = Input(shape=(encoding_dim,))\n",
    "# retrieve the last layer of the autoencoder model\n",
    "decoder_layer = autoencoder.layers[-1]\n",
    "# create the decoder model\n",
    "decoder = Model(encoded_input, decoder_layer(encoded_input))\n",
    "\n",
    "# compile model\n",
    "autoencoder.compile(optimizer='adam', loss='mean_squared_error')\n",
    "\n",
    "# prepare inputs (from MNIST databse)\n",
    "from tensorflow.keras.datasets import mnist\n",
    "import numpy as np\n",
    "(x_train, _), (x_test, _) = mnist.load_data()\n",
    "\n",
    "# normalize images\n",
    "x_train = x_train.astype('float32') / 255.\n",
    "x_test = x_test.astype('float32') / 255.\n",
    "x_train = x_train.reshape((len(x_train), np.prod(x_train.shape[1:])))\n",
    "x_test = x_test.reshape((len(x_test), np.prod(x_test.shape[1:])))\n",
    "print(x_train.shape)\n",
    "print(x_test.shape)\n",
    "\n",
    "# train autoencoder\n",
    "autoencoder.fit(x_train, x_train,\n",
    "                epochs=50,\n",
    "                batch_size=256,\n",
    "                shuffle=True,\n",
    "                validation_data=(x_test, x_test))\n",
    "\n",
    "# encode and decode some digits\n",
    "# note that we take them from the *test* set\n",
    "encoded_imgs = encoder.predict(x_test)\n",
    "decoded_imgs = decoder.predict(encoded_imgs)\n",
    "\n",
    "# use Matplotlib\n",
    "import matplotlib.pyplot as plt\n",
    "\n",
    "n = 10  # how many digits we will display\n",
    "plt.figure(figsize=(20, 4))\n",
    "for i in range(n):\n",
    "    # display original\n",
    "    ax = plt.subplot(2, n, i + 1)\n",
    "    plt.imshow(x_test[i].reshape(28, 28))\n",
    "    plt.gray()\n",
    "    ax.get_xaxis().set_visible(False)\n",
    "    ax.get_yaxis().set_visible(False)\n",
    "\n",
    "    # display reconstruction\n",
    "    ax = plt.subplot(2, n, i + 1 + n)\n",
    "    plt.imshow(decoded_imgs[i].reshape(28, 28))\n",
    "    plt.gray()\n",
    "    ax.get_xaxis().set_visible(False)\n",
    "    ax.get_yaxis().set_visible(False)\n",
    "plt.show()"
   ]
  },
  {
   "cell_type": "code",
   "execution_count": null,
   "metadata": {
    "id": "hLp4DZhLGBqP"
   },
   "outputs": [],
   "source": []
  }
 ],
 "metadata": {
  "colab": {
   "collapsed_sections": [],
   "name": "autoencoder.ipynb",
   "provenance": []
  },
  "kernelspec": {
   "display_name": "Python 3 (ipykernel)",
   "language": "python",
   "name": "python3"
  },
  "language_info": {
   "codemirror_mode": {
    "name": "ipython",
    "version": 3
   },
   "file_extension": ".py",
   "mimetype": "text/x-python",
   "name": "python",
   "nbconvert_exporter": "python",
   "pygments_lexer": "ipython3",
   "version": "3.9.7"
  }
 },
 "nbformat": 4,
 "nbformat_minor": 4
}
