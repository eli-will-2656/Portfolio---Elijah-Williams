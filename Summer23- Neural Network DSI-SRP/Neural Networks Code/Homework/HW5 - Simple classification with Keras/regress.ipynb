{
 "cells": [
  {
   "cell_type": "code",
   "execution_count": 4,
   "metadata": {},
   "outputs": [],
   "source": [
    "##\n",
    "## Simple Linear Network and the Delta Rule\n",
    "##\n",
    "\n",
    "import numpy as np\n",
    "import matplotlib.pyplot as plt\n",
    "import numpy.random as R\n",
    "\n",
    "# supress unnecessary warnings\n",
    "import os\n",
    "os.environ['TF_CPP_MIN_LOG_LEVEL']='2'"
   ]
  },
  {
   "cell_type": "markdown",
   "metadata": {},
   "source": [
    "### create input training patterns and training teacher output\n",
    "\n",
    "Np  = # training patterns<br>\n",
    "nin = # input nodes\n",
    "\n",
    "input pattern array (i) should have dimensions Np x nin\n",
    "\n",
    "With Np=10 and nin=1, note that the original shape of i is (10,) instead of (10,1) - we need to reshape i to explicitly have dimensions (10,1)\n",
    "\n",
    "similarity, the training teacher output array (t) should have dimensions Np x nout - we need to reshape t to explicitly have dimensions (10,1)"
   ]
  },
  {
   "cell_type": "code",
   "execution_count": 5,
   "metadata": {},
   "outputs": [
    {
     "name": "stdout",
     "output_type": "stream",
     "text": [
      "original shape of i : (10,)\n",
      "re-shaped i : (10, 1)\n"
     ]
    }
   ],
   "source": [
    "# input patterns\n",
    "i = np.array([0.12, 0.16, 0.21, 0.25, 0.32, 0.39, 0.45, 0.52, 0.59, 0.68]);\n",
    "nin = 1\n",
    "print('original shape of i : {}'.format(i.shape))\n",
    "\n",
    "# force i to have shape to be Np x nin\n",
    "i = i.reshape((i.shape[0],nin))\n",
    "print('re-shaped i : {}'.format(i.shape))\n",
    "\n",
    "# alternatively, instead of explicitly re-shaping the array, could have defined i this way\n",
    "# i = np.array([[0.12], [0.16], [0.21], [0.25], [0.32], [0.39], [0.45], [0.52], [0.59], [0.68]]);\n",
    "\n",
    "# number of patterns\n",
    "Np = i.shape[0]\n",
    "\n",
    "# teacher outputs\n",
    "t = np.array([0.34, 0.54, 0.72, 0.91, 1.21, 1.35, 1.58, 1.69, 1.80, 2.01]);\n",
    "nout = 1\n",
    "# force t to have shape to be Np x nout\n",
    "t = t.reshape((t.shape[0],nout))\n",
    "\n",
    "# test patterns\n",
    "test = np.linspace(0, .7, 20)\n",
    "# force test to have shape to be Ntest x nout\n",
    "test = test.reshape((test.shape[0],nin))"
   ]
  },
  {
   "cell_type": "markdown",
   "metadata": {},
   "source": [
    "<hr>\n",
    "\n",
    "### here we implement delta rule learning by hand"
   ]
  },
  {
   "cell_type": "code",
   "execution_count": 6,
   "metadata": {},
   "outputs": [],
   "source": [
    "#########################################################################################\n",
    "## delta rule learning by hand"
   ]
  },
  {
   "cell_type": "markdown",
   "metadata": {},
   "source": [
    "whereas using Keras (and other toolkits) we do not need to explicitly create the input (with value 1) to the bias weight (Keras and those toolkits take care of that automatically), here we need to explicitly add those inputs\n",
    "\n",
    "so instead of having Np x nin array, we will have an NP x (nin+1) array"
   ]
  },
  {
   "cell_type": "code",
   "execution_count": 7,
   "metadata": {},
   "outputs": [
    {
     "name": "stdout",
     "output_type": "stream",
     "text": [
      "original input i\n",
      "[[0.12]\n",
      " [0.16]\n",
      " [0.21]\n",
      " [0.25]\n",
      " [0.32]\n",
      " [0.39]\n",
      " [0.45]\n",
      " [0.52]\n",
      " [0.59]\n",
      " [0.68]]\n",
      "\n",
      "input idelta (with column of 1s concatenated)\n",
      "[[0.12 1.  ]\n",
      " [0.16 1.  ]\n",
      " [0.21 1.  ]\n",
      " [0.25 1.  ]\n",
      " [0.32 1.  ]\n",
      " [0.39 1.  ]\n",
      " [0.45 1.  ]\n",
      " [0.52 1.  ]\n",
      " [0.59 1.  ]\n",
      " [0.68 1.  ]]\n"
     ]
    }
   ],
   "source": [
    "# implementing by hand, we want to add the explicit input (with value 1) via the bias weight\n",
    "idelta = np.concatenate((i, np.ones((i.shape[0],1))), axis=1)\n",
    "nindelta = idelta.shape[1]\n",
    "\n",
    "print('original input i')\n",
    "print(i)\n",
    "print()\n",
    "print('input idelta (with column of 1s concatenated)')\n",
    "print(idelta)\n",
    "\n",
    "# need to do the same for the test inputs\n",
    "testdelta = np.concatenate((test, np.ones((test.shape[0],1))), axis=1)"
   ]
  },
  {
   "cell_type": "markdown",
   "metadata": {},
   "source": [
    "note here that we initialize the weight matrix (Wdelta) to small random numbers\n",
    "\n",
    "while this is not critical for simple delta rule learning, it will be for training most complex networks"
   ]
  },
  {
   "cell_type": "code",
   "execution_count": 8,
   "metadata": {},
   "outputs": [],
   "source": [
    "# learning rate\n",
    "LR = .01\n",
    "\n",
    "# initialize weight matrix to small random values\n",
    "Wdelta = .10*R.rand(nindelta,nout)-.05;\n",
    "\n",
    "# number of training epochs\n",
    "epochs = 5000"
   ]
  },
  {
   "cell_type": "markdown",
   "metadata": {},
   "source": [
    "if you turn verbose to True, you can see how the error (SSE) decreases over training\n",
    "\n",
    "note that this implements incremental learning (aka stochastic gradient descent) - weights are updated after every training pattern rather than once per epoch (or in batches)\n",
    "\n",
    "and note that I have given code that calculates the output given the input using both matrix operations and using nested for loops (they give the same answer, but the first method is a lot faster to compute)"
   ]
  },
  {
   "cell_type": "code",
   "execution_count": 9,
   "metadata": {},
   "outputs": [
    {
     "name": "stdout",
     "output_type": "stream",
     "text": [
      "Done training!\n"
     ]
    }
   ],
   "source": [
    "# linear activation function\n",
    "def linear(net):\n",
    "    return net\n",
    "\n",
    "# initialize err array\n",
    "err = np.zeros((epochs))\n",
    "\n",
    "# if verbose, print progress\n",
    "verbose = False\n",
    "\n",
    "# loop through epochs\n",
    "for N in range(epochs):\n",
    "        \n",
    "    # initalize output\n",
    "    outdelta = np.zeros((t.shape[0],1))\n",
    "    \n",
    "    # shuffle order of patterns (M for remapping) - necessary for sgd\n",
    "    M = R.permutation(Np)\n",
    "    \n",
    "    # incremental learning / stochastic gradient descent\n",
    "    for p in range(Np):\n",
    "\n",
    "        # calculate output given input p (using matrix operation in one line of code)\n",
    "        outdelta[[M[p]],:] = linear(np.matmul(idelta[[M[p]],:], Wdelta))\n",
    "        \n",
    "        # now calculate output given input p long-hand (using a for loop instead)\n",
    "        for J in range(nout):\n",
    "            net = 0.\n",
    "            for I in range(nindelta):\n",
    "                net += idelta[M[p],I] * Wdelta[I,J]\n",
    "            outdelta[M[p],J] = linear(net)\n",
    "        \n",
    "        # calculate error\n",
    "        err[N] += np.sum((t[M[p],:]-outdelta[M[p],:])**2)\n",
    "        \n",
    "        # update weights\n",
    "        for J in range(nout):               # loop through all output units\n",
    "            for I in range(nindelta):       # loop through all intput units\n",
    "                Wdelta[I,J] += LR*(t[M[p],J]-outdelta[M[p],J])*1.*idelta[M[p],I]\n",
    "                \n",
    "    # print current err if verbose\n",
    "    if verbose:\n",
    "        print(err[N])\n",
    "\n",
    "print('Done training!')"
   ]
  },
  {
   "cell_type": "markdown",
   "metadata": {},
   "source": [
    "note that for testing, I am just presenting linearly-spaced points that span the continuum of training patterns"
   ]
  },
  {
   "cell_type": "code",
   "execution_count": 10,
   "metadata": {},
   "outputs": [
    {
     "name": "stdout",
     "output_type": "stream",
     "text": [
      "Done testing!\n"
     ]
    }
   ],
   "source": [
    "# model predictions\n",
    "outdelta = np.zeros((testdelta.shape[0],1))\n",
    "for p in range(testdelta.shape[0]):\n",
    "    outdelta[[p],:] = linear(np.matmul(testdelta[[p],:], Wdelta))\n",
    "print('Done testing!')"
   ]
  },
  {
   "cell_type": "code",
   "execution_count": 11,
   "metadata": {},
   "outputs": [
    {
     "data": {
      "image/png": "[encoded data removed]",
      "text/plain": [
       "<Figure size 640x480 with 1 Axes>"
      ]
     },
     "metadata": {},
     "output_type": "display_data"
    }
   ],
   "source": [
    "# plot training data and predictions\n",
    "plt.plot(i,t,'b+',testdelta[:,0],outdelta[:,0])\n",
    "plt.xlabel('input')\n",
    "plt.ylabel('output')\n",
    "plt.title('Neural Network')\n",
    "plt.show()"
   ]
  },
  {
   "cell_type": "markdown",
   "metadata": {},
   "source": [
    "here, the network learns a regression line, with slope W and intercept B"
   ]
  },
  {
   "cell_type": "code",
   "execution_count": 12,
   "metadata": {},
   "outputs": [
    {
     "name": "stdout",
     "output_type": "stream",
     "text": [
      "*** delta rule by hand ***\n",
      "W 2.9571524332453283 | B 0.12420886194016216\n"
     ]
    }
   ],
   "source": [
    "# get learned network weights and biases\n",
    "print('*** delta rule by hand ***')\n",
    "print('W {} | B {}'.format(Wdelta[0,0], Wdelta[1,0]))"
   ]
  },
  {
   "cell_type": "markdown",
   "metadata": {
    "jp-MarkdownHeadingCollapsed": true,
    "tags": []
   },
   "source": [
    "<hr>\n",
    "\n",
    "### with linear regression in scikit-learn"
   ]
  },
  {
   "cell_type": "code",
   "execution_count": 13,
   "metadata": {},
   "outputs": [],
   "source": [
    "##\n",
    "## basic linear regression\n",
    "##\n",
    "\n",
    "from sklearn import linear_model\n",
    "\n",
    "# Create linear regression object\n",
    "regr = linear_model.LinearRegression()\n",
    "\n",
    "# Train the model using the training sets\n",
    "regr.fit(i, t)\n",
    "\n",
    "# Make predictions using the testing set\n",
    "out_regr = regr.predict(test)"
   ]
  },
  {
   "cell_type": "code",
   "execution_count": 14,
   "metadata": {},
   "outputs": [
    {
     "data": {
      "image/png": "[encoded data removed]",
      "text/plain": [
       "<Figure size 640x480 with 1 Axes>"
      ]
     },
     "metadata": {},
     "output_type": "display_data"
    }
   ],
   "source": [
    "# plot training data and predictions\n",
    "plt.plot(i,t,'b+',test,out_regr)\n",
    "plt.xlabel('input')\n",
    "plt.ylabel('output')\n",
    "plt.title('Linear Regression')\n",
    "plt.show()"
   ]
  },
  {
   "cell_type": "code",
   "execution_count": 15,
   "metadata": {},
   "outputs": [
    {
     "name": "stdout",
     "output_type": "stream",
     "text": [
      "*** using linear regression (scikit-learn) ***\n",
      "slope [[2.95719905]] | intercept [0.12379355]\n",
      "Done with regression!\n"
     ]
    }
   ],
   "source": [
    "# The coefficients\n",
    "print('*** using linear regression (scikit-learn) ***')\n",
    "print('slope {} | intercept {}'.format(regr.coef_, regr.intercept_))\n",
    "print('Done with regression!')"
   ]
  },
  {
   "cell_type": "markdown",
   "metadata": {},
   "source": [
    "<hr>\n",
    "\n",
    "### here we implement delta rule learning in Keras"
   ]
  },
  {
   "cell_type": "code",
   "execution_count": 16,
   "metadata": {},
   "outputs": [
    {
     "ename": "KeyboardInterrupt",
     "evalue": "",
     "output_type": "error",
     "traceback": [
      "\u001b[1;31m---------------------------------------------------------------------------\u001b[0m",
      "\u001b[1;31mKeyboardInterrupt\u001b[0m                         Traceback (most recent call last)",
      "\u001b[1;32mc:\\NSC3270\\Homework\\HW5 - Simple classification with Keras\\regress.ipynb Cell 22\u001b[0m in \u001b[0;36m<cell line: 6>\u001b[1;34m()\u001b[0m\n\u001b[0;32m      <a href='vscode-notebook-cell:/c%3A/NSC3270/Homework/HW5%20-%20Simple%20classification%20with%20Keras/regress.ipynb#X30sZmlsZQ%3D%3D?line=0'>1</a>\u001b[0m \u001b[39m##\u001b[39;00m\n\u001b[0;32m      <a href='vscode-notebook-cell:/c%3A/NSC3270/Homework/HW5%20-%20Simple%20classification%20with%20Keras/regress.ipynb#X30sZmlsZQ%3D%3D?line=1'>2</a>\u001b[0m \u001b[39m## define and train neural network - we will discuss details of these keras pieces later\u001b[39;00m\n\u001b[0;32m      <a href='vscode-notebook-cell:/c%3A/NSC3270/Homework/HW5%20-%20Simple%20classification%20with%20Keras/regress.ipynb#X30sZmlsZQ%3D%3D?line=2'>3</a>\u001b[0m \u001b[39m##\u001b[39;00m\n\u001b[0;32m      <a href='vscode-notebook-cell:/c%3A/NSC3270/Homework/HW5%20-%20Simple%20classification%20with%20Keras/regress.ipynb#X30sZmlsZQ%3D%3D?line=3'>4</a>\u001b[0m \n\u001b[0;32m      <a href='vscode-notebook-cell:/c%3A/NSC3270/Homework/HW5%20-%20Simple%20classification%20with%20Keras/regress.ipynb#X30sZmlsZQ%3D%3D?line=4'>5</a>\u001b[0m \u001b[39m# import tools for basic keras networks \u001b[39;00m\n\u001b[1;32m----> <a href='vscode-notebook-cell:/c%3A/NSC3270/Homework/HW5%20-%20Simple%20classification%20with%20Keras/regress.ipynb#X30sZmlsZQ%3D%3D?line=5'>6</a>\u001b[0m \u001b[39mfrom\u001b[39;00m \u001b[39mtensorflow\u001b[39;00m\u001b[39m.\u001b[39;00m\u001b[39mkeras\u001b[39;00m \u001b[39mimport\u001b[39;00m models\n\u001b[0;32m      <a href='vscode-notebook-cell:/c%3A/NSC3270/Homework/HW5%20-%20Simple%20classification%20with%20Keras/regress.ipynb#X30sZmlsZQ%3D%3D?line=6'>7</a>\u001b[0m \u001b[39mfrom\u001b[39;00m \u001b[39mtensorflow\u001b[39;00m\u001b[39m.\u001b[39;00m\u001b[39mkeras\u001b[39;00m \u001b[39mimport\u001b[39;00m layers\n\u001b[0;32m      <a href='vscode-notebook-cell:/c%3A/NSC3270/Homework/HW5%20-%20Simple%20classification%20with%20Keras/regress.ipynb#X30sZmlsZQ%3D%3D?line=8'>9</a>\u001b[0m nout \u001b[39m=\u001b[39m \u001b[39m1\u001b[39m\n",
      "File \u001b[1;32mc:\\NSC3270\\.venv\\lib\\site-packages\\tensorflow\\__init__.py:37\u001b[0m, in \u001b[0;36m<module>\u001b[1;34m\u001b[0m\n\u001b[0;32m     34\u001b[0m \u001b[39mimport\u001b[39;00m \u001b[39msys\u001b[39;00m \u001b[39mas\u001b[39;00m \u001b[39m_sys\u001b[39;00m\n\u001b[0;32m     35\u001b[0m \u001b[39mimport\u001b[39;00m \u001b[39mtyping\u001b[39;00m \u001b[39mas\u001b[39;00m \u001b[39m_typing\u001b[39;00m\n\u001b[1;32m---> 37\u001b[0m \u001b[39mfrom\u001b[39;00m \u001b[39mtensorflow\u001b[39;00m\u001b[39m.\u001b[39;00m\u001b[39mpython\u001b[39;00m\u001b[39m.\u001b[39;00m\u001b[39mtools\u001b[39;00m \u001b[39mimport\u001b[39;00m module_util \u001b[39mas\u001b[39;00m _module_util\n\u001b[0;32m     38\u001b[0m \u001b[39mfrom\u001b[39;00m \u001b[39mtensorflow\u001b[39;00m\u001b[39m.\u001b[39;00m\u001b[39mpython\u001b[39;00m\u001b[39m.\u001b[39;00m\u001b[39mutil\u001b[39;00m\u001b[39m.\u001b[39;00m\u001b[39mlazy_loader\u001b[39;00m \u001b[39mimport\u001b[39;00m LazyLoader \u001b[39mas\u001b[39;00m _LazyLoader\n\u001b[0;32m     40\u001b[0m \u001b[39m# Make sure code inside the TensorFlow codebase can use tf2.enabled() at import.\u001b[39;00m\n",
      "File \u001b[1;32mc:\\NSC3270\\.venv\\lib\\site-packages\\tensorflow\\python\\__init__.py:37\u001b[0m, in \u001b[0;36m<module>\u001b[1;34m\u001b[0m\n\u001b[0;32m     29\u001b[0m \u001b[39m# We aim to keep this file minimal and ideally remove completely.\u001b[39;00m\n\u001b[0;32m     30\u001b[0m \u001b[39m# If you are adding a new file with @tf_export decorators,\u001b[39;00m\n\u001b[0;32m     31\u001b[0m \u001b[39m# import it in modules_with_exports.py instead.\u001b[39;00m\n\u001b[0;32m     32\u001b[0m \n\u001b[0;32m     33\u001b[0m \u001b[39m# go/tf-wildcard-import\u001b[39;00m\n\u001b[0;32m     34\u001b[0m \u001b[39m# pylint: disable=wildcard-import,g-bad-import-order,g-import-not-at-top\u001b[39;00m\n\u001b[0;32m     36\u001b[0m \u001b[39mfrom\u001b[39;00m \u001b[39mtensorflow\u001b[39;00m\u001b[39m.\u001b[39;00m\u001b[39mpython\u001b[39;00m \u001b[39mimport\u001b[39;00m pywrap_tensorflow \u001b[39mas\u001b[39;00m _pywrap_tensorflow\n\u001b[1;32m---> 37\u001b[0m \u001b[39mfrom\u001b[39;00m \u001b[39mtensorflow\u001b[39;00m\u001b[39m.\u001b[39;00m\u001b[39mpython\u001b[39;00m\u001b[39m.\u001b[39;00m\u001b[39meager\u001b[39;00m \u001b[39mimport\u001b[39;00m context\n\u001b[0;32m     39\u001b[0m \u001b[39m# pylint: enable=wildcard-import\u001b[39;00m\n\u001b[0;32m     40\u001b[0m \n\u001b[0;32m     41\u001b[0m \u001b[39m# Bring in subpackages.\u001b[39;00m\n\u001b[0;32m     42\u001b[0m \u001b[39mfrom\u001b[39;00m \u001b[39mtensorflow\u001b[39;00m\u001b[39m.\u001b[39;00m\u001b[39mpython\u001b[39;00m \u001b[39mimport\u001b[39;00m data\n",
      "File \u001b[1;32mc:\\NSC3270\\.venv\\lib\\site-packages\\tensorflow\\python\\eager\\context.py:29\u001b[0m, in \u001b[0;36m<module>\u001b[1;34m\u001b[0m\n\u001b[0;32m     26\u001b[0m \u001b[39mimport\u001b[39;00m \u001b[39mnumpy\u001b[39;00m \u001b[39mas\u001b[39;00m \u001b[39mnp\u001b[39;00m\n\u001b[0;32m     27\u001b[0m \u001b[39mimport\u001b[39;00m \u001b[39msix\u001b[39;00m\n\u001b[1;32m---> 29\u001b[0m \u001b[39mfrom\u001b[39;00m \u001b[39mtensorflow\u001b[39;00m\u001b[39m.\u001b[39;00m\u001b[39mcore\u001b[39;00m\u001b[39m.\u001b[39;00m\u001b[39mframework\u001b[39;00m \u001b[39mimport\u001b[39;00m function_pb2\n\u001b[0;32m     30\u001b[0m \u001b[39mfrom\u001b[39;00m \u001b[39mtensorflow\u001b[39;00m\u001b[39m.\u001b[39;00m\u001b[39mcore\u001b[39;00m\u001b[39m.\u001b[39;00m\u001b[39mprotobuf\u001b[39;00m \u001b[39mimport\u001b[39;00m config_pb2\n\u001b[0;32m     31\u001b[0m \u001b[39mfrom\u001b[39;00m \u001b[39mtensorflow\u001b[39;00m\u001b[39m.\u001b[39;00m\u001b[39mcore\u001b[39;00m\u001b[39m.\u001b[39;00m\u001b[39mprotobuf\u001b[39;00m \u001b[39mimport\u001b[39;00m coordination_config_pb2\n",
      "File \u001b[1;32mc:\\NSC3270\\.venv\\lib\\site-packages\\tensorflow\\core\\framework\\function_pb2.py:17\u001b[0m, in \u001b[0;36m<module>\u001b[1;34m\u001b[0m\n\u001b[0;32m     13\u001b[0m _sym_db \u001b[39m=\u001b[39m _symbol_database\u001b[39m.\u001b[39mDefault()\n\u001b[0;32m     16\u001b[0m \u001b[39mfrom\u001b[39;00m \u001b[39mtensorflow\u001b[39;00m\u001b[39m.\u001b[39;00m\u001b[39mcore\u001b[39;00m\u001b[39m.\u001b[39;00m\u001b[39mframework\u001b[39;00m \u001b[39mimport\u001b[39;00m attr_value_pb2 \u001b[39mas\u001b[39;00m tensorflow_dot_core_dot_framework_dot_attr__value__pb2\n\u001b[1;32m---> 17\u001b[0m \u001b[39mfrom\u001b[39;00m \u001b[39mtensorflow\u001b[39;00m\u001b[39m.\u001b[39;00m\u001b[39mcore\u001b[39;00m\u001b[39m.\u001b[39;00m\u001b[39mframework\u001b[39;00m \u001b[39mimport\u001b[39;00m node_def_pb2 \u001b[39mas\u001b[39;00m tensorflow_dot_core_dot_framework_dot_node__def__pb2\n\u001b[0;32m     18\u001b[0m \u001b[39mfrom\u001b[39;00m \u001b[39mtensorflow\u001b[39;00m\u001b[39m.\u001b[39;00m\u001b[39mcore\u001b[39;00m\u001b[39m.\u001b[39;00m\u001b[39mframework\u001b[39;00m \u001b[39mimport\u001b[39;00m op_def_pb2 \u001b[39mas\u001b[39;00m tensorflow_dot_core_dot_framework_dot_op__def__pb2\n\u001b[0;32m     21\u001b[0m DESCRIPTOR \u001b[39m=\u001b[39m _descriptor\u001b[39m.\u001b[39mFileDescriptor(\n\u001b[0;32m     22\u001b[0m   name\u001b[39m=\u001b[39m\u001b[39m'\u001b[39m\u001b[39mtensorflow/core/framework/function.proto\u001b[39m\u001b[39m'\u001b[39m,\n\u001b[0;32m     23\u001b[0m   package\u001b[39m=\u001b[39m\u001b[39m'\u001b[39m\u001b[39mtensorflow\u001b[39m\u001b[39m'\u001b[39m,\n\u001b[1;32m   (...)\u001b[0m\n\u001b[0;32m     27\u001b[0m   ,\n\u001b[0;32m     28\u001b[0m   dependencies\u001b[39m=\u001b[39m[tensorflow_dot_core_dot_framework_dot_attr__value__pb2\u001b[39m.\u001b[39mDESCRIPTOR,tensorflow_dot_core_dot_framework_dot_node__def__pb2\u001b[39m.\u001b[39mDESCRIPTOR,tensorflow_dot_core_dot_framework_dot_op__def__pb2\u001b[39m.\u001b[39mDESCRIPTOR,])\n",
      "File \u001b[1;32mc:\\NSC3270\\.venv\\lib\\site-packages\\tensorflow\\core\\framework\\node_def_pb2.py:17\u001b[0m, in \u001b[0;36m<module>\u001b[1;34m\u001b[0m\n\u001b[0;32m     13\u001b[0m _sym_db \u001b[39m=\u001b[39m _symbol_database\u001b[39m.\u001b[39mDefault()\n\u001b[0;32m     16\u001b[0m \u001b[39mfrom\u001b[39;00m \u001b[39mtensorflow\u001b[39;00m\u001b[39m.\u001b[39;00m\u001b[39mcore\u001b[39;00m\u001b[39m.\u001b[39;00m\u001b[39mframework\u001b[39;00m \u001b[39mimport\u001b[39;00m attr_value_pb2 \u001b[39mas\u001b[39;00m tensorflow_dot_core_dot_framework_dot_attr__value__pb2\n\u001b[1;32m---> 17\u001b[0m \u001b[39mfrom\u001b[39;00m \u001b[39mtensorflow\u001b[39;00m\u001b[39m.\u001b[39;00m\u001b[39mcore\u001b[39;00m\u001b[39m.\u001b[39;00m\u001b[39mframework\u001b[39;00m \u001b[39mimport\u001b[39;00m full_type_pb2 \u001b[39mas\u001b[39;00m tensorflow_dot_core_dot_framework_dot_full__type__pb2\n\u001b[0;32m     20\u001b[0m DESCRIPTOR \u001b[39m=\u001b[39m _descriptor\u001b[39m.\u001b[39mFileDescriptor(\n\u001b[0;32m     21\u001b[0m   name\u001b[39m=\u001b[39m\u001b[39m'\u001b[39m\u001b[39mtensorflow/core/framework/node_def.proto\u001b[39m\u001b[39m'\u001b[39m,\n\u001b[0;32m     22\u001b[0m   package\u001b[39m=\u001b[39m\u001b[39m'\u001b[39m\u001b[39mtensorflow\u001b[39m\u001b[39m'\u001b[39m,\n\u001b[1;32m   (...)\u001b[0m\n\u001b[0;32m     26\u001b[0m   ,\n\u001b[0;32m     27\u001b[0m   dependencies\u001b[39m=\u001b[39m[tensorflow_dot_core_dot_framework_dot_attr__value__pb2\u001b[39m.\u001b[39mDESCRIPTOR,tensorflow_dot_core_dot_framework_dot_full__type__pb2\u001b[39m.\u001b[39mDESCRIPTOR,])\n\u001b[0;32m     32\u001b[0m _NODEDEF_ATTRENTRY \u001b[39m=\u001b[39m _descriptor\u001b[39m.\u001b[39mDescriptor(\n\u001b[0;32m     33\u001b[0m   name\u001b[39m=\u001b[39m\u001b[39m'\u001b[39m\u001b[39mAttrEntry\u001b[39m\u001b[39m'\u001b[39m,\n\u001b[0;32m     34\u001b[0m   full_name\u001b[39m=\u001b[39m\u001b[39m'\u001b[39m\u001b[39mtensorflow.NodeDef.AttrEntry\u001b[39m\u001b[39m'\u001b[39m,\n\u001b[1;32m   (...)\u001b[0m\n\u001b[0;32m     66\u001b[0m   serialized_end\u001b[39m=\u001b[39m\u001b[39m451\u001b[39m,\n\u001b[0;32m     67\u001b[0m )\n",
      "File \u001b[1;32m<frozen importlib._bootstrap>:1007\u001b[0m, in \u001b[0;36m_find_and_load\u001b[1;34m(name, import_)\u001b[0m\n",
      "File \u001b[1;32m<frozen importlib._bootstrap>:986\u001b[0m, in \u001b[0;36m_find_and_load_unlocked\u001b[1;34m(name, import_)\u001b[0m\n",
      "File \u001b[1;32m<frozen importlib._bootstrap>:680\u001b[0m, in \u001b[0;36m_load_unlocked\u001b[1;34m(spec)\u001b[0m\n",
      "File \u001b[1;32m<frozen importlib._bootstrap_external>:846\u001b[0m, in \u001b[0;36mexec_module\u001b[1;34m(self, module)\u001b[0m\n",
      "File \u001b[1;32m<frozen importlib._bootstrap_external>:941\u001b[0m, in \u001b[0;36mget_code\u001b[1;34m(self, fullname)\u001b[0m\n",
      "File \u001b[1;32m<frozen importlib._bootstrap_external>:1040\u001b[0m, in \u001b[0;36mget_data\u001b[1;34m(self, path)\u001b[0m\n",
      "\u001b[1;31mKeyboardInterrupt\u001b[0m: "
     ]
    }
   ],
   "source": [
    "##\n",
    "## define and train neural network - we will discuss details of these keras pieces later\n",
    "##\n",
    "\n",
    "# import tools for basic keras networks \n",
    "from tensorflow.keras import models\n",
    "from tensorflow.keras import layers\n",
    "\n",
    "nout = 1\n",
    "# create architecture of simple neural network model\n",
    "network = models.Sequential()\n",
    "network.add(layers.Dense(nout, \n",
    "                         activation='linear', \n",
    "                         input_shape=(nin,)))\n",
    "\n",
    "# print a model summary\n",
    "print(network.summary())\n",
    "print()\n",
    "for layer in network.layers:\n",
    "    print('layer name : {} | input shape : {} | output shape : {}'.format(layer.name, layer.input.shape, layer.output.shape))\n",
    "print()\n",
    "for layer in network.layers:\n",
    "    print(layer.get_config())\n",
    "print()"
   ]
  },
  {
   "cell_type": "code",
   "execution_count": null,
   "metadata": {},
   "outputs": [],
   "source": [
    "from tensorflow.keras import optimizers\n",
    "\n",
    "# configure optimizer\n",
    "sgd = optimizers.SGD(learning_rate=0.01, decay=1e-6, momentum=0.9)\n",
    "\n",
    "# compile network\n",
    "network.compile(optimizer=sgd, \n",
    "                loss='mean_squared_error', \n",
    "                metrics=['accuracy', 'mse'])"
   ]
  },
  {
   "cell_type": "code",
   "execution_count": null,
   "metadata": {},
   "outputs": [],
   "source": [
    "print(i)\n",
    "print()\n",
    "print(t)"
   ]
  },
  {
   "cell_type": "code",
   "execution_count": null,
   "metadata": {},
   "outputs": [],
   "source": [
    "# now train the network\n",
    "history = network.fit(i, t, verbose=False, epochs=5000)\n",
    "print('Done training!')"
   ]
  },
  {
   "cell_type": "code",
   "execution_count": null,
   "metadata": {},
   "outputs": [],
   "source": [
    "print(test)"
   ]
  },
  {
   "cell_type": "code",
   "execution_count": null,
   "metadata": {},
   "outputs": [],
   "source": [
    "# model predictions\n",
    "out = network.predict(test)\n",
    "print('Done testing!')"
   ]
  },
  {
   "cell_type": "code",
   "execution_count": null,
   "metadata": {},
   "outputs": [],
   "source": [
    "# plot training data and predictions\n",
    "plt.plot(i,t,'b+',test,out)\n",
    "plt.xlabel('input')\n",
    "plt.ylabel('output')\n",
    "plt.title('Neural Network')\n",
    "plt.show()"
   ]
  },
  {
   "cell_type": "code",
   "execution_count": null,
   "metadata": {},
   "outputs": [],
   "source": [
    "# get learned network weights and biases\n",
    "W = network.layers[0].get_weights()[0]     # weights input to hidden\n",
    "B = network.layers[0].get_weights()[1]     # bias to hidden\n",
    "\n",
    "print('*** using Keras ***')\n",
    "print('W {} | B {}'.format(W[0][0], B[0]))"
   ]
  }
 ],
 "metadata": {
  "kernelspec": {
   "display_name": "Python 3.9.13 ('.venv': venv)",
   "language": "python",
   "name": "python3"
  },
  "language_info": {
   "codemirror_mode": {
    "name": "ipython",
    "version": 3
   },
   "file_extension": ".py",
   "mimetype": "text/x-python",
   "name": "python",
   "nbconvert_exporter": "python",
   "pygments_lexer": "ipython3",
   "version": "3.9.13"
  },
  "vscode": {
   "interpreter": {
    "hash": "3730d5d1c31a0f0507cb21031ee0b4e9aa5b7079f3ceca5ddb3f252bb92fdf07"
   }
  }
 },
 "nbformat": 4,
 "nbformat_minor": 4
}
