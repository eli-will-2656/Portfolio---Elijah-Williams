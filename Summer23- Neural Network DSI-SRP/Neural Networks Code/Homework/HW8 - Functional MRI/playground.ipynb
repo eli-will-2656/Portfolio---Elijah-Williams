{
 "cells": [
  {
   "cell_type": "markdown",
   "metadata": {},
   "source": [
    "## Boolean Masking\n",
    "\n",
    "We can create an array of boolean values, an use that array mask some of the rows of another array"
   ]
  },
  {
   "cell_type": "code",
   "execution_count": 6,
   "metadata": {},
   "outputs": [
    {
     "name": "stdout",
     "output_type": "stream",
     "text": [
      "Original Array:\n",
      "[[ 1.  2.  3.]\n",
      " [ 2.  4.  6.]\n",
      " [ 3.  6.  9.]\n",
      " [ 4.  8. 12.]\n",
      " [ 5. 10. 15.]\n",
      " [ 6. 12. 18.]\n",
      " [ 7. 14. 21.]\n",
      " [ 8. 16. 24.]\n",
      " [ 9. 18. 27.]\n",
      " [10. 20. 30.]]\n",
      "Masked array:\n",
      " [[ 1.  2.  3.]\n",
      " [ 2.  4.  6.]\n",
      " [ 3.  6.  9.]\n",
      " [ 4.  8. 12.]\n",
      " [ 5. 10. 15.]]\n"
     ]
    }
   ],
   "source": [
    "import numpy as np\n",
    "\n",
    "x = np.zeros((10, 3))\n",
    "\n",
    "for i in range(10):\n",
    "    for j in range(3):\n",
    "        x[i,j] = (i+1)*(j+1)\n",
    "\n",
    "print(\"Original Array:\")\n",
    "print(x)\n",
    "\n",
    "mask = np.ones(10, dtype=bool) # Create an array of boolean values (all true)\n",
    "mask[5:10] = False             # Change some of those values to false\n",
    "\n",
    "print(\"Masked array:\\n\", x[mask, :])"
   ]
  },
  {
   "cell_type": "code",
   "execution_count": null,
   "metadata": {},
   "outputs": [],
   "source": []
  }
 ],
 "metadata": {
  "kernelspec": {
   "display_name": "Python 3.9.13 ('.venv': venv)",
   "language": "python",
   "name": "python3"
  },
  "language_info": {
   "codemirror_mode": {
    "name": "ipython",
    "version": 3
   },
   "file_extension": ".py",
   "mimetype": "text/x-python",
   "name": "python",
   "nbconvert_exporter": "python",
   "pygments_lexer": "ipython3",
   "version": "3.9.13"
  },
  "orig_nbformat": 4,
  "vscode": {
   "interpreter": {
    "hash": "3730d5d1c31a0f0507cb21031ee0b4e9aa5b7079f3ceca5ddb3f252bb92fdf07"
   }
  }
 },
 "nbformat": 4,
 "nbformat_minor": 2
}
