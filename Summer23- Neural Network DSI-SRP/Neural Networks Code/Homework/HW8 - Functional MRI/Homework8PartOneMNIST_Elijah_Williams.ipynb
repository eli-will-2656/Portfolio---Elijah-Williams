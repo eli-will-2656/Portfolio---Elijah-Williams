{
 "cells": [
  {
   "cell_type": "code",
   "execution_count": 150,
   "id": "874620ef-c649-4f3c-8d28-3a200414e355",
   "metadata": {},
   "outputs": [],
   "source": [
    "import os\n",
    "import numpy as np\n",
    "import scipy.stats as sps\n",
    "import matplotlib.pyplot as plt"
   ]
  },
  {
   "cell_type": "markdown",
   "id": "8941cc3b-0b9f-4bbd-bc0b-f52a994622e6",
   "metadata": {},
   "source": [
    "<hr>\n",
    "\n",
    "#### read in and prepare Haxby data"
   ]
  },
  {
   "cell_type": "code",
   "execution_count": 151,
   "id": "d6c4507e-f2af-43b2-aca6-58ab0740e75b",
   "metadata": {},
   "outputs": [],
   "source": [
    "# prepare Haxby data (see slides on Brightspace for details)\n",
    "\n",
    "def prep_haxby_data(dirpath = ''):\n",
    "    ### load the functional MRI patterns ###\n",
    "\n",
    "    # every 2.5 seconds the scanner records a full brain image\n",
    "    # we have extracted just voxels in ventral temporal lobe\n",
    "    # row number corresponds to image number / time point\n",
    "    # column number corresponds to voxel number within ventral temporal lobe\n",
    "    # there should be 1452 images, and 32450 voxels\n",
    "    full_patterns = np.load(dirpath + 'haxby_vt_patterns.npy')\n",
    "    n_img = full_patterns.shape[0]\n",
    "    n_vox = full_patterns.shape[1]\n",
    "\n",
    "    \"\"\"\n",
    "    plt.plot(full_patterns[:, 10000])\n",
    "    mean = [np.mean(full_patterns[:, 10000])] * n_img\n",
    "    plt.plot(mean)\n",
    "    plt.show()\n",
    "    \"\"\"\n",
    "    # if an fMRI experiment takes an hour, you usually wouldn't run \n",
    "    # the scanner for an hour straight\n",
    "    # usually, you would run it for a block of time (several minutes) \n",
    "    # called a 'run'\n",
    "    # each run contains a chunk of the experiment\n",
    "    # if there are several conditions in your experiment, usually you \n",
    "    # try to put each condition within each run\n",
    "    # Haxby et al had 8 experimental conditions, one condition for each \n",
    "    # of the 8 categories they used - they had 12 runs, and within each \n",
    "    # run they presented a block of images from the each category.\n",
    "    n_runs = 12\n",
    "\n",
    "    ### processing the experimental design ###\n",
    "    \n",
    "    # Haxby et al. provide a text file 'labels.txt' which says when \n",
    "    # they presented items from one category or another\n",
    "    # labels.txt has 1453 lines.  \n",
    "    # the first line is header information  \n",
    "    # then there are 1452 lines, one for each image, saying what was \n",
    "    # happening in the experiment at that time point\n",
    "    # each line specifies the category name / condition, and the run \n",
    "    # number (though the header calls this \"chunks\")\n",
    "    # aside from the 8 categories, there is also time when the screen was \n",
    "    # blank, in between category presentations\n",
    "    # they call this 'rest'; we will exclude rest images from our classification\n",
    "\n",
    "    # a bunch of items from the same category would be presented one \n",
    "    # after another\n",
    "    # so if you look at labels.txt, you'll see there will be 9 lines in a \n",
    "    # row that all say 'scissors'\n",
    "\n",
    "    # read the labels.txt file\n",
    "    fid = open(dirpath + 'labels.txt', 'r')\n",
    "    # this command reads in the first line of the file, the header, \n",
    "    # which we don't need \n",
    "    temp = fid.readline()\n",
    "\n",
    "    # these are the 9 different strings that appear in labels.txt\n",
    "    cond_names = ['face', 'house', 'cat', 'shoe', 'scissors', 'bottle', \n",
    "                  'scrambledpix', 'chair', 'rest']\n",
    "    # this will store the 'one-hot' target values for the classifier\n",
    "    all_targets = np.zeros([n_img, len(cond_names)])\n",
    "    # this will store the run index\n",
    "    all_runs = np.zeros([n_img,])\n",
    "\n",
    "    # now we iterate through the 1452 lines in labels.txt\n",
    "    # line.split breaks the string into 2 parts\n",
    "    # the first is 'this_cond' which says which category/condition (or rest)\n",
    "    # the second is 'this_run' which tells you the functional run of this image \n",
    "    imgcount = 0\n",
    "    for line in fid:\n",
    "        temp = line.split()\n",
    "        this_cond = temp[0]\n",
    "        this_run = temp[1]\n",
    "        all_targets[imgcount, cond_names.index(this_cond)] = 1\n",
    "        all_runs[imgcount] = int(this_run)\n",
    "        imgcount += 1\n",
    "\n",
    "    ### cheap version of accounting for the hemodynamic lag ###\n",
    "\n",
    "    # as we reviewed in lecture, there is a lag from when a stimulus is \n",
    "    # presented, to when the brain's vasculature has its peak response\n",
    "    # one can properly take this hemodynamic lag into account, but we \n",
    "    # are going to do a short-cut\n",
    "    # if each image takes 2.5 seconds to acquire, and it takes about 5 \n",
    "    # seconds for the brain to reach its peak response, we can shift the \n",
    "    # condition labels forward by two images\n",
    "    # an easy way to do this is to concatenate 2 rows of zeros at the \n",
    "    # beginning of the targets matrix and then remove 2 rows of zeros \n",
    "    # from the end of the targets matrix\n",
    "    # that pushes every label forward by 5 seconds\n",
    "    \n",
    "    # just shift all the regressors over by 2 time points\n",
    "    # each image takes 2.5 seconds to acquire\n",
    "    prepend_zeros = np.zeros([2, all_targets.shape[1]])\n",
    "    shift_all_targets = np.concatenate((prepend_zeros, all_targets))\n",
    "    mask = np.ones(shift_all_targets.shape[0], dtype=bool)\n",
    "    mask[shift_all_targets.shape[0]-2:shift_all_targets.shape[0]] = False\n",
    "    shift_all_targets = shift_all_targets[mask, :]\n",
    "    \n",
    "    # now that we are done just replace the original target labels \n",
    "    # with the shifted ones\n",
    "    all_targets = shift_all_targets\n",
    "\n",
    "    ### remove rests from runs ###\n",
    "    \n",
    "    # modify the labels matrix\n",
    "    # remove the rest unit, we don't want to classify rest patterns\n",
    "    temp_targets = all_targets[:, :8].copy()\n",
    "    # get rid of images where there isn't a category being presented\n",
    "    # and make it a boolean array\n",
    "    label_present = np.sum(temp_targets, axis=1)> 0\n",
    "\n",
    "    # label_present is a boolean array indicating when a category is \n",
    "    # being presented\n",
    "    # we are using it as a mask to get rid of all the time-points \n",
    "    # where nothing is being presented\n",
    "    # in other words it gets rid of all the rest periods\n",
    "    targets = temp_targets[label_present, :]\n",
    "    patterns = full_patterns[label_present, :]\n",
    "    runs = all_runs[label_present]\n",
    "    \n",
    "    ### z-scoring is a kind of normalization ###\n",
    "    n_vox = patterns.shape[1]\n",
    "    for i in range(n_vox):\n",
    "        patterns[:,i] = (patterns[:,i] - patterns[:,i].mean()) / patterns[:,i].std()\n",
    "\n",
    "    # for a set of numbers, get the mean and standard deviation\n",
    "    # subtract the mean off every number, divide every number \n",
    "    # by the standard deviation\n",
    "    # here we normalize our patterns using a temporal z-score,\n",
    "    # meaning that we normalize the values for each voxel, across time    \n",
    "    \n",
    "    # here are the arrays you need to do classification\n",
    "    return patterns, targets, runs"
   ]
  },
  {
   "cell_type": "markdown",
   "id": "85e5a472-286d-4c22-b1f4-04d7b48bab5b",
   "metadata": {},
   "source": [
    "patterns.shape, targets.shape, runs.shape<br>\n",
    "864 : number of fMRI brain scans (onebrain scan per object image)<br>\n",
    "32450 : number voxels in IT cortex (using an anatomical mask)<br>\n",
    "8 : number of object categories (face, house, cat, shoe, scissors, bottle, scrambled, chair, rest)\n",
    "\n",
    "patterns: contains voxel (fMRI) data\n",
    "\n",
    "targets: contains the condition (category) associated with each fMRI scan\n",
    "\n",
    "runs: which \"run\" each scan is associated with"
   ]
  },
  {
   "cell_type": "code",
   "execution_count": 204,
   "id": "60283587-270d-4431-8159-ce5e6d64935e",
   "metadata": {},
   "outputs": [
    {
     "name": "stdout",
     "output_type": "stream",
     "text": [
      "(864, 32450)\n",
      "(864, 8)\n",
      "(864,)\n"
     ]
    }
   ],
   "source": [
    "# load Haxby et al. data (see slides on Brightspace)\n",
    "\n",
    "patterns, targets, runs = prep_haxby_data()\n",
    "\n",
    "print(patterns.shape)\n",
    "print(targets.shape)\n",
    "print(runs.shape)\n",
    "\n",
    "cond_names = ['face', 'house', 'cat', 'shoe', 'scissors', 'bottle',\n",
    "              'scrambledpix', 'chair', 'rest']"
   ]
  },
  {
   "cell_type": "markdown",
   "id": "d45a8be1-ab6a-4a66-b781-7a0f6f86fabe",
   "metadata": {},
   "source": [
    "<hr>\n",
    "\n",
    "#### \"feature selection\"\n",
    "\n",
    "with \"feature selection\", selecting voxels that modulate statistically significantly according to object category"
   ]
  },
  {
   "cell_type": "code",
   "execution_count": 153,
   "id": "7ec0f3e5-8b6f-4605-b387-1c1509d0838e",
   "metadata": {},
   "outputs": [],
   "source": [
    "# \"feature selection\" based on picking statistically significant voxels\n",
    "\n",
    "def feature_selection(train_pats, train_targs, test_pats):\n",
    "    pval = 0.1\n",
    "    \n",
    "    keep_these = np.zeros((train_pats.shape[1],))\n",
    "    \n",
    "    # loop through every voxel\n",
    "    for v in range(train_pats.shape[1]):\n",
    "        groups = []\n",
    "        for c in range(train_targets.shape[1]): # train_targets.shape[1] == 72*11 = 794\n",
    "            groups.append(train_pats[train_targs[:, c] == 1., v])\n",
    "           \n",
    "        # and statistically analyze it for category modulation\n",
    "        temp = sps.f_oneway(groups[0], groups[1], groups[2], groups[3],\n",
    "                            groups[4], groups[5], groups[6], groups[7])\n",
    "\n",
    "        if temp.pvalue < pval:\n",
    "            keep_these[v] = 1.\n",
    "    \n",
    "    keep_these = keep_these.astype(bool)\n",
    "    train_pats = train_pats[:, keep_these]\n",
    "    test_pats = test_pats[:, keep_these]\n",
    "    \n",
    "    return train_pats, test_pats"
   ]
  },
  {
   "cell_type": "markdown",
   "id": "95313beb-f17b-43d9-8756-77aa874a4d9c",
   "metadata": {},
   "source": [
    "<hr>\n",
    "\n",
    "#### some starting points for Q1 \n",
    "\n",
    "(see slides on Brightspace from class for details)"
   ]
  },
  {
   "cell_type": "code",
   "execution_count": 154,
   "id": "80fc8f82-85fd-42e3-9236-093d1a205a39",
   "metadata": {},
   "outputs": [
    {
     "name": "stdout",
     "output_type": "stream",
     "text": [
      "(72, 32450)\n"
     ]
    }
   ],
   "source": [
    "# an example \"leaving out\" a particular run\n",
    "\n",
    "example_test_run = 1\n",
    "\n",
    "train_these = runs != example_test_run\n",
    "test_these  = runs == example_test_run\n",
    "\n",
    "# an example of logical indexing\n",
    "train_patterns = patterns[train_these, :]\n",
    "train_targets = targets[train_these, :]\n",
    "\n",
    "test_patterns = patterns[test_these, :]\n",
    "test_targets = targets[test_these, :]\n",
    "\n",
    "print(test_patterns.shape)"
   ]
  },
  {
   "cell_type": "code",
   "execution_count": 157,
   "id": "f78a9fa6-7ddc-441a-9612-e48fbd9bc013",
   "metadata": {},
   "outputs": [],
   "source": [
    "# \"feature selection\" of statistically category-modulated voxels\n",
    "\n",
    "fs_train_patterns, fs_test_patterns = feature_selection(train_patterns,\n",
    "                                                        train_targets,\n",
    "                                                        test_patterns)"
   ]
  },
  {
   "cell_type": "code",
   "execution_count": 158,
   "id": "d94f0e36-8446-4221-b125-687a72fd227b",
   "metadata": {},
   "outputs": [
    {
     "data": {
      "text/plain": [
       "(792, 12763)"
      ]
     },
     "execution_count": 158,
     "metadata": {},
     "output_type": "execute_result"
    }
   ],
   "source": [
    "fs_train_patterns.shape"
   ]
  },
  {
   "cell_type": "code",
   "execution_count": 159,
   "id": "ad2dadaf-48dd-42fa-a3cd-c4371aa4bc94",
   "metadata": {},
   "outputs": [
    {
     "name": "stdout",
     "output_type": "stream",
     "text": [
      "(792, 12763)\n",
      "(792, 8)\n",
      "(72, 12763)\n",
      "(72, 8)\n"
     ]
    }
   ],
   "source": [
    "print(fs_train_patterns.shape)\n",
    "print(train_targets.shape)\n",
    "print(fs_test_patterns.shape)\n",
    "print(test_targets.shape)"
   ]
  },
  {
   "cell_type": "code",
   "execution_count": 160,
   "id": "6a2fce4a-41af-4385-a528-9cec3726cc31",
   "metadata": {},
   "outputs": [
    {
     "name": "stdout",
     "output_type": "stream",
     "text": [
      "12\n",
      "12763\n",
      "8\n"
     ]
    }
   ],
   "source": [
    "# report some metrics on Haxby experiment (n_vox is for this fold)\n",
    "\n",
    "n_runs = np.max(runs).astype('int') + 1\n",
    "n_vox  = fs_train_patterns.shape[1]\n",
    "n_cats = targets.shape[1]\n",
    "\n",
    "cond_names = ['face', 'house', 'cat', 'shoe', 'scissors', 'bottle', \n",
    "              'scrambledpix', 'chair', 'rest']\n",
    "\n",
    "print(n_runs)\n",
    "print(n_vox)\n",
    "print(n_cats)"
   ]
  },
  {
   "cell_type": "markdown",
   "id": "0f61361c",
   "metadata": {},
   "source": [
    "# Part 1a)\n",
    "Run MVPA on fmri data for Haxby participant using leave-one-out cross validation"
   ]
  },
  {
   "cell_type": "code",
   "execution_count": 224,
   "id": "0e9ebb25-aba2-4f35-80d1-14c798040673",
   "metadata": {},
   "outputs": [],
   "source": [
    "## Define a function that get's one fold's worth of training and testing inputs/outputs\n",
    "\n",
    "def get_fold_data(fold, targets_arr):\n",
    "    # Create a boolean mask to select rows that will be used for training / testing\n",
    "    # Boolean mask will be dependent on the runs\n",
    "    # Selecting all images not from the testing run \n",
    "    is_train = (runs != fold)\n",
    "    is_test = (runs == fold)\n",
    "\n",
    "    f_training_patterns = patterns[is_train, :]\n",
    "    f_training_targets = targets_arr[is_train, :]\n",
    "\n",
    "    f_testing_patterns = patterns[is_test, :]\n",
    "    f_testing_targets = targets_arr[is_test, :]\n",
    "\n",
    "    # Running feature selection on training and testing patterns\n",
    "\n",
    "    # Get rid of voxels in fmri patterns that whose mean BOLD signal does not significantly vary across categories\n",
    "    f_train_pats, f_test_pats = feature_selection(f_training_patterns, f_training_targets, f_testing_patterns)\n",
    "    return f_train_pats, f_training_targets, f_test_pats, f_testing_targets"
   ]
  },
  {
   "cell_type": "code",
   "execution_count": 225,
   "id": "252d6ce0",
   "metadata": {},
   "outputs": [
    {
     "name": "stdout",
     "output_type": "stream",
     "text": [
      "12432\n"
     ]
    }
   ],
   "source": [
    "# Run the feature selection for each of the folds (save some time)\n",
    "fold_data = [get_fold_data(i, targets) for i in range(n_runs)]\n",
    "fold_training_pats = [fold_data[i][0] for i in range(n_runs)]\n",
    "fold_training_targets = [fold_data[i][1] for i in range(n_runs)]\n",
    "fold_testing_pats = [fold_data[i][2] for i in range(n_runs)]\n",
    "fold_testing_targets= [fold_data[i][3] for i in range(n_runs)]\n",
    "print(len(fold_training_pats[3][0]))"
   ]
  },
  {
   "cell_type": "code",
   "execution_count": 216,
   "id": "4e23e079",
   "metadata": {},
   "outputs": [],
   "source": [
    "# Create a classification network that can be trained and evaluated on training and testing data of a fold\n",
    "import tensorflow as tf\n",
    "from tensorflow.keras import models, layers\n",
    "\n",
    "n_folds = n_runs\n",
    "n_categories = len(targets[0, :])\n",
    "\n",
    "def create_classifier(fold, train_pats, train_targets):\n",
    "    f = fold\n",
    "    nin = len(train_pats[0])\n",
    "\n",
    "\n",
    "    classifier = models.Sequential()\n",
    "\n",
    "    classifier.add(\n",
    "        layers.Dense(\n",
    "            n_categories,\n",
    "            activation=\"softmax\",\n",
    "            input_shape=(nin,),\n",
    "            kernel_regularizer= tf.keras.regularizers.l2(0.001)\n",
    "        )\n",
    "    )\n",
    "\n",
    "    # compile the network - categorical cross entropy (loss)\n",
    "    classifier.compile(\n",
    "        loss=\"categorical_crossentropy\",\n",
    "        optimizer=\"sgd\",\n",
    "        metrics= ['categorical_crossentropy', 'accuracy']\n",
    "    )\n",
    "\n",
    "    # Train network\n",
    "    history = classifier.fit(\n",
    "        x=train_pats,\n",
    "        y=train_targets,\n",
    "        epochs=7,\n",
    "        verbose=None\n",
    "    )\n",
    "    return classifier\n",
    "    "
   ]
  },
  {
   "cell_type": "markdown",
   "id": "7e3b6a72",
   "metadata": {},
   "source": [
    "*Epoch Justification* - Loss flattens when epoch > `7`"
   ]
  },
  {
   "cell_type": "code",
   "execution_count": 219,
   "id": "82d6db96",
   "metadata": {},
   "outputs": [],
   "source": [
    "def accuracy_on_categories(classifier, test_pats, test_targets):\n",
    "   # \"\"\"Test classifier on testing set by return accuracy for each of the 8 categories\"\"\"\n",
    "    # How can we separate out the classifier performance across categories\n",
    "    category_accuracy = [] \n",
    "\n",
    "    for i in range(n_categories):\n",
    "        boolean_mask = test_targets[:, i] == 1\n",
    "        cat_pats = test_pats[boolean_mask, :]\n",
    "        cat_targs = test_targets[boolean_mask, :]\n",
    "\n",
    "        history = classifier.evaluate(\n",
    "            x=cat_pats,\n",
    "            y =cat_targs\n",
    "        )\n",
    "        category_accuracy.append(history[2])\n",
    "    \n",
    "    return category_accuracy\n"
   ]
  },
  {
   "cell_type": "code",
   "execution_count": null,
   "id": "17d1ff3c",
   "metadata": {},
   "outputs": [],
   "source": [
    "n_iter = 5\n",
    "accuracy_matrix = np.zeros((n_iter, n_folds, n_categories))\n",
    "\n",
    "for iter in range(n_iter):\n",
    "    for f in range(n_folds):\n",
    "        # Run classifier training function\n",
    "        classifier = create_classifier(f, fold_training_pats[f], fold_training_targets[f])\n",
    "        # Run classifier analysis function\n",
    "        category_accuracy = accuracy_on_categories(classifier, fold_testing_pats[f], fold_testing_targets[f])\n",
    "        accuracy_matrix[iter, f, :] = np.array(category_accuracy)\n"
   ]
  },
  {
   "cell_type": "code",
   "execution_count": 221,
   "id": "0eec99fb",
   "metadata": {},
   "outputs": [
    {
     "name": "stdout",
     "output_type": "stream",
     "text": [
      "########## SUMMARY ##########\n",
      "Overall performance: 0.46504630325362084\n",
      "\n",
      "Average Classification on:\n",
      "(iteration) 1: 0.45023148817320663\n",
      "(iteration) 2: 0.46064815561597544\n",
      "(iteration) 3: 0.4444444510154426\n",
      "(iteration) 4: 0.46875000675208867\n",
      "(iteration) 5: 0.501157414711391\n",
      "\n",
      "(category) face: 0.6592592665304741\n",
      "(category) house: 0.6814814894149701\n",
      "(category) cat: 0.4277777829517921\n",
      "(category) shoe: 0.1555555594464143\n",
      "(category) scissors: 0.38888889787097775\n",
      "(category) bottle: 0.1648148181537787\n",
      "(category) scrambledpix: 0.675925936549902\n",
      "(category) chair: 0.566666675110658\n",
      "\n",
      "(fold) 1: 0.35555556081235407\n",
      "(fold) 2: 0.4722222272306681\n",
      "(fold) 3: 0.5166666755452752\n",
      "(fold) 4: 0.6055555626749992\n",
      "(fold) 5: 0.5083333412185311\n",
      "(fold) 6: 0.6333333428949117\n",
      "(fold) 7: 0.5055555641651154\n",
      "(fold) 8: 0.46666667610406876\n",
      "(fold) 9: 0.45000000633299353\n",
      "(fold) 10: 0.3805555611848831\n",
      "(fold) 11: 0.3416666708886623\n",
      "(fold) 12: 0.3444444499909878\n"
     ]
    }
   ],
   "source": [
    "\n",
    "print(f\"\"\"########## SUMMARY ##########\n",
    "Overall performance: {np.mean(accuracy_matrix)}\n",
    "\"\"\")\n",
    "\n",
    "iter_acc = [] \n",
    "cat_acc = []\n",
    "fold_acc = []\n",
    "\n",
    "print(\"Average Classification on:\")\n",
    "for i in range(n_iter):\n",
    "    print(f\"(iteration) {i+1}: {np.mean(accuracy_matrix[i, :, :])}\")\n",
    "    iter_acc.append(np.mean(accuracy_matrix[i, :, :]))\n",
    "\n",
    "print(\"\")\n",
    "\n",
    "for i in range(n_categories):\n",
    "    print(f\"(category) {cond_names[i]}: {np.mean(accuracy_matrix[:, :, i])}\")\n",
    "    cat_acc.append(np.mean(accuracy_matrix[:, :, i]))\n",
    "\n",
    "print()\n",
    "\n",
    "for i in range(n_folds):\n",
    "    print(f\"(fold) {i + 1}: {np.mean(accuracy_matrix[:, i, :])}\",)\n",
    "    fold_acc.append(np.mean(accuracy_matrix[:, i, :]))\n"
   ]
  },
  {
   "cell_type": "code",
   "execution_count": 222,
   "id": "bf0fddd0",
   "metadata": {},
   "outputs": [
    {
     "data": {
      "text/plain": [
       "<BarContainer object of 12 artists>"
      ]
     },
     "execution_count": 222,
     "metadata": {},
     "output_type": "execute_result"
    },
    {
     "data": {
      "image/png": "[encoded data removed]",
      "text/plain": [
       "<Figure size 3000x400 with 3 Axes>"
      ]
     },
     "metadata": {},
     "output_type": "display_data"
    }
   ],
   "source": [
    "plt.figure(figsize=(30,4))\n",
    "plt.subplot(1,3,1)\n",
    "plt.title(\"Average Accuracy vs Iteration\")\n",
    "plt.bar(np.arange(1,6), iter_acc, width=.4, color=\"blue\")\n",
    "plt.subplot(1,3,2)\n",
    "plt.title(\"Average Accuracy vs Category\")\n",
    "plt.bar(cond_names[:-1], cat_acc)\n",
    "plt.subplot(1,3,3)\n",
    "plt.title(\"Average Accuracy vs Fold\")\n",
    "plt.bar(np.arange(1,13), fold_acc)"
   ]
  },
  {
   "cell_type": "code",
   "execution_count": 223,
   "id": "b3d0bfdc",
   "metadata": {},
   "outputs": [
    {
     "name": "stdout",
     "output_type": "stream",
     "text": [
      "Variance across iteration accuracies 1.9904715795374641 (%)\n",
      "Variance across category accuracies 20.386029002012307 (%)\n"
     ]
    }
   ],
   "source": [
    "print(\"Variance across iteration accuracies\", np.std(np.multiply(100, iter_acc)), \"(%)\")\n",
    "print(\"Variance across category accuracies\", np.std(np.multiply(100, cat_acc)), \"(%)\")"
   ]
  },
  {
   "cell_type": "markdown",
   "id": "1824d5fa",
   "metadata": {},
   "source": [
    "### Observations\n",
    "\n",
    "*Overall Performance*\n",
    "* Overall performance of `46%` seems significantly higher than chance classification `12.5%`, this indicates category specific activity in IT \n",
    "\n",
    "*Iterations*\n",
    "* The average value across each iteration does not vary much, with standard deviation of about `1.2`\n",
    "\n",
    "*Categories*\n",
    "* `Shoe` and `Bottle` had worse classification performance (about chance). \n",
    "* `Face`, `house`, `chair`, and `scram`x had high classification accuracies (above $.6$)\n",
    "* Much more variance across categories than iterations\n",
    "\n",
    "* Folds towards the beginning (`1`) and end (`10`, `11`, `12`) seem to have worse classification performance\n",
    "    * perhaps because participant was less prepared towards beginning or task-focused towards end)\n",
    "\n"
   ]
  },
  {
   "cell_type": "markdown",
   "id": "e441d591",
   "metadata": {},
   "source": [
    "## Part 1b)"
   ]
  },
  {
   "cell_type": "markdown",
   "id": "4977678a-e405-4651-ba68-db4770a1be8b",
   "metadata": {},
   "source": [
    "<hr>\n",
    "\n",
    "#### function to scramble targets for permutation test\n",
    "\n",
    "(as described in class)"
   ]
  },
  {
   "cell_type": "code",
   "execution_count": 214,
   "id": "04ea2870-1fbd-49d1-9d71-e02e85d728fd",
   "metadata": {},
   "outputs": [],
   "source": [
    "# how to scramble the category labels for a permutation analysis\n",
    "\n",
    "def scramble_targets(targets, runs):\n",
    "    # there are 12 runs\n",
    "    n_runs = np.max(runs).astype('int') + 1\n",
    "    \n",
    "    # there are 8 categories\n",
    "    n_cats = targets.shape[1]\n",
    "    \n",
    "    # this will contain the scrambled category labels\n",
    "    scram_targets = np.zeros(targets.shape)\n",
    "    \n",
    "    for i in range(n_runs):\n",
    "        # first find the category labels just for this run\n",
    "        these_targets = targets[runs==i, :].copy()\n",
    "        \n",
    "        # this shuffles the columns of these_targets, which preserves \n",
    "        # the block structure of the experiment\n",
    "        scram_targets_this_run = these_targets[:, np.random.permutation(n_cats)] # you can index into an array using a tuple\n",
    "        \n",
    "        # this copies the scrambled targets for this run into the \n",
    "        # appropriate rows of the scrambled category labels matrix\n",
    "        scram_targets[runs==i,:] = scram_targets_this_run\n",
    "\n",
    "    return scram_targets"
   ]
  },
  {
   "cell_type": "code",
   "execution_count": 215,
   "id": "8b1acaef-7266-4dc2-817b-bbe6bffe8e88",
   "metadata": {},
   "outputs": [],
   "source": [
    "scram_targets = scramble_targets(targets, runs)"
   ]
  },
  {
   "cell_type": "code",
   "execution_count": 194,
   "id": "a16cb75a-14de-45c7-b096-c19d40302656",
   "metadata": {},
   "outputs": [],
   "source": [
    "example_test_run = 3\n",
    "\n",
    "train_these = runs != example_test_run\n",
    "test_these  = runs == example_test_run\n",
    "\n",
    "# an example of logical indexing\n",
    "train_patterns = patterns[train_these, :]\n",
    "scram_train_targets = scram_targets[train_these, :]\n",
    "\n",
    "test_patterns = patterns[test_these, :]\n",
    "test_targets = targets[test_these, :]"
   ]
  },
  {
   "cell_type": "code",
   "execution_count": 195,
   "id": "2921feb4-d710-4be0-ba19-30caf903b9d2",
   "metadata": {},
   "outputs": [],
   "source": [
    "fs_train_patterns, fs_test_patterns = feature_selection(train_patterns,\n",
    "                                                        scram_train_targets,\n",
    "                                                        test_patterns)\n",
    "\n",
    "n_vox  = fs_train_patterns.shape[1]"
   ]
  },
  {
   "cell_type": "code",
   "execution_count": 226,
   "id": "1bf4a6a1-bb8c-4fa1-8779-6f65c09f5a8f",
   "metadata": {},
   "outputs": [],
   "source": [
    "scram_targets = scramble_targets(targets, runs)\n",
    "\n",
    "# Create the feature-selected training and testing patterns for each fold\n",
    "fold_data = [get_fold_data(i, scram_targets) for i in range(n_runs)]\n",
    "fold_training_pats = [fold_data[i][0] for i in range(n_runs)]\n",
    "fold_training_targets = [fold_data[i][1] for i in range(n_runs)]\n",
    "fold_testing_pats = [fold_data[i][2] for i in range(n_runs)]\n",
    "fold_testing_targets= [fold_data[i][3] for i in range(n_runs)]"
   ]
  },
  {
   "cell_type": "code",
   "execution_count": null,
   "id": "43a1eb1d",
   "metadata": {},
   "outputs": [],
   "source": [
    "permutation_accuracies = []\n",
    "n_perm = 5\n",
    "\n",
    "for i in range(n_perm):\n",
    "    perm_accuracy_matrix = np.zeros((n_iter, n_folds, n_categories))\n",
    "    for iter in range(n_iter):\n",
    "        for f in range(n_folds):\n",
    "            # Run classifier training function\n",
    "            classifier = create_classifier(f, fold_training_pats[f], fold_training_targets[f])\n",
    "            # Run classifier analysis function\n",
    "            category_accuracy = accuracy_on_categories(classifier, fold_testing_pats[f], fold_testing_targets[f])\n",
    "            perm_accuracy_matrix[iter, f, :] = np.array(category_accuracy)\n",
    "    mean = np.mean(perm_accuracy_matrix)\n",
    "    permutation_accuracies.append(mean)\n"
   ]
  },
  {
   "cell_type": "code",
   "execution_count": 246,
   "id": "79c15442",
   "metadata": {},
   "outputs": [
    {
     "name": "stdout",
     "output_type": "stream",
     "text": [
      "[0.1361111134601136, 0.13101852082957824, 0.12893518734102447, 0.14143518766698737, 0.13402778000260393]\n"
     ]
    }
   ],
   "source": [
    "print(permutation_accuracies[:5])"
   ]
  },
  {
   "cell_type": "code",
   "execution_count": 259,
   "id": "7fbd6355",
   "metadata": {},
   "outputs": [
    {
     "data": {
      "text/plain": [
       "<BarContainer object of 6 artists>"
      ]
     },
     "execution_count": 259,
     "metadata": {},
     "output_type": "execute_result"
    },
    {
     "data": {
      "image/png": "[encoded data removed]",
      "text/plain": [
       "<Figure size 640x480 with 1 Axes>"
      ]
     },
     "metadata": {},
     "output_type": "display_data"
    }
   ],
   "source": [
    "visualize_perm_acc = permutation_accuracies[:5] + [0.46504630325362084]\n",
    "plt.title(\"Permutation Classification Accuracies vs Experimental\")\n",
    "plt.bar(x=np.arange(1,7), height=visualize_perm_acc, color=[\"blue\"] * 5 + [\"red\"], tick_label=[\"1\", \"2\", \"3\", \"4\", \"5\", \"Experimental\"])\n",
    "\n"
   ]
  },
  {
   "cell_type": "markdown",
   "id": "68380843",
   "metadata": {},
   "source": [
    "### Discussion\n",
    "\n",
    "When labels are permuted, successful classification of the object a person is looking at is around `12.5 +- 2%`. The classification accuracy we observed when the labels are not scrambled appears to be significantly higher than this range."
   ]
  }
 ],
 "metadata": {
  "kernelspec": {
   "display_name": "Python 3.9.13 ('.venv': venv)",
   "language": "python",
   "name": "python3"
  },
  "language_info": {
   "codemirror_mode": {
    "name": "ipython",
    "version": 3
   },
   "file_extension": ".py",
   "mimetype": "text/x-python",
   "name": "python",
   "nbconvert_exporter": "python",
   "pygments_lexer": "ipython3",
   "version": "3.9.13"
  },
  "vscode": {
   "interpreter": {
    "hash": "3730d5d1c31a0f0507cb21031ee0b4e9aa5b7079f3ceca5ddb3f252bb92fdf07"
   }
  }
 },
 "nbformat": 4,
 "nbformat_minor": 5
}
