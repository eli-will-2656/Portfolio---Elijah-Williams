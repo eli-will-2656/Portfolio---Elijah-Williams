{
  "nbformat": 4,
  "nbformat_minor": 0,
  "metadata": {
    "colab": {
      "provenance": []
    },
    "kernelspec": {
      "name": "python3",
      "display_name": "Python 3"
    },
    "language_info": {
      "name": "python"
    }
  },
  "cells": [
    {
      "cell_type": "markdown",
      "source": [
        "# Semantic CRP\n",
        "\n",
        "In this notebook, we will explore semantic clustering in one pilot study participant using `Quail` toolbox.\n",
        "\n",
        "\n",
        "Things to do:\n",
        "\n",
        "- [x] Load in Recall Data\n",
        "  - [x] Participant HD1005's Recall\n",
        "  - [x] Idea Units (List ABCD)\n",
        "\n",
        "\n",
        "- [ ] Get data in `Egg` data structure\n",
        "  - [ ] `presented_idea_units`\n",
        "  - [ ] `recalled_idea_units`\n",
        "\n",
        "\n",
        "- [ ] Plot Semantic-CRP using Memory Fingerprint\n",
        "  - [ ] Create stimilus `dict`\n",
        "    - [ ] Add USE representation as feature to each idea unit\n",
        "  - [ ] Define distance function (`1-cos_similiarity`)\n"
      ],
      "metadata": {
        "id": "n-5ErPbd31Va"
      }
    },
    {
      "cell_type": "markdown",
      "source": [
        "## (1) Reading in Idea Units"
      ],
      "metadata": {
        "id": "7SWlMXVcF4ek"
      }
    },
    {
      "cell_type": "code",
      "source": [
        "import pandas as pd\n",
        "passages = {}\n",
        "\n",
        "# For each passage list ABCD\n",
        "for i in range(4):\n",
        "  nsheet = i        \n",
        "  df = pd.read_excel(\"/content/drive/MyDrive/Reading - Final Paper/Code/HDtACS_ListABCD_ideaunit.xlsx\", nsheet) # Conver sheet to df\n",
        "  columns = [df.columns[i] for i in range(1,10, 2)] # We want to grab columns by index and convert them into a list\n",
        "\n",
        "  lst_name = [\"A\",\"B\",\"C\",\"D\"][i]\n",
        "  passages[lst_name] = []\n",
        "  for i in range(5):\n",
        "    idea_units = [line.strip() for line  in list(df[columns[i]]) if type(line) == str][:-1]\n",
        "    passages[lst_name].append(idea_units)\n",
        "  \n",
        "print(passages.keys())\n",
        "print(\"Passages per list:\", len(passages[\"A\"]))"
      ],
      "metadata": {
        "id": "leLOjqAVId6i"
      },
      "execution_count": 15,
      "outputs": []
    },
    {
      "cell_type": "markdown",
      "source": [
        "## (2) Read in Participant Recalls"
      ],
      "metadata": {
        "id": "aPRXZ6ETrZ1K"
      }
    },
    {
      "cell_type": "code",
      "source": [
        "import pandas as pd \n",
        "df = pd.read_excel(\"/content/drive/MyDrive/Reading - Final Paper/Code/rec_itemnos_reform_HD1005.xlsx\")\n",
        "\n",
        "# Iterate over the list and passages columns, and add corresponding idea units to presented items\n",
        "presented_idea_units = [] \n",
        "recalled_idea_units = [] \n",
        "\n",
        "for index, row in df.iterrows():\n",
        "  lst = str(row[0])\n",
        "  pas = int(row[1])\n",
        "  idea_units = passages[lst][pas - 1] # Append corresponding idea units\n",
        "  presented_idea_units.append(idea_units)\n",
        "\n",
        "  rec_items = list(row[5:].dropna())\n",
        "  rec_items = [idea_units[int(item) - 1] for item in rec_items]\n",
        "  recalled_idea_units.append(rec_items)\n",
        "\n",
        "print(len(presented_idea_units))\n",
        "print(len(recalled_idea_units))"
      ],
      "metadata": {
        "colab": {
          "base_uri": "https://localhost:8080/"
        },
        "id": "1e-sAKGMtcV7",
        "outputId": "aa0325f0-9613-4b36-e35b-93a986a7da43"
      },
      "execution_count": 33,
      "outputs": [
        {
          "output_type": "stream",
          "name": "stdout",
          "text": [
            "60\n",
            "60\n"
          ]
        }
      ]
    },
    {
      "cell_type": "markdown",
      "source": [
        "## (3) Put Data into Egg"
      ],
      "metadata": {
        "id": "7JFVmLsSFBnx"
      }
    },
    {
      "cell_type": "code",
      "source": [
        "%%capture\n",
        "!pip install quail"
      ],
      "metadata": {
        "id": "es6uVppC760u"
      },
      "execution_count": 34,
      "outputs": []
    },
    {
      "cell_type": "code",
      "source": [
        "import quail \n",
        "egg = quail.Egg(pres=presented_idea_units, rec=recalled_idea_units)                             # Creating an egg\n",
        "egg.info()"
      ],
      "metadata": {
        "id": "0vJIdf2y9XU0",
        "colab": {
          "base_uri": "https://localhost:8080/"
        },
        "outputId": "e9282eda-8f37-4f92-ea63-420059e5a50d"
      },
      "execution_count": 35,
      "outputs": [
        {
          "output_type": "stream",
          "name": "stdout",
          "text": [
            "Number of subjects: 1\n",
            "Number of lists per subject: 60\n",
            "Number of words per list: 45\n",
            "Date created: Tue Dec 13 23:29:27 2022\n",
            "Meta data: {}\n"
          ]
        }
      ]
    },
    {
      "cell_type": "code",
      "source": [],
      "metadata": {
        "id": "6e6R9xoE0lbN"
      },
      "execution_count": null,
      "outputs": []
    }
  ]
}