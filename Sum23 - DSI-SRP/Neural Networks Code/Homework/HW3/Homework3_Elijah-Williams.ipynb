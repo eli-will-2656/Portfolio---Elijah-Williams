{
 "cells": [
  {
   "cell_type": "code",
   "execution_count": 1,
   "metadata": {},
   "outputs": [],
   "source": [
    "## Homework 3\n",
    "## Name: Elijah Williams\n",
    "## Date: 9/18/2022\n",
    "## Project: simple MNIST classifier network\n",
    "## Class: NSC3270/5270 Fall 2022\n",
    "\n",
    "import numpy as np \n",
    "import matplotlib.pyplot as plt\n",
    "\n",
    "# supress some unnecessary warnings\n",
    "import os\n",
    "os.environ['TF_CPP_MIN_LOG_LEVEL']='2'"
   ]
  },
  {
   "cell_type": "markdown",
   "metadata": {},
   "source": [
    "# load, display, and format mnist images and labels"
   ]
  },
  {
   "cell_type": "code",
   "execution_count": 2,
   "metadata": {},
   "outputs": [],
   "source": [
    "from tensorflow.keras.datasets import mnist\n",
    "\n",
    "# load mnist images\n",
    "(train_images, train_labels), (test_images, test_labels) = mnist.load_data()"
   ]
  },
  {
   "cell_type": "code",
   "execution_count": 3,
   "metadata": {},
   "outputs": [
    {
     "name": "stdout",
     "output_type": "stream",
     "text": [
      "train\n",
      "(60000, 28, 28)\n",
      "(60000,)\n",
      "<class 'numpy.ndarray'>\n",
      "<class 'numpy.ndarray'>\n",
      "\n",
      "test\n",
      "(10000, 28, 28)\n",
      "(10000,)\n",
      "<class 'numpy.ndarray'>\n",
      "<class 'numpy.ndarray'>\n"
     ]
    }
   ],
   "source": [
    "# check dimensions and type of images and labels\n",
    "\n",
    "print('train')\n",
    "print(train_images.shape) # Shape of training images = 60,000 x 28 x 28\n",
    "print(train_labels.shape) # Shape of training lables = 60,000 x ,\n",
    "print(type(train_images)) # Type of training image = Numpy.ndarray\n",
    "print(type(train_labels)) # Type of training lables = Numpy.ndarray\n",
    "print()\n",
    "\n",
    "print('test') \n",
    "print(test_images.shape)  # Shape of training images = 10,000 x 28 x 28\n",
    "print(test_labels.shape)  # Shape of training lables = 10,000 x 1\n",
    "print(type(test_images)) \n",
    "print(type(test_labels))"
   ]
  },
  {
   "cell_type": "markdown",
   "metadata": {},
   "source": [
    "There are 60,000 train images and 10,000 test images. Each image is 28x28 pixels (gray scale)."
   ]
  },
  {
   "cell_type": "code",
   "execution_count": 4,
   "metadata": {},
   "outputs": [
    {
     "data": {
      "image/png": "[encoded data removed]",
      "text/plain": [
       "<Figure size 640x480 with 9 Axes>"
      ]
     },
     "metadata": {},
     "output_type": "display_data"
    }
   ],
   "source": [
    "# display the first 9 digits\n",
    "\n",
    "fig = plt.figure() # Creating a figure\n",
    "for i in range(9):\n",
    "    plt.subplot(3,3,i+1)  # adds axes to the figure (nrows,ncols, location index) # Subplots can create multiple subplots at a time (figures and axes)\n",
    "    # default is plt.subplot(1,1,1)\n",
    "    plt.tight_layout() # Fixes the padding between the subplots\n",
    "    plt.imshow(train_images[i], cmap='gray', interpolation='none') # showing the ith 28 x 28 array, using gray color map, with no interpolation\n",
    "    plt.title(\"Digit: {}\".format(train_labels[i]))\n",
    "    plt.xticks([]) # Getting rid of xticks\n",
    "    plt.yticks([]) # Getting rid of yticks\n",
    "plt.show()\n"
   ]
  },
  {
   "cell_type": "markdown",
   "metadata": {},
   "source": [
    "### reformat training and testing images"
   ]
  },
  {
   "cell_type": "code",
   "execution_count": 5,
   "metadata": {},
   "outputs": [
    {
     "name": "stdout",
     "output_type": "stream",
     "text": [
      "Training images shape:  (60000, 28, 28)\n",
      "Training pixel type:    <class 'numpy.uint8'>\n",
      "Example: 240\n",
      "Testing images shape:   (10000, 28, 28)\n",
      "Testing pixel type:     <class 'numpy.uint8'>\n",
      "Example: 253\n"
     ]
    },
    {
     "data": {
      "text/plain": [
       "<matplotlib.image.AxesImage at 0x1dfa746d0a0>"
      ]
     },
     "execution_count": 5,
     "metadata": {},
     "output_type": "execute_result"
    },
    {
     "data": {
      "image/png": "[encoded data removed]",
      "text/plain": [
       "<Figure size 640x480 with 1 Axes>"
      ]
     },
     "metadata": {},
     "output_type": "display_data"
    }
   ],
   "source": [
    "# check out (again) dimensions and types of mnist data\n",
    "print('Training images shape: ', train_images.shape)\n",
    "print('Training pixel type:   ', type(train_images[0][0][0])) #uint8 = unsigned 8-bit intger (0-255)\n",
    "print(\"Example:\", train_images[0][14][14])\n",
    "print('Testing images shape:  ', test_images.shape)\n",
    "print('Testing pixel type:    ', type(test_images[0][0][0]))\n",
    "print(\"Example:\", test_images[1][20][25]) # When indexing multi-dimension arrays, you have to work backwards\n",
    "\n",
    "# Let's take a look at one of these digits\n",
    "plt.imshow(test_images[1])\n",
    "# Notice that these images aren't actually grayscale\n"
   ]
  },
  {
   "cell_type": "code",
   "execution_count": 6,
   "metadata": {},
   "outputs": [
    {
     "name": "stdout",
     "output_type": "stream",
     "text": [
      "New training images shape:  (60000, 784)\n",
      "New training pixel type:    <class 'numpy.float32'>\n",
      "New testing images shape:   (10000, 784)\n",
      "New testing pixel type:     <class 'numpy.float32'>\n"
     ]
    }
   ],
   "source": [
    "# number of images\n",
    "Ntr = train_images.shape[0]  # Number of training images = 60000\n",
    "Nts = test_images.shape[0]  # Number of testing images = 10000\n",
    "\n",
    "# image shape\n",
    "szx = train_images.shape[1] # This would actually be the length of the y-axis\n",
    "szy = train_images.shape[2] # This would be lengths of x-axis\n",
    "\n",
    "# need to reshape the 28x28 training/testing images as vectors\n",
    "train_images_vec = train_images.reshape((Ntr, szx * szy)) # Reshaping trainings to be 60000 x 784\n",
    "test_images_vec = test_images.reshape((Nts, szx * szy)) # Reshaping test images to be 10000 x 784\n",
    "\n",
    "# deciding to normalize the pixels to 0..1 and recase as float32\n",
    "train_images_vec = train_images_vec.astype('float32') / 255  # Normalizing pixels as values 0 - 1\n",
    "test_images_vec = test_images_vec.astype('float32') / 255   # 0 is darkest, 1 lightest\n",
    "\n",
    "# display new input dimensions/type\n",
    "print('New training images shape: ', train_images_vec.shape)\n",
    "print('New training pixel type:   ', type(train_images_vec[0][0]))\n",
    "print('New testing images shape:  ', test_images_vec.shape)\n",
    "print('New testing pixel type:    ', type(test_images_vec[0][0]))"
   ]
  },
  {
   "cell_type": "markdown",
   "metadata": {},
   "source": [
    "### reformat training and testing labels"
   ]
  },
  {
   "cell_type": "code",
   "execution_count": 7,
   "metadata": {},
   "outputs": [
    {
     "name": "stdout",
     "output_type": "stream",
     "text": [
      "Training labels shape:  (60000,)\n",
      "Training labels type:   <class 'numpy.uint8'>\n",
      "\n",
      "First 9 training labels as labels:\n",
      " [5 0 4 1 9 2 1 3 1]\n"
     ]
    }
   ],
   "source": [
    "# check out dimensions and types of mnist data\n",
    "print('Training labels shape: ', train_labels.shape)\n",
    "print('Training labels type:  ', type(train_labels[0]))\n",
    "print()\n",
    "\n",
    "# check out what the first 9 labels look like\n",
    "print(\"First 9 training labels as labels:\\n\", train_labels[:9])"
   ]
  },
  {
   "cell_type": "code",
   "execution_count": 8,
   "metadata": {},
   "outputs": [
    {
     "name": "stdout",
     "output_type": "stream",
     "text": [
      "First 9 training labels as one-hot encoded vectors:\n",
      " [[0. 0. 0. 0. 0. 1. 0. 0. 0. 0.]\n",
      " [1. 0. 0. 0. 0. 0. 0. 0. 0. 0.]\n",
      " [0. 0. 0. 0. 1. 0. 0. 0. 0. 0.]\n",
      " [0. 1. 0. 0. 0. 0. 0. 0. 0. 0.]\n",
      " [0. 0. 0. 0. 0. 0. 0. 0. 0. 1.]\n",
      " [0. 0. 1. 0. 0. 0. 0. 0. 0. 0.]\n",
      " [0. 1. 0. 0. 0. 0. 0. 0. 0. 0.]\n",
      " [0. 0. 0. 1. 0. 0. 0. 0. 0. 0.]\n",
      " [0. 1. 0. 0. 0. 0. 0. 0. 0. 0.]]\n"
     ]
    }
   ],
   "source": [
    "from tensorflow.keras.utils import to_categorical\n",
    "\n",
    "# also need to categorically encode the labels as \"one hot\"\n",
    "\n",
    " # converts a list (or matrix) of integers into a list of binary matrix\n",
    "train_labels_onehot = to_categorical(train_labels) # ex. to_categorical([1,4]) == [[1 0 0 0] [0 0 0 1]]\n",
    "test_labels_onehot = to_categorical(test_labels) # one-hot encoding come from (for whatever category an digit image falls into, only one of the\n",
    "# possibilities is a 1, all else is 0 (only one wire is hot))\n",
    "\n",
    "print(\"First 9 training labels as one-hot encoded vectors:\\n\", train_labels_onehot[:9])"
   ]
  },
  {
   "cell_type": "code",
   "execution_count": 9,
   "metadata": {},
   "outputs": [
    {
     "name": "stdout",
     "output_type": "stream",
     "text": [
      "New training labels shape (one hot):  (60000, 10)\n",
      "New training labels type (one hot):   <class 'numpy.float32'>\n"
     ]
    }
   ],
   "source": [
    "# display new output dimensions/type\n",
    "print('New training labels shape (one hot): ', train_labels_onehot.shape)\n",
    "print('New training labels type (one hot):  ', type(train_labels_onehot[0][0]))"
   ]
  },
  {
   "cell_type": "markdown",
   "metadata": {},
   "source": [
    "# define and train neural network"
   ]
  },
  {
   "cell_type": "code",
   "execution_count": 10,
   "metadata": {},
   "outputs": [
    {
     "name": "stdout",
     "output_type": "stream",
     "text": [
      "Model: \"sequential\"\n",
      "_________________________________________________________________\n",
      " Layer (type)                Output Shape              Param #   \n",
      "=================================================================\n",
      " dense (Dense)               (None, 10)                7850      \n",
      "                                                                 \n",
      "=================================================================\n",
      "Total params: 7,850\n",
      "Trainable params: 7,850\n",
      "Non-trainable params: 0\n",
      "_________________________________________________________________\n",
      "None\n",
      "\n",
      "layer name : dense | input shape : (None, 784) | output shape : (None, 10)\n",
      "\n",
      "{'name': 'dense', 'trainable': True, 'batch_input_shape': (None, 784), 'dtype': 'float32', 'units': 10, 'activation': 'sigmoid', 'use_bias': True, 'kernel_initializer': {'class_name': 'GlorotUniform', 'config': {'seed': None}}, 'bias_initializer': {'class_name': 'Zeros', 'config': {}}, 'kernel_regularizer': None, 'bias_regularizer': None, 'activity_regularizer': None, 'kernel_constraint': None, 'bias_constraint': None}\n",
      "\n"
     ]
    }
   ],
   "source": [
    "# import tools for basic keras networks \n",
    "from tensorflow.keras import models # A model object groups multiple layers into a single class to work with\n",
    "from tensorflow.keras import layers # A layer consists of a function (vector input, vector output) and weights\n",
    "\n",
    "nout = 10 # Size of output layer\n",
    "\n",
    "# create architecture of simple neural network model\n",
    "# input layer  : 28*28 = 784 input nodes\n",
    "# output layer : 10 (nout) output nodes\n",
    "network = models.Sequential() # Sequential model is used for simple neural networks (each layer takes in 1 vector and spits out one vector)\n",
    "\n",
    "network.add(layers.Dense(nout, # dimension out output space\n",
    "                         activation='sigmoid',  \n",
    "                         input_shape=(szx * szy,))) \n",
    "                         # Dense is a Neural network layer that does: outputs = activation(inputs x weights + bias)\n",
    "\n",
    "# print a model summary\n",
    "print(network.summary())\n",
    "print()\n",
    "for layer in network.layers:  # This is a single layer network (keras considers input layer as layer 0)\n",
    "    print('layer name : {} | input shape : {} | output shape : {}'.format(layer.name, layer.input.shape, layer.output.shape))\n",
    "print() \n",
    "\n",
    "for layer in network.layers:\n",
    "    print(layer.get_config())\n",
    "print()"
   ]
  },
  {
   "cell_type": "code",
   "execution_count": 11,
   "metadata": {},
   "outputs": [
    {
     "name": "stdout",
     "output_type": "stream",
     "text": [
      "Epoch 1/20\n",
      "422/422 [==============================] - 2s 3ms/step - loss: 0.1438 - accuracy: 0.1662 - val_loss: 0.1043 - val_accuracy: 0.2548\n",
      "Epoch 2/20\n",
      "422/422 [==============================] - 1s 3ms/step - loss: 0.0970 - accuracy: 0.3217 - val_loss: 0.0909 - val_accuracy: 0.3948\n",
      "Epoch 3/20\n",
      "422/422 [==============================] - 1s 3ms/step - loss: 0.0887 - accuracy: 0.4312 - val_loss: 0.0854 - val_accuracy: 0.4842\n",
      "Epoch 4/20\n",
      "422/422 [==============================] - 1s 3ms/step - loss: 0.0844 - accuracy: 0.4876 - val_loss: 0.0816 - val_accuracy: 0.5232\n",
      "Epoch 5/20\n",
      "422/422 [==============================] - 1s 3ms/step - loss: 0.0810 - accuracy: 0.5157 - val_loss: 0.0784 - val_accuracy: 0.5520\n",
      "Epoch 6/20\n",
      "422/422 [==============================] - 1s 3ms/step - loss: 0.0781 - accuracy: 0.5374 - val_loss: 0.0755 - val_accuracy: 0.5715\n",
      "Epoch 7/20\n",
      "422/422 [==============================] - 1s 3ms/step - loss: 0.0755 - accuracy: 0.5562 - val_loss: 0.0729 - val_accuracy: 0.5915\n",
      "Epoch 8/20\n",
      "422/422 [==============================] - 1s 3ms/step - loss: 0.0731 - accuracy: 0.5719 - val_loss: 0.0705 - val_accuracy: 0.6090\n",
      "Epoch 9/20\n",
      "422/422 [==============================] - 1s 3ms/step - loss: 0.0709 - accuracy: 0.5873 - val_loss: 0.0683 - val_accuracy: 0.6225\n",
      "Epoch 10/20\n",
      "422/422 [==============================] - 1s 3ms/step - loss: 0.0690 - accuracy: 0.6016 - val_loss: 0.0663 - val_accuracy: 0.6337\n",
      "Epoch 11/20\n",
      "422/422 [==============================] - 1s 3ms/step - loss: 0.0672 - accuracy: 0.6134 - val_loss: 0.0645 - val_accuracy: 0.6472\n",
      "Epoch 12/20\n",
      "422/422 [==============================] - 1s 3ms/step - loss: 0.0655 - accuracy: 0.6232 - val_loss: 0.0628 - val_accuracy: 0.6542\n",
      "Epoch 13/20\n",
      "422/422 [==============================] - 1s 3ms/step - loss: 0.0640 - accuracy: 0.6320 - val_loss: 0.0613 - val_accuracy: 0.6620\n",
      "Epoch 14/20\n",
      "422/422 [==============================] - 1s 3ms/step - loss: 0.0626 - accuracy: 0.6408 - val_loss: 0.0599 - val_accuracy: 0.6737\n",
      "Epoch 15/20\n",
      "422/422 [==============================] - 1s 3ms/step - loss: 0.0613 - accuracy: 0.6488 - val_loss: 0.0586 - val_accuracy: 0.6803\n",
      "Epoch 16/20\n",
      "422/422 [==============================] - 1s 3ms/step - loss: 0.0602 - accuracy: 0.6577 - val_loss: 0.0573 - val_accuracy: 0.6893\n",
      "Epoch 17/20\n",
      "422/422 [==============================] - 1s 3ms/step - loss: 0.0591 - accuracy: 0.6667 - val_loss: 0.0562 - val_accuracy: 0.6980\n",
      "Epoch 18/20\n",
      "422/422 [==============================] - 1s 3ms/step - loss: 0.0580 - accuracy: 0.6768 - val_loss: 0.0552 - val_accuracy: 0.7092\n",
      "Epoch 19/20\n",
      "422/422 [==============================] - 1s 3ms/step - loss: 0.0571 - accuracy: 0.6858 - val_loss: 0.0542 - val_accuracy: 0.7205\n",
      "Epoch 20/20\n",
      "422/422 [==============================] - 1s 3ms/step - loss: 0.0562 - accuracy: 0.6946 - val_loss: 0.0532 - val_accuracy: 0.7318\n",
      "Done training!\n",
      "\n"
     ]
    }
   ],
   "source": [
    "# compile network - setting network up\n",
    "network.compile(optimizer='sgd',  \n",
    "                loss='mean_squared_error', \n",
    "                metrics=['accuracy'])\n",
    "\n",
    "# now train the network\n",
    "history = network.fit(train_images_vec,  # input data\n",
    "                      train_labels_onehot, # mapping training images vec to one-hot encodings (1's on target, 0's elsewhere)\n",
    "                      verbose=True, # how much ouput should program print out\n",
    "                      validation_split=.1, # fraction of the training data not used for training but instead validation\n",
    "                      epochs=20, # number of iterations over entire dataset\n",
    "                      batch_size=128) # number of examples run through before gradient is updated\n",
    "print('Done training!')\n",
    "print()"
   ]
  },
  {
   "cell_type": "code",
   "execution_count": 12,
   "metadata": {},
   "outputs": [
    {
     "name": "stdout",
     "output_type": "stream",
     "text": [
      "313/313 [==============================] - 1s 2ms/step - loss: 0.0550 - accuracy: 0.7111\n",
      "test_acc: 0.7110999822616577\n"
     ]
    }
   ],
   "source": [
    "# test network\n",
    "test_loss, test_acc = network.evaluate(test_images_vec, \n",
    "                                       test_labels_onehot, \n",
    "                                       verbose=True)\n",
    "print('test_acc:', test_acc)"
   ]
  },
  {
   "cell_type": "markdown",
   "metadata": {},
   "source": [
    "# some pieces needed to complete Homework 3"
   ]
  },
  {
   "cell_type": "code",
   "execution_count": 13,
   "metadata": {},
   "outputs": [
    {
     "name": "stdout",
     "output_type": "stream",
     "text": [
      "W (784, 10) | B (10,)\n"
     ]
    }
   ],
   "source": [
    "# get learned network weights and biases\n",
    "\n",
    "# Get wrights method returns both the kernel (weight matrix) and bias\n",
    "\n",
    "W = network.layers[0].get_weights()[0]     # weights input to hidden\n",
    "B = network.layers[0].get_weights()[1]     # bias to hidden\n",
    "\n",
    "print('W {} | B {}'.format(W.shape, B.shape))\n",
    "\n",
    "# With shape of an array\n",
    "# FIrst digit ------>\n",
    "# Second digit is diagonal    </----\n",
    "# Third unit is down"
   ]
  },
  {
   "cell_type": "code",
   "execution_count": 14,
   "metadata": {},
   "outputs": [
    {
     "name": "stdout",
     "output_type": "stream",
     "text": [
      "313/313 [==============================] - 0s 1ms/step\n",
      "(784,)\n",
      "(1, 784)\n",
      "Prediction generated by Sequential Model: [0.09958057 0.02272094 0.13530275 0.08741085 0.1185603  0.1086781\n",
      " 0.5896418  0.0515166  0.06067162 0.09477238]\n",
      "Program Guess: 6\n"
     ]
    },
    {
     "data": {
      "image/png": "[encoded data removed]",
      "text/plain": [
       "<Figure size 640x480 with 1 Axes>"
      ]
     },
     "metadata": {},
     "output_type": "display_data"
    }
   ],
   "source": [
    "# model predictions (all 10000 test images)\n",
    "out = network.predict(test_images_vec) # Returns numpy array of predictions\n",
    "\n",
    "# model predictions (a single test image)\n",
    "example = test_images_vec[123] \n",
    "print(example.shape)\n",
    "\n",
    "plt.imshow(test_images[123])\n",
    "\n",
    "# vector passed to network.predict must be (?, 784)\n",
    "example = example.reshape((1,example.shape[0]))\n",
    "print(example.shape)\n",
    "\n",
    "print(\"Prediction generated by Sequential Model:\", out[123]) \n",
    "print(\"Program Guess:\",np.argmax(out[123]))\n"
   ]
  },
  {
   "cell_type": "code",
   "execution_count": 15,
   "metadata": {},
   "outputs": [
    {
     "data": {
      "text/plain": [
       "(10000, 10)"
      ]
     },
     "execution_count": 15,
     "metadata": {},
     "output_type": "execute_result"
    }
   ],
   "source": [
    "out.shape"
   ]
  },
  {
   "cell_type": "code",
   "execution_count": 16,
   "metadata": {},
   "outputs": [
    {
     "name": "stdout",
     "output_type": "stream",
     "text": [
      "[7 6 1 ... 4 5 6]\n",
      "<class 'numpy.int32'>\n"
     ]
    }
   ],
   "source": [
    "#########################################################################################\n",
    "##\n",
    "## Homework 3 Solution Area\n",
    "##\n",
    "\n",
    "## Q1. The original MNIST test_labels numpy array contains the digit value associated\n",
    "## with the corresponding digit image (test_images). The output from the network (from\n",
    "## out = network.predict(test_images_vec) above) contains the activations of the 10\n",
    "## output nodes for every test image presented to the network. Write a function that\n",
    "## takes the (10000,10) numpy array of output (of type float) activations and returns a \n",
    "## (10000,) numpy array of discrete digit classification by the network (of type int).\n",
    "## Specifically, create a test_decisions numpy array of the same size and type as the\n",
    "## MNIST test_labels array you started with. Whereas test_labels shows the correct\n",
    "## answer, test_decisions shows the ultimate decision by the network. Below you will use \n",
    "## both arrays to pull out test images that the network classifies correctly vs. incorrectly.\n",
    "##\n",
    "## To turn a numpy array of continuous output activations into a discrete digit classification,\n",
    "## just take the maximum output as the \"winner\" that \"takes all\", determining the classification.\n",
    "##\n",
    "## In your function, feel free to use for loops. Here, we are looking to see that you understand\n",
    "## how to use the outputs generated by the network, not whether you can program using the\n",
    "## most efficient Python style.\n",
    "\n",
    "### INSERT Q1 SOLUTION HERE ###\n",
    "\n",
    "def func1(out):\n",
    "    \"\"\"Function that takes a list of activations, and returns discrete digit classificaitons\"\"\"\n",
    "    test_decisions = np.zeros(out.shape[0])\n",
    "    for i in range(len(test_decisions)):\n",
    "        test_decisions[i] = np.argmax(out[i])\n",
    "\n",
    "    return test_decisions.astype(\"int\")\n",
    "\n",
    "# TESTING\n",
    "test_decisions = func1(out)\n",
    "print(test_decisions)\n",
    "print(type(test_decisions[0])) # Making sure its an int"
   ]
  },
  {
   "cell_type": "code",
   "execution_count": 17,
   "metadata": {},
   "outputs": [],
   "source": [
    "##\n",
    "## Q2. Comparing the correct answers (test_labels) and network classifications (test_decisions),\n",
    "## for each digit 0..9, find one test image (test_image) that is classified by the network\n",
    "## correctly and one test image that is classified by the network incorrectly. \n",
    "##\n",
    "## Create a 2x10 plot of digit images (feel free to adapt the code above that uses subplot), with a \n",
    "## column for each digit 0..9 with the first row showing examples correctly classified (one example \n",
    "## for each digit) and the second row showing the examples incorrectly classified (one example \n",
    "## for each digit). Each subplot title should show the answer and the classification response \n",
    "## (e.g., displaying 4/2 as the title, if the correct answer is 4 and the classification was 2).\n",
    "##\n",
    "\n",
    "### INSERT Q2 SOLUTION HERE ###\n"
   ]
  },
  {
   "cell_type": "code",
   "execution_count": 18,
   "metadata": {},
   "outputs": [
    {
     "data": {
      "image/png": "[encoded data removed]",
      "text/plain": [
       "<Figure size 640x480 with 20 Axes>"
      ]
     },
     "metadata": {},
     "output_type": "display_data"
    }
   ],
   "source": [
    "# Finding correct / incorrect indices\n",
    "\n",
    "right_indices = [] \n",
    "wrong_indices = [] \n",
    "for i in range(10):\n",
    "    right_ind = None\n",
    "    wrong_ind = None\n",
    "\n",
    "    for j in range(len(test_labels)):\n",
    "        if test_labels[j] == i:\n",
    "            if test_decisions[j] == i:\n",
    "                right_ind = j\n",
    "            else:\n",
    "                wrong_ind = j\n",
    "            if right_ind and wrong_ind:\n",
    "                break\n",
    "    \n",
    "    right_indices.append(right_ind)\n",
    "    wrong_indices.append(wrong_ind)\n",
    "\n",
    "# Graphing\n",
    "\n",
    "fig = plt.figure() # Creating a figure\n",
    "\n",
    "for i in range(10):\n",
    "    correct_index = right_indices[i]\n",
    "    wrong_index = wrong_indices[i]\n",
    "\n",
    "    plt.subplot(2,10, i + 1)\n",
    "    plt.imshow(test_images[correct_index],cmap=\"gray\", interpolation=\"None\")\n",
    "    plt.title(f\"{test_labels[correct_index]} / {test_decisions[correct_index]}\")\n",
    "    plt.xticks([])\n",
    "    plt.yticks([])\n",
    "\n",
    "    plt.subplot(2, 10, i + 11)\n",
    "    plt.imshow(test_images[wrong_index], cmap=\"gray\", interpolation=\"None\")\n",
    "    plt.title(f\"{test_labels[wrong_index]} / {test_decisions[wrong_index]}\")\n",
    "    plt.xticks([])\n",
    "    plt.yticks([])\n",
    "\n",
    "plt.show()"
   ]
  },
  {
   "cell_type": "code",
   "execution_count": 19,
   "metadata": {},
   "outputs": [
    {
     "data": {
      "image/png": "[encoded data removed]",
      "text/plain": [
       "<Figure size 1500x480 with 10 Axes>"
      ]
     },
     "metadata": {},
     "output_type": "display_data"
    }
   ],
   "source": [
    "##\n",
    "## Q3. Create \"images\" of the connection weight adapting the code used to display\n",
    "## the actual digit images. There should be 10 weight images, an image for each\n",
    "## set of weight connecting the input layer (784 inputs) to each output node.\n",
    "## You will want to reshape the (784,1) vector of weights to a (28,28) image and\n",
    "## display the result using imshow()\n",
    "\n",
    "### INSERT Q3 SOLUTION HERE ###\n",
    "\n",
    "W = network.layers[0].get_weights()[0]     # weights input to hidden\n",
    "\n",
    "fig = plt.figure(figsize=(10*1.5, 4.8)) # Creating a figure\n",
    "\n",
    "for i in range(10):\n",
    "    plt.subplot(2,10, i + 1)\n",
    "    plt.imshow(np.reshape(W[:,i], (28,28)), interpolation=\"None\")\n",
    "    plt.title(f\"{i}\")\n",
    "    plt.xticks([])\n",
    "    plt.yticks([])\n",
    "plt.show()\n",
    "\n",
    "# Notice how you can see outlines of the shape in the weights\n"
   ]
  },
  {
   "cell_type": "code",
   "execution_count": 25,
   "metadata": {},
   "outputs": [
    {
     "name": "stdout",
     "output_type": "stream",
     "text": [
      "7.128494801661963e-06\n"
     ]
    }
   ],
   "source": [
    "##\n",
    "## Q4. Use the weight matrix (W), bias vector (B), and activation function (simple sigmoid)\n",
    "## to reproduce in your own code the outputs (out) generated by the network (from\n",
    "## this out = network.predict(test_images_vec))\n",
    "##\n",
    "## The simple sigmoid activation function is defined as follows:\n",
    "## f(x) = 1 / (1+exp(-x))\n",
    "##\n",
    "## Confirm that your output vectors and the keras-produced output vectors are the same\n",
    "## (within some small epsilon since floating point calculations will often not come out\n",
    "## exactly the same on computers).\n",
    "##\n",
    "\n",
    "### INSERT Q4 SOLUTION HERE ###\n",
    "\n",
    "def activate(test_image_vec):\n",
    "    activations = np.zeros(10)\n",
    "    for i in range(10):\n",
    "        activations[i] = temp_act = 1 / (1+np.exp(-(np.dot(test_image_vec, W[:,i]) + B[i]))) \n",
    "    return activations\n",
    "\n",
    "def my_predict(test_images_vec):\n",
    "    my_outs = [activate(i) for i in test_images_vec]\n",
    "    return my_outs\n",
    "\n",
    "# Getting outputs\n",
    "my_outs = my_predict(test_images_vec)\n",
    "\n",
    "# Confirmation\n",
    "print(np.linalg.norm(my_outs - out)) # Should be small\n",
    "\n",
    "for i in range(len(test_images_vec)):\n",
    "    if np.linalg.norm(my_outs[i] - out[i]) > .00001:\n",
    "        print(i,\"ALERT\")\n",
    "\n",
    "\n",
    "\n",
    "\n"
   ]
  },
  {
   "cell_type": "code",
   "execution_count": null,
   "metadata": {},
   "outputs": [],
   "source": []
  }
 ],
 "metadata": {
  "kernelspec": {
   "display_name": "Python 3.9.13 ('.venv': venv)",
   "language": "python",
   "name": "python3"
  },
  "language_info": {
   "codemirror_mode": {
    "name": "ipython",
    "version": 3
   },
   "file_extension": ".py",
   "mimetype": "text/x-python",
   "name": "python",
   "nbconvert_exporter": "python",
   "pygments_lexer": "ipython3",
   "version": "3.9.13"
  },
  "vscode": {
   "interpreter": {
    "hash": "3730d5d1c31a0f0507cb21031ee0b4e9aa5b7079f3ceca5ddb3f252bb92fdf07"
   }
  }
 },
 "nbformat": 4,
 "nbformat_minor": 4
}
