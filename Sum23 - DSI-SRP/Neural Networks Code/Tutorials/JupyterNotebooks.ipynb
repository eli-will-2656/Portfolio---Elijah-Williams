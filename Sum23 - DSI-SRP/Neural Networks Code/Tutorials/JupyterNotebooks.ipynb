{
 "cells": [
  {
   "cell_type": "markdown",
   "metadata": {},
   "source": [
    "## Introduction to Jupyter Notebooks\n",
    "- two main types of cells - Markdown and Code\n",
    "- click to highlight a cell\n",
    "- double-click to edit a formatted Markdown cell\n",
    "- click the \"Run\" buttom above to execute highlighted cell\n",
    "- or do Shift-Return (Mac) or Shift-Enter (PC)\n",
    "- Cell -> Run All to run all cells in the notebook\n",
    "- Kernel -> Restart and then Cell -> Run All or Kernel -> Restart & Run All (reset everything and rerun)\n",
    "\n",
    "before finalizing any Jupyter notebook and turning it in for homework, please make sure you do a Kernel -> Restart to make sure your code runs completely (since when I run your code to grade it, everything will be similarly reset when I load it on my computer)"
   ]
  },
  {
   "cell_type": "code",
   "execution_count": 1,
   "metadata": {},
   "outputs": [
    {
     "name": "stdout",
     "output_type": "stream",
     "text": [
      "x =  1\n"
     ]
    }
   ],
   "source": [
    "x = 1\n",
    "print(\"x = \", x)"
   ]
  },
  {
   "cell_type": "markdown",
   "metadata": {},
   "source": [
    "Above is a Code cell. \n",
    "\n",
    "This is a markdown cell. Text in this cell can be <u>formatted</u> <i>using</i> <b>html</b> codes. If you double-click on this cell, you can see the html formatting.\n",
    "\n",
    "<h1>You can have headers.</h1>\n",
    "<h2>Of various sizes.</h2>\n",
    "<h3>Big and small.</h3>\n",
    "\n",
    "<br>\n",
    "\n",
    "# You can also do headers this way.\n",
    "## Of various sizes.\n",
    "### Big and small.\n",
    "#### And tiny.\n",
    "##### And tinier.\n",
    "\n",
    "<br>\n",
    "\n",
    "Hairlines using $<$hr$>$ or ***\n",
    "<hr>\n",
    "\n",
    "***\n",
    "\n",
    "You can include images like this (from my lab web site).\n",
    "<img src=\"http://catlab.psy.vanderbilt.edu/wp-content/uploads/image/Palmeri-Picture-Small-forwebpage.jpg\">\n",
    "\n",
    "You can include <a href=\"http://www.vanderbilt.edu\">links</a>.\n",
    "\n",
    "<br>\n",
    "\n",
    "More on Jupyter Notebook markdown cells:\n",
    "\n",
    "https://jupyter-notebook.readthedocs.io/en/stable/examples/Notebook/Working%20With%20Markdown%20Cells.html\n",
    "\n",
    "<br>\n",
    "\n",
    "\"Run\" to reformat this cell or use Shift-Return (Mac) or Shift-Enter (PC)."
   ]
  },
  {
   "cell_type": "code",
   "execution_count": 2,
   "metadata": {},
   "outputs": [
    {
     "data": {
      "image/png": "[encoded data removed]",
      "text/plain": [
       "<Figure size 432x288 with 1 Axes>"
      ]
     },
     "metadata": {
      "needs_background": "light"
     },
     "output_type": "display_data"
    }
   ],
   "source": [
    "# this is a comment in Python - you always want to comment your code\n",
    "\n",
    "# we will go over these code elements in the coming weeks - this is just for illustration\n",
    "\n",
    "# import numpy (for arrays) and matplotlib (for plotting)\n",
    "import numpy as np\n",
    "import matplotlib.pyplot as plt\n",
    "import math\n",
    "\n",
    "m = 0.0\n",
    "s = 1.0\n",
    "x = np.arange(-4.0, 4.0, .01)\n",
    "p = (1/math.sqrt(2*math.pi*(s**2))) * np.exp(-((x-m)**2)/(2*(s**2)))\n",
    "plt.plot(x, p)\n",
    "plt.xlabel(\"x\")\n",
    "plt.ylabel(\"p(x)\")\n",
    "plt.title(\"Normal Distribution\")\n",
    "plt.show()"
   ]
  },
  {
   "cell_type": "markdown",
   "metadata": {},
   "source": [
    "You can do formatted equations using LaTeX:\n",
    "$p(x) = \\frac{1}{\\sqrt{2\\pi\\sigma^2}}\\exp\\left(\\frac{-(x-\\mu)^2}{2\\sigma^2}\\right)$"
   ]
  },
  {
   "cell_type": "code",
   "execution_count": 3,
   "metadata": {},
   "outputs": [
    {
     "name": "stdout",
     "output_type": "stream",
     "text": [
      "m = 0.0 and s = 1.0\n"
     ]
    }
   ],
   "source": [
    "# variables defined in one code cell carry over to other code cells\n",
    "print(\"m =\", m, \"and s =\", s)"
   ]
  },
  {
   "cell_type": "code",
   "execution_count": null,
   "metadata": {},
   "outputs": [],
   "source": [
    "a = 1"
   ]
  },
  {
   "cell_type": "code",
   "execution_count": null,
   "metadata": {},
   "outputs": [],
   "source": [
    "print(\"a =\", a)"
   ]
  },
  {
   "cell_type": "code",
   "execution_count": null,
   "metadata": {},
   "outputs": [],
   "source": [
    "a = a + 1\n",
    "\n",
    "# after running this cell, run the one above"
   ]
  },
  {
   "cell_type": "markdown",
   "metadata": {},
   "source": [
    "Note the number next to In increments in the order of execution. It is not merely a line number.\n",
    "\n",
    "Note that In $[$*$]$ means that the Code cell is still running."
   ]
  },
  {
   "cell_type": "markdown",
   "metadata": {},
   "source": [
    "***"
   ]
  },
  {
   "cell_type": "markdown",
   "metadata": {},
   "source": [
    "## Magic Commands in Jupyter Notebooks\n",
    "\n",
    "https://ipython.readthedocs.io/en/stable/interactive/magics.html"
   ]
  },
  {
   "cell_type": "code",
   "execution_count": null,
   "metadata": {},
   "outputs": [],
   "source": [
    "# see what variables are defined in the workspace\n",
    "%whos\n",
    "\n",
    "print()\n",
    "\n",
    "# can also do dir(), but that will return variables the system created as well as ones you created\n",
    "print(dir())"
   ]
  },
  {
   "cell_type": "code",
   "execution_count": null,
   "metadata": {},
   "outputs": [],
   "source": [
    "%%time\n",
    "sum = 0\n",
    "for i in range(0,100000):\n",
    "    sum = sum + i\n",
    "print(sum)"
   ]
  },
  {
   "cell_type": "code",
   "execution_count": null,
   "metadata": {},
   "outputs": [],
   "source": [
    "# list currently available magic functions\n",
    "\n",
    "%lsmagic"
   ]
  },
  {
   "cell_type": "code",
   "execution_count": null,
   "metadata": {},
   "outputs": [],
   "source": [
    "%%time?"
   ]
  }
 ],
 "metadata": {
  "kernelspec": {
   "display_name": "Python 3",
   "language": "python",
   "name": "python3"
  },
  "language_info": {
   "codemirror_mode": {
    "name": "ipython",
    "version": 3
   },
   "file_extension": ".py",
   "mimetype": "text/x-python",
   "name": "python",
   "nbconvert_exporter": "python",
   "pygments_lexer": "ipython3",
   "version": "3.8.3"
  }
 },
 "nbformat": 4,
 "nbformat_minor": 4
}
