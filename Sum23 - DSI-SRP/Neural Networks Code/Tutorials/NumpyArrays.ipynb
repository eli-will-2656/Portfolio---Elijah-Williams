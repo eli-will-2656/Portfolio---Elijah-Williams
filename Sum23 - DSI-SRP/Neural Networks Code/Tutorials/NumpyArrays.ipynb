{
 "cells": [
  {
   "cell_type": "markdown",
   "metadata": {},
   "source": [
    "***\n",
    "\n",
    "# Numpy Arrays\n",
    "\n",
    "https://numpy.org \n",
    "\n",
    "https://numpy.org/doc/stable/user/quickstart.html "
   ]
  },
  {
   "cell_type": "code",
   "execution_count": null,
   "metadata": {},
   "outputs": [],
   "source": [
    "import numpy as np\n",
    "\n",
    "# numpy arrays are homogeneous (the same type), unlike lists and tuples\n",
    "\n",
    "# creating a numpy array from a list\n",
    "a = np.array([1., 2., 3., 4., 5.])\n",
    "print(a)\n",
    "print(type(a))\n",
    "print(type(a[0]))"
   ]
  },
  {
   "cell_type": "markdown",
   "metadata": {},
   "source": [
    "### Numpy Array Types"
   ]
  },
  {
   "cell_type": "code",
   "execution_count": null,
   "metadata": {},
   "outputs": [],
   "source": [
    "import numpy as np\n",
    "\n",
    "# numpy arrays can have a wide range of types\n",
    "\n",
    "a = np.array([1, 2, 3, 4, 5], dtype='int64')\n",
    "\n",
    "print(a)\n",
    "print(type(a))\n",
    "print(type(a[0]))\n",
    "print(a.dtype)\n",
    "print()"
   ]
  },
  {
   "cell_type": "code",
   "execution_count": null,
   "metadata": {},
   "outputs": [],
   "source": [
    "# numpy arrays can have a wide range of types\n",
    "\n",
    "b = np.array([1, 2, 3, 4, 5], dtype='float64')\n",
    "\n",
    "print(b)\n",
    "print(type(b))\n",
    "print(type(b[0]))\n",
    "print(b.dtype)\n",
    "print()"
   ]
  },
  {
   "cell_type": "code",
   "execution_count": null,
   "metadata": {},
   "outputs": [],
   "source": [
    "# numpy arrays can have a wide range of types\n",
    "\n",
    "c = np.array([1, 2, 3, 4, 5], dtype='uint8')\n",
    "\n",
    "print(c)\n",
    "print(type(c))\n",
    "print(type(c[0]))\n",
    "print(c.dtype)"
   ]
  },
  {
   "cell_type": "markdown",
   "metadata": {},
   "source": [
    "### Multidimensional Numpy Arrays"
   ]
  },
  {
   "cell_type": "code",
   "execution_count": null,
   "metadata": {},
   "outputs": [],
   "source": [
    "import numpy as np\n",
    "\n",
    "# multidimensional numpy arrays\n",
    "\n",
    "# this is a list\n",
    "a = [[1, 2, 3], [4, 5, 6]]\n",
    "\n",
    "# convert to a numpy array\n",
    "b = np.array(a)\n",
    "\n",
    "print(a)\n",
    "print(b)\n",
    "\n",
    "# can also start with a tuple\n",
    "a = ((1, 2, 3), (4, 5, 6))\n",
    "\n",
    "# convert to a numpy array\n",
    "b = np.array(a)\n",
    "\n",
    "print(a)\n",
    "print(b)"
   ]
  },
  {
   "cell_type": "markdown",
   "metadata": {},
   "source": [
    "### Lists vs. Numpy Arrays"
   ]
  },
  {
   "cell_type": "code",
   "execution_count": null,
   "metadata": {},
   "outputs": [],
   "source": [
    "import numpy as np\n",
    "\n",
    "# lists vs. numpy arrays\n",
    "\n",
    "a = [[1, 2, 3], [4, 5, 6]]\n",
    "b = np.array(a)\n",
    "\n",
    "# addressing lists vs. numpy arrays\n",
    "print(\"a[1][2] \", a[1][2])\n",
    "print(\"b[1,2]  \", b[1,2])"
   ]
  },
  {
   "cell_type": "code",
   "execution_count": null,
   "metadata": {},
   "outputs": [],
   "source": [
    "# this is perfectly ok with a list\n",
    "a = [[1, 2], [4, 5, 6]]\n",
    "print(a)\n",
    "\n",
    "# doesn't work with a numpy array\n",
    "b = np.array(a)\n",
    "print(b)"
   ]
  },
  {
   "cell_type": "markdown",
   "metadata": {},
   "source": [
    "### Shapes of Numpy Arrays"
   ]
  },
  {
   "cell_type": "code",
   "execution_count": null,
   "metadata": {},
   "outputs": [],
   "source": [
    "import numpy as np\n",
    "\n",
    "# shape of numpy array\n",
    "a = np.array([[1,2],[3,4],[5,6],[7,8]])\n",
    "print(a)\n",
    "s = a.shape\n",
    "print(\"a.shape : \", s)\n",
    "type(s)"
   ]
  },
  {
   "cell_type": "code",
   "execution_count": null,
   "metadata": {},
   "outputs": [],
   "source": [
    "b = [[[1, 2, 3], [4, 5, 6]], [[7, 8, 9], [10, 11, 12]]]\n",
    "print(b)\n",
    "c = np.array(b)\n",
    "print(c)\n",
    "print(c.shape)"
   ]
  },
  {
   "cell_type": "markdown",
   "metadata": {},
   "source": [
    "### Slicing Numpy Arrays"
   ]
  },
  {
   "cell_type": "code",
   "execution_count": null,
   "metadata": {},
   "outputs": [],
   "source": [
    "# slicing numpy arrays (see class slides for illustrations)\n",
    "\n",
    "import numpy as np\n",
    "\n",
    "a = np.array([[[1, 2, 3], [4, 5, 6]], [[7, 8, 9], [10, 11, 12]]])\n",
    "\n",
    "print(a[0,:,:])\n",
    "print(a[:,1,:])\n",
    "print(a[:,:,1])"
   ]
  },
  {
   "cell_type": "code",
   "execution_count": null,
   "metadata": {},
   "outputs": [],
   "source": [
    "# slicing part of a numpy array\n",
    "\n",
    "a = np.array([[1, 1, 2, 2, 3, 3, 4, 4, 5, 5], [6, 6, 7, 7, 8, 8, 9, 9, 0, 0]])\n",
    "print(a)"
   ]
  },
  {
   "cell_type": "code",
   "execution_count": null,
   "metadata": {},
   "outputs": [],
   "source": [
    "print(\"a[0, 2:7]\")\n",
    "print(a[0, 2:7])"
   ]
  },
  {
   "cell_type": "code",
   "execution_count": null,
   "metadata": {},
   "outputs": [],
   "source": [
    "print(\"a[:, 5:]\")\n",
    "print(a[:, 5:])"
   ]
  },
  {
   "cell_type": "code",
   "execution_count": null,
   "metadata": {},
   "outputs": [],
   "source": [
    "print(\"a[1, 0:10:2]\")\n",
    "print(a[1, 0:10:2])"
   ]
  },
  {
   "cell_type": "code",
   "execution_count": null,
   "metadata": {},
   "outputs": [],
   "source": [
    "print(\"a[:, [9, 4, 6]]\")\n",
    "print(a[:, [9, 4, 6]])"
   ]
  },
  {
   "cell_type": "markdown",
   "metadata": {},
   "source": [
    "### Preallocating Numpy Arrays"
   ]
  },
  {
   "cell_type": "code",
   "execution_count": null,
   "metadata": {},
   "outputs": [],
   "source": [
    "# preallocating numpy arrays with zeros\n",
    "\n",
    "import numpy as np\n",
    "\n",
    "a = np.zeros(5)\n",
    "print(a)\n",
    "print(a.shape)\n",
    "\n",
    "# is the same as\n",
    "a = np.zeros((5,))\n",
    "print(a)\n",
    "print(a.shape)"
   ]
  },
  {
   "cell_type": "code",
   "execution_count": null,
   "metadata": {},
   "outputs": [],
   "source": [
    "# can specify type\n",
    "a = np.zeros(5, dtype=int)\n",
    "print(a)\n",
    "b = np.zeros(5, dtype=float)\n",
    "print(b)"
   ]
  },
  {
   "cell_type": "code",
   "execution_count": null,
   "metadata": {},
   "outputs": [],
   "source": [
    "# multidimensional numpy array\n",
    "\n",
    "a = np.zeros((4,3))\n",
    "print(a)\n",
    "(r,c) = a.shape\n",
    "print(r,c)"
   ]
  },
  {
   "cell_type": "code",
   "execution_count": null,
   "metadata": {},
   "outputs": [],
   "source": [
    "# preallocating with ones\n",
    "\n",
    "a = np.ones((5,))\n",
    "print(a)\n",
    "print(a.shape)"
   ]
  },
  {
   "cell_type": "code",
   "execution_count": null,
   "metadata": {},
   "outputs": [],
   "source": [
    "# note these differences\n",
    "\n",
    "# array of 5 elements (1D vector)\n",
    "a = np.ones((5,))\n",
    "print(a)\n",
    "print(a.shape)\n",
    "print()\n",
    "\n",
    "# 2D column vector\n",
    "b = np.ones((5,1))\n",
    "print(b)\n",
    "print(b.shape)\n",
    "print()\n",
    "\n",
    "# 2D row vector\n",
    "c = np.ones((1,5))\n",
    "print(c)\n",
    "print(c.shape)"
   ]
  },
  {
   "cell_type": "code",
   "execution_count": null,
   "metadata": {},
   "outputs": [],
   "source": [
    "# fill a numpy array with a sequence\n",
    "\n",
    "# min, max, step (doesn't include max)\n",
    "a = np.arange(0, 10, .1)\n",
    "print(a)\n",
    "\n",
    "# min, max, number of equal-spaced elements (includes max)\n",
    "b = np.linspace(0, 10, 100)\n",
    "print(b)\n",
    "\n",
    "c = np.linspace(0, 10, 101)\n",
    "print(c)"
   ]
  },
  {
   "cell_type": "code",
   "execution_count": null,
   "metadata": {},
   "outputs": [],
   "source": [
    "# fill with (uniformly-distributed) random numbers \n",
    "# (we will talk more about random numbers later)\n",
    "\n",
    "a = np.random.random((5, 4))\n",
    "print(a)"
   ]
  },
  {
   "cell_type": "markdown",
   "metadata": {},
   "source": [
    "### Extending, Reshaping, Resizing Numpy Arrays"
   ]
  },
  {
   "cell_type": "code",
   "execution_count": null,
   "metadata": {},
   "outputs": [],
   "source": [
    "# extend a numpy array (using append)\n",
    "\n",
    "import numpy as np\n",
    "\n",
    "a = np.array([[1, 2, 3], [4, 5, 6]])\n",
    "print(f\"a: (nrows, ncols) = ({a.shape[0]}, {a.shape[1]})\")\n",
    "print(a)"
   ]
  },
  {
   "cell_type": "code",
   "execution_count": null,
   "metadata": {},
   "outputs": [],
   "source": [
    "# add a new row\n",
    "b = np.array([[7, 8, 9]])\n",
    "print(f\"b: (nrows, ncols) = ({b.shape[0]}, {b.shape[1]})\")\n",
    "c = np.append(a, b, axis=0)\n",
    "print(c)"
   ]
  },
  {
   "cell_type": "code",
   "execution_count": null,
   "metadata": {},
   "outputs": [],
   "source": [
    "# add a new row of zeros\n",
    "b = np.zeros((1, a.shape[1]), dtype=a.dtype)\n",
    "print(f\"b: (nrows, ncols) = ({b.shape[0]}, {b.shape[1]})\")\n",
    "c = np.append(a, b, axis=0)\n",
    "print(c)"
   ]
  },
  {
   "cell_type": "code",
   "execution_count": null,
   "metadata": {},
   "outputs": [],
   "source": [
    "# add 5 new columns of zeros\n",
    "b = np.zeros((a.shape[0], 5))\n",
    "print(f\"b: (nrows, ncols) = ({b.shape[0]}, {b.shape[1]})\")\n",
    "c = np.append(a, b, axis=1)\n",
    "print(c)"
   ]
  },
  {
   "cell_type": "code",
   "execution_count": null,
   "metadata": {},
   "outputs": [],
   "source": [
    "a = np.array([[1, 2], [3, 4]])\n",
    "b = np.array([[6, 7], [8, 9]])\n",
    "\n",
    "# can append to axis 0 OR axis 1\n",
    "\n",
    "c = np.append(a, b, axis=1)\n",
    "\n",
    "print(a)\n",
    "print(b)\n",
    "print(c)"
   ]
  },
  {
   "cell_type": "code",
   "execution_count": null,
   "metadata": {},
   "outputs": [],
   "source": [
    "# extend a numpy array (using concatenate)\n",
    "\n",
    "a = np.array([[1, 2, 3], [4, 5, 6]])\n",
    "print(f\"a: (nrows, ncols) = ({a.shape[0]}, {a.shape[1]})\")\n",
    "print(a)"
   ]
  },
  {
   "cell_type": "code",
   "execution_count": null,
   "metadata": {},
   "outputs": [],
   "source": [
    "# add a new row\n",
    "b = np.array([[7, 8, 9]])\n",
    "print(f\"b: (nrows, ncols) = ({b.shape[0]}, {b.shape[1]})\")\n",
    "c = np.concatenate((a, b), axis=0)\n",
    "print(c)"
   ]
  },
  {
   "cell_type": "code",
   "execution_count": null,
   "metadata": {},
   "outputs": [],
   "source": [
    "# add a new row of zeros\n",
    "b = np.zeros((1, a.shape[1]), dtype=a.dtype)\n",
    "print(f\"b: (nrows, ncols) = ({b.shape[0]}, {b.shape[1]})\")\n",
    "c = np.concatenate((a, b), axis=0)\n",
    "print(c)"
   ]
  },
  {
   "cell_type": "code",
   "execution_count": null,
   "metadata": {},
   "outputs": [],
   "source": [
    "# add 5 new columns of zeros\n",
    "b = np.zeros((a.shape[0], 5))\n",
    "print(f\"b: (nrows, ncols) = ({b.shape[0]}, {b.shape[1]})\")\n",
    "c = np.concatenate((a, b), axis=1)"
   ]
  },
  {
   "cell_type": "code",
   "execution_count": null,
   "metadata": {},
   "outputs": [],
   "source": [
    "# reshape/resize numpy array\n",
    "\n",
    "a = np.array([[1, 2, 3], [4, 5, 6]])\n",
    "(nr, nc) = a.shape"
   ]
  },
  {
   "cell_type": "code",
   "execution_count": null,
   "metadata": {},
   "outputs": [],
   "source": [
    "# reshape (keep a the same)\n",
    "b = a.reshape((1, nr*nc))\n",
    "print(a)\n",
    "print(b)"
   ]
  },
  {
   "cell_type": "code",
   "execution_count": null,
   "metadata": {},
   "outputs": [],
   "source": [
    "b = a.reshape((nr*nc, 1))\n",
    "print(a)\n",
    "print(b)"
   ]
  },
  {
   "cell_type": "code",
   "execution_count": null,
   "metadata": {},
   "outputs": [],
   "source": [
    "b = a.reshape((1, 1, nr*nc, 1, 1))\n",
    "print(a)\n",
    "print(b)\n",
    "print(b.shape)"
   ]
  },
  {
   "cell_type": "code",
   "execution_count": null,
   "metadata": {},
   "outputs": [],
   "source": [
    "b = a.reshape((nr*nc,))\n",
    "print(a)\n",
    "print(b)\n",
    "print(a.shape)\n",
    "print(b.shape)"
   ]
  },
  {
   "cell_type": "code",
   "execution_count": null,
   "metadata": {},
   "outputs": [],
   "source": [
    "# resize (changes a, doesn't return a new array)\n",
    "b = a.resize((nc, nr))\n",
    "print(a)\n",
    "print(b)"
   ]
  },
  {
   "cell_type": "code",
   "execution_count": null,
   "metadata": {},
   "outputs": [],
   "source": [
    "# transpose rows and columns\n",
    "\n",
    "a = np.array([[1, 2, 3, 4], [5, 6, 7, 8]])\n",
    "print(a)\n",
    "print()\n",
    "\n",
    "print(a.transpose())\n",
    "print()"
   ]
  },
  {
   "cell_type": "markdown",
   "metadata": {},
   "source": [
    "### Delete Indices, Rows, Columns in Numpy Array\n",
    "\n",
    "https://numpy.org/doc/stable/reference/generated/numpy.delete.html"
   ]
  },
  {
   "cell_type": "code",
   "execution_count": null,
   "metadata": {},
   "outputs": [],
   "source": [
    "# delete part of a numpy array\n",
    "\n",
    "import numpy as np\n",
    "\n",
    "a = np.array([10, 20, 30, 40, 50, 60, 70, 80, 90])\n",
    "\n",
    "# delete a single index position\n",
    "b = np.delete(a, 2)\n",
    "print(b)\n",
    "\n",
    "# delete a range of index positions\n",
    "b = np.delete(a, range(1,4))\n",
    "print(b)\n",
    "\n",
    "# delete a list of index positions\n",
    "b = np.delete(a, [1, 5, 7])\n",
    "print(b)"
   ]
  },
  {
   "cell_type": "code",
   "execution_count": null,
   "metadata": {},
   "outputs": [],
   "source": [
    "# delete rows and columns\n",
    "\n",
    "a = (np.arange(100)).reshape((4, 5, 5))\n",
    "print(a.shape)\n",
    "print(a)"
   ]
  },
  {
   "cell_type": "code",
   "execution_count": null,
   "metadata": {},
   "outputs": [],
   "source": [
    "# delete third row\n",
    "b = np.delete(a, 2, axis=0)\n",
    "print(b)"
   ]
  },
  {
   "cell_type": "code",
   "execution_count": null,
   "metadata": {},
   "outputs": [],
   "source": [
    "# delete second column\n",
    "b = np.delete(a, 1, axis=1)\n",
    "print(b)"
   ]
  },
  {
   "cell_type": "code",
   "execution_count": null,
   "metadata": {},
   "outputs": [],
   "source": [
    "# delete first page\n",
    "b = np.delete(a, 0, axis=2)\n",
    "print(b)"
   ]
  },
  {
   "cell_type": "markdown",
   "metadata": {},
   "source": [
    "### Copying Numpy Arrays"
   ]
  },
  {
   "cell_type": "markdown",
   "metadata": {},
   "source": [
    "these are not copies of numpy array"
   ]
  },
  {
   "cell_type": "code",
   "execution_count": null,
   "metadata": {},
   "outputs": [],
   "source": [
    "a = np.array([[1, 2, 3], [4, 5, 6]])\n",
    "b = a\n",
    "c = a[:, 1:]\n",
    "print(a)\n",
    "print(b)\n",
    "print(c)"
   ]
  },
  {
   "cell_type": "code",
   "execution_count": null,
   "metadata": {},
   "outputs": [],
   "source": [
    "a[1,2] = 99\n",
    "print(a)\n",
    "print(b)\n",
    "print(c)"
   ]
  },
  {
   "cell_type": "code",
   "execution_count": null,
   "metadata": {},
   "outputs": [],
   "source": [
    "b[0,1] = 66\n",
    "print(a)\n",
    "print(b)\n",
    "print(c)"
   ]
  },
  {
   "cell_type": "markdown",
   "metadata": {},
   "source": [
    "(shallow) copy (but will copy all numeric elements)"
   ]
  },
  {
   "cell_type": "code",
   "execution_count": null,
   "metadata": {},
   "outputs": [],
   "source": [
    "a = np.array([[1, 2, 3], [4, 5, 6]])\n",
    "b = a.copy()\n",
    "print(a)\n",
    "print(b)"
   ]
  },
  {
   "cell_type": "code",
   "execution_count": null,
   "metadata": {},
   "outputs": [],
   "source": [
    "a[1,2] = 99\n",
    "print(a)\n",
    "print(b)"
   ]
  },
  {
   "cell_type": "code",
   "execution_count": null,
   "metadata": {},
   "outputs": [],
   "source": [
    "b[0,1] = 66\n",
    "print(a)\n",
    "print(b)"
   ]
  },
  {
   "cell_type": "markdown",
   "metadata": {},
   "source": [
    "note this"
   ]
  },
  {
   "cell_type": "code",
   "execution_count": null,
   "metadata": {},
   "outputs": [],
   "source": [
    "a = np.array([[1, 2, 3], [4, 5, 6]])\n",
    "b = a[:, 1:]\n",
    "c = a[:, [2,1]]\n",
    "print(a)\n",
    "print(b)\n",
    "print(c)"
   ]
  },
  {
   "cell_type": "code",
   "execution_count": null,
   "metadata": {},
   "outputs": [],
   "source": [
    "# this is a view\n",
    "b[1, 1] = 99\n",
    "print(a)\n",
    "print(b)\n",
    "print(c)"
   ]
  },
  {
   "cell_type": "code",
   "execution_count": null,
   "metadata": {},
   "outputs": [],
   "source": [
    "# this is a copy\n",
    "c[1, 1] = 77\n",
    "print(a)\n",
    "print(b)\n",
    "print(c)"
   ]
  },
  {
   "cell_type": "markdown",
   "metadata": {},
   "source": [
    "in this case, part of a is copied into part of b"
   ]
  },
  {
   "cell_type": "code",
   "execution_count": null,
   "metadata": {},
   "outputs": [],
   "source": [
    "a = np.array([[1, 2, 3, 5], [4, 5, 6, 7]])\n",
    "b = np.array([[8, 8, 8, 8], [9, 9, 9, 9]])\n",
    "b[:,2:] = a[:,2:]\n",
    "\n",
    "print(a)\n",
    "print(b)"
   ]
  },
  {
   "cell_type": "code",
   "execution_count": null,
   "metadata": {},
   "outputs": [],
   "source": [
    "a[0, 3] = 99\n",
    "b[0, 3] = 55\n",
    "print(a)\n",
    "print(b)\n",
    "print()"
   ]
  },
  {
   "cell_type": "markdown",
   "metadata": {},
   "source": [
    "***\n",
    "\n",
    "# Operations on Numpy Arrays"
   ]
  },
  {
   "cell_type": "markdown",
   "metadata": {},
   "source": [
    "### scalar operations on arrays"
   ]
  },
  {
   "cell_type": "code",
   "execution_count": null,
   "metadata": {},
   "outputs": [],
   "source": [
    "import numpy as np\n",
    "import math\n",
    "\n",
    "data = np.array([[1., 2., 3., 4., 5.],[6., 7., 8., 9., 0.]])\n",
    "\n",
    "# operations on individual elements\n",
    "data[0, 3] = data[0, 3] + 10\n",
    "data[1, 3] += 20\n",
    "data[0, 1] /= 2\n",
    "data[1, 1] = math.cos(data[1, 4])\n",
    "\n",
    "print(data)"
   ]
  },
  {
   "cell_type": "code",
   "execution_count": null,
   "metadata": {},
   "outputs": [],
   "source": [
    "# operations on entire array (or slices of an array)\n",
    "\n",
    "data = np.array([[1., 2., 3., 4., 5.],[6., 7., 8., 9., 0.]])\n",
    "\n",
    "# remember, never hard code things, instead do things like this\n",
    "(nrow, ncol) = data.shape\n",
    "\n",
    "# element-wise operation on 1st row using a for loop\n",
    "for j in range(ncol):\n",
    "    data[0, j] += 10\n",
    "\n",
    "print(data)"
   ]
  },
  {
   "cell_type": "code",
   "execution_count": null,
   "metadata": {},
   "outputs": [],
   "source": [
    "# can do the same operations in one line (vectorized array operations)\n",
    "\n",
    "data = np.array([[1., 2., 3., 4., 5.],[6., 7., 8., 9., 0.]])\n",
    "(nrow, ncol) = data.shape\n",
    "\n",
    "# add to each element in first row (vectorized)\n",
    "data[0,:] = data[0,:] + 10\n",
    "print(data)"
   ]
  },
  {
   "cell_type": "code",
   "execution_count": null,
   "metadata": {},
   "outputs": [],
   "source": [
    "data = np.array([[1., 2., 3., 4., 5.],[6., 7., 8., 9., 0.]])\n",
    "\n",
    "# remember, never hard code things, instead do things like this\n",
    "(nrow, ncol) = data.shape\n",
    "\n",
    "# element-wise operation on entire array using nested for loops\n",
    "for i in range(nrow):\n",
    "    for j in range(ncol):\n",
    "        data[i, j] += 10\n",
    "\n",
    "print(data)"
   ]
  },
  {
   "cell_type": "code",
   "execution_count": null,
   "metadata": {},
   "outputs": [],
   "source": [
    "# can do the same operations in one line (vectorized array operations)\n",
    "\n",
    "data = np.array([[1., 2., 3., 4., 5.],[6., 7., 8., 9., 0.]])\n",
    "\n",
    "# add to all elements in array (vectorized)\n",
    "data = data + 10\n",
    "print(data)"
   ]
  },
  {
   "cell_type": "markdown",
   "metadata": {},
   "source": [
    "### element-wise operations on arrays\n",
    "\n",
    "(arrays must have the same size)"
   ]
  },
  {
   "cell_type": "code",
   "execution_count": null,
   "metadata": {},
   "outputs": [],
   "source": [
    "# element-wise operations on two arrays (same size)\n",
    "\n",
    "a = np.tile([[1, 2], [3, 4]], (2, 2))\n",
    "b = np.tile([[5, 0], [0, 5]], (2, 2))\n",
    "print(a)\n",
    "print()\n",
    "print(b)"
   ]
  },
  {
   "cell_type": "code",
   "execution_count": null,
   "metadata": {},
   "outputs": [],
   "source": [
    "print(a+b)"
   ]
  },
  {
   "cell_type": "code",
   "execution_count": null,
   "metadata": {},
   "outputs": [],
   "source": [
    "print(a*b)"
   ]
  },
  {
   "cell_type": "code",
   "execution_count": null,
   "metadata": {},
   "outputs": [],
   "source": [
    "print(b**a)"
   ]
  },
  {
   "cell_type": "markdown",
   "metadata": {},
   "source": [
    "***\n",
    "\n",
    "### computing mathematical functions with numpy arrays"
   ]
  },
  {
   "cell_type": "code",
   "execution_count": null,
   "metadata": {},
   "outputs": [],
   "source": [
    "import math\n",
    "\n",
    "alpha = 1.\n",
    "beta = 2.\n",
    "gam = .5\n",
    "lam = .1\n",
    "\n",
    "x = 1.\n",
    "\n",
    "F = 1 - math.exp(-(x/alpha)**beta)\n",
    "psi = gam + (1. - lam - gam)*F\n",
    "\n",
    "print(psi)"
   ]
  },
  {
   "cell_type": "code",
   "execution_count": null,
   "metadata": {},
   "outputs": [],
   "source": [
    "# compute a full graph\n",
    "\n",
    "import math\n",
    "import numpy as np\n",
    "\n",
    "alpha = 1.\n",
    "beta = 2.\n",
    "gam = .5\n",
    "lam = .1\n",
    "\n",
    "x = np.arange(0, 5, .01)\n",
    "\n",
    "# need to replace math.exp() with np.exp()\n",
    "F = 1 - np.exp(-(x/alpha)**beta)\n",
    "psi = gam + (1. - lam - gam)*F\n"
   ]
  },
  {
   "cell_type": "code",
   "execution_count": null,
   "metadata": {},
   "outputs": [],
   "source": [
    "# equivalent to\n",
    "\n",
    "psi = np.zeros(len(x))\n",
    "for i in range(len(x)):\n",
    "    F = 1 - np.exp(-(x[i]/alpha)**beta)\n",
    "    psi[i] = gam + (1. - lam - gam)*F"
   ]
  },
  {
   "cell_type": "code",
   "execution_count": null,
   "metadata": {},
   "outputs": [],
   "source": [
    "# basic plotting with matplotlib\n",
    "\n",
    "import matplotlib.pyplot as plt\n",
    "\n",
    "plt.plot(x, psi)\n",
    "plt.xlabel(\"stimulus manipulation\")\n",
    "plt.ylabel(\"accuracy\")\n",
    "plt.title(\"psychophysical function\")\n",
    "plt.show()"
   ]
  },
  {
   "cell_type": "markdown",
   "metadata": {},
   "source": [
    "Normal Distribution:\n",
    "$p(x) = \\frac{1}{\\sqrt{2\\pi\\sigma^2}}\\exp\\left(\\frac{-(x-\\mu)^2}{2\\sigma^2}\\right)$"
   ]
  },
  {
   "cell_type": "code",
   "execution_count": null,
   "metadata": {},
   "outputs": [],
   "source": [
    "import numpy as np\n",
    "import matplotlib.pyplot as plt\n",
    "import math\n",
    "\n",
    "m = 0.0\n",
    "s = 1.0\n",
    "x = np.arange(-4.0, 4.0, .01)\n",
    "p = (1/math.sqrt(2*math.pi*(s**2))) * np.exp(-((x-m)**2)/(2*(s**2)))\n",
    "plt.plot(x, p)\n",
    "plt.xlabel(\"x\")\n",
    "plt.ylabel(\"p(x)\")\n",
    "plt.title(\"Normal Distribution\")\n",
    "plt.show()"
   ]
  },
  {
   "cell_type": "markdown",
   "metadata": {},
   "source": [
    "### for loops vs. vectorizing\n",
    "\n",
    "<i>The danger of vectorizing is making a (largely hidden) mistake. Unless you are certain of your coding, it makes sense to compare vectorized with non-vectorized (for loop) code. In a laboratory setting, it can make sense to show a commented out for-loop version of the code above the vectorized code.</i>"
   ]
  },
  {
   "cell_type": "code",
   "execution_count": null,
   "metadata": {},
   "outputs": [],
   "source": [
    "import numpy as np\n",
    "\n",
    "# power of vectorizing (using array, vector, and matrix operations rather than for loops)\n",
    "\n",
    "N = 1000\n",
    "\n",
    "a = np.random.rand(N,N)\n",
    "b = np.random.rand(N,N)\n",
    "c = np.zeros((N,N))"
   ]
  },
  {
   "cell_type": "code",
   "execution_count": null,
   "metadata": {},
   "outputs": [],
   "source": [
    "%%timeit\n",
    "\n",
    "for i in range(N):\n",
    "    for j in range(N):\n",
    "        c[i,j] = a[i,j]+b[i,j]"
   ]
  },
  {
   "cell_type": "code",
   "execution_count": null,
   "metadata": {},
   "outputs": [],
   "source": [
    "%%timeit\n",
    "\n",
    "c = a+b"
   ]
  },
  {
   "cell_type": "code",
   "execution_count": null,
   "metadata": {},
   "outputs": [],
   "source": [
    "# built-in Python (sum) vs. numpy (np.sum)\n",
    "\n",
    "N = 1000000\n",
    "\n",
    "a = np.random.rand(N)\n",
    "\n",
    "%timeit sum(a)\n",
    "%timeit np.sum(a)"
   ]
  },
  {
   "cell_type": "code",
   "execution_count": null,
   "metadata": {},
   "outputs": [],
   "source": [
    "# numpy versions of math functions must be used (when applied to arrays, not elements)\n",
    "\n",
    "print(np.sin(a))\n",
    "\n",
    "# math.sin(a) would throw an error"
   ]
  },
  {
   "cell_type": "code",
   "execution_count": null,
   "metadata": {},
   "outputs": [],
   "source": [
    "# preallocate vs. append\n",
    "\n",
    "N = 100000\n",
    "\n",
    "a = np.zeros(N)       # preallocated\n",
    "b = np.array([])      # to be appended to"
   ]
  },
  {
   "cell_type": "code",
   "execution_count": null,
   "metadata": {},
   "outputs": [],
   "source": [
    "%%timeit\n",
    "\n",
    "# preallocated\n",
    "for i in range(N):\n",
    "    a[i] = i"
   ]
  },
  {
   "cell_type": "code",
   "execution_count": null,
   "metadata": {},
   "outputs": [],
   "source": [
    "%%timeit\n",
    "\n",
    "# appended\n",
    "for i in range(N):\n",
    "    np.append(b, i)"
   ]
  },
  {
   "cell_type": "code",
   "execution_count": null,
   "metadata": {},
   "outputs": [],
   "source": [
    "# another example of appending (and use of axes)\n",
    "\n",
    "import numpy as np\n",
    "\n",
    "a = np.array([[1, 2], [3, 4]])\n",
    "b = np.array([[6, 7], [8, 9]])\n",
    "print(a)\n",
    "print(b)"
   ]
  },
  {
   "cell_type": "code",
   "execution_count": null,
   "metadata": {},
   "outputs": [],
   "source": [
    "# can append to axis 0 OR axis 1\n",
    "\n",
    "print(np.append(a, b, axis=0))"
   ]
  },
  {
   "cell_type": "code",
   "execution_count": null,
   "metadata": {},
   "outputs": [],
   "source": [
    "print(np.append(a, b, axis=1))"
   ]
  },
  {
   "cell_type": "markdown",
   "metadata": {},
   "source": [
    "### broadcasting (with numpy)\n",
    "\n",
    "https://numpy.org/doc/stable/user/basics.broadcasting.html"
   ]
  },
  {
   "cell_type": "code",
   "execution_count": null,
   "metadata": {},
   "outputs": [],
   "source": [
    "import numpy as np\n",
    "\n",
    "a = np.array([[1, 1, 1, 1], [2, 2, 2, 2], [3, 3, 3, 3]])\n",
    "b = np.array([[10], [20], [30]])\n",
    "\n",
    "print(a)\n",
    "print(b)\n",
    "print(a.shape)\n",
    "print(b.shape)"
   ]
  },
  {
   "cell_type": "code",
   "execution_count": null,
   "metadata": {},
   "outputs": [],
   "source": [
    "print(a*b)"
   ]
  },
  {
   "cell_type": "code",
   "execution_count": null,
   "metadata": {},
   "outputs": [],
   "source": [
    "c = np.array([[10, 20, 30, 40]])\n",
    "\n",
    "print(a)\n",
    "print(c)\n",
    "print(a.shape)\n",
    "print(c.shape)"
   ]
  },
  {
   "cell_type": "code",
   "execution_count": null,
   "metadata": {},
   "outputs": [],
   "source": [
    "print(a*c)"
   ]
  },
  {
   "cell_type": "markdown",
   "metadata": {},
   "source": [
    "*** \n",
    "\n",
    "### logical (Boolean) indexing"
   ]
  },
  {
   "cell_type": "code",
   "execution_count": null,
   "metadata": {},
   "outputs": [],
   "source": [
    "import numpy as np\n",
    "\n",
    "# logical (Boolean) indexing\n",
    "\n",
    "a = np.array([1, 2, 3, 4, 5])\n",
    "b = np.array([False, True, False, False, True])\n",
    "print(len(a),len(b))"
   ]
  },
  {
   "cell_type": "code",
   "execution_count": null,
   "metadata": {},
   "outputs": [],
   "source": [
    "# logical (Boolean) indexing\n",
    "\n",
    "print(a[b])"
   ]
  },
  {
   "cell_type": "code",
   "execution_count": null,
   "metadata": {},
   "outputs": [],
   "source": [
    "# typically, the bool array comes from another test\n",
    "\n",
    "a = np.arange(100)\n",
    "b = ((a % 2) == 0)\n",
    "print(a[b])"
   ]
  },
  {
   "cell_type": "code",
   "execution_count": null,
   "metadata": {},
   "outputs": [],
   "source": [
    "# this is the same, of course\n",
    "\n",
    "a = np.arange(100)\n",
    "print(a[((a % 2) == 0)])"
   ]
  },
  {
   "cell_type": "code",
   "execution_count": null,
   "metadata": {},
   "outputs": [],
   "source": [
    "# hint for Homework 3\n",
    "\n",
    "a = np.array([1, 2, 1, 1, 2, 1, 2, 2, 2, 1])\n",
    "b = np.array([0, 0, 1, 1, 1, 0, 1, 1, 1, 0])\n",
    "print(b[a == 1])\n",
    "print(b[a == 2])"
   ]
  },
  {
   "cell_type": "code",
   "execution_count": null,
   "metadata": {},
   "outputs": [],
   "source": [
    "# hint for Homework 3\n",
    "\n",
    "a = np.array([0.423, 0.034, 0.512, 1.332, 0.873, 0.545, 0.089, 1.034, 0.643])\n",
    "print(a[(a >= 0.100) & (a <= 1.000)])\n",
    "print(a[np.logical_and((a >= 0.100), (a <= 1.000))])\n",
    "\n",
    "# using logical_and, logical_or, logical_not, logical_xor recommended"
   ]
  },
  {
   "cell_type": "code",
   "execution_count": null,
   "metadata": {},
   "outputs": [],
   "source": [
    "a = np.array([0.423, 0.034, 0.512, 1.332, 0.873, 0.545, 0.089, 1.034, 0.643])\n",
    "(a >= 0.100) & (a <= 1.000)"
   ]
  },
  {
   "cell_type": "code",
   "execution_count": null,
   "metadata": {},
   "outputs": [],
   "source": [
    "# this gives an error (a bit inexplicably)\n",
    "\n",
    "print(a[(a >= 0.100) and (a <= 1.000)])\n",
    "\n",
    "# the meaning of the logical, short-circuiting operators *and* and *or* in Python can’t be redefined (they are \n",
    "# keywords of the language) - Numpy implements its own versions as functions: logical_and and logical_or (as well \n",
    "# as not and xor versions). It would be good to extend the PEP to cover type-defined implementations of logical \n",
    "# operators. Today, numpy users often abuses the & and | operators for logical operations, but the behavior of \n",
    "# these isn’t exactly that of Python logical operators"
   ]
  },
  {
   "cell_type": "code",
   "execution_count": null,
   "metadata": {},
   "outputs": [],
   "source": [
    "# you could do this\n",
    "\n",
    "print(a[list(a >= 0.100) and list(a <= 1.000)])"
   ]
  }
 ],
 "metadata": {
  "kernelspec": {
   "display_name": "Python 3.9.13 ('.venv': venv)",
   "language": "python",
   "name": "python3"
  },
  "language_info": {
   "codemirror_mode": {
    "name": "ipython",
    "version": 3
   },
   "file_extension": ".py",
   "mimetype": "text/x-python",
   "name": "python",
   "nbconvert_exporter": "python",
   "pygments_lexer": "ipython3",
   "version": "3.9.13"
  },
  "vscode": {
   "interpreter": {
    "hash": "3730d5d1c31a0f0507cb21031ee0b4e9aa5b7079f3ceca5ddb3f252bb92fdf07"
   }
  }
 },
 "nbformat": 4,
 "nbformat_minor": 4
}
