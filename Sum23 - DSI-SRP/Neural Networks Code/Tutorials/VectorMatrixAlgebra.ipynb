{
 "cells": [
  {
   "cell_type": "markdown",
   "metadata": {},
   "source": [
    "***\n",
    "\n",
    "# Vectors, Matrices, and Linear Algebra\n",
    "\n",
    "https://www.youtube.com/playlist?list=PLZHQObOWTQDPD3MizzM2xVFitgF8hE_ab"
   ]
  },
  {
   "cell_type": "markdown",
   "metadata": {},
   "source": [
    "### vectors"
   ]
  },
  {
   "cell_type": "code",
   "execution_count": null,
   "metadata": {},
   "outputs": [],
   "source": [
    "import numpy as np\n",
    "\n",
    "a = np.array([1, 2])\n",
    "b = np.array([3, 2, 1])\n",
    "c = np.array([1, 3, 3, 1])\n",
    "print(a.shape, b.shape, c.shape)"
   ]
  },
  {
   "cell_type": "markdown",
   "metadata": {},
   "source": [
    "### adding vectors"
   ]
  },
  {
   "cell_type": "code",
   "execution_count": null,
   "metadata": {},
   "outputs": [],
   "source": [
    "a = np.array([1, 2])\n",
    "b = np.array([3, 2])\n",
    "\n",
    "print(a+b)"
   ]
  },
  {
   "cell_type": "markdown",
   "metadata": {},
   "source": [
    "### multiplying by a scalar"
   ]
  },
  {
   "cell_type": "code",
   "execution_count": null,
   "metadata": {},
   "outputs": [],
   "source": [
    "a = np.array([1, 2])\n",
    "b = 2*a\n",
    "\n",
    "print(b)"
   ]
  },
  {
   "cell_type": "markdown",
   "metadata": {},
   "source": [
    "### (norm) length of a vector"
   ]
  },
  {
   "cell_type": "code",
   "execution_count": null,
   "metadata": {},
   "outputs": [],
   "source": [
    "a = np.array([3, 4])\n",
    "\n",
    "print(np.linalg.norm(a))"
   ]
  },
  {
   "cell_type": "markdown",
   "metadata": {},
   "source": [
    "### angle between two vectors"
   ]
  },
  {
   "cell_type": "code",
   "execution_count": null,
   "metadata": {},
   "outputs": [],
   "source": [
    "import math\n",
    "\n",
    "a = np.array([1, 3])\n",
    "b = np.array([2, 1])\n",
    "\n",
    "an = np.linalg.norm(a)\n",
    "bn = np.linalg.norm(b)\n",
    "theta = math.acos(np.dot(a,b)/(an*bn))\n",
    "print(np.rad2deg(theta))"
   ]
  },
  {
   "cell_type": "code",
   "execution_count": null,
   "metadata": {},
   "outputs": [],
   "source": [
    "# same as this in for loops\n",
    "\n",
    "an = 0.;   bn = 0.;   adb = 0.\n",
    "for i in range(len(a)):\n",
    "    an  += a[i]**2\n",
    "    bn  += b[i]**2\n",
    "    adb += a[i]*b[i]\n",
    "an = math.sqrt(an)\n",
    "bn = math.sqrt(bn)\n",
    "theta = math.acos(adb/(an*bn))\n",
    "print(np.rad2deg(theta))"
   ]
  },
  {
   "cell_type": "markdown",
   "metadata": {},
   "source": [
    "### solving systems of linear equations"
   ]
  },
  {
   "cell_type": "code",
   "execution_count": null,
   "metadata": {},
   "outputs": [],
   "source": [
    "import numpy as np\n",
    "import matplotlib.pyplot as plt\n",
    "\n",
    "x = np.arange(-3, 8, .01)\n",
    "y1 = 1 - .5*x\n",
    "y2 = 3 - x\n",
    "plt.plot(x, y1, x, y2)\n",
    "plt.show()"
   ]
  },
  {
   "cell_type": "code",
   "execution_count": null,
   "metadata": {},
   "outputs": [],
   "source": [
    "# mathematical operations on matrices\n",
    "\n",
    "A = np.array([[2, 1], [2, 3]])\n",
    "B = np.array([[1, 2], [0, 1]])\n",
    "c = 2\n",
    "\n",
    "print((A + B) - (B + A))\n",
    "print()\n",
    "print(c*(A+B) - (c*A + c*B))"
   ]
  },
  {
   "cell_type": "markdown",
   "metadata": {},
   "source": [
    "### matrix multiplication"
   ]
  },
  {
   "cell_type": "code",
   "execution_count": null,
   "metadata": {},
   "outputs": [],
   "source": [
    "import numpy as np\n",
    "\n",
    "A = np.array([[3, 4], [1, 6]])\n",
    "B = np.array([[1, 1], [8, 1]])"
   ]
  },
  {
   "cell_type": "code",
   "execution_count": null,
   "metadata": {},
   "outputs": [],
   "source": [
    "# obviously, element-wise multiplication is commutative\n",
    "\n",
    "print(A*B)\n",
    "print(B*A)"
   ]
  },
  {
   "cell_type": "code",
   "execution_count": null,
   "metadata": {},
   "outputs": [],
   "source": [
    "# matrix multiplication is not commutative (in general)\n",
    "\n",
    "print(np.matmul(A, B))\n",
    "print(np.matmul(B, A))"
   ]
  },
  {
   "cell_type": "code",
   "execution_count": null,
   "metadata": {},
   "outputs": [],
   "source": [
    "# another way to do matrix multiplication \n",
    "print(A @ B)\n",
    "print(B @ A)"
   ]
  },
  {
   "cell_type": "code",
   "execution_count": null,
   "metadata": {},
   "outputs": [],
   "source": [
    "# matrices have to have the right shape for multiplication\n",
    "\n",
    "C = np.array([[3, 4, 6, 2], [1, 6, 8, 3]])\n",
    "D = np.array([[1, 1, 4], \n",
    "              [8, 1, 2],\n",
    "              [1, 1, 1],\n",
    "              [1, 9, 1]])\n",
    "\n",
    "print(C.shape)\n",
    "print(D.shape)"
   ]
  },
  {
   "cell_type": "markdown",
   "metadata": {},
   "source": [
    "### matrices as transformations"
   ]
  },
  {
   "cell_type": "code",
   "execution_count": null,
   "metadata": {},
   "outputs": [],
   "source": [
    "import numpy as np\n",
    "import math as m\n",
    "import matplotlib.pyplot as plt\n",
    "\n",
    "A = np.array([[1, 1],\n",
    "              [1, 2],\n",
    "              [1, 3],\n",
    "              [2, 1],\n",
    "              [2, 2],\n",
    "              [2, 3],\n",
    "              [3, 1],\n",
    "              [3, 2],\n",
    "              [3, 3]])\n",
    "print(A)\n",
    "\n",
    "plt.plot(A[:,0],A[:,1],'r+')\n",
    "plt.xlim(-1, 6); plt.ylim(-2, 5); \n",
    "ax = plt.gca(); ax.set_aspect(1.0)\n",
    "plt.show()"
   ]
  },
  {
   "cell_type": "code",
   "execution_count": null,
   "metadata": {},
   "outputs": [],
   "source": [
    "theta = 45\n",
    "R = np.array([[m.cos(m.radians(theta)), -m.sin(m.radians(theta))], \n",
    "              [m.sin(m.radians(theta)),  m.cos(m.radians(theta))]])\n",
    "print(R)"
   ]
  },
  {
   "cell_type": "code",
   "execution_count": null,
   "metadata": {},
   "outputs": [],
   "source": [
    "B = A @ R\n",
    "\n",
    "plt.plot(B[:,0],B[:,1],'b+')\n",
    "plt.xlim(-1, 6); plt.ylim(-2, 5); \n",
    "ax = plt.gca(); ax.set_aspect(1.0)\n",
    "plt.show()"
   ]
  },
  {
   "cell_type": "code",
   "execution_count": null,
   "metadata": {},
   "outputs": [],
   "source": [
    "C = np.mean(A, axis=0)\n",
    "B = (A-C) @ R + C"
   ]
  },
  {
   "cell_type": "code",
   "execution_count": null,
   "metadata": {},
   "outputs": [],
   "source": [
    "plt.plot(B[:,0],B[:,1],'b+')\n",
    "plt.xlim(-1, 6); plt.ylim(-2, 5); \n",
    "ax = plt.gca(); ax.set_aspect(1.0)\n",
    "plt.show()"
   ]
  },
  {
   "cell_type": "code",
   "execution_count": null,
   "metadata": {},
   "outputs": [],
   "source": []
  }
 ],
 "metadata": {
  "kernelspec": {
   "display_name": "Python 3",
   "language": "python",
   "name": "python3"
  },
  "language_info": {
   "codemirror_mode": {
    "name": "ipython",
    "version": 3
   },
   "file_extension": ".py",
   "mimetype": "text/x-python",
   "name": "python",
   "nbconvert_exporter": "python",
   "pygments_lexer": "ipython3",
   "version": "3.7.11"
  }
 },
 "nbformat": 4,
 "nbformat_minor": 4
}
