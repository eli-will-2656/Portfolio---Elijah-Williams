{
 "cells": [
  {
   "cell_type": "markdown",
   "metadata": {},
   "source": [
    "***\n",
    "\n",
    "# Lists and Tuples\n",
    "\n",
    "https://docs.python.org/3/tutorial/introduction.html#lists \n",
    "\n",
    "https://docs.python.org/3/tutorial/datastructures.html#more-on-lists \n",
    "\n",
    "https://docs.python.org/3/tutorial/datastructures.html#tuples-and-sequences"
   ]
  },
  {
   "cell_type": "code",
   "execution_count": null,
   "metadata": {},
   "outputs": [],
   "source": [
    "# declare lists using square brackets\n",
    "\n",
    "a = [2, 5, 10, 3, 9]\n",
    "print(type(a))\n",
    "\n",
    "# reference item in a list (like strings) with square brackets\n",
    "print(\"a[0]  \", a[0])\n",
    "print(\"a[2]  \", a[2])\n",
    "print(\"a[-1] \", a[-1])\n",
    "print()\n",
    "\n",
    "# slice using : (like strings)\n",
    "print(\"a[:]     \", a[:])\n",
    "print(\"a[1:5:2] \", a[1:5:2])\n",
    "print()\n",
    "\n",
    "# length\n",
    "print(\"len(a) = \", len(a))"
   ]
  },
  {
   "cell_type": "code",
   "execution_count": null,
   "metadata": {},
   "outputs": [],
   "source": [
    "# declare tuples using parentheses\n",
    "\n",
    "a = (2, 5, 10, 3, 9)\n",
    "print(type(a))\n",
    "\n",
    "# reference item in a list (like strings) with square brackets\n",
    "print(\"a[0]  \", a[0])\n",
    "print(\"a[2]  \", a[2])\n",
    "print(\"a[-1] \", a[-1])\n",
    "print()\n",
    "\n",
    "# slice using : (like strings and lists)\n",
    "print(\"a[:]     \", a[:])\n",
    "print(\"a[1:5:2] \", a[1:5:2])\n",
    "print()\n",
    "\n",
    "# length\n",
    "print(\"len(a) = \", len(a))"
   ]
  },
  {
   "cell_type": "markdown",
   "metadata": {},
   "source": [
    "### Homogeneous vs. Heterogeneous Data"
   ]
  },
  {
   "cell_type": "code",
   "execution_count": null,
   "metadata": {},
   "outputs": [],
   "source": [
    "# both lists and tuples can be homogenous or heterogenous\n",
    "\n",
    "a = [4, 9, 3, 1]\n",
    "b = [\"fish\", 3.1, 1, True]\n",
    "print(a[0], b[0])\n",
    "\n",
    "a = (4, 9, 3, 1)\n",
    "b = (\"fish\", 3.1, 1, True)\n",
    "print(a[0], b[0])"
   ]
  },
  {
   "cell_type": "markdown",
   "metadata": {},
   "source": [
    "### Mutability"
   ]
  },
  {
   "cell_type": "code",
   "execution_count": null,
   "metadata": {},
   "outputs": [],
   "source": [
    "# lists are mutable (can be changed)\n",
    "\n",
    "a = [2, 5, 10, 3, 9]\n",
    "print(a)\n",
    "a[1] = 99\n",
    "print(a)\n",
    "\n",
    "print()\n",
    "\n",
    "# tuples are immutable (cannot be changed, like strings)\n",
    "\n",
    "a = (2, 5, 10, 3, 9)\n",
    "print(a)\n",
    "a[1] = 99\n",
    "print(a)\n",
    "\n",
    "# immutability can be beneficial to ensure that data in the tuple does not change "
   ]
  },
  {
   "cell_type": "markdown",
   "metadata": {},
   "source": [
    "### Tuples and Lists with Zero or One Element"
   ]
  },
  {
   "cell_type": "code",
   "execution_count": null,
   "metadata": {},
   "outputs": [],
   "source": [
    "# empty tuple\n",
    "\n",
    "a = ()\n",
    "print(a)\n",
    "print(type(a))"
   ]
  },
  {
   "cell_type": "code",
   "execution_count": null,
   "metadata": {},
   "outputs": [],
   "source": [
    "# tuple with one element  \n",
    "\n",
    "# this doesn't work, parentheses is interpretted mathematically\n",
    "a = (99)\n",
    "print(a)\n",
    "print(type(a))\n",
    "print()\n",
    "\n",
    "# this works\n",
    "a = (99,)\n",
    "print(a)\n",
    "print(type(a))"
   ]
  },
  {
   "cell_type": "code",
   "execution_count": null,
   "metadata": {},
   "outputs": [],
   "source": [
    "# other ways to create tuple\n",
    "\n",
    "a = 1, 5, 10\n",
    "print(a)\n",
    "print(type(a))\n",
    "print()\n",
    "\n",
    "a = 99,\n",
    "print(a)\n",
    "print(type(a))"
   ]
  },
  {
   "cell_type": "code",
   "execution_count": null,
   "metadata": {},
   "outputs": [],
   "source": [
    "# empty list\n",
    "\n",
    "a = []\n",
    "print(a)\n",
    "print(type(a))"
   ]
  },
  {
   "cell_type": "code",
   "execution_count": null,
   "metadata": {},
   "outputs": [],
   "source": [
    "# list with one element  \n",
    "\n",
    "# this works\n",
    "a = [99]\n",
    "print(a)\n",
    "print(type(a))\n",
    "print()\n",
    "\n",
    "# so does this\n",
    "a = [99,]\n",
    "print(a)\n",
    "print(type(a))"
   ]
  },
  {
   "cell_type": "markdown",
   "metadata": {},
   "source": [
    "### Converting Between Lists and Tuples"
   ]
  },
  {
   "cell_type": "code",
   "execution_count": null,
   "metadata": {},
   "outputs": [],
   "source": [
    "# converting between lists and tuples \n",
    "\n",
    "mylist  = [10, 5, 1]\n",
    "mytuple = (11, 6, 0)\n",
    "\n",
    "newtuple  = tuple(mylist)\n",
    "newlist = list(mytuple)\n",
    "\n",
    "print(newlist)\n",
    "print(type(newlist))\n",
    "print()\n",
    "\n",
    "print(newtuple)\n",
    "print(type(newtuple))"
   ]
  },
  {
   "cell_type": "code",
   "execution_count": null,
   "metadata": {},
   "outputs": [],
   "source": [
    "# can convert from iterator to list (or tuple)\n",
    "# recall range() is often used in a for loop\n",
    "\n",
    "a = range(10)\n",
    "print(a)\n",
    "print(type(a))\n",
    "print()\n",
    "\n",
    "b = list(range(10))\n",
    "print(b)\n",
    "print(type(b))\n",
    "print()\n",
    "\n",
    "c = tuple(range(10))\n",
    "print(c)\n",
    "print(type(c))"
   ]
  },
  {
   "cell_type": "markdown",
   "metadata": {},
   "source": [
    "### Operations on Lists and Tuples"
   ]
  },
  {
   "cell_type": "code",
   "execution_count": null,
   "metadata": {},
   "outputs": [],
   "source": [
    "# operations on lists and tuples \n",
    "\n",
    "a = [1, 2, 3]\n",
    "b = [5, 6, 7]\n",
    "print(a+b)\n",
    "print(3*a)\n",
    "print(max(b))\n",
    "print()\n",
    "\n",
    "c = (1, 2, 3)\n",
    "d = (5, 6, 7)\n",
    "print(c+d)\n",
    "print(3*c)\n",
    "print(max(d))"
   ]
  },
  {
   "cell_type": "markdown",
   "metadata": {},
   "source": [
    "### Adding and Deleting Items on Lists"
   ]
  },
  {
   "cell_type": "code",
   "execution_count": null,
   "metadata": {},
   "outputs": [],
   "source": [
    "# adding and deleting items on a list \n",
    "\n",
    "a = [1, 2, 3, 4, 5, 6]\n",
    "\n",
    "# adding items\n",
    "a.append(4)\n",
    "print(\"after a.append(4)       \", a)\n",
    "\n",
    "a.append(99)\n",
    "print(\"after a.append(99)      \", a)\n",
    "\n",
    "a.append(\"truck\")\n",
    "print(\"after a.append('truck') \", a)\n",
    "\n",
    "# deleting item\n",
    "del(a[1])\n",
    "print(\"after del(a[1])         \", a)\n",
    "\n",
    "# delete range of items\n",
    "del(a[0:3])\n",
    "print(\"after del(a[0:3])       \", a)"
   ]
  },
  {
   "cell_type": "code",
   "execution_count": null,
   "metadata": {},
   "outputs": [],
   "source": [
    "# unlike Matlab, you cannot just do something like this\n",
    "\n",
    "a = [1, 2, 3]\n",
    "a[3] = 4\n",
    "\n",
    "# let alone this\n",
    "a[99] = 100"
   ]
  },
  {
   "cell_type": "markdown",
   "metadata": {},
   "source": [
    "### Deleting/Removing Items from Lists"
   ]
  },
  {
   "cell_type": "code",
   "execution_count": null,
   "metadata": {},
   "outputs": [],
   "source": [
    "# other operations on lists \n",
    "\n",
    "a = [1, 4, 7, \"truck\", 3, 4]\n",
    "print(\"original list           \", a)\n",
    "\n",
    "# recall what del() does\n",
    "del(a[1])\n",
    "print(\"after del(a[1])         \", a)\n",
    "\n",
    "# can remove first one\n",
    "a.remove(\"truck\")\n",
    "print(\"after a.remove('truck') \", a)"
   ]
  },
  {
   "cell_type": "code",
   "execution_count": null,
   "metadata": {},
   "outputs": [],
   "source": [
    "# no more left to remove - throws an error\n",
    "\n",
    "print(a)\n",
    "a.remove(\"truck\")\n",
    "print(\"after a.remove('truck') \", a)"
   ]
  },
  {
   "cell_type": "markdown",
   "metadata": {},
   "source": [
    "### Finding Items on a List"
   ]
  },
  {
   "cell_type": "code",
   "execution_count": null,
   "metadata": {},
   "outputs": [],
   "source": [
    "# find particular items in a list\n",
    "\n",
    "a = [\"nail\", \"truck\", \"cow\", \"fish\", \"cow\", \"ball\", \"kite\", \"cow\"]\n",
    "\n",
    "# count the number of occurrences\n",
    "print(\"a.count('cow')  \", a.count(\"cow\"))\n",
    "print(\"a.count('book') \", a.count(\"book\"))\n",
    "print()\n",
    "\n",
    "# find the index of the first occurence\n",
    "print(\"a.index('cow')  \", a.index(\"cow\"))\n",
    "print()\n",
    "\n",
    "# introducing the conditional (if statement) in Python\n",
    "if (a.count('book') > 0):\n",
    "    print(\"a.index('book') \", a.index(\"book\"))\n",
    "else:\n",
    "    print(\"not found!\")"
   ]
  },
  {
   "cell_type": "markdown",
   "metadata": {},
   "source": [
    "### Concatenating, Extending, Appending"
   ]
  },
  {
   "cell_type": "code",
   "execution_count": null,
   "metadata": {},
   "outputs": [],
   "source": [
    "# + vs. extend vs. append\n",
    "\n",
    "a = [1, 2, 3, 4, 5]\n",
    "b = [6, 7, 8]\n",
    "\n",
    "print(\"a+b  \", a+b)\n",
    "print()\n",
    "\n",
    "a.extend(b)\n",
    "print(\"a.extend(b) \", a)\n",
    "print()\n",
    "\n",
    "a.append(b)\n",
    "print(\"a.append(b) \", a)"
   ]
  },
  {
   "cell_type": "markdown",
   "metadata": {},
   "source": [
    "### Sorting Lists"
   ]
  },
  {
   "cell_type": "code",
   "execution_count": null,
   "metadata": {},
   "outputs": [],
   "source": [
    "# .sort method\n",
    "\n",
    "a = [5, 4, 6, 1, 4, 3, 5]\n",
    "\n",
    "a.sort()\n",
    "print(a)"
   ]
  },
  {
   "cell_type": "code",
   "execution_count": null,
   "metadata": {},
   "outputs": [],
   "source": [
    "# sorted() function\n",
    "\n",
    "a = [5, 4, 6, 1, 4, 3, 5]\n",
    "\n",
    "# sorted returns a sorted list without affecting the original list\n",
    "print(\"sorted(a)  \", sorted(a))\n",
    "print(\"original a \", a)"
   ]
  },
  {
   "cell_type": "markdown",
   "metadata": {},
   "source": [
    "### Iterating Over Lists and Tuples with For Loops"
   ]
  },
  {
   "cell_type": "code",
   "execution_count": null,
   "metadata": {},
   "outputs": [],
   "source": [
    "# stepping through each item in a list - for loops in Python\n",
    "\n",
    "a = [1, 2, 3, 5, 7, 11]\n",
    "for i in range(len(a)):\n",
    "    print(i, \"\\t\", a[i])\n",
    "\n",
    "print()\n",
    "    \n",
    "for elem in a:\n",
    "    print(i, \"\\t\", elem)"
   ]
  },
  {
   "cell_type": "code",
   "execution_count": null,
   "metadata": {},
   "outputs": [],
   "source": [
    "# stepping through each item in a tuple - for loops in Python\n",
    "\n",
    "a = (1, 2, 3, 5, 7, 11)\n",
    "for i in range(len(a)):\n",
    "    print(i, \"\\t\", a[i])\n",
    "\n",
    "print(\"\\n- or -\\n\")\n",
    "\n",
    "a = (1, 2, 3, 5, 7, 11)\n",
    "for elem in a:\n",
    "    print(elem)"
   ]
  },
  {
   "cell_type": "markdown",
   "metadata": {},
   "source": [
    "### Copying a List"
   ]
  },
  {
   "cell_type": "code",
   "execution_count": null,
   "metadata": {},
   "outputs": [],
   "source": [
    "# copy of a list\n",
    "\n",
    "a = [5, 4, 6, 1, 4, 3, 5]\n",
    "b = a\n",
    "print(\"a \", a); print(\"b \", b); print()"
   ]
  },
  {
   "cell_type": "code",
   "execution_count": null,
   "metadata": {},
   "outputs": [],
   "source": [
    "a[2] = 99\n",
    "print(\"a \", a); print(\"b \", b); print()"
   ]
  },
  {
   "cell_type": "code",
   "execution_count": null,
   "metadata": {},
   "outputs": [],
   "source": [
    "# make a copy\n",
    "a = [5, 4, 6, 1, 4, 3, 5]\n",
    "b = a.copy()\n",
    "a[2] = 99\n",
    "print(\"a \", a); print(\"b \", b); print()\n",
    "\n",
    "# or this way\n",
    "a = [5, 4, 6, 1, 4, 3, 5]\n",
    "b = a[:]\n",
    "a[2] = 99\n",
    "print(\"a \", a); print(\"b \", b); print()"
   ]
  },
  {
   "cell_type": "markdown",
   "metadata": {},
   "source": [
    "### Nested (Multidimensional) Lists and Tuples"
   ]
  },
  {
   "cell_type": "code",
   "execution_count": null,
   "metadata": {},
   "outputs": [],
   "source": [
    "# lists and tuples contain object\n",
    "#\n",
    "# those object can be other lists and tuples \n",
    "# (or strings, or floats, or ints, or any other object)\n",
    "\n",
    "a = [[1, 2, 3], [4, 5, 6]]\n",
    "print(a)\n",
    "print(a[0][2])\n",
    "print(a[1][0])"
   ]
  },
  {
   "cell_type": "markdown",
   "metadata": {},
   "source": [
    "give this:"
   ]
  },
  {
   "cell_type": "code",
   "execution_count": null,
   "metadata": {},
   "outputs": [],
   "source": [
    "a = [1, \"fish\", [2, 3], (1, 3, 5), [\"truck\", \"house\"]]\n",
    "print(a)"
   ]
  },
  {
   "cell_type": "markdown",
   "metadata": {},
   "source": [
    "what will these return?"
   ]
  },
  {
   "cell_type": "code",
   "execution_count": null,
   "metadata": {},
   "outputs": [],
   "source": [
    "print(\"a[2][0] \", a[2][0])"
   ]
  },
  {
   "cell_type": "code",
   "execution_count": null,
   "metadata": {},
   "outputs": [],
   "source": [
    "print(\"a[4][1] \", a[4][1])"
   ]
  },
  {
   "cell_type": "code",
   "execution_count": null,
   "metadata": {},
   "outputs": [],
   "source": [
    "print(\"a[0][0] \", a[0][0])"
   ]
  },
  {
   "cell_type": "code",
   "execution_count": null,
   "metadata": {},
   "outputs": [],
   "source": [
    "print(\"a[1][0] \", a[1][0])"
   ]
  },
  {
   "cell_type": "code",
   "execution_count": null,
   "metadata": {},
   "outputs": [],
   "source": [
    "print(\"a[4][1][2] \", a[4][1][2])"
   ]
  },
  {
   "cell_type": "markdown",
   "metadata": {},
   "source": [
    "how to think of accessing these nested lists/tuples"
   ]
  },
  {
   "cell_type": "code",
   "execution_count": null,
   "metadata": {},
   "outputs": [],
   "source": [
    "a = (1, [2, 3], (4, [5, 6]), 7)\n",
    "print(a)"
   ]
  },
  {
   "cell_type": "code",
   "execution_count": null,
   "metadata": {},
   "outputs": [],
   "source": [
    "a1 = a[2]\n",
    "print(a1)"
   ]
  },
  {
   "cell_type": "code",
   "execution_count": null,
   "metadata": {},
   "outputs": [],
   "source": [
    "a2 = a1[1]\n",
    "print(a2)"
   ]
  },
  {
   "cell_type": "code",
   "execution_count": null,
   "metadata": {},
   "outputs": [],
   "source": [
    "a3 = a2[0]\n",
    "print(a3)"
   ]
  },
  {
   "cell_type": "code",
   "execution_count": null,
   "metadata": {},
   "outputs": [],
   "source": [
    "# that is the same as\n",
    "print(a[2][1][0])"
   ]
  },
  {
   "cell_type": "markdown",
   "metadata": {},
   "source": [
    "### Shallow vs. Deep Copy of Lists"
   ]
  },
  {
   "cell_type": "markdown",
   "metadata": {},
   "source": [
    "shallow copy"
   ]
  },
  {
   "cell_type": "code",
   "execution_count": null,
   "metadata": {},
   "outputs": [],
   "source": [
    "a = [1, [2, 3], [4, [5, 6]], 7]\n",
    "b = a.copy()\n",
    "\n",
    "a[2][1][0] = 99\n",
    "print(a)\n",
    "print(b)"
   ]
  },
  {
   "cell_type": "markdown",
   "metadata": {},
   "source": [
    "also a shallow copy"
   ]
  },
  {
   "cell_type": "code",
   "execution_count": null,
   "metadata": {},
   "outputs": [],
   "source": [
    "import copy\n",
    "\n",
    "a = [1, [2, 3], [4, [5, 6]], 7]\n",
    "b = copy.copy(a)\n",
    "\n",
    "a[2][1][0] = 99\n",
    "a[0] = 1000\n",
    "print(a)\n",
    "print(b)"
   ]
  },
  {
   "cell_type": "markdown",
   "metadata": {},
   "source": [
    "deep copy (full nesting)"
   ]
  },
  {
   "cell_type": "code",
   "execution_count": null,
   "metadata": {},
   "outputs": [],
   "source": [
    "import copy\n",
    "\n",
    "a = [1, [2, 3], [4, [5, 6]], 7]\n",
    "b = copy.deepcopy(a)\n",
    "\n",
    "a[2][1][0] = 99\n",
    "print(a)\n",
    "print(b)"
   ]
  },
  {
   "cell_type": "markdown",
   "metadata": {},
   "source": [
    "deep copy (full nesting) - with a different import syntax"
   ]
  },
  {
   "cell_type": "code",
   "execution_count": null,
   "metadata": {},
   "outputs": [],
   "source": [
    "from copy import deepcopy\n",
    "\n",
    "a = [1, [2, 3], [4, [5, 6]], 7]\n",
    "b = deepcopy(a)\n",
    "\n",
    "a[2][1][0] = 99\n",
    "print(a)\n",
    "print(b)"
   ]
  },
  {
   "cell_type": "markdown",
   "metadata": {
    "tags": []
   },
   "source": [
    "***\n",
    "\n",
    "# List Comprehensions\n",
    "\n",
    "https://docs.python.org/3/tutorial/datastructures.html#list-comprehensions "
   ]
  },
  {
   "cell_type": "code",
   "execution_count": null,
   "metadata": {},
   "outputs": [],
   "source": [
    "# 5.1.3. List Comprehensions\n",
    "# Using a list comprehension: [x for x in iterable]\n",
    "\n",
    "# this\n",
    "a = [x**2 for x in range(10)]\n",
    "print(a)"
   ]
  },
  {
   "cell_type": "code",
   "execution_count": null,
   "metadata": {},
   "outputs": [],
   "source": [
    "# is equivalent to\n",
    "a = []\n",
    "for x in range(10):\n",
    "    a.append(x**2)\n",
    "print(a)"
   ]
  },
  {
   "cell_type": "code",
   "execution_count": null,
   "metadata": {},
   "outputs": [],
   "source": [
    "# this\n",
    "b = [(x, y) for x in range(5) for y in (range(5)) if x != y]\n",
    "print(b)"
   ]
  },
  {
   "cell_type": "code",
   "execution_count": null,
   "metadata": {},
   "outputs": [],
   "source": [
    "# is equivalent to\n",
    "b = []\n",
    "for x in range(5):\n",
    "    for y in range(5):\n",
    "        if x != y:\n",
    "            b.append((x, y))\n",
    "print(b)"
   ]
  },
  {
   "cell_type": "markdown",
   "metadata": {},
   "source": [
    "While list comprehensions are powerful and potentially more readable for those fluent in Python,\n",
    "they can be very difficult to comprehend for those who are not programming in Python daily.\n",
    "\n",
    "More verbose code is often easier to understand, and easier to debug.\n",
    "\n",
    "I have seen many homework assignments with list comprehensions and other forms of compact\n",
    "code that look nice but are completely wrong (and difficult to unpack to see why they are wrong)"
   ]
  },
  {
   "cell_type": "code",
   "execution_count": null,
   "metadata": {},
   "outputs": [],
   "source": []
  }
 ],
 "metadata": {
  "kernelspec": {
   "display_name": "Python 3",
   "language": "python",
   "name": "python3"
  },
  "language_info": {
   "codemirror_mode": {
    "name": "ipython",
    "version": 3
   },
   "file_extension": ".py",
   "mimetype": "text/x-python",
   "name": "python",
   "nbconvert_exporter": "python",
   "pygments_lexer": "ipython3",
   "version": "3.7.11"
  }
 },
 "nbformat": 4,
 "nbformat_minor": 4
}
