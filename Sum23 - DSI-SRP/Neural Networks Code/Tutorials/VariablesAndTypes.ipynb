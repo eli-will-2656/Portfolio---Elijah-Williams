{
 "cells": [
  {
   "cell_type": "markdown",
   "metadata": {},
   "source": [
    "***\n",
    "\n",
    "## Variables and Types"
   ]
  },
  {
   "cell_type": "code",
   "execution_count": null,
   "metadata": {},
   "outputs": [],
   "source": [
    "# examples of scalar variables\n",
    "\n",
    "x1 = 1\n",
    "y_text = \"text\"\n",
    "Zvar = True"
   ]
  },
  {
   "cell_type": "code",
   "execution_count": null,
   "metadata": {},
   "outputs": [],
   "source": [
    "# variable types (classes)\n",
    "\n",
    "print(type(x1))\n",
    "print(type(y_text))\n",
    "print(type(Zvar))"
   ]
  },
  {
   "cell_type": "code",
   "execution_count": null,
   "metadata": {},
   "outputs": [],
   "source": [
    "# Python is dynamically typed\n",
    "\n",
    "a = 1\n",
    "print(type(a))\n",
    "a = 4.5\n",
    "print(type(a))\n",
    "a = \"sample text\"\n",
    "print(type(a))\n",
    "a = False\n",
    "print(type(a))"
   ]
  },
  {
   "cell_type": "code",
   "execution_count": null,
   "metadata": {},
   "outputs": [],
   "source": [
    "# type casting (convert from one type to another)\n",
    "\n",
    "x = 1.\n",
    "y = int(x)\n",
    "print(x, type(x))\n",
    "print(y, type(y))"
   ]
  },
  {
   "cell_type": "code",
   "execution_count": null,
   "metadata": {},
   "outputs": [],
   "source": [
    "x = 1\n",
    "y = float(x)\n",
    "print(x, type(x))\n",
    "print(y, type(y))"
   ]
  },
  {
   "cell_type": "code",
   "execution_count": null,
   "metadata": {},
   "outputs": [],
   "source": [
    "x = 125.411\n",
    "y = str(x)\n",
    "print(x, type(x))\n",
    "print(y, type(y))"
   ]
  },
  {
   "cell_type": "code",
   "execution_count": null,
   "metadata": {},
   "outputs": [],
   "source": [
    "x = \"3.14159\"\n",
    "y = float(x)\n",
    "print(x, type(x))\n",
    "print(y, type(y))"
   ]
  },
  {
   "cell_type": "code",
   "execution_count": null,
   "metadata": {},
   "outputs": [],
   "source": [
    "# everything in Python is an object\n",
    "\n",
    "# dir() lists methods and attributes associated with an object\n",
    "\n",
    "# by itself, dir() lists all names in the current local scope \n",
    "\n",
    "# given an object (a variable, a function, a module) dir() returns all methods and attributes\n",
    "x = 1.3\n",
    "print(dir(x))\n",
    "\n",
    "# attributes/methods prefixed/suffixed by __ should be avoided (implementation detail subject to change)"
   ]
  },
  {
   "cell_type": "code",
   "execution_count": null,
   "metadata": {},
   "outputs": [],
   "source": [
    "# methods and attributes of an object accessible using the . convention\n",
    "\n",
    "print(x.is_integer())\n",
    "print(x.as_integer_ratio())\n",
    "\n",
    "print()\n",
    "\n",
    "y = 1.\n",
    "print(type(y))\n",
    "print(y.is_integer())"
   ]
  },
  {
   "cell_type": "code",
   "execution_count": null,
   "metadata": {},
   "outputs": [],
   "source": [
    "y = \"This Is A String\"\n",
    "print(dir(y))"
   ]
  },
  {
   "cell_type": "code",
   "execution_count": null,
   "metadata": {},
   "outputs": [],
   "source": [
    "print(y.count(\"i\"))\n",
    "print(y.swapcase())"
   ]
  },
  {
   "cell_type": "markdown",
   "metadata": {},
   "source": [
    "***\n",
    "\n",
    "## Numeric Types and Operations"
   ]
  },
  {
   "cell_type": "code",
   "execution_count": null,
   "metadata": {},
   "outputs": [],
   "source": [
    "# int vs. float types - decimal point indicates a float type\n",
    "\n",
    "x = 1\n",
    "y = 1.\n",
    "print(type(x))\n",
    "print(type(y))"
   ]
  },
  {
   "cell_type": "code",
   "execution_count": null,
   "metadata": {},
   "outputs": [],
   "source": [
    "z = x*y\n",
    "print(type(z))"
   ]
  },
  {
   "cell_type": "code",
   "execution_count": null,
   "metadata": {},
   "outputs": [],
   "source": [
    "x = 1-.0000000001\n",
    "y = 1-.0000000000000001\n",
    "z = 1-.00000000000000001\n",
    "print(x)\n",
    "print(y)\n",
    "print(z)"
   ]
  },
  {
   "cell_type": "code",
   "execution_count": null,
   "metadata": {},
   "outputs": [],
   "source": [
    "print(1000 * .01)"
   ]
  },
  {
   "cell_type": "code",
   "execution_count": null,
   "metadata": {},
   "outputs": [],
   "source": [
    "sum = 0\n",
    "for i in range(0,1000):\n",
    "    sum = sum+.01\n",
    "print(sum)"
   ]
  },
  {
   "cell_type": "code",
   "execution_count": null,
   "metadata": {},
   "outputs": [],
   "source": [
    "# infinity in Python\n",
    "\n",
    "x = float('inf')\n",
    "print(x)\n",
    "type(x)"
   ]
  },
  {
   "cell_type": "markdown",
   "metadata": {},
   "source": [
    "https://jakevdp.github.io/WhirlwindTourOfPython/04-semantics-operators.html "
   ]
  },
  {
   "cell_type": "code",
   "execution_count": null,
   "metadata": {},
   "outputs": [],
   "source": [
    "# mathematical operation\n",
    "\n",
    "print(\"2+3  = \", 2+3)\n",
    "print(\"2-3  = \", 2-3)\n",
    "print(\"2*3  = \", 2*3)\n",
    "print(\"2/3  = \", 2/3)\n",
    "print(\"2**3 = \", 2**3)\n",
    "print(\"2//3 = \", 2//3)\n",
    "print(\"2%3  = \", 2%3)"
   ]
  },
  {
   "cell_type": "code",
   "execution_count": null,
   "metadata": {},
   "outputs": [],
   "source": [
    "# what type will each of these print?\n",
    "\n",
    "print(type(2+3))\n",
    "print(type(2.+3.))\n",
    "print(type(2/3))"
   ]
  },
  {
   "cell_type": "code",
   "execution_count": null,
   "metadata": {},
   "outputs": [],
   "source": [
    "# what type will each of these print?\n",
    "\n",
    "print(type(2//3))\n",
    "print(type(2%3))\n",
    "print(type(2.//3.))\n",
    "print(type(2.%3.))"
   ]
  },
  {
   "cell_type": "code",
   "execution_count": null,
   "metadata": {},
   "outputs": [],
   "source": [
    "# what values will these generate?\n",
    "\n",
    "print(\"2 ** 2+1  =\", 2 ** 2+1)\n",
    "print(\"2+3 ** 2  =\", 2+3 ** 2)\n",
    "print(\"2 * 3**2  = \", 2 * 3**2)\n",
    "print(\"4+2 / 1+2 = \", 4+2 / 1+2)\n",
    "print(\"-2 ** 2   =\", -2 ** 2)"
   ]
  },
  {
   "cell_type": "code",
   "execution_count": null,
   "metadata": {},
   "outputs": [],
   "source": [
    "# order of operation and parentheses\n",
    "\n",
    "print(\"(2 ** 2)+1  =\", (2 ** 2)+1)\n",
    "print(\"2+(3 ** 2)  =\", 2+(3 ** 2))\n",
    "print(\"2 * (3**2)  = \", 2 * (3**2))\n",
    "print(\"4+(2 / 1)+2 = \", 4+(2 / 1)+2)\n",
    "print(\"-(2 ** 2)   =\", -(2 ** 2))"
   ]
  },
  {
   "cell_type": "code",
   "execution_count": null,
   "metadata": {},
   "outputs": [],
   "source": [
    "# order of operation and parentheses\n",
    "\n",
    "print(\"2 ** (2+1)    =\", 2 ** (2+1))\n",
    "print(\"(2+3) ** 2)   =\", (2+3) ** 2)\n",
    "print(\"2 * (3**2)    = \", 2 * (3**2))\n",
    "print(\"(4+2) / (1+2) = \", (4+2) / (1+2))\n",
    "print(\"(-2) ** 2)    =\", (-2) ** 2)"
   ]
  },
  {
   "cell_type": "code",
   "execution_count": null,
   "metadata": {},
   "outputs": [],
   "source": [
    "# equal order of operations, evaluated left to right\n",
    "\n",
    "print(\"8 / 4 * 4 / 2         = \", 8 / 4 * 4 / 2)\n",
    "print(\"(((8 / 4) *  4) / 2)  = \", (((8 / 4) * 4) / 2))\n",
    "print(\"(8 / (4 * (4 / 2)))   = \", (8 / (4 * (4 / 2))))"
   ]
  },
  {
   "cell_type": "code",
   "execution_count": null,
   "metadata": {},
   "outputs": [],
   "source": [
    "# modulo division\n",
    "\n",
    "print(\"20 divided by 3 equals \", 20 // 3, \" remainder \", 20 % 3)"
   ]
  },
  {
   "cell_type": "markdown",
   "metadata": {},
   "source": [
    "***\n",
    "\n",
    "## Importing Modules"
   ]
  },
  {
   "cell_type": "code",
   "execution_count": null,
   "metadata": {},
   "outputs": [],
   "source": [
    "# modules contain related functions and attributes\n",
    "\n",
    "# https://docs.python.org/3/library/math.html \n",
    "import math\n",
    "\n",
    "# dir() shows all functions and attributes in a module\n",
    "print(dir(math))"
   ]
  },
  {
   "cell_type": "code",
   "execution_count": null,
   "metadata": {},
   "outputs": [],
   "source": [
    "# how you reference functions and attributes in a module depends on how you import it\n",
    "\n",
    "import math\n",
    "\n",
    "print(math.pi)\n",
    "print(math.sin(math.pi/2))"
   ]
  },
  {
   "cell_type": "code",
   "execution_count": null,
   "metadata": {},
   "outputs": [],
   "source": [
    "# give an abbreviation using \"as\" (there are often conventions when doing so) - considered a Best Practice for importing modules\n",
    "\n",
    "import math as m\n",
    "\n",
    "print(m.pi)\n",
    "print(m.sin(m.pi/2))"
   ]
  },
  {
   "cell_type": "code",
   "execution_count": null,
   "metadata": {},
   "outputs": [],
   "source": [
    "# can import specific attributes and functions - do not need to prefix\n",
    "\n",
    "from math import pi, sin\n",
    "\n",
    "print(pi)\n",
    "print(sin(pi/2))"
   ]
  },
  {
   "cell_type": "code",
   "execution_count": null,
   "metadata": {},
   "outputs": [],
   "source": [
    "# can import all attributes and functions with a need to prefix - this is considered poor style (and dangerous)\n",
    "\n",
    "from math import *\n",
    "\n",
    "print(pi)\n",
    "print(sin(pi/2))"
   ]
  },
  {
   "cell_type": "code",
   "execution_count": null,
   "metadata": {},
   "outputs": [],
   "source": [
    "# math module does not work with complex numbers\n",
    "\n",
    "import math as m\n",
    "\n",
    "print(m.sqrt(-1))"
   ]
  },
  {
   "cell_type": "code",
   "execution_count": null,
   "metadata": {},
   "outputs": [],
   "source": [
    "# there is a cmath module that includes all math functions (and more) and works with complex numbers\n",
    "\n",
    "import cmath as cm\n",
    "\n",
    "print(cm.sqrt(-1))"
   ]
  },
  {
   "cell_type": "code",
   "execution_count": null,
   "metadata": {},
   "outputs": [],
   "source": [
    "import cmath\n",
    "\n",
    "cmath.sqrt(-1)"
   ]
  },
  {
   "cell_type": "code",
   "execution_count": null,
   "metadata": {},
   "outputs": [],
   "source": [
    "# special numbers inf and nan\n",
    "\n",
    "x = inf\n",
    "print(x)\n",
    "print(type(x))\n",
    "\n",
    "print()\n",
    "\n",
    "y = nan\n",
    "print(y)\n",
    "print(type(y))"
   ]
  },
  {
   "cell_type": "markdown",
   "metadata": {},
   "source": [
    "***\n",
    "\n",
    "## Assignment vs. Equivalence"
   ]
  },
  {
   "cell_type": "code",
   "execution_count": null,
   "metadata": {},
   "outputs": [],
   "source": [
    "# checking for equivalence\n",
    "\n",
    "x = 3\n",
    "\n",
    "y = (2 + (3-1) == 3)\n",
    "\n",
    "print(x)\n",
    "print(y)"
   ]
  },
  {
   "cell_type": "markdown",
   "metadata": {},
   "source": [
    "***\n",
    "\n",
    "## Logical Types and Operators\n",
    "\n",
    "https://docs.python.org/3/library/stdtypes.html "
   ]
  },
  {
   "cell_type": "code",
   "execution_count": null,
   "metadata": {},
   "outputs": [],
   "source": [
    "# logical types are bool\n",
    "\n",
    "x = True\n",
    "print(type(x))\n",
    "y = False\n",
    "print(type(y))"
   ]
  },
  {
   "cell_type": "code",
   "execution_count": null,
   "metadata": {},
   "outputs": [],
   "source": [
    "# here, x is a bool type\n",
    "\n",
    "x = (1 == 1)\n",
    "print(x)\n",
    "print(type(x))"
   ]
  },
  {
   "cell_type": "code",
   "execution_count": null,
   "metadata": {},
   "outputs": [],
   "source": [
    "# True can be cast to a numeric 1, False to a numeric 0\n",
    "\n",
    "x = 2 + (1==1) + (1==0)\n",
    "print(x)"
   ]
  },
  {
   "cell_type": "code",
   "execution_count": null,
   "metadata": {},
   "outputs": [],
   "source": [
    "# relational operators (logical)\n",
    "\n",
    "x = 2\n",
    "y = 1\n",
    "z = 3\n",
    "\n",
    "print(x > y)\n",
    "print(y > z)"
   ]
  },
  {
   "cell_type": "code",
   "execution_count": null,
   "metadata": {},
   "outputs": [],
   "source": [
    "# be careful with equivalence with float\n",
    "\n",
    "import math as m\n",
    "\n",
    "print((m.sqrt(3)**2 == 3))\n",
    "print(m.sqrt(3)**2 - 3)"
   ]
  },
  {
   "cell_type": "code",
   "execution_count": null,
   "metadata": {},
   "outputs": [],
   "source": [
    "# an alternative way to check \"equivalence\" of float\n",
    "\n",
    "epsilon = .0000000001\n",
    "print(abs((m.sqrt(3))**2 - 3) < epsilon)"
   ]
  },
  {
   "cell_type": "code",
   "execution_count": null,
   "metadata": {},
   "outputs": [],
   "source": [
    "abs(-2)"
   ]
  },
  {
   "cell_type": "code",
   "execution_count": null,
   "metadata": {},
   "outputs": [],
   "source": [
    "# logical operators\n",
    "\n",
    "x = 2\n",
    "y = 1\n",
    "z = 3\n",
    "\n",
    "print((x > y) and (y > z))\n",
    "print((x > y) or (y > z))"
   ]
  },
  {
   "cell_type": "code",
   "execution_count": null,
   "metadata": {},
   "outputs": [],
   "source": [
    "print( (x > y) or  (y > z)  and (x > z))\n",
    "print(((x > y) or  (y > z)) and (x > z))\n",
    "print( (x > y) or ((y > z)  and (x > z)))"
   ]
  },
  {
   "cell_type": "code",
   "execution_count": null,
   "metadata": {},
   "outputs": [],
   "source": [
    "# in Python, True equals 1, and False equals 0\n",
    "\n",
    "print(\"1 == True  : \", 1 == True)\n",
    "print(\"0 == False : \", 0 == False)\n",
    "\n",
    "# in some languages, any non-zero number is true, but not in Python\n",
    "print(\"2 == True  : \", 2 == True)"
   ]
  },
  {
   "cell_type": "markdown",
   "metadata": {},
   "source": [
    "***\n",
    "\n",
    "# Strings"
   ]
  },
  {
   "cell_type": "markdown",
   "metadata": {},
   "source": [
    "### String Types and Operators\n",
    "\n",
    "https://docs.python.org/3/tutorial/introduction.html#strings \n",
    "\n",
    "https://docs.python.org/3/library/stdtypes.html#string-methods "
   ]
  },
  {
   "cell_type": "code",
   "execution_count": null,
   "metadata": {},
   "outputs": [],
   "source": [
    "# declaring strings using single or double quotes\n",
    "\n",
    "a = 'This is a string with single quotes'\n",
    "b = \"This is a string with double quotes\"\n",
    "c = \"You can put a 'quoted bit' inside a string if you use a different type of quote\"\n",
    "print(c)\n",
    "print(type(c))"
   ]
  },
  {
   "cell_type": "code",
   "execution_count": null,
   "metadata": {},
   "outputs": [],
   "source": [
    "# unlike other languages, Python does not distinguish between characters and strings - \n",
    "# a “character” is a string with one element \n",
    "\n",
    "# this is a 1-element string\n",
    "a = \"A\"\n",
    "\n",
    "# this is a multi-element string\n",
    "a = \"This is a test\""
   ]
  },
  {
   "cell_type": "code",
   "execution_count": null,
   "metadata": {},
   "outputs": [],
   "source": [
    "# length of a string\n",
    "\n",
    "s = \"Example String\"\n",
    "print(len(s))\n",
    "\n",
    "# convert from string to numbers\n",
    "a = int(\"4\")\n",
    "b = float(\"4\")\n",
    "print(a)\n",
    "print(b)"
   ]
  },
  {
   "cell_type": "code",
   "execution_count": null,
   "metadata": {},
   "outputs": [],
   "source": [
    "# operations on strings\n",
    "\n",
    "# concatenate strings (operator overloading in Python)\n",
    "a = \"This\"\n",
    "b = \"is\"\n",
    "c = \"a\"\n",
    "d = \"string\"\n",
    "print(a+b+c+d)\n",
    "print(a+\" \"+b+\" \"+c+\" \"+d)\n",
    "\n",
    "# replicate strings\n",
    "print(3*a)"
   ]
  },
  {
   "cell_type": "code",
   "execution_count": null,
   "metadata": {},
   "outputs": [],
   "source": [
    "# illegal string operations\n",
    "\n",
    "a = \"ABC\"\n",
    "b = \"A\"\n",
    "print(a-b)"
   ]
  },
  {
   "cell_type": "code",
   "execution_count": null,
   "metadata": {},
   "outputs": [],
   "source": [
    "# this is defined in some languages (like Matlab), not in Python\n",
    "\n",
    "A = \"a\"\n",
    "print(A+1)"
   ]
  },
  {
   "cell_type": "code",
   "execution_count": null,
   "metadata": {},
   "outputs": [],
   "source": [
    "# many methods for string types\n",
    "\n",
    "s = \"THIS is A String\"\n",
    "print(dir(s))\n",
    "\n",
    "print(s)"
   ]
  },
  {
   "cell_type": "markdown",
   "metadata": {},
   "source": [
    "see https://docs.python.org/3/library/stdtypes.html#string-methods"
   ]
  },
  {
   "cell_type": "code",
   "execution_count": null,
   "metadata": {},
   "outputs": [],
   "source": [
    "print(s.lower())\n",
    "print(s.split())\n",
    "print(s.upper())"
   ]
  },
  {
   "cell_type": "markdown",
   "metadata": {},
   "source": [
    "### format strings\n",
    "\n",
    "https://docs.python.org/3/library/string.html#formatstrings "
   ]
  },
  {
   "cell_type": "code",
   "execution_count": null,
   "metadata": {},
   "outputs": [],
   "source": [
    "a = 1\n",
    "b = 3.4\n",
    "c = \"Tom\"\n",
    "s = \"an int: {}; a float: {}; a string: {}\"\n",
    "s = \"an int: {}; a float: {}; a string: {}\".format(a, b, c)\n",
    "print(s)"
   ]
  },
  {
   "cell_type": "code",
   "execution_count": null,
   "metadata": {},
   "outputs": [],
   "source": [
    "# format strings\n",
    "\n",
    "# often used with print() function (to screen) or write() method (to file) but can be used anywhere with strings\n",
    "\n",
    "a = 1\n",
    "b = 3.4\n",
    "c = \"Tom\"\n",
    "print(\"an int: {}; a float: {}; a string: {}\".format(a, b, c))\n",
    "\n",
    "# this does the same thing\n",
    "print(\"an int: {0}; a float: {1}; a string: {2}\".format(a, b, c))\n",
    "\n",
    "# with indices, you can do this\n",
    "print(\"an int: {0}; a float: {1}; a string: {2}; a float again: {1}; an int again: {0}\".format(a, b, c))\n",
    "\n",
    "# can do the same thing this way of course\n",
    "print(\"an int: {0}; a float: {1}; a string: {2}; a float again: {1}; an int again: {0}\".format(1, 3.4, \"Tom\"))"
   ]
  },
  {
   "cell_type": "code",
   "execution_count": null,
   "metadata": {},
   "outputs": [],
   "source": [
    "# can control the spacing and use tabs\n",
    "print(\"\")\n",
    "print(\"{0:^8s} \\t {1:^8s}\\t {2:^8s}\".format(\"Name\", \"Age\", \"Score\"))\n",
    "print(\"{0:^8s} \\t {1:^8d}\\t {2:^8.1f}\".format(\"Tom\", 56, 7.324))\n",
    "print(\"{0:^8s} \\t {1:^8d}\\t {2:^8.1f}\".format(\"Amy\", 53, 8.516))"
   ]
  },
  {
   "cell_type": "markdown",
   "metadata": {},
   "source": [
    "### string literals / f-strings \n",
    "\n",
    "https://docs.python.org/3/reference/lexical_analysis.html#literals\n",
    "\n",
    "https://realpython.com/python-f-strings/"
   ]
  },
  {
   "cell_type": "code",
   "execution_count": null,
   "metadata": {},
   "outputs": [],
   "source": [
    "# string literals / f-strings \n",
    "\n",
    "a = 1\n",
    "b = 3.4523\n",
    "c = \"Tom\"\n",
    "print(f\"an int: {a}; a float: {b}; a string: {c}\")\n",
    "\n",
    "# you can do this\n",
    "print(f\"an int: {a}; a float: {b}; a string: {c}; a float again: {b}; an int again: {a}\")\n",
    "\n",
    "# can control the spacing and use tabs\n",
    "print(\"\")\n",
    "print(f\"an int: {a:5d}; a float: {b:5.2f}; a string: {c:8s}\")\n",
    "\n",
    "# can have operations inside with f-strings\n",
    "a = 4.3\n",
    "b = 23.5\n",
    "c = \"ABC\"\n",
    "d = \"def\"\n",
    "print(f\"first {a*b:6.3f} and then {c+d}\")"
   ]
  },
  {
   "cell_type": "markdown",
   "metadata": {},
   "source": [
    "### string comparison"
   ]
  },
  {
   "cell_type": "code",
   "execution_count": null,
   "metadata": {},
   "outputs": [],
   "source": [
    "# string comparison\n",
    "\n",
    "a = \"Truck\"\n",
    "b = \"Truck\"\n",
    "c = \"truck\"\n",
    "d = \"Truck \"\n",
    "\n",
    "# string comparison is case-sensitive and fairly stupid\n",
    "print(a == b)\n",
    "print(a == c)\n",
    "print(a == d)\n",
    "\n",
    "print(a != c)"
   ]
  },
  {
   "cell_type": "code",
   "execution_count": null,
   "metadata": {},
   "outputs": [],
   "source": [
    "# can convert to upper or lower case before doing the comparison\n",
    "print(a.lower() == c.lower())"
   ]
  },
  {
   "cell_type": "code",
   "execution_count": null,
   "metadata": {},
   "outputs": [],
   "source": [
    "# determine if part of one string is embedded in another (case-sensitive)\n",
    "\n",
    "a = \"This is a string\"\n",
    "print(\"is\" in a)\n",
    "print(\"this\" in a)"
   ]
  },
  {
   "cell_type": "markdown",
   "metadata": {},
   "source": [
    "### String Indices and String Slicing"
   ]
  },
  {
   "cell_type": "code",
   "execution_count": null,
   "metadata": {},
   "outputs": [],
   "source": [
    "# reference individual characters in a string using square brackets and integer index\n",
    "\n",
    "s = \"This is a string\"\n",
    "print(s[0])\n",
    "print(s[1])\n",
    "print(s[2])"
   ]
  },
  {
   "cell_type": "code",
   "execution_count": null,
   "metadata": {},
   "outputs": [],
   "source": [
    "# note that indices in Python start at 0, not at 1\n",
    "\n",
    "# and the last index of the string is len(s)-1\n",
    "\n",
    "s = \"This is a string\"\n",
    "\n",
    "L = len(s)\n",
    "print(s[L-1])"
   ]
  },
  {
   "cell_type": "code",
   "execution_count": null,
   "metadata": {},
   "outputs": [],
   "source": [
    "# this gives an error\n",
    "\n",
    "s = \"This is a string\"\n",
    "\n",
    "print(s[L])"
   ]
  },
  {
   "cell_type": "code",
   "execution_count": null,
   "metadata": {},
   "outputs": [],
   "source": [
    "# negative indices count from the end of the string\n",
    "\n",
    "s = \"This is a string\"\n",
    "\n",
    "print(s[-1])\n",
    "print(s[-2])\n",
    "print(s[-3])"
   ]
  },
  {
   "cell_type": "code",
   "execution_count": null,
   "metadata": {},
   "outputs": [],
   "source": [
    "# string slicing (pulling out a section of a string)\n",
    "\n",
    "s = \"This is a string\"\n",
    "\n",
    "# from (start-index) to (end-index + 1)\n",
    "print(\"s[0:4]  \", s[0:4])\n",
    "print(\"s[6:12] \", s[6:12])"
   ]
  },
  {
   "cell_type": "code",
   "execution_count": null,
   "metadata": {},
   "outputs": [],
   "source": [
    "# if first integer is missing, defaults to 0 (start of the list)\n",
    "\n",
    "s = \"This is a string\"\n",
    "\n",
    "print(\"s[:6]  \", s[:6])\n",
    "print(\"s[0:6] \", s[0:6])"
   ]
  },
  {
   "cell_type": "code",
   "execution_count": null,
   "metadata": {},
   "outputs": [],
   "source": [
    "# if last integer is missing, defaults to end of the list\n",
    "\n",
    "s = \"This is a string\"\n",
    "\n",
    "print(\"s[8:]        \", s[8:])\n",
    "print(\"s[8:len(s)]  \", s[8:len(s)])"
   ]
  },
  {
   "cell_type": "code",
   "execution_count": null,
   "metadata": {},
   "outputs": [],
   "source": [
    "# if both missing, entire list\n",
    "\n",
    "s = \"This is a string\"\n",
    "\n",
    "print(\"s[:] \", s[:])\n",
    "print(\"s    \", s)"
   ]
  },
  {
   "cell_type": "code",
   "execution_count": null,
   "metadata": {},
   "outputs": [],
   "source": [
    "# slicing with a step\n",
    "\n",
    "s = \"This is a string\"\n",
    "\n",
    "print(\"*\"+s[1:11:2]+\"*\")\n",
    "print(\"*\"+s[1]+s[3]+s[5]+s[7]+s[9]+\"*\")"
   ]
  },
  {
   "cell_type": "code",
   "execution_count": null,
   "metadata": {},
   "outputs": [],
   "source": [
    "# slicing with backwards steps\n",
    "\n",
    "s = \"This is a string\"\n",
    "\n",
    "print(s[::-1])"
   ]
  },
  {
   "cell_type": "markdown",
   "metadata": {},
   "source": [
    "### Iterating over Strings with For Loops"
   ]
  },
  {
   "cell_type": "code",
   "execution_count": null,
   "metadata": {},
   "outputs": [],
   "source": [
    "# introducing for loops\n",
    "\n",
    "s = \"This is a string\"\n",
    "\n",
    "print(\"len(s) = \", len(s))\n",
    "print()\n",
    "\n",
    "# indenting is necessary in Python; must be consistent through a program; convention is to use spaces\n",
    "# spaces added automatically by Jupyter Notebooks and most IDEs \n",
    "\n",
    "# range returns a (virtual) sequence of numbers from 0 to len(s)-1\n",
    "\n",
    "for i in range(len(s)):\n",
    "    print(i, \"\\t\", s[i])"
   ]
  },
  {
   "cell_type": "code",
   "execution_count": null,
   "metadata": {},
   "outputs": [],
   "source": [
    "# range can take a start, an end, and a step\n",
    "\n",
    "s = \"This is a string\"\n",
    "\n",
    "for i in range(0, len(s), 1):\n",
    "    print(i, \"\\t\", s[i])"
   ]
  },
  {
   "cell_type": "code",
   "execution_count": null,
   "metadata": {},
   "outputs": [],
   "source": [
    "# with a step of 2\n",
    "\n",
    "s = \"This is a string\"\n",
    "\n",
    "for i in range(0, len(s), 2):\n",
    "    print(i, \"\\t\", s[i])"
   ]
  },
  {
   "cell_type": "code",
   "execution_count": null,
   "metadata": {},
   "outputs": [],
   "source": [
    "# range (in Python 3) does not actually create a list\n",
    "\n",
    "N = 10 ** 15        # this is larger than the memory capacity of any personal computers\n",
    "for i in range(N):\n",
    "    if i >= 10: \n",
    "        break\n",
    "    print(i, end=', ')"
   ]
  },
  {
   "cell_type": "code",
   "execution_count": null,
   "metadata": {},
   "outputs": [],
   "source": [
    "# can also iterate directly over the string itself\n",
    "\n",
    "s = \"This is a string\"\n",
    "\n",
    "for c in s:\n",
    "    print(c)"
   ]
  },
  {
   "cell_type": "code",
   "execution_count": null,
   "metadata": {},
   "outputs": [],
   "source": [
    "# by default, print() issues a return/enter, but this can be overridden with end\n",
    "\n",
    "s = \"This is a string\"\n",
    "\n",
    "for c in s:\n",
    "    print(c, end=\" \")"
   ]
  },
  {
   "cell_type": "code",
   "execution_count": null,
   "metadata": {},
   "outputs": [],
   "source": [
    "# by default, print() issues a return/enter, but this can be overridden with end\n",
    "\n",
    "s = \"This is a string\"\n",
    "\n",
    "for c in s:\n",
    "    print(c, end=\"\")"
   ]
  },
  {
   "cell_type": "markdown",
   "metadata": {},
   "source": [
    "### Strings are Immutable"
   ]
  },
  {
   "cell_type": "code",
   "execution_count": null,
   "metadata": {},
   "outputs": [],
   "source": [
    "# strings are immutable\n",
    "\n",
    "s = \"This is a string\"\n",
    "\n",
    "# cannot change a string\n",
    "s[3] = \"X\""
   ]
  },
  {
   "cell_type": "code",
   "execution_count": null,
   "metadata": {},
   "outputs": [],
   "source": [
    "# can only create a new string from old strings (and possibly overwrite)\n",
    "\n",
    "s = \"This is a string\"\n",
    "\n",
    "s = s[0:3] + \"X\" + s[4:]\n",
    "print(s)"
   ]
  },
  {
   "cell_type": "code",
   "execution_count": null,
   "metadata": {},
   "outputs": [],
   "source": []
  }
 ],
 "metadata": {
  "kernelspec": {
   "display_name": "Python 3",
   "language": "python",
   "name": "python3"
  },
  "language_info": {
   "codemirror_mode": {
    "name": "ipython",
    "version": 3
   },
   "file_extension": ".py",
   "mimetype": "text/x-python",
   "name": "python",
   "nbconvert_exporter": "python",
   "pygments_lexer": "ipython3",
   "version": "3.8.3"
  }
 },
 "nbformat": 4,
 "nbformat_minor": 4
}
