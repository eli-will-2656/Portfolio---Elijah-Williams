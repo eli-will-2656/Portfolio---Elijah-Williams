{
  "nbformat": 4,
  "nbformat_minor": 0,
  "metadata": {
    "colab": {
      "provenance": []
    },
    "kernelspec": {
      "name": "python3",
      "display_name": "Python 3"
    },
    "language_info": {
      "name": "python"
    }
  },
  "cells": [
    {
      "cell_type": "markdown",
      "source": [
        "It's a good idea to import any needed modules up at the top.\n",
        "\n",
        "This is also a good place to define functions that will get used down below."
      ],
      "metadata": {
        "id": "GGkMTURAOb13"
      }
    },
    {
      "cell_type": "code",
      "execution_count": 1,
      "metadata": {
        "id": "DCUo9ZiMsxqa"
      },
      "outputs": [],
      "source": [
        "import numpy as np\n",
        "import numpy.random as rnd\n",
        "import matplotlib.pyplot as plt\n",
        "import math\n",
        "\n",
        "# this includes a function that allows you to download files to your local computer\n",
        "from google.colab import files\n",
        "\n",
        "# this includes functions that let you read and write files to your Google Drive\n",
        "from google.colab import drive\n",
        "\n",
        "def my_dumb_classifier(input):\n",
        "  # input should be a set of single-digit integer values\n",
        "  # I sure hope no one looks at my classifier code, it is totally just guessing at random\n",
        "  guesses = rnd.choice(10,size=len(input))\n",
        "  return guesses\n",
        "\n",
        "def performance_checker(digit_vals,guess_vals):\n",
        "  # compare the two sets, how many are the same?\n",
        "  number_correct = sum(digit_vals==guess_vals)\n",
        "  return number_correct"
      ]
    },
    {
      "cell_type": "code",
      "source": [
        "set = ['red', 'green', 'blue', 'yellow', 'orange']\n",
        "\n",
        "strength = [0.5, 0.2, 0.1, 0.1, 0.1]\n",
        "winner = rnd.choice(set,size=5,p=strength)\n",
        "print(winner)"
      ],
      "metadata": {
        "colab": {
          "base_uri": "https://localhost:8080/"
        },
        "id": "GSnXBQwFtPL3",
        "outputId": "25d9f661-7ec4-44ec-c9a1-f3256ab30b8d"
      },
      "execution_count": 8,
      "outputs": [
        {
          "output_type": "stream",
          "name": "stdout",
          "text": [
            "['yellow' 'blue' 'red' 'red' 'red']\n"
          ]
        }
      ]
    },
    {
      "cell_type": "code",
      "source": [
        "digit_vals = np.arange(10)\n",
        "print('Correct vals:',digit_vals)\n",
        "\n",
        "digits = my_dumb_classifier(digit_vals)\n",
        "print('Classifier guesses:',digits)\n",
        "\n",
        "print('Total correct:',np.sum(digit_vals==digits))\n"
      ],
      "metadata": {
        "colab": {
          "base_uri": "https://localhost:8080/"
        },
        "id": "Y7sT6O4Uu1F-",
        "outputId": "65f5362c-9edb-41dc-9648-6f2c66c18aac"
      },
      "execution_count": 25,
      "outputs": [
        {
          "output_type": "stream",
          "name": "stdout",
          "text": [
            "Correct vals: [0 1 2 3 4 5 6 7 8 9]\n",
            "Classifier guesses: [2 0 8 7 0 3 6 0 2 4]\n",
            "Total correct: 1\n"
          ]
        }
      ]
    },
    {
      "cell_type": "code",
      "source": [
        "ntimes = 1000\n",
        "# the right answer is 0-9 in order\n",
        "digit_vals = np.arange(10)\n",
        "perf_scores = np.zeros(ntimes)\n",
        "guess_record = []\n",
        "\n",
        "for i in np.arange(ntimes):\n",
        "  # generate a guess\n",
        "  digit_guesses = my_dumb_classifier(digit_vals)\n",
        "  # maybe I should keep track of my guesses\n",
        "  guess_record.append(digit_guesses)\n",
        "  # see how it did\n",
        "  total_correct = performance_checker(digit_vals, digit_guesses)\n",
        "  perf_scores[i] = total_correct\n",
        "\n"
      ],
      "metadata": {
        "id": "xakvx-ESxVzg"
      },
      "execution_count": 2,
      "outputs": []
    },
    {
      "cell_type": "code",
      "source": [
        "# have a vector of perf scores\n",
        "# what was the max performance?\n",
        "# basic print statement\n",
        "print('Best score:',np.max(perf_scores))\n",
        "# print statement with a formatted string\n",
        "print(f'Best score: {np.max(perf_scores)} with {ntimes} attempts.')\n",
        "# you can also control how the number is displayed\n",
        "print(f'Best score: {np.max(perf_scores):.0f} with {ntimes} attempts.')\n",
        "\n",
        "# which time did it get the max performance?\n",
        "perf_maxind = np.argmax(perf_scores)\n",
        "# show me the best set of guesses\n",
        "print(f'The winning set: {guess_record[perf_maxind]}')\n"
      ],
      "metadata": {
        "colab": {
          "base_uri": "https://localhost:8080/"
        },
        "id": "rp0D84Ofyn3D",
        "outputId": "beb72144-313a-4c8b-cd88-dd7f8afad94c"
      },
      "execution_count": 10,
      "outputs": [
        {
          "output_type": "stream",
          "name": "stdout",
          "text": [
            "Best score: 6.0\n",
            "Best score: 6.0 with 1000 attempts.\n",
            "Best score: 6 with 1000 attempts.\n",
            "The winning set: [0 6 5 3 4 5 4 7 4 9]\n"
          ]
        }
      ]
    },
    {
      "cell_type": "code",
      "source": [
        "# max performance\n",
        "perf_maxval = np.max(perf_scores)\n",
        "# which time did it get the max performance?\n",
        "perf_maxind = np.argmax(perf_scores)\n",
        "# show me the best set of guesses\n",
        "print(guess_record[perf_maxind])\n",
        "\n",
        "# no one is going to believe me unless I save this to disk\n",
        "# So we can use: from google.colab import files, which is called up top\n",
        "\n",
        "with open('perf_file.txt', 'w') as f:\n",
        "  f.write(f'Max N correct: {perf_maxval}\\n')\n",
        "  f.write(f'The winning set: {guess_record[perf_maxind]}\\n')\n",
        "\n",
        "# saves a file to your downloads folder\n",
        "# consider moving this to another cell, otherwise every time you run this it will download the file\n",
        "files.download('perf_file.txt')\n"
      ],
      "metadata": {
        "colab": {
          "base_uri": "https://localhost:8080/",
          "height": 34
        },
        "id": "1Of3z5Ybz1tm",
        "outputId": "582587d6-5b7e-4528-ecdb-5cc67d2a1c77"
      },
      "execution_count": 39,
      "outputs": [
        {
          "output_type": "stream",
          "name": "stdout",
          "text": [
            "[5 1 5 3 5 5 7 7 8 0]\n"
          ]
        },
        {
          "output_type": "display_data",
          "data": {
            "text/plain": [
              "<IPython.core.display.Javascript object>"
            ],
            "application/javascript": [
              "\n",
              "    async function download(id, filename, size) {\n",
              "      if (!google.colab.kernel.accessAllowed) {\n",
              "        return;\n",
              "      }\n",
              "      const div = document.createElement('div');\n",
              "      const label = document.createElement('label');\n",
              "      label.textContent = `Downloading \"${filename}\": `;\n",
              "      div.appendChild(label);\n",
              "      const progress = document.createElement('progress');\n",
              "      progress.max = size;\n",
              "      div.appendChild(progress);\n",
              "      document.body.appendChild(div);\n",
              "\n",
              "      const buffers = [];\n",
              "      let downloaded = 0;\n",
              "\n",
              "      const channel = await google.colab.kernel.comms.open(id);\n",
              "      // Send a message to notify the kernel that we're ready.\n",
              "      channel.send({})\n",
              "\n",
              "      for await (const message of channel.messages) {\n",
              "        // Send a message to notify the kernel that we're ready.\n",
              "        channel.send({})\n",
              "        if (message.buffers) {\n",
              "          for (const buffer of message.buffers) {\n",
              "            buffers.push(buffer);\n",
              "            downloaded += buffer.byteLength;\n",
              "            progress.value = downloaded;\n",
              "          }\n",
              "        }\n",
              "      }\n",
              "      const blob = new Blob(buffers, {type: 'application/binary'});\n",
              "      const a = document.createElement('a');\n",
              "      a.href = window.URL.createObjectURL(blob);\n",
              "      a.download = filename;\n",
              "      div.appendChild(a);\n",
              "      a.click();\n",
              "      div.remove();\n",
              "    }\n",
              "  "
            ]
          },
          "metadata": {}
        },
        {
          "output_type": "display_data",
          "data": {
            "text/plain": [
              "<IPython.core.display.Javascript object>"
            ],
            "application/javascript": [
              "download(\"download_5f1ed7e0-f4e8-4ec3-a0ec-8e845576dbfd\", \"perf_file.txt\", 58)"
            ]
          },
          "metadata": {}
        }
      ]
    },
    {
      "cell_type": "code",
      "source": [
        "# temp cell\n",
        "# couldn't remember how the zeros function works\n",
        "print(np.zeros(5))\n",
        "\n",
        "# couldn't remember how max works\n",
        "x = np.array([0, 5, 3])\n",
        "xmax = np.max(x)\n",
        "print(xmax)"
      ],
      "metadata": {
        "colab": {
          "base_uri": "https://localhost:8080/"
        },
        "id": "fIvicoG3yRM8",
        "outputId": "f9293a46-1b29-4e0b-c1f0-85975b9fbd91"
      },
      "execution_count": 45,
      "outputs": [
        {
          "output_type": "stream",
          "name": "stdout",
          "text": [
            "[0. 0. 0. 0. 0.]\n",
            "5\n"
          ]
        }
      ]
    },
    {
      "cell_type": "code",
      "source": [
        "# these should be imported up top\n",
        "#import numpy as np\n",
        "#import matplotlib.pyplot as plt\n",
        "#import math\n",
        "\n",
        "m = 1.0\n",
        "s = 1.0\n",
        "x = np.arange(-4.0, 4.0, .01)\n",
        "p = (1/math.sqrt(2*math.pi*(s**2))) * np.exp(-((x-m)**2)/(2*(s**2)))\n",
        "plt.plot(x, p)\n",
        "plt.xlabel(\"x\")\n",
        "plt.ylabel(\"p(x)\")\n",
        "plt.title(\"Normal Distribution\")\n",
        "\n",
        "# saves a file to a virtual workspace in Google Colab, in the cloud\n",
        "plt.savefig('shifted_normal_dist.pdf')\n",
        "\n",
        "# downloads the file to your local computer\n",
        "files.download('shifted_normal_dist.pdf')\n"
      ],
      "metadata": {
        "colab": {
          "base_uri": "https://localhost:8080/",
          "height": 295
        },
        "id": "jay3wk8k1xwr",
        "outputId": "8c0e9ce9-f515-4d62-d738-bf2a3f548068"
      },
      "execution_count": 41,
      "outputs": [
        {
          "output_type": "display_data",
          "data": {
            "text/plain": [
              "<IPython.core.display.Javascript object>"
            ],
            "application/javascript": [
              "\n",
              "    async function download(id, filename, size) {\n",
              "      if (!google.colab.kernel.accessAllowed) {\n",
              "        return;\n",
              "      }\n",
              "      const div = document.createElement('div');\n",
              "      const label = document.createElement('label');\n",
              "      label.textContent = `Downloading \"${filename}\": `;\n",
              "      div.appendChild(label);\n",
              "      const progress = document.createElement('progress');\n",
              "      progress.max = size;\n",
              "      div.appendChild(progress);\n",
              "      document.body.appendChild(div);\n",
              "\n",
              "      const buffers = [];\n",
              "      let downloaded = 0;\n",
              "\n",
              "      const channel = await google.colab.kernel.comms.open(id);\n",
              "      // Send a message to notify the kernel that we're ready.\n",
              "      channel.send({})\n",
              "\n",
              "      for await (const message of channel.messages) {\n",
              "        // Send a message to notify the kernel that we're ready.\n",
              "        channel.send({})\n",
              "        if (message.buffers) {\n",
              "          for (const buffer of message.buffers) {\n",
              "            buffers.push(buffer);\n",
              "            downloaded += buffer.byteLength;\n",
              "            progress.value = downloaded;\n",
              "          }\n",
              "        }\n",
              "      }\n",
              "      const blob = new Blob(buffers, {type: 'application/binary'});\n",
              "      const a = document.createElement('a');\n",
              "      a.href = window.URL.createObjectURL(blob);\n",
              "      a.download = filename;\n",
              "      div.appendChild(a);\n",
              "      a.click();\n",
              "      div.remove();\n",
              "    }\n",
              "  "
            ]
          },
          "metadata": {}
        },
        {
          "output_type": "display_data",
          "data": {
            "text/plain": [
              "<IPython.core.display.Javascript object>"
            ],
            "application/javascript": [
              "download(\"download_731a55af-7cb5-4461-8f9f-a235987d563e\", \"shifted_normal_dist.pdf\", 11920)"
            ]
          },
          "metadata": {}
        },
        {
          "output_type": "display_data",
          "data": {
            "text/plain": [
              "<Figure size 432x288 with 1 Axes>"
            ],
            "image/png": "[encoded data removed]"
          },
          "metadata": {
            "needs_background": "light"
          }
        }
      ]
    },
    {
      "cell_type": "code",
      "source": [
        "# put this part in it's own cell, google gets irritated if you keep calling it\n",
        "# import things up top\n",
        "# from google.colab import drive\n",
        "\n",
        "# this makes it so you can interact with your Google Drive directories \n",
        "drive.mount('/content/drive')\n",
        "\n"
      ],
      "metadata": {
        "colab": {
          "base_uri": "https://localhost:8080/"
        },
        "id": "Zb_8q-kl2-2J",
        "outputId": "ee236249-1357-4e50-85d7-39f8173425ff"
      },
      "execution_count": 43,
      "outputs": [
        {
          "output_type": "stream",
          "name": "stdout",
          "text": [
            "Drive already mounted at /content/drive; to attempt to forcibly remount, call drive.mount(\"/content/drive\", force_remount=True).\n"
          ]
        }
      ]
    },
    {
      "cell_type": "code",
      "source": [
        "# opens a file in your Colab Notebooks directory and writes to it\n",
        "with open('/content/drive/My Drive/Colab Notebooks/temp.txt', 'w') as f:\n",
        "  f.write('Ahoy Google Drive!')\n"
      ],
      "metadata": {
        "id": "HZwNbjYZ3svN"
      },
      "execution_count": 44,
      "outputs": []
    },
    {
      "cell_type": "code",
      "source": [
        "# if you ran the cell above this will overwrite the contents of that file\n",
        "with open('/content/drive/My Drive/Colab Notebooks/temp.txt', 'w') as f:\n",
        "  f.write('Overwrite!')"
      ],
      "metadata": {
        "id": "n2LJPo0X34gV"
      },
      "execution_count": null,
      "outputs": []
    }
  ]
}