{
  "cells": [
    {
      "cell_type": "markdown",
      "metadata": {
        "id": "Y6vEh4bga8h7"
      },
      "source": [
        "# Part One: Find words in haiku corpus missing from cmudict & build exceptions dict."
      ]
    },
    {
      "cell_type": "code",
      "execution_count": null,
      "metadata": {
        "id": "q5fv_VIoa8h8"
      },
      "outputs": [],
      "source": [
        "## First, write your own haiku here and append it to the haiku training text file: \n",
        "poem = "
      ]
    },
    {
      "cell_type": "code",
      "source": [
        "from google.colab import files\n",
        "uploaded = files.upload()"
      ],
      "metadata": {
        "id": "qQVcaD5ZbBR1"
      },
      "execution_count": null,
      "outputs": []
    },
    {
      "cell_type": "code",
      "execution_count": null,
      "metadata": {
        "id": "7zSqRhjSa8h9"
      },
      "outputs": [],
      "source": [
        "with open('train.txt', 'a') as f:\n",
        "    f.write(poem)"
      ]
    },
    {
      "cell_type": "code",
      "execution_count": null,
      "metadata": {
        "id": "2Arb3TcIa8h9"
      },
      "outputs": [],
      "source": [
        "import sys \n",
        "import nltk\n",
        "from string import punctuation\n",
        "import pprint\n",
        "import json"
      ]
    },
    {
      "cell_type": "code",
      "source": [
        "nltk.download('cmudict') # this downloads the Carnegie Mellon University Pronouncing Dictionary from nltk datastores"
      ],
      "metadata": {
        "id": "u_uUGH93beHl"
      },
      "execution_count": null,
      "outputs": []
    },
    {
      "cell_type": "code",
      "source": [
        "from nltk.corpus import cmudict # this imports the cmudict to your python environment"
      ],
      "metadata": {
        "id": "L3h6UvhnYKho"
      },
      "execution_count": null,
      "outputs": []
    },
    {
      "cell_type": "code",
      "execution_count": null,
      "metadata": {
        "id": "K35-PWxWa8h9"
      },
      "outputs": [],
      "source": [
        "cmudict = cmudict.dict() # this recasts the cmudict as a dictionary (rather than a nltk corpus object)"
      ]
    },
    {
      "cell_type": "code",
      "execution_count": null,
      "metadata": {
        "id": "bP_KKo5Ha8h9"
      },
      "outputs": [],
      "source": [
        "# The Carnegie Mellon University Pronouncing Dictionary now operates like a python dictionary. \n",
        "# Search for words by dictionary key and discuss the results with your group:\n",
        "\n",
        "print(cmudict['queen'])"
      ]
    },
    {
      "cell_type": "code",
      "execution_count": null,
      "metadata": {
        "id": "TiDBd5ofa8h9"
      },
      "outputs": [],
      "source": [
        "# Vaughan describes how this pronouncing dictionary operates: it lists phonemes, not syllables,\n",
        "# but puts a numeral after vowel sounds that are given \"lexical stress.\" This provides a way to extrapolate \n",
        "# syllable counts from these dictionary values.\n",
        "\n",
        "print(cmudict['quintuple'])"
      ]
    },
    {
      "cell_type": "code",
      "execution_count": null,
      "metadata": {
        "id": "IIozs80La8h-"
      },
      "outputs": [],
      "source": [
        "# With your groups, run each cell and discuss what the following functions do. "
      ]
    },
    {
      "cell_type": "code",
      "source": [
        "# here is your main function - it calls other functions that you will define in the cells to follow.\n",
        "def main():\n",
        "    haiku = load_haiku('train.txt')\n",
        "    exceptions = cmudict_missing(haiku)\n",
        "    build_dict = input(\"\\nManually build an exceptions dictionary (y/n)? \\n\")\n",
        "    if build_dict.lower() == 'n':\n",
        "        sys.exit()\n",
        "    else:\n",
        "        missing_words = make_exceptions_dict(exceptions)\n",
        "        save_exceptions(missing_words)"
      ],
      "metadata": {
        "id": "M3n_FtX4cchI"
      },
      "execution_count": null,
      "outputs": []
    },
    {
      "cell_type": "code",
      "source": [
        "def load_haiku(filename):\n",
        "    \"\"\"Open and return training corpus of haiku as a set.\"\"\"\n",
        "    with open(filename) as in_file:\n",
        "        haiku = in_file.read().replace('-', ' ').split()\n",
        "        return set(haiku)"
      ],
      "metadata": {
        "id": "lieWaqHXdAf5"
      },
      "execution_count": null,
      "outputs": []
    },
    {
      "cell_type": "code",
      "execution_count": null,
      "metadata": {
        "id": "We7aBp38a8h_"
      },
      "outputs": [],
      "source": [
        "def cmudict_missing(word_set):\n",
        "    \"\"\"Find and return words in word set missing from cmudict.\"\"\"\n",
        "    exceptions = set() # casting a collection as a set will effectively filter out duplicates\n",
        "    for word in word_set:\n",
        "        word = word.lower().strip(punctuation)\n",
        "        if word.endswith(\"'s\") or word.endswith(\"’s\"):\n",
        "            word = word[:-2]\n",
        "        if word not in cmudict:\n",
        "            exceptions.add(word)\n",
        "    print(\"\\nexceptions:\")\n",
        "    print(*exceptions, sep='\\n') # the asterisk (*) here is used to \"unpack\" the list exceptions, passing each item as an argument \n",
        "    print(f\"\\nNumber of unique words in haiku corpus = {len(word_set)}\")\n",
        "    print(f\"Number of words in corpus not in cmudict = {(len(exceptions))}.\")\n",
        "    membership = (1 - (len(exceptions) / len(word_set))) * 100\n",
        "    print(f\"cmudict membership = {membership:.1f}%\") # the variable :.1f construction formats a float value to 1 decimal place\n",
        "    return exceptions"
      ]
    },
    {
      "cell_type": "code",
      "execution_count": null,
      "metadata": {
        "id": "GIPzksa_a8h_"
      },
      "outputs": [],
      "source": [
        "def make_exceptions_dict(exceptions_set):\n",
        "    \"\"\"Return dictionary of words and syllable counts from set of words.\"\"\"\n",
        "    missing_words = {}\n",
        "    print(\"Input # syllables in word. Mistakes can be corrected at end. type 'q' to quit.\\n\")\n",
        "    for word in exceptions_set:\n",
        "        while True:\n",
        "            num_sylls = input(f\"Enter number syllables in {word}: \")\n",
        "            if num_sylls.isdigit():\n",
        "                break\n",
        "            else:\n",
        "                print(\"                   Not a valid answer!\")                    \n",
        "        missing_words[word] = int(num_sylls)              \n",
        "    print()\n",
        "    pprint.pprint(missing_words)\n",
        "\n",
        "    print(\"\\nMake Changes to Dictionary Before Saving?\")\n",
        "    print(\"\"\"\n",
        "    0 - Exit & Save\n",
        "    1 - Add a Word or Change a Syllable Count \n",
        "    2 - Remove a Word\n",
        "    \"\"\")\n",
        "\n",
        "    while True:\n",
        "        choice = input(\"\\nEnter choice: \")   \n",
        "        if choice == '0':\n",
        "            break\n",
        "        elif choice == '1':\n",
        "            word = input(\"\\nWord to add or change: \")\n",
        "            missing_words[word] = int(input(f\"Enter number syllables in {word}: \"))\n",
        "        elif choice == '2':\n",
        "            word = input(\"\\nEnter word to delete: \")\n",
        "            missing_words.pop(word, None) # .pop() prints and removes the item. The second argument 'None' is what will be returned if the first value isn't found.\n",
        "            \n",
        "    print(\"\\nNew words or syllable changes:\")\n",
        "    pprint.pprint(missing_words)\n",
        "\n",
        "    return missing_words"
      ]
    },
    {
      "cell_type": "code",
      "execution_count": null,
      "metadata": {
        "id": "A9WqVQq7a8iA"
      },
      "outputs": [],
      "source": [
        "def save_exceptions(missing_words):\n",
        "    \"\"\"Save exceptions dictionary as json file.\"\"\"\n",
        "    json_string = json.dumps(missing_words)\n",
        "    f = open('missing_words.json', 'w')\n",
        "    f.write(json_string)\n",
        "    f.close()\n",
        "    print(\"\\nFile saved as missing_words.json\")"
      ]
    },
    {
      "cell_type": "code",
      "source": [
        "23\n",
        "45\n",
        "21\n",
        "23\n",
        "2333# Now call the main function and discuss what happens. What are you creating?\n",
        "\n",
        "if __name__ == '__main__':\n",
        "  main()"
      ],
      "metadata": {
        "id": "28xYLT7rdt49"
      },
      "execution_count": null,
      "outputs": []
    },
    {
      "cell_type": "code",
      "source": [
        "# Counting syllables in poems\n",
        "# The code in this section references both the pronouncing dictionary cmudict and the missing_words file you created above.\n",
        "# With your group, run these cells and discuss what they do."
      ],
      "metadata": {
        "id": "vMRnV8CMfcQj"
      },
      "execution_count": null,
      "outputs": []
    },
    {
      "cell_type": "code",
      "source": [
        "# Import and review your dictionary of missing words.\n",
        "\n",
        "with open('missing_words.json', 'r') as missing_words_file:\n",
        "    missing_words = json.load(missing_words_file)\n",
        "print(missing_words)"
      ],
      "metadata": {
        "id": "aCl4u7R2byJp"
      },
      "execution_count": null,
      "outputs": []
    },
    {
      "cell_type": "code",
      "execution_count": null,
      "metadata": {
        "id": "BmihxTUla8h-"
      },
      "outputs": [],
      "source": [
        "def count_syllables(words):\n",
        "    \"\"\"Use corpora to count syllables in English word or phrase.\"\"\"\n",
        "    # prep words for cmudict corpus\n",
        "    words = words.replace('-', ' ')\n",
        "    words = words.lower().split()\n",
        "    num_sylls = 0\n",
        "    for word in words:\n",
        "        word = word.strip(punctuation)\n",
        "        if word.endswith(\"'s\")or word.endswith(\"’s\"):\n",
        "            word = word[:-2]\n",
        "        if word in missing_words:\n",
        "            num_sylls += missing_words[word]\n",
        "        else:\n",
        "            for phonemes in cmudict[word][0]:\n",
        "                for phoneme in phonemes:\n",
        "                    if phoneme[-1].isdigit():\n",
        "                        num_sylls += 1\n",
        "    return num_sylls"
      ]
    },
    {
      "cell_type": "code",
      "execution_count": null,
      "metadata": {
        "id": "79Cf0Y9_a8h-"
      },
      "outputs": [],
      "source": [
        "def syllable_counter():\n",
        "    while True:\n",
        "        print(\"Syllable Counter\")\n",
        "        word = input(\"Enter word or phrase else press Enter to Exit: \")\n",
        "        if word == '':\n",
        "            print('Exit')\n",
        "            break\n",
        "        try:\n",
        "            num_syllables = count_syllables(word)\n",
        "            print(f\"number of syllables in {word} is: {num_syllables}\")\n",
        "            print()\n",
        "        except KeyError:\n",
        "            print(\"Word not found.  Try again.\\n\") "
      ]
    },
    {
      "cell_type": "code",
      "execution_count": null,
      "metadata": {
        "id": "_NtPKWk_a8iA"
      },
      "outputs": [],
      "source": [
        "# The following code confirms that your functions have all worked as expected"
      ]
    },
    {
      "cell_type": "code",
      "execution_count": null,
      "metadata": {
        "id": "0LGh_SPDa8iA"
      },
      "outputs": [],
      "source": [
        "with open('train.txt') as in_file:\n",
        "    words = in_file.read().lower().replace('-', ' ').split()\n",
        "\n",
        "words = set(words)\n",
        "\n",
        "missing = []\n",
        "\n",
        "for word in words:\n",
        "    try:\n",
        "        num_syllables = count_syllables(word)\n",
        " #       print(word, num_syllables, end='\\n') # uncomment to see word counts\n",
        "    except KeyError:\n",
        "        missing.append(word)\n",
        "    \n",
        "print(\"Missing words:\", missing)"
      ]
    },
    {
      "cell_type": "markdown",
      "metadata": {
        "id": "_SHzBfcAa8iB"
      },
      "source": [
        "# Part Two: generate new haiku using Markov Chain Analysis"
      ]
    },
    {
      "cell_type": "code",
      "execution_count": null,
      "metadata": {
        "id": "PNqKX6x6a8iB"
      },
      "outputs": [],
      "source": [
        "\"\"\"Produce new haiku from training corpus of existing haiku.\"\"\"\n",
        "\n",
        "import random\n",
        "import logging\n",
        "from collections import defaultdict"
      ]
    },
    {
      "cell_type": "code",
      "execution_count": null,
      "metadata": {
        "id": "tA2XWhHEa8iB"
      },
      "outputs": [],
      "source": [
        "def load_training_file(file):\n",
        "    \"\"\"Return a text file as a string.\"\"\"\n",
        "    with open(file) as f:\n",
        "        raw_haiku = f.read()\n",
        "        return raw_haiku"
      ]
    },
    {
      "cell_type": "code",
      "execution_count": null,
      "metadata": {
        "id": "TwrNLUfLa8iB"
      },
      "outputs": [],
      "source": [
        "def prep_training(raw_haiku):\n",
        "    \"\"\"Load string, remove newline, split words on spaces, and return list.\"\"\"\n",
        "    corpus = raw_haiku.replace('\\n', ' ').split()\n",
        "    return corpus"
      ]
    },
    {
      "cell_type": "code",
      "execution_count": null,
      "metadata": {
        "id": "tvn6I4q1a8iB"
      },
      "outputs": [],
      "source": [
        "# In the following section, read along with Impractical Python Chapter 9 and discuss each cell with your group."
      ]
    },
    {
      "cell_type": "code",
      "execution_count": null,
      "metadata": {
        "id": "3IKK_N1Qa8iB"
      },
      "outputs": [],
      "source": [
        "def map_word_to_word(corpus):\n",
        "    \"\"\"Load list & use dictionary to map word to word that follows.\"\"\"\n",
        "    limit = len(corpus)-1\n",
        "    dict1_to_1 = defaultdict(list)\n",
        "    for index, word in enumerate(corpus):\n",
        "        if index < limit:\n",
        "            suffix = corpus[index + 1]\n",
        "            dict1_to_1[word].append(suffix)\n",
        "    logging.debug(\"map_word_to_word results for \\\"sake\\\" = %s\\n\", \n",
        "                  dict1_to_1['sake'])\n",
        "    return dict1_to_1"
      ]
    },
    {
      "cell_type": "code",
      "execution_count": null,
      "metadata": {
        "id": "T2VMUZiva8iB"
      },
      "outputs": [],
      "source": [
        "def map_2_words_to_word(corpus):\n",
        "    \"\"\"Load list & use dictionary to map word-pair to trailing word.\"\"\"\n",
        "    limit = len(corpus)-2\n",
        "    dict2_to_1 = defaultdict(list)\n",
        "    for index, word in enumerate(corpus):\n",
        "        if index < limit:\n",
        "            key = word + ' ' + corpus[index + 1]\n",
        "            suffix = corpus[index + 2]\n",
        "            dict2_to_1[key].append(suffix)\n",
        "    logging.debug(\"map_2_words_to_word results for \\\"sake jug\\\" = %s\\n\",\n",
        "                  dict2_to_1['sake jug'])\n",
        "    return dict2_to_1"
      ]
    },
    {
      "cell_type": "code",
      "execution_count": null,
      "metadata": {
        "id": "kBdO2ztba8iC"
      },
      "outputs": [],
      "source": [
        "def random_word(corpus):\n",
        "    \"\"\"Return random word and syllable count from training corpus.\"\"\"\n",
        "    word = random.choice(corpus)\n",
        "    num_syls = count_syllables(word)\n",
        "    if num_syls > 4:\n",
        "        random_word(corpus)\n",
        "    else:\n",
        "        logging.debug(\"random word & syllables = %s %s\\n\", word, num_syls)\n",
        "        return (word, num_syls)"
      ]
    },
    {
      "cell_type": "code",
      "execution_count": null,
      "metadata": {
        "id": "Dqlot7Jia8iC"
      },
      "outputs": [],
      "source": [
        "def word_after_single(prefix, suffix_map_1, current_syls, target_syls):\n",
        "    \"\"\"Return all acceptable words in a corpus that follow a single word.\"\"\"\n",
        "    accepted_words = []\n",
        "    suffixes = suffix_map_1.get(prefix)\n",
        "    if suffixes != None:\n",
        "        for candidate in suffixes:\n",
        "            num_syls = count_syllables(candidate)\n",
        "            if current_syls + num_syls <= target_syls:\n",
        "                accepted_words.append(candidate)\n",
        "    logging.debug(\"accepted words after \\\"%s\\\" = %s\\n\",\n",
        "                  prefix, set(accepted_words))\n",
        "    return accepted_words"
      ]
    },
    {
      "cell_type": "code",
      "execution_count": null,
      "metadata": {
        "id": "0GUG0fMBa8iC"
      },
      "outputs": [],
      "source": [
        "def word_after_double(prefix, suffix_map_2, current_syls, target_syls):\n",
        "    \"\"\"Return all acceptable words in a corpus that follow a word pair.\"\"\"\n",
        "    accepted_words = []\n",
        "    suffixes = suffix_map_2.get(prefix)\n",
        "    if suffixes != None:\n",
        "        for candidate in suffixes:\n",
        "            num_syls = count_syllables(candidate)\n",
        "            if current_syls + num_syls <= target_syls:\n",
        "                accepted_words.append(candidate)\n",
        "    logging.debug(\"accepted words after \\\"%s\\\" = %s\\n\",\n",
        "                  prefix, set(accepted_words))\n",
        "    return accepted_words"
      ]
    },
    {
      "cell_type": "code",
      "execution_count": null,
      "metadata": {
        "id": "jgtgEe10a8iC"
      },
      "outputs": [],
      "source": [
        "def haiku_line(suffix_map_1, suffix_map_2, corpus, end_prev_line, target_syls):\n",
        "    \"\"\"Build a haiku line from a training corpus and return it.\"\"\"\n",
        "    line = '2/3'\n",
        "    line_syls = 0\n",
        "    current_line = []\n",
        "\n",
        "    if len(end_prev_line) == 0:  # build first line\n",
        "        line = '1'\n",
        "        word, num_syls = random_word(corpus)\n",
        "        current_line.append(word)\n",
        "        line_syls += num_syls\n",
        "        word_choices = word_after_single(word, suffix_map_1,\n",
        "                                         line_syls, target_syls)\n",
        "        while len(word_choices) == 0:\n",
        "            prefix = random.choice(corpus)\n",
        "            logging.debug(\"new random prefix = %s\", prefix)\n",
        "            word_choices = word_after_single(prefix, suffix_map_1,\n",
        "                                             line_syls, target_syls)\n",
        "        word = random.choice(word_choices)\n",
        "        num_syls = count_syllables(word)\n",
        "        logging.debug(\"word & syllables = %s %s\", word, num_syls)\n",
        "        line_syls += num_syls\n",
        "        current_line.append(word)\n",
        "        if line_syls == target_syls:\n",
        "            end_prev_line.extend(current_line[-2:])\n",
        "            return current_line, end_prev_line\n",
        "\n",
        "    else:  # build lines 2 & 3\n",
        "        current_line.extend(end_prev_line)\n",
        "\n",
        "    while True:\n",
        "        logging.debug(\"line = %s\\n\", line)\n",
        "        prefix = current_line[-2] + ' ' + current_line[-1]\n",
        "        word_choices = word_after_double(prefix, suffix_map_2,\n",
        "                                         line_syls, target_syls)\n",
        "        while len(word_choices) == 0:\n",
        "            index = random.randint(0, len(corpus) - 2)\n",
        "            prefix = corpus[index] + ' ' + corpus[index + 1]\n",
        "            logging.debug(\"new random prefix = %s\", prefix)\n",
        "            word_choices = word_after_double(prefix, suffix_map_2,\n",
        "                                             line_syls, target_syls)\n",
        "        word = random.choice(word_choices)\n",
        "        num_syls = count_syllables(word)\n",
        "        logging.debug(\"word & syllables = %s %s\", word, num_syls)\n",
        "        \n",
        "        if line_syls + num_syls > target_syls:\n",
        "            continue\n",
        "        elif line_syls + num_syls < target_syls:\n",
        "            current_line.append(word)\n",
        "            line_syls += num_syls\n",
        "        elif line_syls + num_syls == target_syls:\n",
        "            current_line.append(word)\n",
        "            break\n",
        "\n",
        "    end_prev_line = []\n",
        "    end_prev_line.extend(current_line[-2:])\n",
        "\n",
        "    if line == '1':\n",
        "        final_line = current_line[:]\n",
        "    else:\n",
        "        final_line = current_line[2:]\n",
        "\n",
        "    return final_line, end_prev_line"
      ]
    },
    {
      "cell_type": "code",
      "execution_count": null,
      "metadata": {
        "id": "fP1G1i5Wa8iC"
      },
      "outputs": [],
      "source": [
        "# Here you define and run the main function for this section, which enables you to \n",
        "# generage new haiku in the model of the existing corpus. \n",
        "# Copy any poems you particularly like and write them to our google doc.\n",
        "\n",
        "\n",
        "def main():\n",
        "    \"\"\"Give user choice of building a haiku or modifying an existing haiku.\"\"\"\n",
        "    intro = \"\"\"\\n\n",
        "    A thousand monkeys at a thousand typewriters...\n",
        "    or one computer...can sometimes produce a haiku.\\n\"\"\"\n",
        "    print(\"{}\".format(intro))\n",
        "\n",
        "    raw_haiku = load_training_file(\"train.txt\")\n",
        "    corpus = prep_training(raw_haiku)\n",
        "    suffix_map_1 = map_word_to_word(corpus)\n",
        "    suffix_map_2 = map_2_words_to_word(corpus)\n",
        "    final = []\n",
        "\n",
        "    choice = None\n",
        "    while choice != \"0\":\n",
        "\n",
        "        print(\n",
        "            \"\"\"\n",
        "            Japanese Haiku Generator\n",
        "\n",
        "            0 - Quit\n",
        "            1 - Generate a Haiku poem\n",
        "            2 - Regenerate Line 2\n",
        "            3 - Regenerate Line 3\n",
        "            \"\"\"\n",
        "            )\n",
        "\n",
        "        choice = input(\"Choice: \")\n",
        "        print()\n",
        "\n",
        "        # exit\n",
        "        if choice == \"0\":\n",
        "            print(\"Sayonara.\")\n",
        "            sys.exit()\n",
        "\n",
        "        # generate a full haiku\n",
        "        elif choice == \"1\":\n",
        "            final = []\n",
        "            end_prev_line = []\n",
        "            first_line, end_prev_line1 = haiku_line(suffix_map_1, suffix_map_2,\n",
        "                                                    corpus, end_prev_line, 5)\n",
        "            final.append(first_line)\n",
        "            line, end_prev_line2 = haiku_line(suffix_map_1, suffix_map_2,\n",
        "                                              corpus, end_prev_line1, 7)\n",
        "            final.append(line)\n",
        "            line, end_prev_line3 = haiku_line(suffix_map_1, suffix_map_2,\n",
        "                                              corpus, end_prev_line2, 5)\n",
        "            final.append(line)\n",
        "\n",
        "        # regenerate line 2\n",
        "        elif choice == \"2\":\n",
        "            if not final:\n",
        "                print(\"Please generate a full haiku first (Option 1).\")\n",
        "                continue\n",
        "            else:\n",
        "                line, end_prev_line2 = haiku_line(suffix_map_1, suffix_map_2,\n",
        "                                                  corpus, end_prev_line1, 7)\n",
        "                final[1] = line\n",
        "\n",
        "        # regenerate line 3\n",
        "        elif choice == \"3\":\n",
        "            if not final:\n",
        "                print(\"Please generate a full haiku first (Option 1).\")\n",
        "                continue\n",
        "            else:\n",
        "                line, end_prev_line3 = haiku_line(suffix_map_1, suffix_map_2,\n",
        "                                                  corpus, end_prev_line2, 5)\n",
        "                final[2] = line\n",
        "\n",
        "        # some unknown choice\n",
        "        else:\n",
        "            print(\"\\nSorry, but that isn't a valid choice.\", file=sys.stderr)\n",
        "            continue\n",
        "\n",
        "        # display results\n",
        "        print()\n",
        "        print(\"First line = \", end=\"\")\n",
        "        print(' '.join(final[0]), file=sys.stderr)\n",
        "        print(\"Second line = \", end=\"\")\n",
        "        print(\" \".join(final[1]), file=sys.stderr)\n",
        "        print(\"Third line = \", end=\"\")\n",
        "        print(\" \".join(final[2]), file=sys.stderr)\n",
        "        print()\n",
        "\n",
        "    input(\"\\n\\nPress the Enter key to exit.\")\n",
        "\n",
        "if __name__ == '__main__':\n",
        "    main()\n"
      ]
    },
    {
      "cell_type": "code",
      "source": [],
      "metadata": {
        "id": "I4vzBGfBisf8"
      },
      "execution_count": null,
      "outputs": []
    }
  ],
  "metadata": {
    "kernelspec": {
      "display_name": "Python 3",
      "language": "python",
      "name": "python3"
    },
    "language_info": {
      "codemirror_mode": {
        "name": "ipython",
        "version": 3
      },
      "file_extension": ".py",
      "mimetype": "text/x-python",
      "name": "python",
      "nbconvert_exporter": "python",
      "pygments_lexer": "ipython3",
      "version": "3.8.5"
    },
    "colab": {
      "provenance": []
    }
  },
  "nbformat": 4,
  "nbformat_minor": 0
}